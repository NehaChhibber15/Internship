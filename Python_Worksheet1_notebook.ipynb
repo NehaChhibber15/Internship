{
 "cells": [
  {
   "cell_type": "code",
   "execution_count": 1,
   "metadata": {},
   "outputs": [],
   "source": [
    "import numpy as np\n",
    "import pandas as pd"
   ]
  },
  {
   "cell_type": "markdown",
   "metadata": {},
   "source": [
    "Write a python program to find the factorial of a number."
   ]
  },
  {
   "cell_type": "code",
   "execution_count": 2,
   "metadata": {},
   "outputs": [
    {
     "name": "stdout",
     "output_type": "stream",
     "text": [
      "Enter a number: 6\n",
      "The factorial of 6 is 720\n"
     ]
    }
   ],
   "source": [
    "# The factorial of a number is the product of all the integers from 1 to that number\n",
    "# To take the input from user input function is used\n",
    "num = int(input(\"Enter a number: \"))\n",
    "factorial = 1     #initialization of variable\n",
    "# check if the number is negative, positive or zero\n",
    "if num < 0:\n",
    "    print(\"Factorial does not exist for negative numbers\")  \n",
    "elif num ==0:\n",
    "    print(\"The factorial of 0 is 1\")\n",
    "else:\n",
    "    for i in range(1,num + 1):\n",
    "        factorial = factorial*i\n",
    "    print(\"The factorial of\",num,\"is\",factorial)\n",
    "    "
   ]
  },
  {
   "cell_type": "markdown",
   "metadata": {},
   "source": [
    "Write a python program to find whether a number is prime or composite."
   ]
  },
  {
   "cell_type": "markdown",
   "metadata": {},
   "source": [
    "A positive integer greater than 1 which has no other factors except 1 and number itself is called prime number.\n",
    "for example 2,3,5,7 etc are prime number.\n",
    "\n",
    "However, composite numbers are the numbers that has factors other than itself.\n",
    "for example 4,6,8,10 etc are composite number."
   ]
  },
  {
   "cell_type": "code",
   "execution_count": 3,
   "metadata": {},
   "outputs": [
    {
     "name": "stdout",
     "output_type": "stream",
     "text": [
      "Enter the number: 8\n",
      "8 is composite number.\n"
     ]
    }
   ],
   "source": [
    "#Taking the input from the user\n",
    "number =int(input(\"Enter the number: \"))\n",
    "if number>1:\n",
    "    for i in range(2,int(number/2)+1):\n",
    "        if(number % i==0):\n",
    "            print(number,\"is composite number.\")\n",
    "            break\n",
    "    else:\n",
    "        print(number,\"is a prime number\")\n",
    "#if less than 1 then it cannot be a prime number\n",
    "else:\n",
    "    print(number,\"is a prime number\")"
   ]
  },
  {
   "cell_type": "markdown",
   "metadata": {},
   "source": [
    "Write a python program to check whether a given string is palindrome or not."
   ]
  },
  {
   "cell_type": "code",
   "execution_count": 4,
   "metadata": {},
   "outputs": [],
   "source": [
    "#function to check string\n",
    "#is palindrome or not\n",
    "def isPalindrone(s):\n",
    "    rev = ''.join(reversed(s))\n",
    "# Checking if both the strings are equal or not\n",
    "    if (s==rev):\n",
    "        return True\n",
    "    return False\n"
   ]
  },
  {
   "cell_type": "code",
   "execution_count": 5,
   "metadata": {},
   "outputs": [
    {
     "name": "stdout",
     "output_type": "stream",
     "text": [
      "Enter your string: abba\n"
     ]
    }
   ],
   "source": [
    "s= str(input(\"Enter your string: \"))"
   ]
  },
  {
   "cell_type": "code",
   "execution_count": 6,
   "metadata": {},
   "outputs": [
    {
     "name": "stdout",
     "output_type": "stream",
     "text": [
      "yes\n"
     ]
    }
   ],
   "source": [
    "ans = isPalindrone(s)\n",
    "if (ans):\n",
    "    print(\"yes\")\n",
    "else:\n",
    "    print(\"No\")"
   ]
  },
  {
   "cell_type": "markdown",
   "metadata": {},
   "source": [
    "Write a python program to get the third side of right-angled triangle from two given sides."
   ]
  },
  {
   "cell_type": "code",
   "execution_count": 7,
   "metadata": {},
   "outputs": [],
   "source": [
    "def pythagoras(opposite_side,adjacent_side,hypotenuse):\n",
    "    if opposite_side == str(\"x\"):\n",
    "        return (\"Opposite side =\" + str(((hypotenuse**2)-(adjacent_side**2))**0.5))\n",
    "    elif adjacent_side ==str(\"x\"):\n",
    "        return (\"adjacent_side =\" + str(((hypotenuse**2)-(opposite_side**2))**0.5))\n",
    "    elif hypotenuse == str(\"x\"):\n",
    "        return (\"hypotenuse =\" + str(((opposite_side**2)+(adjacent_side**2))**0.5))\n",
    "    else:\n",
    "        return \"you answer is here\"\n",
    "    print(pythagoras(3,4,'x'))\n",
    "    print(pythagoras(3,'x',5))\n",
    "    print(pythagoras('x',4,5))\n",
    "    print(pythagoras(3,4,5))\n",
    "        \n",
    "        "
   ]
  },
  {
   "cell_type": "code",
   "execution_count": 8,
   "metadata": {},
   "outputs": [
    {
     "data": {
      "text/plain": [
       "'hypotenuse =5.0'"
      ]
     },
     "execution_count": 8,
     "metadata": {},
     "output_type": "execute_result"
    }
   ],
   "source": [
    "pythagoras(3,4,'x')"
   ]
  },
  {
   "cell_type": "markdown",
   "metadata": {},
   "source": [
    "Write a python program to print the frequency of each of the characters present in a given string."
   ]
  },
  {
   "cell_type": "code",
   "execution_count": 9,
   "metadata": {},
   "outputs": [],
   "source": [
    "#We can do it by simply iteration through the string and form a key in dictionary of newly occurred element or if element is already occured by increasing its value by 1.\n",
    "\n",
    "#initializing the string\n",
    "name_str = \"NehaSharma\"\n",
    "\n",
    "# using naive method to get count of each element in string\n",
    "all_freq = {}\n",
    "\n",
    "for i in name_str:\n",
    "    if i in all_freq:\n",
    "        all_freq[i] += 1\n",
    "    else:\n",
    "        all_freq[i] = 1\n"
   ]
  },
  {
   "cell_type": "code",
   "execution_count": 10,
   "metadata": {},
   "outputs": [
    {
     "name": "stdout",
     "output_type": "stream",
     "text": [
      "Count of all characters in NehaShama is:  {'N': 1, 'e': 1, 'h': 2, 'a': 3, 'S': 1, 'r': 1, 'm': 1}\n"
     ]
    }
   ],
   "source": [
    "print (\"Count of all characters in NehaShama is: \",all_freq)\n"
   ]
  },
  {
   "cell_type": "code",
   "execution_count": null,
   "metadata": {},
   "outputs": [],
   "source": []
  },
  {
   "cell_type": "code",
   "execution_count": null,
   "metadata": {},
   "outputs": [],
   "source": []
  },
  {
   "cell_type": "code",
   "execution_count": null,
   "metadata": {},
   "outputs": [],
   "source": []
  },
  {
   "cell_type": "code",
   "execution_count": null,
   "metadata": {},
   "outputs": [],
   "source": []
  },
  {
   "cell_type": "code",
   "execution_count": null,
   "metadata": {},
   "outputs": [],
   "source": [
    "\n"
   ]
  }
 ],
 "metadata": {
  "kernelspec": {
   "display_name": "Python 3",
   "language": "python",
   "name": "python3"
  },
  "language_info": {
   "codemirror_mode": {
    "name": "ipython",
    "version": 3
   },
   "file_extension": ".py",
   "mimetype": "text/x-python",
   "name": "python",
   "nbconvert_exporter": "python",
   "pygments_lexer": "ipython3",
   "version": "3.7.6"
  }
 },
 "nbformat": 4,
 "nbformat_minor": 4
}

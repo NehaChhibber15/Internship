{
 "cells": [
  {
   "cell_type": "markdown",
   "metadata": {},
   "source": [
    "Q1. Write a python program to scrape data for \"Data Analyst: Job position in Banglore location. You have to scrape the job-title,job-location,company_name, experience_required. You have to scrape first 10 job data."
   ]
  },
  {
   "cell_type": "code",
   "execution_count": 183,
   "metadata": {},
   "outputs": [
    {
     "name": "stdout",
     "output_type": "stream",
     "text": [
      "Requirement already satisfied: selenium in c:\\users\\suncity\\anaconda3\\lib\\site-packages (4.1.0)\n",
      "Requirement already satisfied: trio~=0.17 in c:\\users\\suncity\\anaconda3\\lib\\site-packages (from selenium) (0.19.0)\n",
      "Requirement already satisfied: trio-websocket~=0.9 in c:\\users\\suncity\\anaconda3\\lib\\site-packages (from selenium) (0.9.2)\n",
      "Requirement already satisfied: urllib3[secure]~=1.26 in c:\\users\\suncity\\anaconda3\\lib\\site-packages (from selenium) (1.26.7)\n",
      "Requirement already satisfied: attrs>=19.2.0 in c:\\users\\suncity\\anaconda3\\lib\\site-packages (from trio~=0.17->selenium) (19.3.0)\n",
      "Requirement already satisfied: sortedcontainers in c:\\users\\suncity\\anaconda3\\lib\\site-packages (from trio~=0.17->selenium) (2.1.0)\n",
      "Requirement already satisfied: idna in c:\\users\\suncity\\anaconda3\\lib\\site-packages (from trio~=0.17->selenium) (2.8)\n",
      "Requirement already satisfied: cffi>=1.14; os_name == \"nt\" and implementation_name != \"pypy\" in c:\\users\\suncity\\anaconda3\\lib\\site-packages (from trio~=0.17->selenium) (1.14.0)\n",
      "Requirement already satisfied: sniffio in c:\\users\\suncity\\anaconda3\\lib\\site-packages (from trio~=0.17->selenium) (1.2.0)\n",
      "Requirement already satisfied: async-generator>=1.9 in c:\\users\\suncity\\anaconda3\\lib\\site-packages (from trio~=0.17->selenium) (1.10)\n",
      "Requirement already satisfied: outcome in c:\\users\\suncity\\anaconda3\\lib\\site-packages (from trio~=0.17->selenium) (1.1.0)\n",
      "Requirement already satisfied: wsproto>=0.14 in c:\\users\\suncity\\anaconda3\\lib\\site-packages (from trio-websocket~=0.9->selenium) (1.0.0)\n",
      "Requirement already satisfied: cryptography>=1.3.4; extra == \"secure\" in c:\\users\\suncity\\anaconda3\\lib\\site-packages (from urllib3[secure]~=1.26->selenium) (2.8)\n",
      "Requirement already satisfied: certifi; extra == \"secure\" in c:\\users\\suncity\\anaconda3\\lib\\site-packages (from urllib3[secure]~=1.26->selenium) (2019.11.28)\n",
      "Requirement already satisfied: pyOpenSSL>=0.14; extra == \"secure\" in c:\\users\\suncity\\anaconda3\\lib\\site-packages (from urllib3[secure]~=1.26->selenium) (19.1.0)\n",
      "Requirement already satisfied: pycparser in c:\\users\\suncity\\anaconda3\\lib\\site-packages (from cffi>=1.14; os_name == \"nt\" and implementation_name != \"pypy\"->trio~=0.17->selenium) (2.19)\n",
      "Requirement already satisfied: h11<1,>=0.9.0 in c:\\users\\suncity\\anaconda3\\lib\\site-packages (from wsproto>=0.14->trio-websocket~=0.9->selenium) (0.12.0)\n",
      "Requirement already satisfied: six>=1.4.1 in c:\\users\\suncity\\anaconda3\\lib\\site-packages (from cryptography>=1.3.4; extra == \"secure\"->urllib3[secure]~=1.26->selenium) (1.14.0)\n"
     ]
    }
   ],
   "source": [
    "#Let's first install the selenium Library\n",
    "!pip install selenium"
   ]
  },
  {
   "cell_type": "code",
   "execution_count": 184,
   "metadata": {},
   "outputs": [],
   "source": [
    "#let's import all the required libraries\n",
    "import selenium\n",
    "import pandas as pd\n",
    "from selenium import webdriver"
   ]
  },
  {
   "cell_type": "code",
   "execution_count": 185,
   "metadata": {},
   "outputs": [
    {
     "name": "stderr",
     "output_type": "stream",
     "text": [
      "C:\\Users\\Suncity\\anaconda3\\lib\\site-packages\\ipykernel_launcher.py:2: DeprecationWarning: executable_path has been deprecated, please pass in a Service object\n",
      "  \n"
     ]
    }
   ],
   "source": [
    "#let's first to connect with the driver\n",
    "driver= webdriver.Chrome(r\"C:/Users/Suncity/Downloads/chromedriver_win32/chromedriver.exe\")"
   ]
  },
  {
   "cell_type": "code",
   "execution_count": 8,
   "metadata": {},
   "outputs": [],
   "source": [
    "driver.get(\"https://www.naukri.com/\")"
   ]
  },
  {
   "cell_type": "code",
   "execution_count": 9,
   "metadata": {},
   "outputs": [
    {
     "name": "stderr",
     "output_type": "stream",
     "text": [
      "C:\\Users\\Suncity\\anaconda3\\lib\\site-packages\\ipykernel_launcher.py:2: DeprecationWarning: find_element_by_* commands are deprecated. Please use find_element() instead\n",
      "  \n",
      "C:\\Users\\Suncity\\anaconda3\\lib\\site-packages\\ipykernel_launcher.py:4: DeprecationWarning: find_element_by_* commands are deprecated. Please use find_element() instead\n",
      "  after removing the cwd from sys.path.\n"
     ]
    }
   ],
   "source": [
    "#finding element for job search bar\n",
    "search_job=driver.find_element_by_id('qsb-keyword-sugg')\n",
    "search_job.send_keys(\"Data analyst\")\n",
    "search_loc=driver.find_element_by_xpath(\"//input[@id='qsb-location-sugg']\")\n",
    "search_loc.send_keys(\"Banglore\")"
   ]
  },
  {
   "cell_type": "code",
   "execution_count": 10,
   "metadata": {},
   "outputs": [
    {
     "name": "stderr",
     "output_type": "stream",
     "text": [
      "C:\\Users\\Suncity\\anaconda3\\lib\\site-packages\\ipykernel_launcher.py:1: DeprecationWarning: find_element_by_* commands are deprecated. Please use find_element() instead\n",
      "  \"\"\"Entry point for launching an IPython kernel.\n"
     ]
    }
   ],
   "source": [
    "search_btn=driver.find_element_by_xpath(\"//div[@class='search-btn']/button\")\n",
    "search_btn.click()"
   ]
  },
  {
   "cell_type": "code",
   "execution_count": 11,
   "metadata": {},
   "outputs": [],
   "source": [
    "job_titles=[]\n",
    "company_names=[]\n",
    "locations_list=[]\n",
    "experience_list=[]"
   ]
  },
  {
   "cell_type": "code",
   "execution_count": 12,
   "metadata": {},
   "outputs": [
    {
     "name": "stderr",
     "output_type": "stream",
     "text": [
      "C:\\Users\\Suncity\\anaconda3\\lib\\site-packages\\ipykernel_launcher.py:2: DeprecationWarning: find_elements_by_* commands are deprecated. Please use find_elements() instead\n",
      "  \n"
     ]
    },
    {
     "data": {
      "text/plain": [
       "[<selenium.webdriver.remote.webelement.WebElement (session=\"db7ecf9a3ccf6991def952db55d4f87f\", element=\"9ecd8d63-5da0-49bf-932b-ab26e81f5190\")>,\n",
       " <selenium.webdriver.remote.webelement.WebElement (session=\"db7ecf9a3ccf6991def952db55d4f87f\", element=\"27d5ca78-ba18-4a06-bdca-c8a6c3697f01\")>,\n",
       " <selenium.webdriver.remote.webelement.WebElement (session=\"db7ecf9a3ccf6991def952db55d4f87f\", element=\"e921a02f-1343-484c-8541-048c16c231dd\")>,\n",
       " <selenium.webdriver.remote.webelement.WebElement (session=\"db7ecf9a3ccf6991def952db55d4f87f\", element=\"88a51c98-7d3f-4e2d-b149-9f5a15bd1d64\")>,\n",
       " <selenium.webdriver.remote.webelement.WebElement (session=\"db7ecf9a3ccf6991def952db55d4f87f\", element=\"81f73213-cc62-4b65-b423-bb814c50a45b\")>,\n",
       " <selenium.webdriver.remote.webelement.WebElement (session=\"db7ecf9a3ccf6991def952db55d4f87f\", element=\"a022109a-5f00-4417-b712-d426a1f33b89\")>,\n",
       " <selenium.webdriver.remote.webelement.WebElement (session=\"db7ecf9a3ccf6991def952db55d4f87f\", element=\"d2ba1f1f-95ff-4546-bcb5-4601cfad1a12\")>,\n",
       " <selenium.webdriver.remote.webelement.WebElement (session=\"db7ecf9a3ccf6991def952db55d4f87f\", element=\"6a1092d0-ec1e-4f2f-ba63-7897b8ee845e\")>,\n",
       " <selenium.webdriver.remote.webelement.WebElement (session=\"db7ecf9a3ccf6991def952db55d4f87f\", element=\"401abcec-45d4-4d7c-b8c4-db865ece1e59\")>,\n",
       " <selenium.webdriver.remote.webelement.WebElement (session=\"db7ecf9a3ccf6991def952db55d4f87f\", element=\"0e59ea34-1e7a-40ed-b8eb-81e5afe56dea\")>,\n",
       " <selenium.webdriver.remote.webelement.WebElement (session=\"db7ecf9a3ccf6991def952db55d4f87f\", element=\"86869bcd-d8e0-400f-b3ba-4026bc1e324e\")>,\n",
       " <selenium.webdriver.remote.webelement.WebElement (session=\"db7ecf9a3ccf6991def952db55d4f87f\", element=\"1ca12482-8c02-4e21-bb1c-3d5ff7ad029b\")>,\n",
       " <selenium.webdriver.remote.webelement.WebElement (session=\"db7ecf9a3ccf6991def952db55d4f87f\", element=\"ecf9ef96-2bac-4838-b8d5-f9c94c247e9b\")>,\n",
       " <selenium.webdriver.remote.webelement.WebElement (session=\"db7ecf9a3ccf6991def952db55d4f87f\", element=\"0281a8ab-05d3-4658-ac73-922469d11ccc\")>,\n",
       " <selenium.webdriver.remote.webelement.WebElement (session=\"db7ecf9a3ccf6991def952db55d4f87f\", element=\"eaa61b46-0a93-4dc0-9402-0aabfb4a7f69\")>,\n",
       " <selenium.webdriver.remote.webelement.WebElement (session=\"db7ecf9a3ccf6991def952db55d4f87f\", element=\"f4a32204-3920-4c2a-9cb4-ad1bedf26a64\")>,\n",
       " <selenium.webdriver.remote.webelement.WebElement (session=\"db7ecf9a3ccf6991def952db55d4f87f\", element=\"ce85f445-bd65-4447-a787-203d740b191a\")>,\n",
       " <selenium.webdriver.remote.webelement.WebElement (session=\"db7ecf9a3ccf6991def952db55d4f87f\", element=\"7393e427-907c-478a-b391-85fc4e683137\")>,\n",
       " <selenium.webdriver.remote.webelement.WebElement (session=\"db7ecf9a3ccf6991def952db55d4f87f\", element=\"99112f7a-3aa5-4d7a-a137-da26eb88231b\")>,\n",
       " <selenium.webdriver.remote.webelement.WebElement (session=\"db7ecf9a3ccf6991def952db55d4f87f\", element=\"711f7cd2-51cf-4c37-ac96-b0e30247440e\")>]"
      ]
     },
     "execution_count": 12,
     "metadata": {},
     "output_type": "execute_result"
    }
   ],
   "source": [
    "#so lets extract all the tags having the job-titles\n",
    "titles_tags=driver.find_elements_by_xpath(\"//a[@class='title fw500 ellipsis']\")\n",
    "titles_tags"
   ]
  },
  {
   "cell_type": "code",
   "execution_count": 34,
   "metadata": {},
   "outputs": [
    {
     "data": {
      "text/plain": [
       "['Senior Data Analyst',\n",
       " 'Data Analyst (On Contract)',\n",
       " 'Jr. Data Analyst/ Jr. Data Scientist',\n",
       " 'Jr . Data Analyst',\n",
       " 'Data Analyst',\n",
       " 'Data Analyst',\n",
       " 'Data Analyst - Marketing',\n",
       " 'Business Analyst / Data Analyst',\n",
       " 'Hiring Business Data Analyst +ETL- Tech Mahindra, Bangalore',\n",
       " 'Data & Performance R&D and Innovation Data Analyst']"
      ]
     },
     "execution_count": 34,
     "metadata": {},
     "output_type": "execute_result"
    }
   ],
   "source": [
    "#Now the text of the job title is inside the tags extracted above.\n",
    "# so we will run a loop to iterate over the tags extracted above and extract the text\n",
    "for i in titles_tags:\n",
    "    title=i.text\n",
    "    job_titles.append(title)\n",
    "job_titles[0:10]\n"
   ]
  },
  {
   "cell_type": "code",
   "execution_count": 35,
   "metadata": {},
   "outputs": [],
   "source": [
    "job_titles1=job_titles[0:10]"
   ]
  },
  {
   "cell_type": "code",
   "execution_count": 16,
   "metadata": {},
   "outputs": [
    {
     "name": "stderr",
     "output_type": "stream",
     "text": [
      "C:\\Users\\Suncity\\anaconda3\\lib\\site-packages\\ipykernel_launcher.py:2: DeprecationWarning: find_elements_by_* commands are deprecated. Please use find_elements() instead\n",
      "  \n"
     ]
    },
    {
     "data": {
      "text/plain": [
       "[<selenium.webdriver.remote.webelement.WebElement (session=\"db7ecf9a3ccf6991def952db55d4f87f\", element=\"f800634c-06c7-40cb-9d51-dffd59058d87\")>,\n",
       " <selenium.webdriver.remote.webelement.WebElement (session=\"db7ecf9a3ccf6991def952db55d4f87f\", element=\"747c7079-f832-4fc6-acda-152ca9974dac\")>,\n",
       " <selenium.webdriver.remote.webelement.WebElement (session=\"db7ecf9a3ccf6991def952db55d4f87f\", element=\"c00797fc-bb4d-4912-952b-cf5885f72337\")>,\n",
       " <selenium.webdriver.remote.webelement.WebElement (session=\"db7ecf9a3ccf6991def952db55d4f87f\", element=\"25822062-e9bf-4c0f-8b3f-7d38f0686792\")>,\n",
       " <selenium.webdriver.remote.webelement.WebElement (session=\"db7ecf9a3ccf6991def952db55d4f87f\", element=\"0f3b0125-82fc-42e6-9e7f-526c86b65022\")>,\n",
       " <selenium.webdriver.remote.webelement.WebElement (session=\"db7ecf9a3ccf6991def952db55d4f87f\", element=\"329e88bc-205a-469a-85ea-4623c297bec9\")>,\n",
       " <selenium.webdriver.remote.webelement.WebElement (session=\"db7ecf9a3ccf6991def952db55d4f87f\", element=\"377e3dcf-1bd6-470f-ba83-2cbaf2aee86b\")>,\n",
       " <selenium.webdriver.remote.webelement.WebElement (session=\"db7ecf9a3ccf6991def952db55d4f87f\", element=\"5d7e6564-4908-4dde-98b1-0fa96e7b34f2\")>,\n",
       " <selenium.webdriver.remote.webelement.WebElement (session=\"db7ecf9a3ccf6991def952db55d4f87f\", element=\"c6a740ac-70bf-43d4-ab9c-ccd615237bd1\")>,\n",
       " <selenium.webdriver.remote.webelement.WebElement (session=\"db7ecf9a3ccf6991def952db55d4f87f\", element=\"1afdfa4a-8308-45f6-82f8-882c41949e17\")>,\n",
       " <selenium.webdriver.remote.webelement.WebElement (session=\"db7ecf9a3ccf6991def952db55d4f87f\", element=\"d400ef41-6197-482a-8902-86af397e300b\")>,\n",
       " <selenium.webdriver.remote.webelement.WebElement (session=\"db7ecf9a3ccf6991def952db55d4f87f\", element=\"9d9d5784-dbe8-4019-b22c-60087e87ee05\")>,\n",
       " <selenium.webdriver.remote.webelement.WebElement (session=\"db7ecf9a3ccf6991def952db55d4f87f\", element=\"49af6f79-e84f-499e-8a31-43dfe6d44047\")>,\n",
       " <selenium.webdriver.remote.webelement.WebElement (session=\"db7ecf9a3ccf6991def952db55d4f87f\", element=\"05f41bc2-2b9f-4140-8494-a5d241b23aac\")>,\n",
       " <selenium.webdriver.remote.webelement.WebElement (session=\"db7ecf9a3ccf6991def952db55d4f87f\", element=\"b4acc0b7-ba3f-48b9-9b6c-30f159a81a06\")>,\n",
       " <selenium.webdriver.remote.webelement.WebElement (session=\"db7ecf9a3ccf6991def952db55d4f87f\", element=\"d452d02d-57ae-4cd3-824c-89b805d62885\")>,\n",
       " <selenium.webdriver.remote.webelement.WebElement (session=\"db7ecf9a3ccf6991def952db55d4f87f\", element=\"d665aa14-9182-4a53-9976-e02b7509c688\")>,\n",
       " <selenium.webdriver.remote.webelement.WebElement (session=\"db7ecf9a3ccf6991def952db55d4f87f\", element=\"a7a2fa2b-b867-47c9-9761-a2a942696e79\")>,\n",
       " <selenium.webdriver.remote.webelement.WebElement (session=\"db7ecf9a3ccf6991def952db55d4f87f\", element=\"42e88826-744c-4642-8402-00763c7806f1\")>,\n",
       " <selenium.webdriver.remote.webelement.WebElement (session=\"db7ecf9a3ccf6991def952db55d4f87f\", element=\"94a2a315-68b7-4114-94ea-b5e2def97434\")>]"
      ]
     },
     "execution_count": 16,
     "metadata": {},
     "output_type": "execute_result"
    }
   ],
   "source": [
    "# so lets extract all the tags having the company names\n",
    "companies_tags=driver.find_elements_by_xpath(\"//a[@class='subTitle ellipsis fleft']\")\n",
    "companies_tags"
   ]
  },
  {
   "cell_type": "code",
   "execution_count": 25,
   "metadata": {},
   "outputs": [
    {
     "data": {
      "text/plain": [
       "['Flipkart',\n",
       " 'Rupeek Fintech Pvt Ltd',\n",
       " 'Sejal Consulting Hub',\n",
       " 'Armorblox',\n",
       " 'Capgemini',\n",
       " 'GlaxoSmithKline Pharmaceuticals Limited',\n",
       " 'Razorpay',\n",
       " 'GetSimpl',\n",
       " 'Tech Mahindra',\n",
       " 'Schneider Electric']"
      ]
     },
     "execution_count": 25,
     "metadata": {},
     "output_type": "execute_result"
    }
   ],
   "source": [
    "for i in companies_tags:\n",
    "    company_name=i.text\n",
    "    company_names.append(company_name)\n",
    "company_names[0:10]"
   ]
  },
  {
   "cell_type": "code",
   "execution_count": 37,
   "metadata": {},
   "outputs": [],
   "source": [
    "company_names1=company_names[0:10]"
   ]
  },
  {
   "cell_type": "code",
   "execution_count": 19,
   "metadata": {},
   "outputs": [
    {
     "name": "stderr",
     "output_type": "stream",
     "text": [
      "C:\\Users\\Suncity\\anaconda3\\lib\\site-packages\\ipykernel_launcher.py:2: DeprecationWarning: find_elements_by_* commands are deprecated. Please use find_elements() instead\n",
      "  \n"
     ]
    },
    {
     "data": {
      "text/plain": [
       "[<selenium.webdriver.remote.webelement.WebElement (session=\"db7ecf9a3ccf6991def952db55d4f87f\", element=\"c028e076-c371-45a9-9785-a0053475905e\")>,\n",
       " <selenium.webdriver.remote.webelement.WebElement (session=\"db7ecf9a3ccf6991def952db55d4f87f\", element=\"0364d839-2715-43b4-95dc-364b4b0b7f18\")>,\n",
       " <selenium.webdriver.remote.webelement.WebElement (session=\"db7ecf9a3ccf6991def952db55d4f87f\", element=\"ffa6e155-b799-42e7-9867-de5756500694\")>,\n",
       " <selenium.webdriver.remote.webelement.WebElement (session=\"db7ecf9a3ccf6991def952db55d4f87f\", element=\"1821993e-a4fc-45ba-9e15-b77697463fbd\")>,\n",
       " <selenium.webdriver.remote.webelement.WebElement (session=\"db7ecf9a3ccf6991def952db55d4f87f\", element=\"a1e1ec47-1998-4b9c-aeb9-ccbc7c1d21a5\")>,\n",
       " <selenium.webdriver.remote.webelement.WebElement (session=\"db7ecf9a3ccf6991def952db55d4f87f\", element=\"768e129a-c2b3-4021-9eec-baa6b9fd5507\")>,\n",
       " <selenium.webdriver.remote.webelement.WebElement (session=\"db7ecf9a3ccf6991def952db55d4f87f\", element=\"e280929c-2d28-4a52-ba52-cc3b5937d644\")>,\n",
       " <selenium.webdriver.remote.webelement.WebElement (session=\"db7ecf9a3ccf6991def952db55d4f87f\", element=\"a7d5264f-8f07-49ae-8d62-a2b0505c57f9\")>,\n",
       " <selenium.webdriver.remote.webelement.WebElement (session=\"db7ecf9a3ccf6991def952db55d4f87f\", element=\"c8f5d178-1925-478a-9b43-3c55f09698eb\")>,\n",
       " <selenium.webdriver.remote.webelement.WebElement (session=\"db7ecf9a3ccf6991def952db55d4f87f\", element=\"e21d5540-8983-4cd8-a41c-7ff586334452\")>,\n",
       " <selenium.webdriver.remote.webelement.WebElement (session=\"db7ecf9a3ccf6991def952db55d4f87f\", element=\"5ee589a0-fb8b-4d44-99f9-acf8c3e6274a\")>,\n",
       " <selenium.webdriver.remote.webelement.WebElement (session=\"db7ecf9a3ccf6991def952db55d4f87f\", element=\"70857188-1057-49e6-93b3-ca66f80cbf5e\")>,\n",
       " <selenium.webdriver.remote.webelement.WebElement (session=\"db7ecf9a3ccf6991def952db55d4f87f\", element=\"b8ff6df3-f3ee-4666-b084-46b603d3e737\")>,\n",
       " <selenium.webdriver.remote.webelement.WebElement (session=\"db7ecf9a3ccf6991def952db55d4f87f\", element=\"a3b2d135-fe16-4d20-9114-d19d6c4fd79f\")>,\n",
       " <selenium.webdriver.remote.webelement.WebElement (session=\"db7ecf9a3ccf6991def952db55d4f87f\", element=\"a6ffeafd-c2b2-4777-823f-23ee71208e7e\")>,\n",
       " <selenium.webdriver.remote.webelement.WebElement (session=\"db7ecf9a3ccf6991def952db55d4f87f\", element=\"5bb61642-1459-4225-a5c8-93f60f9a3bf2\")>,\n",
       " <selenium.webdriver.remote.webelement.WebElement (session=\"db7ecf9a3ccf6991def952db55d4f87f\", element=\"84c33d13-1342-4022-91b5-d1a2c5dbc33e\")>,\n",
       " <selenium.webdriver.remote.webelement.WebElement (session=\"db7ecf9a3ccf6991def952db55d4f87f\", element=\"88c664d7-d4f6-4f38-bc12-9a5ea50799ab\")>,\n",
       " <selenium.webdriver.remote.webelement.WebElement (session=\"db7ecf9a3ccf6991def952db55d4f87f\", element=\"21dd8436-17cd-4cf5-98f9-b72c246a7789\")>,\n",
       " <selenium.webdriver.remote.webelement.WebElement (session=\"db7ecf9a3ccf6991def952db55d4f87f\", element=\"40ea5819-d400-4a47-be52-589d1c85edcf\")>]"
      ]
     },
     "execution_count": 19,
     "metadata": {},
     "output_type": "execute_result"
    }
   ],
   "source": [
    "#So lets extract all the tags having the experience required data\n",
    "experience_tags=driver.find_elements_by_xpath(\"//li[@class='fleft grey-text br2 placeHolderLi experience']\")\n",
    "experience_tags"
   ]
  },
  {
   "cell_type": "code",
   "execution_count": 21,
   "metadata": {},
   "outputs": [
    {
     "data": {
      "text/plain": [
       "['4-5 Yrs',\n",
       " '0-2 Yrs',\n",
       " '0-5 Yrs',\n",
       " '0-2 Yrs',\n",
       " '2-5 Yrs',\n",
       " '7-10 Yrs',\n",
       " '0-2 Yrs',\n",
       " '2-4 Yrs',\n",
       " '6-10 Yrs',\n",
       " '3-6 Yrs']"
      ]
     },
     "execution_count": 21,
     "metadata": {},
     "output_type": "execute_result"
    }
   ],
   "source": [
    "for i in experience_tags:\n",
    "    experience=i.text\n",
    "    experience_list.append(experience)\n",
    "experience_list[0:10]\n",
    "    "
   ]
  },
  {
   "cell_type": "code",
   "execution_count": 39,
   "metadata": {},
   "outputs": [],
   "source": [
    "experience_list1=experience_list[0:10]"
   ]
  },
  {
   "cell_type": "code",
   "execution_count": 29,
   "metadata": {},
   "outputs": [
    {
     "name": "stderr",
     "output_type": "stream",
     "text": [
      "C:\\Users\\Suncity\\anaconda3\\lib\\site-packages\\ipykernel_launcher.py:2: DeprecationWarning: find_elements_by_* commands are deprecated. Please use find_elements() instead\n",
      "  \n"
     ]
    },
    {
     "data": {
      "text/plain": [
       "[<selenium.webdriver.remote.webelement.WebElement (session=\"db7ecf9a3ccf6991def952db55d4f87f\", element=\"5ef3169f-38ac-4408-9f3e-08fbca60b675\")>,\n",
       " <selenium.webdriver.remote.webelement.WebElement (session=\"db7ecf9a3ccf6991def952db55d4f87f\", element=\"90942757-e418-484c-b17d-8eea72390f2b\")>,\n",
       " <selenium.webdriver.remote.webelement.WebElement (session=\"db7ecf9a3ccf6991def952db55d4f87f\", element=\"615c220a-66c4-4a42-b591-cafbf6549445\")>,\n",
       " <selenium.webdriver.remote.webelement.WebElement (session=\"db7ecf9a3ccf6991def952db55d4f87f\", element=\"3cd23981-9a98-47ff-94e3-a19ccfc8adba\")>,\n",
       " <selenium.webdriver.remote.webelement.WebElement (session=\"db7ecf9a3ccf6991def952db55d4f87f\", element=\"9dd1000d-cbce-49e7-84bf-9df9537b6eff\")>,\n",
       " <selenium.webdriver.remote.webelement.WebElement (session=\"db7ecf9a3ccf6991def952db55d4f87f\", element=\"e544f208-2d64-4ae0-9110-1200d13ff1a6\")>,\n",
       " <selenium.webdriver.remote.webelement.WebElement (session=\"db7ecf9a3ccf6991def952db55d4f87f\", element=\"36bdeb27-f1b7-45de-81c7-5d5d7282e6cf\")>,\n",
       " <selenium.webdriver.remote.webelement.WebElement (session=\"db7ecf9a3ccf6991def952db55d4f87f\", element=\"3d4791ba-4ae9-4070-bcc6-fe510b416bc1\")>,\n",
       " <selenium.webdriver.remote.webelement.WebElement (session=\"db7ecf9a3ccf6991def952db55d4f87f\", element=\"701a1124-31da-47a8-a158-3f70e15373f4\")>,\n",
       " <selenium.webdriver.remote.webelement.WebElement (session=\"db7ecf9a3ccf6991def952db55d4f87f\", element=\"2102cbf0-c283-4258-9438-68ebe2481ed9\")>,\n",
       " <selenium.webdriver.remote.webelement.WebElement (session=\"db7ecf9a3ccf6991def952db55d4f87f\", element=\"5e7d396c-c579-4e2b-920e-5e6568767b06\")>,\n",
       " <selenium.webdriver.remote.webelement.WebElement (session=\"db7ecf9a3ccf6991def952db55d4f87f\", element=\"4ce992ca-0527-462a-a56a-f484f9f7ce65\")>,\n",
       " <selenium.webdriver.remote.webelement.WebElement (session=\"db7ecf9a3ccf6991def952db55d4f87f\", element=\"59b6cd92-2e49-47a3-abf9-5abcad55b3f3\")>,\n",
       " <selenium.webdriver.remote.webelement.WebElement (session=\"db7ecf9a3ccf6991def952db55d4f87f\", element=\"df9730e5-fd76-4d52-8fe8-cfa97837f6b8\")>,\n",
       " <selenium.webdriver.remote.webelement.WebElement (session=\"db7ecf9a3ccf6991def952db55d4f87f\", element=\"ceaf5b1b-9cbc-4aa2-99a6-e9bf2966f5a4\")>,\n",
       " <selenium.webdriver.remote.webelement.WebElement (session=\"db7ecf9a3ccf6991def952db55d4f87f\", element=\"77e4b15c-e3ef-4fc2-af51-91e7536efa09\")>,\n",
       " <selenium.webdriver.remote.webelement.WebElement (session=\"db7ecf9a3ccf6991def952db55d4f87f\", element=\"784069ca-f90f-416d-b4eb-ef0a1e0ac899\")>,\n",
       " <selenium.webdriver.remote.webelement.WebElement (session=\"db7ecf9a3ccf6991def952db55d4f87f\", element=\"6bab6795-e567-48f9-a340-8c85a8cb3fb2\")>,\n",
       " <selenium.webdriver.remote.webelement.WebElement (session=\"db7ecf9a3ccf6991def952db55d4f87f\", element=\"24f62368-be38-4741-9f49-1ce20a70663b\")>,\n",
       " <selenium.webdriver.remote.webelement.WebElement (session=\"db7ecf9a3ccf6991def952db55d4f87f\", element=\"4cdd30de-f52b-4c20-a30a-ac1853664f63\")>]"
      ]
     },
     "execution_count": 29,
     "metadata": {},
     "output_type": "execute_result"
    }
   ],
   "source": [
    "#So lets extract all the tags having the location required data\n",
    "location_tags=driver.find_elements_by_xpath(\"//li[@class='fleft grey-text br2 placeHolderLi location']/span[1]\")\n",
    "location_tags"
   ]
  },
  {
   "cell_type": "code",
   "execution_count": 30,
   "metadata": {},
   "outputs": [
    {
     "data": {
      "text/plain": [
       "['Bengaluru/Bangalore',\n",
       " 'Bangalore/Bengaluru',\n",
       " 'Hyderabad/Secunderabad, Bangalore/Bengaluru, Mumbai (All Areas)',\n",
       " 'Bangalore/Bengaluru',\n",
       " 'Bangalore/Bengaluru',\n",
       " 'Bangalore/Bengaluru',\n",
       " 'Bangalore/Bengaluru',\n",
       " 'Bangalore/Bengaluru',\n",
       " 'Bangalore/Bengaluru',\n",
       " 'Bangalore/Bengaluru']"
      ]
     },
     "execution_count": 30,
     "metadata": {},
     "output_type": "execute_result"
    }
   ],
   "source": [
    "for i in location_tags:\n",
    "    location_tags=i.text\n",
    "    locations_list.append(location_tags)\n",
    "locations_list[0:10]"
   ]
  },
  {
   "cell_type": "code",
   "execution_count": 40,
   "metadata": {},
   "outputs": [],
   "source": [
    "locations_list1=locations_list[0:10]"
   ]
  },
  {
   "cell_type": "code",
   "execution_count": 41,
   "metadata": {},
   "outputs": [
    {
     "name": "stdout",
     "output_type": "stream",
     "text": [
      "10 10 10 10\n"
     ]
    }
   ],
   "source": [
    "print(len(job_titles1),len(company_names1),len(locations_list1),len(experience_list1))"
   ]
  },
  {
   "cell_type": "code",
   "execution_count": 44,
   "metadata": {},
   "outputs": [],
   "source": [
    "df= pd.DataFrame()\n",
    "df['job_titles']=job_titles1\n",
    "df['company_names']=company_names1\n",
    "df['locations_list']=locations_list1\n",
    "df['experience_list']=experience_list1\n"
   ]
  },
  {
   "cell_type": "code",
   "execution_count": 45,
   "metadata": {},
   "outputs": [
    {
     "data": {
      "text/html": [
       "<div>\n",
       "<style scoped>\n",
       "    .dataframe tbody tr th:only-of-type {\n",
       "        vertical-align: middle;\n",
       "    }\n",
       "\n",
       "    .dataframe tbody tr th {\n",
       "        vertical-align: top;\n",
       "    }\n",
       "\n",
       "    .dataframe thead th {\n",
       "        text-align: right;\n",
       "    }\n",
       "</style>\n",
       "<table border=\"1\" class=\"dataframe\">\n",
       "  <thead>\n",
       "    <tr style=\"text-align: right;\">\n",
       "      <th></th>\n",
       "      <th>job_titles</th>\n",
       "      <th>company_names</th>\n",
       "      <th>locations_list</th>\n",
       "      <th>experience_list</th>\n",
       "    </tr>\n",
       "  </thead>\n",
       "  <tbody>\n",
       "    <tr>\n",
       "      <th>0</th>\n",
       "      <td>Senior Data Analyst</td>\n",
       "      <td>Flipkart</td>\n",
       "      <td>Bengaluru/Bangalore</td>\n",
       "      <td>4-5 Yrs</td>\n",
       "    </tr>\n",
       "    <tr>\n",
       "      <th>1</th>\n",
       "      <td>Data Analyst (On Contract)</td>\n",
       "      <td>Rupeek Fintech Pvt Ltd</td>\n",
       "      <td>Bangalore/Bengaluru</td>\n",
       "      <td>0-2 Yrs</td>\n",
       "    </tr>\n",
       "    <tr>\n",
       "      <th>2</th>\n",
       "      <td>Jr. Data Analyst/ Jr. Data Scientist</td>\n",
       "      <td>Sejal Consulting Hub</td>\n",
       "      <td>Hyderabad/Secunderabad, Bangalore/Bengaluru, M...</td>\n",
       "      <td>0-5 Yrs</td>\n",
       "    </tr>\n",
       "    <tr>\n",
       "      <th>3</th>\n",
       "      <td>Jr . Data Analyst</td>\n",
       "      <td>Armorblox</td>\n",
       "      <td>Bangalore/Bengaluru</td>\n",
       "      <td>0-2 Yrs</td>\n",
       "    </tr>\n",
       "    <tr>\n",
       "      <th>4</th>\n",
       "      <td>Data Analyst</td>\n",
       "      <td>Capgemini</td>\n",
       "      <td>Bangalore/Bengaluru</td>\n",
       "      <td>2-5 Yrs</td>\n",
       "    </tr>\n",
       "    <tr>\n",
       "      <th>5</th>\n",
       "      <td>Data Analyst</td>\n",
       "      <td>GlaxoSmithKline Pharmaceuticals Limited</td>\n",
       "      <td>Bangalore/Bengaluru</td>\n",
       "      <td>7-10 Yrs</td>\n",
       "    </tr>\n",
       "    <tr>\n",
       "      <th>6</th>\n",
       "      <td>Data Analyst - Marketing</td>\n",
       "      <td>Razorpay</td>\n",
       "      <td>Bangalore/Bengaluru</td>\n",
       "      <td>0-2 Yrs</td>\n",
       "    </tr>\n",
       "    <tr>\n",
       "      <th>7</th>\n",
       "      <td>Business Analyst / Data Analyst</td>\n",
       "      <td>GetSimpl</td>\n",
       "      <td>Bangalore/Bengaluru</td>\n",
       "      <td>2-4 Yrs</td>\n",
       "    </tr>\n",
       "    <tr>\n",
       "      <th>8</th>\n",
       "      <td>Hiring Business Data Analyst +ETL- Tech Mahind...</td>\n",
       "      <td>Tech Mahindra</td>\n",
       "      <td>Bangalore/Bengaluru</td>\n",
       "      <td>6-10 Yrs</td>\n",
       "    </tr>\n",
       "    <tr>\n",
       "      <th>9</th>\n",
       "      <td>Data &amp; Performance R&amp;D and Innovation Data Ana...</td>\n",
       "      <td>Schneider Electric</td>\n",
       "      <td>Bangalore/Bengaluru</td>\n",
       "      <td>3-6 Yrs</td>\n",
       "    </tr>\n",
       "  </tbody>\n",
       "</table>\n",
       "</div>"
      ],
      "text/plain": [
       "                                          job_titles  \\\n",
       "0                                Senior Data Analyst   \n",
       "1                         Data Analyst (On Contract)   \n",
       "2               Jr. Data Analyst/ Jr. Data Scientist   \n",
       "3                                  Jr . Data Analyst   \n",
       "4                                       Data Analyst   \n",
       "5                                       Data Analyst   \n",
       "6                           Data Analyst - Marketing   \n",
       "7                    Business Analyst / Data Analyst   \n",
       "8  Hiring Business Data Analyst +ETL- Tech Mahind...   \n",
       "9  Data & Performance R&D and Innovation Data Ana...   \n",
       "\n",
       "                             company_names  \\\n",
       "0                                 Flipkart   \n",
       "1                   Rupeek Fintech Pvt Ltd   \n",
       "2                     Sejal Consulting Hub   \n",
       "3                                Armorblox   \n",
       "4                                Capgemini   \n",
       "5  GlaxoSmithKline Pharmaceuticals Limited   \n",
       "6                                 Razorpay   \n",
       "7                                 GetSimpl   \n",
       "8                            Tech Mahindra   \n",
       "9                       Schneider Electric   \n",
       "\n",
       "                                      locations_list experience_list  \n",
       "0                                Bengaluru/Bangalore         4-5 Yrs  \n",
       "1                                Bangalore/Bengaluru         0-2 Yrs  \n",
       "2  Hyderabad/Secunderabad, Bangalore/Bengaluru, M...         0-5 Yrs  \n",
       "3                                Bangalore/Bengaluru         0-2 Yrs  \n",
       "4                                Bangalore/Bengaluru         2-5 Yrs  \n",
       "5                                Bangalore/Bengaluru        7-10 Yrs  \n",
       "6                                Bangalore/Bengaluru         0-2 Yrs  \n",
       "7                                Bangalore/Bengaluru         2-4 Yrs  \n",
       "8                                Bangalore/Bengaluru        6-10 Yrs  \n",
       "9                                Bangalore/Bengaluru         3-6 Yrs  "
      ]
     },
     "execution_count": 45,
     "metadata": {},
     "output_type": "execute_result"
    }
   ],
   "source": [
    "df"
   ]
  },
  {
   "cell_type": "markdown",
   "metadata": {},
   "source": [
    "Q2. Write a python program to scrape data for \"Data Scientist\" job position\n",
    "\"Bangalore\" location. You have to scrape the job-title, job-location,company_name. You have to scrape first 10 job data."
   ]
  },
  {
   "cell_type": "code",
   "execution_count": 49,
   "metadata": {},
   "outputs": [],
   "source": [
    "driver.get(\"https://www.naukri.com/\")"
   ]
  },
  {
   "cell_type": "code",
   "execution_count": 50,
   "metadata": {},
   "outputs": [
    {
     "name": "stderr",
     "output_type": "stream",
     "text": [
      "C:\\Users\\Suncity\\anaconda3\\lib\\site-packages\\ipykernel_launcher.py:2: DeprecationWarning: find_element_by_* commands are deprecated. Please use find_element() instead\n",
      "  \n",
      "C:\\Users\\Suncity\\anaconda3\\lib\\site-packages\\ipykernel_launcher.py:4: DeprecationWarning: find_element_by_* commands are deprecated. Please use find_element() instead\n",
      "  after removing the cwd from sys.path.\n"
     ]
    }
   ],
   "source": [
    "#finding element for job search bar\n",
    "search_job1=driver.find_element_by_id('qsb-keyword-sugg')\n",
    "search_job1.send_keys(\"Data Scientist\")\n",
    "search_loc1=driver.find_element_by_xpath(\"//input[@id='qsb-location-sugg']\")\n",
    "search_loc1.send_keys(\"Banglore\")"
   ]
  },
  {
   "cell_type": "code",
   "execution_count": 51,
   "metadata": {},
   "outputs": [
    {
     "name": "stderr",
     "output_type": "stream",
     "text": [
      "C:\\Users\\Suncity\\anaconda3\\lib\\site-packages\\ipykernel_launcher.py:1: DeprecationWarning: find_element_by_* commands are deprecated. Please use find_element() instead\n",
      "  \"\"\"Entry point for launching an IPython kernel.\n"
     ]
    }
   ],
   "source": [
    "search_btn=driver.find_element_by_xpath(\"//div[@class='search-btn']/button\")\n",
    "search_btn.click()"
   ]
  },
  {
   "cell_type": "code",
   "execution_count": 52,
   "metadata": {},
   "outputs": [],
   "source": [
    "job_titles2=[]\n",
    "company_names2=[]\n",
    "locations_list2=[]\n",
    "experience_list2=[]"
   ]
  },
  {
   "cell_type": "code",
   "execution_count": 53,
   "metadata": {},
   "outputs": [
    {
     "name": "stderr",
     "output_type": "stream",
     "text": [
      "C:\\Users\\Suncity\\anaconda3\\lib\\site-packages\\ipykernel_launcher.py:2: DeprecationWarning: find_elements_by_* commands are deprecated. Please use find_elements() instead\n",
      "  \n"
     ]
    },
    {
     "data": {
      "text/plain": [
       "[<selenium.webdriver.remote.webelement.WebElement (session=\"f777cfd82eeaa9597167ca7f00864a19\", element=\"f28e0865-481a-47cd-a5be-fd7a548db53f\")>,\n",
       " <selenium.webdriver.remote.webelement.WebElement (session=\"f777cfd82eeaa9597167ca7f00864a19\", element=\"9533f948-55c7-4e0f-83ca-144d9ee295c0\")>,\n",
       " <selenium.webdriver.remote.webelement.WebElement (session=\"f777cfd82eeaa9597167ca7f00864a19\", element=\"d9f2cc39-a8a4-4b53-b17d-0ac4e43c261c\")>,\n",
       " <selenium.webdriver.remote.webelement.WebElement (session=\"f777cfd82eeaa9597167ca7f00864a19\", element=\"70d49f96-ada6-4a99-bc9e-7dac3389a854\")>,\n",
       " <selenium.webdriver.remote.webelement.WebElement (session=\"f777cfd82eeaa9597167ca7f00864a19\", element=\"5f4bff44-2051-4c1f-ba55-e100c2b83730\")>,\n",
       " <selenium.webdriver.remote.webelement.WebElement (session=\"f777cfd82eeaa9597167ca7f00864a19\", element=\"adfe8c44-9c5e-4e03-8971-c0c596e45a76\")>,\n",
       " <selenium.webdriver.remote.webelement.WebElement (session=\"f777cfd82eeaa9597167ca7f00864a19\", element=\"5b127231-8e4d-4964-98fe-5de84d271384\")>,\n",
       " <selenium.webdriver.remote.webelement.WebElement (session=\"f777cfd82eeaa9597167ca7f00864a19\", element=\"69ce1e11-2b6a-493a-b3d5-4d7c24d08853\")>,\n",
       " <selenium.webdriver.remote.webelement.WebElement (session=\"f777cfd82eeaa9597167ca7f00864a19\", element=\"bee9570c-f326-449a-86c0-67392531b8f6\")>,\n",
       " <selenium.webdriver.remote.webelement.WebElement (session=\"f777cfd82eeaa9597167ca7f00864a19\", element=\"7f9459a7-86bf-4040-8bc1-feafc8b786c8\")>,\n",
       " <selenium.webdriver.remote.webelement.WebElement (session=\"f777cfd82eeaa9597167ca7f00864a19\", element=\"9ec2cca6-8d47-428c-a797-7bbf0ba07770\")>,\n",
       " <selenium.webdriver.remote.webelement.WebElement (session=\"f777cfd82eeaa9597167ca7f00864a19\", element=\"090a4a58-3d81-43bc-a4f4-2d6d11535173\")>,\n",
       " <selenium.webdriver.remote.webelement.WebElement (session=\"f777cfd82eeaa9597167ca7f00864a19\", element=\"89c0454a-0c7f-422d-9b93-c1d3492e7e44\")>,\n",
       " <selenium.webdriver.remote.webelement.WebElement (session=\"f777cfd82eeaa9597167ca7f00864a19\", element=\"c6fa9980-6499-4e3e-98ff-23da59503f1b\")>,\n",
       " <selenium.webdriver.remote.webelement.WebElement (session=\"f777cfd82eeaa9597167ca7f00864a19\", element=\"2b005af4-c2fe-4d10-ade7-5828a3a58c40\")>,\n",
       " <selenium.webdriver.remote.webelement.WebElement (session=\"f777cfd82eeaa9597167ca7f00864a19\", element=\"d38007f8-0aaf-4f49-82b4-17989133323f\")>,\n",
       " <selenium.webdriver.remote.webelement.WebElement (session=\"f777cfd82eeaa9597167ca7f00864a19\", element=\"b57e7359-d4c0-4195-9c42-57b36ba78027\")>,\n",
       " <selenium.webdriver.remote.webelement.WebElement (session=\"f777cfd82eeaa9597167ca7f00864a19\", element=\"a714d7de-cdea-4426-9c7e-ac9305437cf7\")>,\n",
       " <selenium.webdriver.remote.webelement.WebElement (session=\"f777cfd82eeaa9597167ca7f00864a19\", element=\"86b76b6b-b2ec-440a-b96b-7c43bfd027d5\")>,\n",
       " <selenium.webdriver.remote.webelement.WebElement (session=\"f777cfd82eeaa9597167ca7f00864a19\", element=\"b7d517ae-56e8-4689-ae22-0590fca7ef66\")>]"
      ]
     },
     "execution_count": 53,
     "metadata": {},
     "output_type": "execute_result"
    }
   ],
   "source": [
    "#so lets extract all the tags having the job-titles\n",
    "titles_tags1=driver.find_elements_by_xpath(\"//a[@class='title fw500 ellipsis']\")\n",
    "titles_tags1"
   ]
  },
  {
   "cell_type": "code",
   "execution_count": 55,
   "metadata": {},
   "outputs": [
    {
     "data": {
      "text/plain": [
       "['Lead/Senior Data Scientist (NLP)',\n",
       " 'Jr. Data Analyst/ Jr. Data Scientist',\n",
       " 'Senior Data Scientist',\n",
       " 'Lead Programmer - Data Scientist',\n",
       " 'Senior Data Scientist',\n",
       " 'Senior Data Scientist / Data Scientist',\n",
       " 'Senior Data Scientist',\n",
       " 'Senior Data Scientist Analytics',\n",
       " 'Senior Staff Data Scientist',\n",
       " 'Senior Data Scientist']"
      ]
     },
     "execution_count": 55,
     "metadata": {},
     "output_type": "execute_result"
    }
   ],
   "source": [
    "#Now the text of the job title is inside the tags extracted above.\n",
    "# so we will run a loop to iterate over the tags extracted above and extract the text\n",
    "for i in titles_tags1:\n",
    "    title1=i.text\n",
    "    job_titles2.append(title1)\n",
    "job_titles2[0:10]\n"
   ]
  },
  {
   "cell_type": "code",
   "execution_count": 56,
   "metadata": {},
   "outputs": [],
   "source": [
    "job_titles3=job_titles2[0:10]"
   ]
  },
  {
   "cell_type": "code",
   "execution_count": 57,
   "metadata": {},
   "outputs": [
    {
     "name": "stderr",
     "output_type": "stream",
     "text": [
      "C:\\Users\\Suncity\\anaconda3\\lib\\site-packages\\ipykernel_launcher.py:2: DeprecationWarning: find_elements_by_* commands are deprecated. Please use find_elements() instead\n",
      "  \n"
     ]
    },
    {
     "data": {
      "text/plain": [
       "[<selenium.webdriver.remote.webelement.WebElement (session=\"f777cfd82eeaa9597167ca7f00864a19\", element=\"d1403f7c-2eeb-43b5-a65f-7a4bfe972407\")>,\n",
       " <selenium.webdriver.remote.webelement.WebElement (session=\"f777cfd82eeaa9597167ca7f00864a19\", element=\"38e8da9d-2c98-4007-a758-bffc9914e74d\")>,\n",
       " <selenium.webdriver.remote.webelement.WebElement (session=\"f777cfd82eeaa9597167ca7f00864a19\", element=\"0f7455b7-bf39-4e82-a282-f54b5315fb89\")>,\n",
       " <selenium.webdriver.remote.webelement.WebElement (session=\"f777cfd82eeaa9597167ca7f00864a19\", element=\"ac94ed23-a61b-406b-90df-fa377ac51bf7\")>,\n",
       " <selenium.webdriver.remote.webelement.WebElement (session=\"f777cfd82eeaa9597167ca7f00864a19\", element=\"b706c49a-2844-42b2-9e44-1b4fcf10a8df\")>,\n",
       " <selenium.webdriver.remote.webelement.WebElement (session=\"f777cfd82eeaa9597167ca7f00864a19\", element=\"1450090f-09dc-4d57-80f7-a19e259ceabd\")>,\n",
       " <selenium.webdriver.remote.webelement.WebElement (session=\"f777cfd82eeaa9597167ca7f00864a19\", element=\"622a7c8d-f6b0-4036-9c22-ef0a9bb5a86c\")>,\n",
       " <selenium.webdriver.remote.webelement.WebElement (session=\"f777cfd82eeaa9597167ca7f00864a19\", element=\"8793c779-d942-4c90-9468-8ff10b731532\")>,\n",
       " <selenium.webdriver.remote.webelement.WebElement (session=\"f777cfd82eeaa9597167ca7f00864a19\", element=\"d366f52f-a15f-451e-bd14-b0e5bbf3dbb2\")>,\n",
       " <selenium.webdriver.remote.webelement.WebElement (session=\"f777cfd82eeaa9597167ca7f00864a19\", element=\"234d9f35-be37-4a0d-8341-b2e5d9aec56f\")>,\n",
       " <selenium.webdriver.remote.webelement.WebElement (session=\"f777cfd82eeaa9597167ca7f00864a19\", element=\"bfeef4d3-71c7-4c12-afaa-031c0ad9acb5\")>,\n",
       " <selenium.webdriver.remote.webelement.WebElement (session=\"f777cfd82eeaa9597167ca7f00864a19\", element=\"173d3af1-fc03-4719-95ad-6eac793bb5d2\")>,\n",
       " <selenium.webdriver.remote.webelement.WebElement (session=\"f777cfd82eeaa9597167ca7f00864a19\", element=\"0bc84383-fba6-4144-9833-f9994834af00\")>,\n",
       " <selenium.webdriver.remote.webelement.WebElement (session=\"f777cfd82eeaa9597167ca7f00864a19\", element=\"4f3734a1-e69d-46fc-9586-082ca3887269\")>,\n",
       " <selenium.webdriver.remote.webelement.WebElement (session=\"f777cfd82eeaa9597167ca7f00864a19\", element=\"ec2bc771-c4f1-4677-a0c5-9466ba6706db\")>,\n",
       " <selenium.webdriver.remote.webelement.WebElement (session=\"f777cfd82eeaa9597167ca7f00864a19\", element=\"0e1d3209-870b-49f3-a363-bdc99be3334a\")>,\n",
       " <selenium.webdriver.remote.webelement.WebElement (session=\"f777cfd82eeaa9597167ca7f00864a19\", element=\"a4aad029-cd32-4d37-85b7-e692724e51a8\")>,\n",
       " <selenium.webdriver.remote.webelement.WebElement (session=\"f777cfd82eeaa9597167ca7f00864a19\", element=\"d4e18791-31f3-419b-be89-24262061734b\")>,\n",
       " <selenium.webdriver.remote.webelement.WebElement (session=\"f777cfd82eeaa9597167ca7f00864a19\", element=\"e25df328-126d-4b2a-ad61-f7179ece90b8\")>,\n",
       " <selenium.webdriver.remote.webelement.WebElement (session=\"f777cfd82eeaa9597167ca7f00864a19\", element=\"5d27cdae-30b7-48ae-95fe-42c644a7ba28\")>]"
      ]
     },
     "execution_count": 57,
     "metadata": {},
     "output_type": "execute_result"
    }
   ],
   "source": [
    "# so lets extract all the tags having the company names\n",
    "companies_tags1=driver.find_elements_by_xpath(\"//a[@class='subTitle ellipsis fleft']\")\n",
    "companies_tags1"
   ]
  },
  {
   "cell_type": "code",
   "execution_count": 58,
   "metadata": {},
   "outputs": [
    {
     "data": {
      "text/plain": [
       "['Samya.AI A FRACTAL Entity',\n",
       " 'Sejal Consulting Hub',\n",
       " 'Wipro',\n",
       " 'GlaxoSmithKline Pharmaceuticals Limited',\n",
       " 'Juniper Networks',\n",
       " 'Superior Group',\n",
       " 'Ericsson Global Services',\n",
       " 'ExecBoardinAsia',\n",
       " 'Baker Hughes',\n",
       " 'Wipro']"
      ]
     },
     "execution_count": 58,
     "metadata": {},
     "output_type": "execute_result"
    }
   ],
   "source": [
    "for i in companies_tags1:\n",
    "    company_name=i.text\n",
    "    company_names2.append(company_name)\n",
    "company_names2[0:10]"
   ]
  },
  {
   "cell_type": "code",
   "execution_count": 59,
   "metadata": {},
   "outputs": [],
   "source": [
    "company_names3=company_names2[0:10]"
   ]
  },
  {
   "cell_type": "code",
   "execution_count": 60,
   "metadata": {},
   "outputs": [
    {
     "name": "stderr",
     "output_type": "stream",
     "text": [
      "C:\\Users\\Suncity\\anaconda3\\lib\\site-packages\\ipykernel_launcher.py:2: DeprecationWarning: find_elements_by_* commands are deprecated. Please use find_elements() instead\n",
      "  \n"
     ]
    },
    {
     "data": {
      "text/plain": [
       "[<selenium.webdriver.remote.webelement.WebElement (session=\"f777cfd82eeaa9597167ca7f00864a19\", element=\"9b8a9d31-afbe-4e62-abd7-8ef865747ff3\")>,\n",
       " <selenium.webdriver.remote.webelement.WebElement (session=\"f777cfd82eeaa9597167ca7f00864a19\", element=\"184694f4-5d0f-48f7-be04-9d175984b64c\")>,\n",
       " <selenium.webdriver.remote.webelement.WebElement (session=\"f777cfd82eeaa9597167ca7f00864a19\", element=\"4e0610eb-4e80-401b-b3b3-90292b977680\")>,\n",
       " <selenium.webdriver.remote.webelement.WebElement (session=\"f777cfd82eeaa9597167ca7f00864a19\", element=\"d0c4d86a-e61b-4429-83bc-affbb4f17d43\")>,\n",
       " <selenium.webdriver.remote.webelement.WebElement (session=\"f777cfd82eeaa9597167ca7f00864a19\", element=\"9e52d229-fcee-48d5-8261-d7ff2c4cbe0f\")>,\n",
       " <selenium.webdriver.remote.webelement.WebElement (session=\"f777cfd82eeaa9597167ca7f00864a19\", element=\"f2cdafd7-a985-4590-b5b6-d99684936f6d\")>,\n",
       " <selenium.webdriver.remote.webelement.WebElement (session=\"f777cfd82eeaa9597167ca7f00864a19\", element=\"4926a4e7-a1f9-4cc3-bfe5-91f016e81acd\")>,\n",
       " <selenium.webdriver.remote.webelement.WebElement (session=\"f777cfd82eeaa9597167ca7f00864a19\", element=\"e6246c5d-11f9-47fc-9c8e-8aa393da4194\")>,\n",
       " <selenium.webdriver.remote.webelement.WebElement (session=\"f777cfd82eeaa9597167ca7f00864a19\", element=\"06f7edaf-b092-4b7f-b53a-c930ea18ad46\")>,\n",
       " <selenium.webdriver.remote.webelement.WebElement (session=\"f777cfd82eeaa9597167ca7f00864a19\", element=\"7017b7b3-a763-48fe-ad99-a15113ffa0d3\")>,\n",
       " <selenium.webdriver.remote.webelement.WebElement (session=\"f777cfd82eeaa9597167ca7f00864a19\", element=\"eaa0524a-9f0d-486a-9e48-eead4c15bb42\")>,\n",
       " <selenium.webdriver.remote.webelement.WebElement (session=\"f777cfd82eeaa9597167ca7f00864a19\", element=\"654fadef-acc7-44f1-930d-3570f4b8609d\")>,\n",
       " <selenium.webdriver.remote.webelement.WebElement (session=\"f777cfd82eeaa9597167ca7f00864a19\", element=\"e1deb924-3b91-4aa3-9445-6c599e8005cc\")>,\n",
       " <selenium.webdriver.remote.webelement.WebElement (session=\"f777cfd82eeaa9597167ca7f00864a19\", element=\"c5a8b49b-4c1e-402d-88bd-414047670d33\")>,\n",
       " <selenium.webdriver.remote.webelement.WebElement (session=\"f777cfd82eeaa9597167ca7f00864a19\", element=\"7e5d22f4-a38e-41de-8fb3-961e69c0390e\")>,\n",
       " <selenium.webdriver.remote.webelement.WebElement (session=\"f777cfd82eeaa9597167ca7f00864a19\", element=\"f9b8f994-11b8-4d9e-b673-2862cee519df\")>,\n",
       " <selenium.webdriver.remote.webelement.WebElement (session=\"f777cfd82eeaa9597167ca7f00864a19\", element=\"2477463b-516b-478a-8897-86c5e6ae7d3d\")>,\n",
       " <selenium.webdriver.remote.webelement.WebElement (session=\"f777cfd82eeaa9597167ca7f00864a19\", element=\"6a71e87b-b01c-40cf-9c1c-6942f05914b3\")>,\n",
       " <selenium.webdriver.remote.webelement.WebElement (session=\"f777cfd82eeaa9597167ca7f00864a19\", element=\"0ba7c3d6-4630-4d3c-8db7-76e8e6fa5fce\")>,\n",
       " <selenium.webdriver.remote.webelement.WebElement (session=\"f777cfd82eeaa9597167ca7f00864a19\", element=\"8666e91f-12a9-40ea-a0d3-562a116df053\")>]"
      ]
     },
     "execution_count": 60,
     "metadata": {},
     "output_type": "execute_result"
    }
   ],
   "source": [
    "#So lets extract all the tags having the experience required data\n",
    "experience_tags1=driver.find_elements_by_xpath(\"//li[@class='fleft grey-text br2 placeHolderLi experience']\")\n",
    "experience_tags1"
   ]
  },
  {
   "cell_type": "code",
   "execution_count": 61,
   "metadata": {},
   "outputs": [
    {
     "data": {
      "text/plain": [
       "['3-8 Yrs',\n",
       " '0-5 Yrs',\n",
       " '4-9 Yrs',\n",
       " '3-8 Yrs',\n",
       " '11-15 Yrs',\n",
       " '4-8 Yrs',\n",
       " '10-12 Yrs',\n",
       " '5-10 Yrs',\n",
       " '3-7 Yrs',\n",
       " '5-10 Yrs']"
      ]
     },
     "execution_count": 61,
     "metadata": {},
     "output_type": "execute_result"
    }
   ],
   "source": [
    "for i in experience_tags1:\n",
    "    experience=i.text\n",
    "    experience_list2.append(experience)\n",
    "experience_list2[0:10]"
   ]
  },
  {
   "cell_type": "code",
   "execution_count": 62,
   "metadata": {},
   "outputs": [],
   "source": [
    "experience_list3=experience_list2[0:10]"
   ]
  },
  {
   "cell_type": "code",
   "execution_count": 63,
   "metadata": {},
   "outputs": [
    {
     "name": "stderr",
     "output_type": "stream",
     "text": [
      "C:\\Users\\Suncity\\anaconda3\\lib\\site-packages\\ipykernel_launcher.py:2: DeprecationWarning: find_elements_by_* commands are deprecated. Please use find_elements() instead\n",
      "  \n"
     ]
    },
    {
     "data": {
      "text/plain": [
       "[<selenium.webdriver.remote.webelement.WebElement (session=\"f777cfd82eeaa9597167ca7f00864a19\", element=\"55d33440-168a-49f1-b2cb-18531a6de8cb\")>,\n",
       " <selenium.webdriver.remote.webelement.WebElement (session=\"f777cfd82eeaa9597167ca7f00864a19\", element=\"1fa22148-74c7-4026-9da6-13d70569aa82\")>,\n",
       " <selenium.webdriver.remote.webelement.WebElement (session=\"f777cfd82eeaa9597167ca7f00864a19\", element=\"b9dc1fb0-ea8b-494f-aa91-083b879490d1\")>,\n",
       " <selenium.webdriver.remote.webelement.WebElement (session=\"f777cfd82eeaa9597167ca7f00864a19\", element=\"247256f4-6a96-40a7-981b-087a1622df16\")>,\n",
       " <selenium.webdriver.remote.webelement.WebElement (session=\"f777cfd82eeaa9597167ca7f00864a19\", element=\"e8e6f05b-d74e-4606-b449-c410373c3f8d\")>,\n",
       " <selenium.webdriver.remote.webelement.WebElement (session=\"f777cfd82eeaa9597167ca7f00864a19\", element=\"ef9ec688-cb83-4fbc-b84f-24ddb30aac48\")>,\n",
       " <selenium.webdriver.remote.webelement.WebElement (session=\"f777cfd82eeaa9597167ca7f00864a19\", element=\"335a8bc2-ef12-4f58-abde-eb8538461d3d\")>,\n",
       " <selenium.webdriver.remote.webelement.WebElement (session=\"f777cfd82eeaa9597167ca7f00864a19\", element=\"1dfc1e2c-aeb3-4d47-9237-f3b21469dc87\")>,\n",
       " <selenium.webdriver.remote.webelement.WebElement (session=\"f777cfd82eeaa9597167ca7f00864a19\", element=\"6f0a8d02-87d9-4dc5-a6ba-b8b2f872a264\")>,\n",
       " <selenium.webdriver.remote.webelement.WebElement (session=\"f777cfd82eeaa9597167ca7f00864a19\", element=\"cea95628-fa43-45a1-8e7c-159b9f0623d1\")>,\n",
       " <selenium.webdriver.remote.webelement.WebElement (session=\"f777cfd82eeaa9597167ca7f00864a19\", element=\"df5c2557-82e0-4970-8fbb-529f6388b85e\")>,\n",
       " <selenium.webdriver.remote.webelement.WebElement (session=\"f777cfd82eeaa9597167ca7f00864a19\", element=\"1d3bd514-a87d-410d-91ab-ca2cff330ba0\")>,\n",
       " <selenium.webdriver.remote.webelement.WebElement (session=\"f777cfd82eeaa9597167ca7f00864a19\", element=\"20f92c22-2799-454f-8750-cdad2a86f0ed\")>,\n",
       " <selenium.webdriver.remote.webelement.WebElement (session=\"f777cfd82eeaa9597167ca7f00864a19\", element=\"b10f29f4-8e5e-4327-ba49-192709ec3b9b\")>,\n",
       " <selenium.webdriver.remote.webelement.WebElement (session=\"f777cfd82eeaa9597167ca7f00864a19\", element=\"df306777-e95f-461d-ab40-17e1c89af873\")>,\n",
       " <selenium.webdriver.remote.webelement.WebElement (session=\"f777cfd82eeaa9597167ca7f00864a19\", element=\"8f60e089-9a88-4242-ab16-cd5693908430\")>,\n",
       " <selenium.webdriver.remote.webelement.WebElement (session=\"f777cfd82eeaa9597167ca7f00864a19\", element=\"8a144999-02ad-4d94-b8da-698332aa4eda\")>,\n",
       " <selenium.webdriver.remote.webelement.WebElement (session=\"f777cfd82eeaa9597167ca7f00864a19\", element=\"f1bfa9c1-3c16-4300-bea8-68e30f467aab\")>,\n",
       " <selenium.webdriver.remote.webelement.WebElement (session=\"f777cfd82eeaa9597167ca7f00864a19\", element=\"ebe5308b-6cdf-4c12-addd-471c13c3797d\")>,\n",
       " <selenium.webdriver.remote.webelement.WebElement (session=\"f777cfd82eeaa9597167ca7f00864a19\", element=\"dff442ad-8e18-49c4-8bd6-fe00432d3b21\")>]"
      ]
     },
     "execution_count": 63,
     "metadata": {},
     "output_type": "execute_result"
    }
   ],
   "source": [
    "#So lets extract all the tags having the location required data\n",
    "location_tags1=driver.find_elements_by_xpath(\"//li[@class='fleft grey-text br2 placeHolderLi location']/span[1]\")\n",
    "location_tags1"
   ]
  },
  {
   "cell_type": "code",
   "execution_count": 64,
   "metadata": {},
   "outputs": [
    {
     "data": {
      "text/plain": [
       "['Bangalore/Bengaluru',\n",
       " 'Hyderabad/Secunderabad, Bangalore/Bengaluru, Mumbai (All Areas)',\n",
       " 'Pune, Bangalore/Bengaluru, Delhi / NCR',\n",
       " 'Bangalore/Bengaluru',\n",
       " 'Bangalore/Bengaluru',\n",
       " 'Bangalore/Bengaluru',\n",
       " 'Bangalore/Bengaluru',\n",
       " 'Bangalore/Bengaluru',\n",
       " 'Bangalore/Bengaluru',\n",
       " 'Kolkata, Hyderabad/Secunderabad, Pune, Chennai, Bangalore/Bengaluru, Delhi / NCR, Mumbai (All Areas)']"
      ]
     },
     "execution_count": 64,
     "metadata": {},
     "output_type": "execute_result"
    }
   ],
   "source": [
    "for i in location_tags1:\n",
    "    location_tags=i.text\n",
    "    locations_list2.append(location_tags)\n",
    "locations_list2[0:10]"
   ]
  },
  {
   "cell_type": "code",
   "execution_count": 65,
   "metadata": {},
   "outputs": [],
   "source": [
    "locations_list3=locations_list2[0:10]"
   ]
  },
  {
   "cell_type": "code",
   "execution_count": 66,
   "metadata": {},
   "outputs": [
    {
     "name": "stdout",
     "output_type": "stream",
     "text": [
      "10 10 10 10\n"
     ]
    }
   ],
   "source": [
    "print(len(job_titles3),len(company_names3),len(locations_list3),len(experience_list3))"
   ]
  },
  {
   "cell_type": "code",
   "execution_count": 67,
   "metadata": {},
   "outputs": [],
   "source": [
    "df= pd.DataFrame()\n",
    "df['job_titles']=job_titles3\n",
    "df['company_names']=company_names3\n",
    "df['locations_list']=locations_list3\n",
    "df['experience_list']=experience_list3"
   ]
  },
  {
   "cell_type": "code",
   "execution_count": 68,
   "metadata": {},
   "outputs": [
    {
     "data": {
      "text/html": [
       "<div>\n",
       "<style scoped>\n",
       "    .dataframe tbody tr th:only-of-type {\n",
       "        vertical-align: middle;\n",
       "    }\n",
       "\n",
       "    .dataframe tbody tr th {\n",
       "        vertical-align: top;\n",
       "    }\n",
       "\n",
       "    .dataframe thead th {\n",
       "        text-align: right;\n",
       "    }\n",
       "</style>\n",
       "<table border=\"1\" class=\"dataframe\">\n",
       "  <thead>\n",
       "    <tr style=\"text-align: right;\">\n",
       "      <th></th>\n",
       "      <th>job_titles</th>\n",
       "      <th>company_names</th>\n",
       "      <th>locations_list</th>\n",
       "      <th>experience_list</th>\n",
       "    </tr>\n",
       "  </thead>\n",
       "  <tbody>\n",
       "    <tr>\n",
       "      <th>0</th>\n",
       "      <td>Lead/Senior Data Scientist (NLP)</td>\n",
       "      <td>Samya.AI A FRACTAL Entity</td>\n",
       "      <td>Bangalore/Bengaluru</td>\n",
       "      <td>3-8 Yrs</td>\n",
       "    </tr>\n",
       "    <tr>\n",
       "      <th>1</th>\n",
       "      <td>Jr. Data Analyst/ Jr. Data Scientist</td>\n",
       "      <td>Sejal Consulting Hub</td>\n",
       "      <td>Hyderabad/Secunderabad, Bangalore/Bengaluru, M...</td>\n",
       "      <td>0-5 Yrs</td>\n",
       "    </tr>\n",
       "    <tr>\n",
       "      <th>2</th>\n",
       "      <td>Senior Data Scientist</td>\n",
       "      <td>Wipro</td>\n",
       "      <td>Pune, Bangalore/Bengaluru, Delhi / NCR</td>\n",
       "      <td>4-9 Yrs</td>\n",
       "    </tr>\n",
       "    <tr>\n",
       "      <th>3</th>\n",
       "      <td>Lead Programmer - Data Scientist</td>\n",
       "      <td>GlaxoSmithKline Pharmaceuticals Limited</td>\n",
       "      <td>Bangalore/Bengaluru</td>\n",
       "      <td>3-8 Yrs</td>\n",
       "    </tr>\n",
       "    <tr>\n",
       "      <th>4</th>\n",
       "      <td>Senior Data Scientist</td>\n",
       "      <td>Juniper Networks</td>\n",
       "      <td>Bangalore/Bengaluru</td>\n",
       "      <td>11-15 Yrs</td>\n",
       "    </tr>\n",
       "    <tr>\n",
       "      <th>5</th>\n",
       "      <td>Senior Data Scientist / Data Scientist</td>\n",
       "      <td>Superior Group</td>\n",
       "      <td>Bangalore/Bengaluru</td>\n",
       "      <td>4-8 Yrs</td>\n",
       "    </tr>\n",
       "    <tr>\n",
       "      <th>6</th>\n",
       "      <td>Senior Data Scientist</td>\n",
       "      <td>Ericsson Global Services</td>\n",
       "      <td>Bangalore/Bengaluru</td>\n",
       "      <td>10-12 Yrs</td>\n",
       "    </tr>\n",
       "    <tr>\n",
       "      <th>7</th>\n",
       "      <td>Senior Data Scientist Analytics</td>\n",
       "      <td>ExecBoardinAsia</td>\n",
       "      <td>Bangalore/Bengaluru</td>\n",
       "      <td>5-10 Yrs</td>\n",
       "    </tr>\n",
       "    <tr>\n",
       "      <th>8</th>\n",
       "      <td>Senior Staff Data Scientist</td>\n",
       "      <td>Baker Hughes</td>\n",
       "      <td>Bangalore/Bengaluru</td>\n",
       "      <td>3-7 Yrs</td>\n",
       "    </tr>\n",
       "    <tr>\n",
       "      <th>9</th>\n",
       "      <td>Senior Data Scientist</td>\n",
       "      <td>Wipro</td>\n",
       "      <td>Kolkata, Hyderabad/Secunderabad, Pune, Chennai...</td>\n",
       "      <td>5-10 Yrs</td>\n",
       "    </tr>\n",
       "  </tbody>\n",
       "</table>\n",
       "</div>"
      ],
      "text/plain": [
       "                               job_titles  \\\n",
       "0        Lead/Senior Data Scientist (NLP)   \n",
       "1    Jr. Data Analyst/ Jr. Data Scientist   \n",
       "2                   Senior Data Scientist   \n",
       "3        Lead Programmer - Data Scientist   \n",
       "4                   Senior Data Scientist   \n",
       "5  Senior Data Scientist / Data Scientist   \n",
       "6                   Senior Data Scientist   \n",
       "7         Senior Data Scientist Analytics   \n",
       "8             Senior Staff Data Scientist   \n",
       "9                   Senior Data Scientist   \n",
       "\n",
       "                             company_names  \\\n",
       "0                Samya.AI A FRACTAL Entity   \n",
       "1                     Sejal Consulting Hub   \n",
       "2                                    Wipro   \n",
       "3  GlaxoSmithKline Pharmaceuticals Limited   \n",
       "4                         Juniper Networks   \n",
       "5                           Superior Group   \n",
       "6                 Ericsson Global Services   \n",
       "7                          ExecBoardinAsia   \n",
       "8                             Baker Hughes   \n",
       "9                                    Wipro   \n",
       "\n",
       "                                      locations_list experience_list  \n",
       "0                                Bangalore/Bengaluru         3-8 Yrs  \n",
       "1  Hyderabad/Secunderabad, Bangalore/Bengaluru, M...         0-5 Yrs  \n",
       "2             Pune, Bangalore/Bengaluru, Delhi / NCR         4-9 Yrs  \n",
       "3                                Bangalore/Bengaluru         3-8 Yrs  \n",
       "4                                Bangalore/Bengaluru       11-15 Yrs  \n",
       "5                                Bangalore/Bengaluru         4-8 Yrs  \n",
       "6                                Bangalore/Bengaluru       10-12 Yrs  \n",
       "7                                Bangalore/Bengaluru        5-10 Yrs  \n",
       "8                                Bangalore/Bengaluru         3-7 Yrs  \n",
       "9  Kolkata, Hyderabad/Secunderabad, Pune, Chennai...        5-10 Yrs  "
      ]
     },
     "execution_count": 68,
     "metadata": {},
     "output_type": "execute_result"
    }
   ],
   "source": [
    "df"
   ]
  },
  {
   "cell_type": "markdown",
   "metadata": {},
   "source": [
    "Q3. Scraping data for Data Scientist job in Delhi/NCR location. The salary filter to be used is \"3-6\" lakhs."
   ]
  },
  {
   "cell_type": "code",
   "execution_count": 20,
   "metadata": {},
   "outputs": [
    {
     "name": "stdout",
     "output_type": "stream",
     "text": [
      "Requirement already satisfied: selenium in c:\\users\\suncity\\anaconda3\\lib\\site-packages (4.1.0)\n",
      "Requirement already satisfied: trio-websocket~=0.9 in c:\\users\\suncity\\anaconda3\\lib\\site-packages (from selenium) (0.9.2)\n",
      "Requirement already satisfied: trio~=0.17 in c:\\users\\suncity\\anaconda3\\lib\\site-packages (from selenium) (0.19.0)\n",
      "Requirement already satisfied: urllib3[secure]~=1.26 in c:\\users\\suncity\\anaconda3\\lib\\site-packages (from selenium) (1.26.7)\n",
      "Requirement already satisfied: wsproto>=0.14 in c:\\users\\suncity\\anaconda3\\lib\\site-packages (from trio-websocket~=0.9->selenium) (1.0.0)\n",
      "Requirement already satisfied: async-generator>=1.10 in c:\\users\\suncity\\anaconda3\\lib\\site-packages (from trio-websocket~=0.9->selenium) (1.10)\n",
      "Requirement already satisfied: attrs>=19.2.0 in c:\\users\\suncity\\anaconda3\\lib\\site-packages (from trio~=0.17->selenium) (19.3.0)\n",
      "Requirement already satisfied: idna in c:\\users\\suncity\\anaconda3\\lib\\site-packages (from trio~=0.17->selenium) (2.8)\n",
      "Requirement already satisfied: outcome in c:\\users\\suncity\\anaconda3\\lib\\site-packages (from trio~=0.17->selenium) (1.1.0)\n",
      "Requirement already satisfied: sortedcontainers in c:\\users\\suncity\\anaconda3\\lib\\site-packages (from trio~=0.17->selenium) (2.1.0)\n",
      "Requirement already satisfied: cffi>=1.14; os_name == \"nt\" and implementation_name != \"pypy\" in c:\\users\\suncity\\anaconda3\\lib\\site-packages (from trio~=0.17->selenium) (1.14.0)\n",
      "Requirement already satisfied: sniffio in c:\\users\\suncity\\anaconda3\\lib\\site-packages (from trio~=0.17->selenium) (1.2.0)\n",
      "Requirement already satisfied: certifi; extra == \"secure\" in c:\\users\\suncity\\anaconda3\\lib\\site-packages (from urllib3[secure]~=1.26->selenium) (2019.11.28)\n",
      "Requirement already satisfied: cryptography>=1.3.4; extra == \"secure\" in c:\\users\\suncity\\anaconda3\\lib\\site-packages (from urllib3[secure]~=1.26->selenium) (2.8)\n",
      "Requirement already satisfied: pyOpenSSL>=0.14; extra == \"secure\" in c:\\users\\suncity\\anaconda3\\lib\\site-packages (from urllib3[secure]~=1.26->selenium) (19.1.0)\n",
      "Requirement already satisfied: h11<1,>=0.9.0 in c:\\users\\suncity\\anaconda3\\lib\\site-packages (from wsproto>=0.14->trio-websocket~=0.9->selenium) (0.12.0)\n",
      "Requirement already satisfied: pycparser in c:\\users\\suncity\\anaconda3\\lib\\site-packages (from cffi>=1.14; os_name == \"nt\" and implementation_name != \"pypy\"->trio~=0.17->selenium) (2.19)\n",
      "Requirement already satisfied: six>=1.4.1 in c:\\users\\suncity\\anaconda3\\lib\\site-packages (from cryptography>=1.3.4; extra == \"secure\"->urllib3[secure]~=1.26->selenium) (1.14.0)\n"
     ]
    }
   ],
   "source": [
    "#Let's first install the selenium Library\n",
    "!pip install selenium"
   ]
  },
  {
   "cell_type": "code",
   "execution_count": 21,
   "metadata": {},
   "outputs": [],
   "source": [
    "#import libraries\n",
    "import selenium\n",
    "import pandas as pd\n",
    "from selenium import webdriver"
   ]
  },
  {
   "cell_type": "code",
   "execution_count": 22,
   "metadata": {},
   "outputs": [
    {
     "name": "stderr",
     "output_type": "stream",
     "text": [
      "C:\\Users\\Suncity\\anaconda3\\lib\\site-packages\\ipykernel_launcher.py:2: DeprecationWarning: executable_path has been deprecated, please pass in a Service object\n",
      "  \n"
     ]
    }
   ],
   "source": [
    "#let's first to connect with the driver\n",
    "driver= webdriver.Chrome(r\"C:/Users/Suncity/Downloads/chromedriver_win32/chromedriver.exe\")"
   ]
  },
  {
   "cell_type": "code",
   "execution_count": 23,
   "metadata": {},
   "outputs": [],
   "source": [
    "driver.get(\"https://www.naukri.com/\")"
   ]
  },
  {
   "cell_type": "code",
   "execution_count": 24,
   "metadata": {},
   "outputs": [
    {
     "name": "stderr",
     "output_type": "stream",
     "text": [
      "C:\\Users\\Suncity\\anaconda3\\lib\\site-packages\\ipykernel_launcher.py:2: DeprecationWarning: find_element_by_* commands are deprecated. Please use find_element() instead\n",
      "  \n",
      "C:\\Users\\Suncity\\anaconda3\\lib\\site-packages\\ipykernel_launcher.py:4: DeprecationWarning: find_element_by_* commands are deprecated. Please use find_element() instead\n",
      "  after removing the cwd from sys.path.\n"
     ]
    }
   ],
   "source": [
    "#finding element for job search bar\n",
    "search1=driver.find_element_by_id('qsb-keyword-sugg')\n",
    "search1.send_keys(\"Data Scientist\")\n",
    "search_loc1=driver.find_element_by_xpath(\"//input[@id='qsb-location-sugg']\")\n",
    "search_loc1.send_keys(\"Delhi/NCR\")\n"
   ]
  },
  {
   "cell_type": "code",
   "execution_count": 25,
   "metadata": {},
   "outputs": [
    {
     "name": "stderr",
     "output_type": "stream",
     "text": [
      "C:\\Users\\Suncity\\anaconda3\\lib\\site-packages\\ipykernel_launcher.py:1: DeprecationWarning: find_element_by_* commands are deprecated. Please use find_element() instead\n",
      "  \"\"\"Entry point for launching an IPython kernel.\n"
     ]
    }
   ],
   "source": [
    "search_btn=driver.find_element_by_xpath(\"//div[@class='search-btn']/button\")\n",
    "search_btn.click()"
   ]
  },
  {
   "cell_type": "code",
   "execution_count": 27,
   "metadata": {},
   "outputs": [
    {
     "name": "stderr",
     "output_type": "stream",
     "text": [
      "C:\\Users\\Suncity\\anaconda3\\lib\\site-packages\\ipykernel_launcher.py:1: DeprecationWarning: find_element_by_* commands are deprecated. Please use find_element() instead\n",
      "  \"\"\"Entry point for launching an IPython kernel.\n"
     ]
    }
   ],
   "source": [
    "slry_box = driver.find_element_by_xpath(\"/html/body/div[1]/div[3]/div[2]/section[1]/div[2]/div[4]/div[2]/div[2]/label/p/span[1]\")\n",
    "\n",
    "slry_box.click()"
   ]
  },
  {
   "cell_type": "code",
   "execution_count": 28,
   "metadata": {},
   "outputs": [
    {
     "name": "stderr",
     "output_type": "stream",
     "text": [
      "C:\\Users\\Suncity\\anaconda3\\lib\\site-packages\\ipykernel_launcher.py:1: DeprecationWarning: find_element_by_* commands are deprecated. Please use find_element() instead\n",
      "  \"\"\"Entry point for launching an IPython kernel.\n"
     ]
    }
   ],
   "source": [
    "loc_box = driver.find_element_by_xpath(\"/html/body/div[1]/div[3]/div[2]/section[1]/div[2]/div[4]/div[2]/div[2]/label/p/span[1]\")\n",
    "\n",
    "loc_box.click()\n",
    "\n"
   ]
  },
  {
   "cell_type": "code",
   "execution_count": 29,
   "metadata": {},
   "outputs": [],
   "source": [
    "job_titles4=[]\n",
    "company_names4=[]\n",
    "locations_list4=[]\n",
    "experience_list4=[]"
   ]
  },
  {
   "cell_type": "code",
   "execution_count": 30,
   "metadata": {},
   "outputs": [
    {
     "name": "stderr",
     "output_type": "stream",
     "text": [
      "C:\\Users\\Suncity\\anaconda3\\lib\\site-packages\\ipykernel_launcher.py:2: DeprecationWarning: find_elements_by_* commands are deprecated. Please use find_elements() instead\n",
      "  \n"
     ]
    },
    {
     "data": {
      "text/plain": [
       "[<selenium.webdriver.remote.webelement.WebElement (session=\"61acc08b432ad7246eca1c7c1978ca86\", element=\"c9c3b5e4-caa2-40b1-91a3-45a28add6098\")>,\n",
       " <selenium.webdriver.remote.webelement.WebElement (session=\"61acc08b432ad7246eca1c7c1978ca86\", element=\"fe8f9002-15f9-4963-a514-92dd848246ed\")>,\n",
       " <selenium.webdriver.remote.webelement.WebElement (session=\"61acc08b432ad7246eca1c7c1978ca86\", element=\"d6e0e07e-a72c-469f-b877-631113e7112e\")>,\n",
       " <selenium.webdriver.remote.webelement.WebElement (session=\"61acc08b432ad7246eca1c7c1978ca86\", element=\"1400821c-ed1e-4994-9de2-4a7bf47c78f3\")>,\n",
       " <selenium.webdriver.remote.webelement.WebElement (session=\"61acc08b432ad7246eca1c7c1978ca86\", element=\"c6c3d967-c2a9-4041-a7de-5873536c8ff3\")>,\n",
       " <selenium.webdriver.remote.webelement.WebElement (session=\"61acc08b432ad7246eca1c7c1978ca86\", element=\"706b9949-7957-4e09-8cba-30b99033e58b\")>,\n",
       " <selenium.webdriver.remote.webelement.WebElement (session=\"61acc08b432ad7246eca1c7c1978ca86\", element=\"bb2c28ff-9837-4957-8dc6-19dc5c54039a\")>,\n",
       " <selenium.webdriver.remote.webelement.WebElement (session=\"61acc08b432ad7246eca1c7c1978ca86\", element=\"6dcc67e9-28fa-40ab-91d7-07c2a813e7e2\")>,\n",
       " <selenium.webdriver.remote.webelement.WebElement (session=\"61acc08b432ad7246eca1c7c1978ca86\", element=\"738e9da8-94d2-4f16-b549-770d15ffde1a\")>,\n",
       " <selenium.webdriver.remote.webelement.WebElement (session=\"61acc08b432ad7246eca1c7c1978ca86\", element=\"107b4f04-e876-4806-b13e-1f15e96765cf\")>,\n",
       " <selenium.webdriver.remote.webelement.WebElement (session=\"61acc08b432ad7246eca1c7c1978ca86\", element=\"f9ade42e-bfc7-459f-a660-db85cd83e31e\")>,\n",
       " <selenium.webdriver.remote.webelement.WebElement (session=\"61acc08b432ad7246eca1c7c1978ca86\", element=\"63b01f35-95c9-48a2-b95b-c901b1d6d318\")>,\n",
       " <selenium.webdriver.remote.webelement.WebElement (session=\"61acc08b432ad7246eca1c7c1978ca86\", element=\"9835f11c-e03b-4cda-a300-83ec5735cf86\")>,\n",
       " <selenium.webdriver.remote.webelement.WebElement (session=\"61acc08b432ad7246eca1c7c1978ca86\", element=\"0c1333aa-bf64-42e5-8a7d-17878702137f\")>,\n",
       " <selenium.webdriver.remote.webelement.WebElement (session=\"61acc08b432ad7246eca1c7c1978ca86\", element=\"242f661b-42be-4776-88f6-019dbde0f7a7\")>,\n",
       " <selenium.webdriver.remote.webelement.WebElement (session=\"61acc08b432ad7246eca1c7c1978ca86\", element=\"97f0f1f6-a311-4ac6-8dcc-33aaf679af6f\")>,\n",
       " <selenium.webdriver.remote.webelement.WebElement (session=\"61acc08b432ad7246eca1c7c1978ca86\", element=\"22670283-1d7f-4201-b055-360f59ed1862\")>,\n",
       " <selenium.webdriver.remote.webelement.WebElement (session=\"61acc08b432ad7246eca1c7c1978ca86\", element=\"4da59b55-13a3-464e-957b-d3ee70f47ff8\")>,\n",
       " <selenium.webdriver.remote.webelement.WebElement (session=\"61acc08b432ad7246eca1c7c1978ca86\", element=\"188358e6-68ea-4253-bf71-008eb0fef619\")>,\n",
       " <selenium.webdriver.remote.webelement.WebElement (session=\"61acc08b432ad7246eca1c7c1978ca86\", element=\"5ce720ed-97df-4c28-97c2-4e6eb140513a\")>]"
      ]
     },
     "execution_count": 30,
     "metadata": {},
     "output_type": "execute_result"
    }
   ],
   "source": [
    "#so lets extract all the tags having the job-titles\n",
    "titles_tags4=driver.find_elements_by_xpath(\"//a[@class='title fw500 ellipsis']\")\n",
    "titles_tags4"
   ]
  },
  {
   "cell_type": "code",
   "execution_count": 31,
   "metadata": {},
   "outputs": [
    {
     "data": {
      "text/plain": [
       "['Project Manager | Team Leader | Senior Data Scientist',\n",
       " 'Data Scientist/ Senior Data Scientist',\n",
       " 'NTT DATA_ Hiring For BIG DATA ,DATA Scientist, Devops',\n",
       " 'Hiring For Data Scientist',\n",
       " 'Data Scientist',\n",
       " 'Hiring For Data Analyst / Data Scientist',\n",
       " 'Data Analyst / Data Scientist / Business Analytics / Fresher - MNC',\n",
       " 'Data Scientist',\n",
       " 'Data Scientist',\n",
       " 'Data Scientist']"
      ]
     },
     "execution_count": 31,
     "metadata": {},
     "output_type": "execute_result"
    }
   ],
   "source": [
    "#Now the text of the job title is inside the tags extracted above.\n",
    "# so we will run a loop to iterate over the tags extracted above and extract the text\n",
    "for i in titles_tags4:\n",
    "    title1=i.text\n",
    "    job_titles4.append(title1)\n",
    "job_titles4[0:10]\n"
   ]
  },
  {
   "cell_type": "code",
   "execution_count": 32,
   "metadata": {},
   "outputs": [],
   "source": [
    "job_titles5=job_titles4[0:10]"
   ]
  },
  {
   "cell_type": "code",
   "execution_count": 33,
   "metadata": {},
   "outputs": [
    {
     "name": "stderr",
     "output_type": "stream",
     "text": [
      "C:\\Users\\Suncity\\anaconda3\\lib\\site-packages\\ipykernel_launcher.py:2: DeprecationWarning: find_elements_by_* commands are deprecated. Please use find_elements() instead\n",
      "  \n"
     ]
    },
    {
     "data": {
      "text/plain": [
       "[<selenium.webdriver.remote.webelement.WebElement (session=\"61acc08b432ad7246eca1c7c1978ca86\", element=\"bb66a080-76ec-4411-9e8d-c8d101841809\")>,\n",
       " <selenium.webdriver.remote.webelement.WebElement (session=\"61acc08b432ad7246eca1c7c1978ca86\", element=\"4c644095-86c7-4458-ad8e-c75796499a5d\")>,\n",
       " <selenium.webdriver.remote.webelement.WebElement (session=\"61acc08b432ad7246eca1c7c1978ca86\", element=\"bb2218d0-952b-4733-8377-cfb381ef3b6c\")>,\n",
       " <selenium.webdriver.remote.webelement.WebElement (session=\"61acc08b432ad7246eca1c7c1978ca86\", element=\"84fa2f4c-da18-4f23-9aa2-8cff0278523d\")>,\n",
       " <selenium.webdriver.remote.webelement.WebElement (session=\"61acc08b432ad7246eca1c7c1978ca86\", element=\"96b09a95-7c4c-4bd3-9917-93e5cb161f0c\")>,\n",
       " <selenium.webdriver.remote.webelement.WebElement (session=\"61acc08b432ad7246eca1c7c1978ca86\", element=\"f3510948-55d9-4984-bfea-341c058ade00\")>,\n",
       " <selenium.webdriver.remote.webelement.WebElement (session=\"61acc08b432ad7246eca1c7c1978ca86\", element=\"6ba7914e-7c87-4a06-a5b5-8764202450db\")>,\n",
       " <selenium.webdriver.remote.webelement.WebElement (session=\"61acc08b432ad7246eca1c7c1978ca86\", element=\"c8009e91-2ab5-4231-825a-6ba7fbd9eec9\")>,\n",
       " <selenium.webdriver.remote.webelement.WebElement (session=\"61acc08b432ad7246eca1c7c1978ca86\", element=\"c8ef4b70-950c-46e8-8bda-5a62f64e4a1c\")>,\n",
       " <selenium.webdriver.remote.webelement.WebElement (session=\"61acc08b432ad7246eca1c7c1978ca86\", element=\"4a68ce8d-9f5e-4e95-abac-09fc306f689b\")>,\n",
       " <selenium.webdriver.remote.webelement.WebElement (session=\"61acc08b432ad7246eca1c7c1978ca86\", element=\"a55de99a-9014-4847-ba05-f4f7a903ff35\")>,\n",
       " <selenium.webdriver.remote.webelement.WebElement (session=\"61acc08b432ad7246eca1c7c1978ca86\", element=\"c18e98c3-5c35-4b56-8c58-ce477a4c4e7c\")>,\n",
       " <selenium.webdriver.remote.webelement.WebElement (session=\"61acc08b432ad7246eca1c7c1978ca86\", element=\"fa00a82f-1498-4fb2-9d9d-6599a6e80d8e\")>,\n",
       " <selenium.webdriver.remote.webelement.WebElement (session=\"61acc08b432ad7246eca1c7c1978ca86\", element=\"15be7387-e240-4e33-be71-d5dc095e334d\")>,\n",
       " <selenium.webdriver.remote.webelement.WebElement (session=\"61acc08b432ad7246eca1c7c1978ca86\", element=\"981ae61d-234c-4e14-bc1d-76d78249f1ee\")>,\n",
       " <selenium.webdriver.remote.webelement.WebElement (session=\"61acc08b432ad7246eca1c7c1978ca86\", element=\"f9dab0b5-13d9-46bf-ae31-56e5f03968f1\")>,\n",
       " <selenium.webdriver.remote.webelement.WebElement (session=\"61acc08b432ad7246eca1c7c1978ca86\", element=\"e6b16d2e-cafd-4a55-80a2-25a5ae1f9387\")>,\n",
       " <selenium.webdriver.remote.webelement.WebElement (session=\"61acc08b432ad7246eca1c7c1978ca86\", element=\"72ec174f-d714-4072-a5d8-559a03108b0e\")>,\n",
       " <selenium.webdriver.remote.webelement.WebElement (session=\"61acc08b432ad7246eca1c7c1978ca86\", element=\"e6571723-c73b-4bae-956d-b64252bb3ca0\")>,\n",
       " <selenium.webdriver.remote.webelement.WebElement (session=\"61acc08b432ad7246eca1c7c1978ca86\", element=\"b520ce6f-961f-47d8-82a3-812dc4fd9f52\")>]"
      ]
     },
     "execution_count": 33,
     "metadata": {},
     "output_type": "execute_result"
    }
   ],
   "source": [
    "#so lets extract all the tags having the company names\n",
    "company_tags4=driver.find_elements_by_xpath(\"//a[@class='subTitle ellipsis fleft']\")\n",
    "company_tags4"
   ]
  },
  {
   "cell_type": "code",
   "execution_count": 34,
   "metadata": {},
   "outputs": [
    {
     "data": {
      "text/plain": [
       "['Tidyquant (OPC) Private Limited',\n",
       " 'Newgen Software Technologies',\n",
       " 'NTT Data Business Solutions Pvt Ltd',\n",
       " 'Tata Consultancy Services Ltd.',\n",
       " 'Teleperformance',\n",
       " 'Careerera',\n",
       " 'GABA Consultancy services',\n",
       " 'ApplyBoard',\n",
       " 'Whizhack Technologies pvt ltd',\n",
       " 'One Mobikwik Systems Private Limited']"
      ]
     },
     "execution_count": 34,
     "metadata": {},
     "output_type": "execute_result"
    }
   ],
   "source": [
    "#Now the text of the company name is inside the tags extracted above.\n",
    "# so we will run a loop to iterate over the tags extracted above and extract the text\n",
    "for i in company_tags4:\n",
    "    title1=i.text\n",
    "    company_names4.append(title1)\n",
    "company_names4[0:10]\n"
   ]
  },
  {
   "cell_type": "code",
   "execution_count": 41,
   "metadata": {},
   "outputs": [],
   "source": [
    "company_names5=company_names4[0:10]"
   ]
  },
  {
   "cell_type": "code",
   "execution_count": 39,
   "metadata": {},
   "outputs": [
    {
     "name": "stderr",
     "output_type": "stream",
     "text": [
      "C:\\Users\\Suncity\\anaconda3\\lib\\site-packages\\ipykernel_launcher.py:2: DeprecationWarning: find_elements_by_* commands are deprecated. Please use find_elements() instead\n",
      "  \n"
     ]
    },
    {
     "data": {
      "text/plain": [
       "[<selenium.webdriver.remote.webelement.WebElement (session=\"61acc08b432ad7246eca1c7c1978ca86\", element=\"53d66b09-8a5e-4f47-8e47-9572832e32bc\")>,\n",
       " <selenium.webdriver.remote.webelement.WebElement (session=\"61acc08b432ad7246eca1c7c1978ca86\", element=\"5d363614-3df1-4546-b711-7da1244c797e\")>,\n",
       " <selenium.webdriver.remote.webelement.WebElement (session=\"61acc08b432ad7246eca1c7c1978ca86\", element=\"28ce2cbd-c653-4c89-898e-f1233638dea9\")>,\n",
       " <selenium.webdriver.remote.webelement.WebElement (session=\"61acc08b432ad7246eca1c7c1978ca86\", element=\"c6b12df3-c681-4f6b-b725-e8d4f4606ff7\")>,\n",
       " <selenium.webdriver.remote.webelement.WebElement (session=\"61acc08b432ad7246eca1c7c1978ca86\", element=\"9c5b3dea-c47b-467c-8ae7-f58effef27e4\")>,\n",
       " <selenium.webdriver.remote.webelement.WebElement (session=\"61acc08b432ad7246eca1c7c1978ca86\", element=\"2aa3af4d-77ff-426d-841b-5f3be7034205\")>,\n",
       " <selenium.webdriver.remote.webelement.WebElement (session=\"61acc08b432ad7246eca1c7c1978ca86\", element=\"5b246be2-ed36-4a30-b79b-cfe182df1bf9\")>,\n",
       " <selenium.webdriver.remote.webelement.WebElement (session=\"61acc08b432ad7246eca1c7c1978ca86\", element=\"9675ac87-9585-424e-ac8a-8a852b65cc9d\")>,\n",
       " <selenium.webdriver.remote.webelement.WebElement (session=\"61acc08b432ad7246eca1c7c1978ca86\", element=\"29c4506d-4ba4-46ec-8b33-34eccaf7efec\")>,\n",
       " <selenium.webdriver.remote.webelement.WebElement (session=\"61acc08b432ad7246eca1c7c1978ca86\", element=\"53b72cf4-4e10-4eae-bc5b-ea15170cc1a2\")>,\n",
       " <selenium.webdriver.remote.webelement.WebElement (session=\"61acc08b432ad7246eca1c7c1978ca86\", element=\"3ab31826-2f71-4f6b-be92-8fc1732f0031\")>,\n",
       " <selenium.webdriver.remote.webelement.WebElement (session=\"61acc08b432ad7246eca1c7c1978ca86\", element=\"2340d4a0-58b6-4d09-9621-a10dba157694\")>,\n",
       " <selenium.webdriver.remote.webelement.WebElement (session=\"61acc08b432ad7246eca1c7c1978ca86\", element=\"98eb361a-45f4-401d-8171-cb3d52e7e634\")>,\n",
       " <selenium.webdriver.remote.webelement.WebElement (session=\"61acc08b432ad7246eca1c7c1978ca86\", element=\"bf2c67db-6678-49cf-945e-2bb5180dfc14\")>,\n",
       " <selenium.webdriver.remote.webelement.WebElement (session=\"61acc08b432ad7246eca1c7c1978ca86\", element=\"0f2b78e9-70f6-4cd7-a9d0-23163f3f8c6f\")>,\n",
       " <selenium.webdriver.remote.webelement.WebElement (session=\"61acc08b432ad7246eca1c7c1978ca86\", element=\"e00f8016-77c4-4134-9c57-620a4f0b7104\")>,\n",
       " <selenium.webdriver.remote.webelement.WebElement (session=\"61acc08b432ad7246eca1c7c1978ca86\", element=\"519a18fc-5a18-4aeb-8871-20e291947cbd\")>,\n",
       " <selenium.webdriver.remote.webelement.WebElement (session=\"61acc08b432ad7246eca1c7c1978ca86\", element=\"cedeac9a-825f-47d8-a246-d8e8f5025a53\")>,\n",
       " <selenium.webdriver.remote.webelement.WebElement (session=\"61acc08b432ad7246eca1c7c1978ca86\", element=\"e22a4030-37d3-46c8-863f-ee7b244b24e5\")>,\n",
       " <selenium.webdriver.remote.webelement.WebElement (session=\"61acc08b432ad7246eca1c7c1978ca86\", element=\"feef9615-fa0b-44d0-908a-51f7f9a0203a\")>]"
      ]
     },
     "execution_count": 39,
     "metadata": {},
     "output_type": "execute_result"
    }
   ],
   "source": [
    "#so lets extract all the tags having the location\n",
    "location_tags4=driver.find_elements_by_xpath(\"//li[@class='fleft grey-text br2 placeHolderLi location']\")\n",
    "location_tags4"
   ]
  },
  {
   "cell_type": "code",
   "execution_count": 40,
   "metadata": {},
   "outputs": [
    {
     "data": {
      "text/plain": [
       "['Remote',\n",
       " 'Remote',\n",
       " 'Remote',\n",
       " 'Noida',\n",
       " 'Noida, Kolkata, Hyderabad/Secunderabad, Ahmedabad, Chennai, Coimbatore, Bangalore/Bengaluru, Delhi / NCR, Mumbai (All Areas)\\n(WFH during Covid)',\n",
       " 'Hyderabad/Secunderabad, Pune, Chennai, Bangalore/Bengaluru, Delhi / NCR, Mumbai (All Areas)\\n(WFH during Covid)',\n",
       " 'Gurgaon/Gurugram, Chennai',\n",
       " 'Noida(Sector-59 Noida)',\n",
       " 'Noida, Ghaziabad, Delhi / NCR',\n",
       " 'Gurgaon/Gurugram']"
      ]
     },
     "execution_count": 40,
     "metadata": {},
     "output_type": "execute_result"
    }
   ],
   "source": [
    "#Now the text of the company name is inside the tags extracted above.\n",
    "# so we will run a loop to iterate over the tags extracted above and extract the text\n",
    "for i in location_tags4:\n",
    "    title1=i.text\n",
    "    locations_list4.append(title1)\n",
    "locations_list4[0:10]\n"
   ]
  },
  {
   "cell_type": "code",
   "execution_count": 42,
   "metadata": {},
   "outputs": [],
   "source": [
    "locations_list5=locations_list4[0:10]"
   ]
  },
  {
   "cell_type": "code",
   "execution_count": 44,
   "metadata": {},
   "outputs": [
    {
     "name": "stderr",
     "output_type": "stream",
     "text": [
      "C:\\Users\\Suncity\\anaconda3\\lib\\site-packages\\ipykernel_launcher.py:2: DeprecationWarning: find_elements_by_* commands are deprecated. Please use find_elements() instead\n",
      "  \n"
     ]
    },
    {
     "data": {
      "text/plain": [
       "[<selenium.webdriver.remote.webelement.WebElement (session=\"61acc08b432ad7246eca1c7c1978ca86\", element=\"c32a8eb2-bfea-4ccb-9075-88e824006c66\")>,\n",
       " <selenium.webdriver.remote.webelement.WebElement (session=\"61acc08b432ad7246eca1c7c1978ca86\", element=\"081130eb-aa45-4d24-b8b1-b9c10d7ffb4f\")>,\n",
       " <selenium.webdriver.remote.webelement.WebElement (session=\"61acc08b432ad7246eca1c7c1978ca86\", element=\"573bded7-2709-485d-9145-5eb084b1f09b\")>,\n",
       " <selenium.webdriver.remote.webelement.WebElement (session=\"61acc08b432ad7246eca1c7c1978ca86\", element=\"c7e7fff2-8c6a-4dc9-94de-09df604185a6\")>,\n",
       " <selenium.webdriver.remote.webelement.WebElement (session=\"61acc08b432ad7246eca1c7c1978ca86\", element=\"ef8b0d5a-3d0c-485e-b82d-3b425c0b1b44\")>,\n",
       " <selenium.webdriver.remote.webelement.WebElement (session=\"61acc08b432ad7246eca1c7c1978ca86\", element=\"40d02110-189a-44c1-8e08-3ef5975c78e1\")>,\n",
       " <selenium.webdriver.remote.webelement.WebElement (session=\"61acc08b432ad7246eca1c7c1978ca86\", element=\"c5de73d4-eb34-43de-bc4f-c09cb2bf9442\")>,\n",
       " <selenium.webdriver.remote.webelement.WebElement (session=\"61acc08b432ad7246eca1c7c1978ca86\", element=\"6c071271-6230-4948-946a-9bc0004750f4\")>,\n",
       " <selenium.webdriver.remote.webelement.WebElement (session=\"61acc08b432ad7246eca1c7c1978ca86\", element=\"a2a423f8-cee5-49c1-88a5-e2409d8fcf50\")>,\n",
       " <selenium.webdriver.remote.webelement.WebElement (session=\"61acc08b432ad7246eca1c7c1978ca86\", element=\"c9dc91b5-d7b6-46fe-8e60-dc9c2deb6525\")>,\n",
       " <selenium.webdriver.remote.webelement.WebElement (session=\"61acc08b432ad7246eca1c7c1978ca86\", element=\"9c682a1f-d69d-4ff6-b89e-a6ffe6690037\")>,\n",
       " <selenium.webdriver.remote.webelement.WebElement (session=\"61acc08b432ad7246eca1c7c1978ca86\", element=\"4f3516d1-17bc-4148-bbc0-078be53753d2\")>,\n",
       " <selenium.webdriver.remote.webelement.WebElement (session=\"61acc08b432ad7246eca1c7c1978ca86\", element=\"486bc393-fafd-4330-acdf-ff6333769080\")>,\n",
       " <selenium.webdriver.remote.webelement.WebElement (session=\"61acc08b432ad7246eca1c7c1978ca86\", element=\"02ee2ad9-2877-4d8a-8497-4cd7e3de685d\")>,\n",
       " <selenium.webdriver.remote.webelement.WebElement (session=\"61acc08b432ad7246eca1c7c1978ca86\", element=\"f469a3da-61a7-4266-b700-c5b48c02b87a\")>,\n",
       " <selenium.webdriver.remote.webelement.WebElement (session=\"61acc08b432ad7246eca1c7c1978ca86\", element=\"8ac1d032-a325-478f-8634-030f1bcfefbc\")>,\n",
       " <selenium.webdriver.remote.webelement.WebElement (session=\"61acc08b432ad7246eca1c7c1978ca86\", element=\"d52043ba-619c-412c-a228-7b22273b5193\")>,\n",
       " <selenium.webdriver.remote.webelement.WebElement (session=\"61acc08b432ad7246eca1c7c1978ca86\", element=\"f780a3c5-e5f9-4681-9ee8-9699dca03f98\")>,\n",
       " <selenium.webdriver.remote.webelement.WebElement (session=\"61acc08b432ad7246eca1c7c1978ca86\", element=\"d54a11e5-f92f-4ad9-ab31-95a59981d998\")>,\n",
       " <selenium.webdriver.remote.webelement.WebElement (session=\"61acc08b432ad7246eca1c7c1978ca86\", element=\"f2dea401-d699-4a87-8c31-2e22545bf2cb\")>]"
      ]
     },
     "execution_count": 44,
     "metadata": {},
     "output_type": "execute_result"
    }
   ],
   "source": [
    "#so lets extract all the tags having the location\n",
    "experience_tags4=driver.find_elements_by_xpath(\"//li[@class='fleft grey-text br2 placeHolderLi experience']\")\n",
    "experience_tags4"
   ]
  },
  {
   "cell_type": "code",
   "execution_count": 45,
   "metadata": {},
   "outputs": [
    {
     "data": {
      "text/plain": [
       "['1-5 Yrs',\n",
       " '2-5 Yrs',\n",
       " '3-8 Yrs',\n",
       " '4-9 Yrs',\n",
       " '4-9 Yrs',\n",
       " '1-3 Yrs',\n",
       " '0-0 Yrs',\n",
       " '3-7 Yrs',\n",
       " '2-5 Yrs',\n",
       " '2-5 Yrs']"
      ]
     },
     "execution_count": 45,
     "metadata": {},
     "output_type": "execute_result"
    }
   ],
   "source": [
    "#Now the text of the experience is inside the tags extracted above.\n",
    "# so we will run a loop to iterate over the tags extracted above and extract the text\n",
    "for i in experience_tags4:\n",
    "    title1=i.text\n",
    "    experience_list4.append(title1)\n",
    "experience_list4[0:10]"
   ]
  },
  {
   "cell_type": "code",
   "execution_count": 46,
   "metadata": {},
   "outputs": [],
   "source": [
    "experience_list5=experience_list4[0:10]"
   ]
  },
  {
   "cell_type": "code",
   "execution_count": 47,
   "metadata": {},
   "outputs": [],
   "source": [
    "df= pd.DataFrame()\n",
    "df['job_titles']=job_titles5\n",
    "df['company_names']=company_names5\n",
    "df['locations_list']=locations_list5\n",
    "df['experience_list']=experience_list5"
   ]
  },
  {
   "cell_type": "code",
   "execution_count": 48,
   "metadata": {},
   "outputs": [
    {
     "data": {
      "text/html": [
       "<div>\n",
       "<style scoped>\n",
       "    .dataframe tbody tr th:only-of-type {\n",
       "        vertical-align: middle;\n",
       "    }\n",
       "\n",
       "    .dataframe tbody tr th {\n",
       "        vertical-align: top;\n",
       "    }\n",
       "\n",
       "    .dataframe thead th {\n",
       "        text-align: right;\n",
       "    }\n",
       "</style>\n",
       "<table border=\"1\" class=\"dataframe\">\n",
       "  <thead>\n",
       "    <tr style=\"text-align: right;\">\n",
       "      <th></th>\n",
       "      <th>job_titles</th>\n",
       "      <th>company_names</th>\n",
       "      <th>locations_list</th>\n",
       "      <th>experience_list</th>\n",
       "    </tr>\n",
       "  </thead>\n",
       "  <tbody>\n",
       "    <tr>\n",
       "      <th>0</th>\n",
       "      <td>Project Manager | Team Leader | Senior Data Sc...</td>\n",
       "      <td>Tidyquant (OPC) Private Limited</td>\n",
       "      <td>Remote</td>\n",
       "      <td>1-5 Yrs</td>\n",
       "    </tr>\n",
       "    <tr>\n",
       "      <th>1</th>\n",
       "      <td>Data Scientist/ Senior Data Scientist</td>\n",
       "      <td>Newgen Software Technologies</td>\n",
       "      <td>Remote</td>\n",
       "      <td>2-5 Yrs</td>\n",
       "    </tr>\n",
       "    <tr>\n",
       "      <th>2</th>\n",
       "      <td>NTT DATA_ Hiring For BIG DATA ,DATA Scientist,...</td>\n",
       "      <td>NTT Data Business Solutions Pvt Ltd</td>\n",
       "      <td>Remote</td>\n",
       "      <td>3-8 Yrs</td>\n",
       "    </tr>\n",
       "    <tr>\n",
       "      <th>3</th>\n",
       "      <td>Hiring For Data Scientist</td>\n",
       "      <td>Tata Consultancy Services Ltd.</td>\n",
       "      <td>Noida</td>\n",
       "      <td>4-9 Yrs</td>\n",
       "    </tr>\n",
       "    <tr>\n",
       "      <th>4</th>\n",
       "      <td>Data Scientist</td>\n",
       "      <td>Teleperformance</td>\n",
       "      <td>Noida, Kolkata, Hyderabad/Secunderabad, Ahmeda...</td>\n",
       "      <td>4-9 Yrs</td>\n",
       "    </tr>\n",
       "    <tr>\n",
       "      <th>5</th>\n",
       "      <td>Hiring For Data Analyst / Data Scientist</td>\n",
       "      <td>Careerera</td>\n",
       "      <td>Hyderabad/Secunderabad, Pune, Chennai, Bangalo...</td>\n",
       "      <td>1-3 Yrs</td>\n",
       "    </tr>\n",
       "    <tr>\n",
       "      <th>6</th>\n",
       "      <td>Data Analyst / Data Scientist / Business Analy...</td>\n",
       "      <td>GABA Consultancy services</td>\n",
       "      <td>Gurgaon/Gurugram, Chennai</td>\n",
       "      <td>0-0 Yrs</td>\n",
       "    </tr>\n",
       "    <tr>\n",
       "      <th>7</th>\n",
       "      <td>Data Scientist</td>\n",
       "      <td>ApplyBoard</td>\n",
       "      <td>Noida(Sector-59 Noida)</td>\n",
       "      <td>3-7 Yrs</td>\n",
       "    </tr>\n",
       "    <tr>\n",
       "      <th>8</th>\n",
       "      <td>Data Scientist</td>\n",
       "      <td>Whizhack Technologies pvt ltd</td>\n",
       "      <td>Noida, Ghaziabad, Delhi / NCR</td>\n",
       "      <td>2-5 Yrs</td>\n",
       "    </tr>\n",
       "    <tr>\n",
       "      <th>9</th>\n",
       "      <td>Data Scientist</td>\n",
       "      <td>One Mobikwik Systems Private Limited</td>\n",
       "      <td>Gurgaon/Gurugram</td>\n",
       "      <td>2-5 Yrs</td>\n",
       "    </tr>\n",
       "  </tbody>\n",
       "</table>\n",
       "</div>"
      ],
      "text/plain": [
       "                                          job_titles  \\\n",
       "0  Project Manager | Team Leader | Senior Data Sc...   \n",
       "1              Data Scientist/ Senior Data Scientist   \n",
       "2  NTT DATA_ Hiring For BIG DATA ,DATA Scientist,...   \n",
       "3                          Hiring For Data Scientist   \n",
       "4                                     Data Scientist   \n",
       "5           Hiring For Data Analyst / Data Scientist   \n",
       "6  Data Analyst / Data Scientist / Business Analy...   \n",
       "7                                     Data Scientist   \n",
       "8                                     Data Scientist   \n",
       "9                                     Data Scientist   \n",
       "\n",
       "                          company_names  \\\n",
       "0       Tidyquant (OPC) Private Limited   \n",
       "1          Newgen Software Technologies   \n",
       "2   NTT Data Business Solutions Pvt Ltd   \n",
       "3        Tata Consultancy Services Ltd.   \n",
       "4                       Teleperformance   \n",
       "5                             Careerera   \n",
       "6             GABA Consultancy services   \n",
       "7                            ApplyBoard   \n",
       "8         Whizhack Technologies pvt ltd   \n",
       "9  One Mobikwik Systems Private Limited   \n",
       "\n",
       "                                      locations_list experience_list  \n",
       "0                                             Remote         1-5 Yrs  \n",
       "1                                             Remote         2-5 Yrs  \n",
       "2                                             Remote         3-8 Yrs  \n",
       "3                                              Noida         4-9 Yrs  \n",
       "4  Noida, Kolkata, Hyderabad/Secunderabad, Ahmeda...         4-9 Yrs  \n",
       "5  Hyderabad/Secunderabad, Pune, Chennai, Bangalo...         1-3 Yrs  \n",
       "6                          Gurgaon/Gurugram, Chennai         0-0 Yrs  \n",
       "7                             Noida(Sector-59 Noida)         3-7 Yrs  \n",
       "8                      Noida, Ghaziabad, Delhi / NCR         2-5 Yrs  \n",
       "9                                   Gurgaon/Gurugram         2-5 Yrs  "
      ]
     },
     "execution_count": 48,
     "metadata": {},
     "output_type": "execute_result"
    }
   ],
   "source": [
    "df"
   ]
  },
  {
   "cell_type": "markdown",
   "metadata": {},
   "source": [
    "Q4.Scrape data of first 100 sunglasses listings on flipkart.com. You have to scrape four attributes.\n",
    "1. Brand\n",
    "2. Product Description\n",
    "3. Price"
   ]
  },
  {
   "cell_type": "code",
   "execution_count": 88,
   "metadata": {},
   "outputs": [],
   "source": [
    "driver.get(\"https://www.flipkart.com/\")"
   ]
  },
  {
   "cell_type": "code",
   "execution_count": 89,
   "metadata": {},
   "outputs": [
    {
     "name": "stderr",
     "output_type": "stream",
     "text": [
      "C:\\Users\\Suncity\\anaconda3\\lib\\site-packages\\ipykernel_launcher.py:2: DeprecationWarning: find_element_by_* commands are deprecated. Please use find_element() instead\n",
      "  \n"
     ]
    }
   ],
   "source": [
    "#finding element for job search bar\n",
    "search1=driver.find_element_by_name('q')\n",
    "search1.send_keys(\"Sunglasses\")"
   ]
  },
  {
   "cell_type": "code",
   "execution_count": 92,
   "metadata": {},
   "outputs": [
    {
     "name": "stderr",
     "output_type": "stream",
     "text": [
      "C:\\Users\\Suncity\\anaconda3\\lib\\site-packages\\ipykernel_launcher.py:1: DeprecationWarning: find_element_by_* commands are deprecated. Please use find_element() instead\n",
      "  \"\"\"Entry point for launching an IPython kernel.\n"
     ]
    }
   ],
   "source": [
    "search_btn=driver.find_element_by_xpath(\"//button[@class='L0Z3Pu']\")\n",
    "search_btn.click()"
   ]
  },
  {
   "cell_type": "code",
   "execution_count": 93,
   "metadata": {},
   "outputs": [
    {
     "name": "stderr",
     "output_type": "stream",
     "text": [
      "C:\\Users\\Suncity\\anaconda3\\lib\\site-packages\\ipykernel_launcher.py:1: DeprecationWarning: find_elements_by_* commands are deprecated. Please use find_elements() instead\n",
      "  \"\"\"Entry point for launching an IPython kernel.\n"
     ]
    },
    {
     "data": {
      "text/plain": [
       "[<selenium.webdriver.remote.webelement.WebElement (session=\"ff5da397e798f9f7069b2e67ef00c8f5\", element=\"7ee26dbd-af5f-41ad-a76e-8342ec6ec189\")>,\n",
       " <selenium.webdriver.remote.webelement.WebElement (session=\"ff5da397e798f9f7069b2e67ef00c8f5\", element=\"794ea4e1-dd92-4293-8adb-3b19ce2e9497\")>,\n",
       " <selenium.webdriver.remote.webelement.WebElement (session=\"ff5da397e798f9f7069b2e67ef00c8f5\", element=\"7009c032-6e21-44bb-aa3e-01456bd23688\")>,\n",
       " <selenium.webdriver.remote.webelement.WebElement (session=\"ff5da397e798f9f7069b2e67ef00c8f5\", element=\"5dae1183-f967-4dbf-9ca7-496aca63f865\")>,\n",
       " <selenium.webdriver.remote.webelement.WebElement (session=\"ff5da397e798f9f7069b2e67ef00c8f5\", element=\"f39886f1-f94b-4c6b-814c-2e17b4d9ce60\")>,\n",
       " <selenium.webdriver.remote.webelement.WebElement (session=\"ff5da397e798f9f7069b2e67ef00c8f5\", element=\"d0b88da3-bc2a-42ba-9480-fca17274683c\")>,\n",
       " <selenium.webdriver.remote.webelement.WebElement (session=\"ff5da397e798f9f7069b2e67ef00c8f5\", element=\"94eabc30-6685-4052-ba60-80c0508d9bc0\")>,\n",
       " <selenium.webdriver.remote.webelement.WebElement (session=\"ff5da397e798f9f7069b2e67ef00c8f5\", element=\"70393315-98e5-4d5f-af7c-aaa1eb4b19c0\")>,\n",
       " <selenium.webdriver.remote.webelement.WebElement (session=\"ff5da397e798f9f7069b2e67ef00c8f5\", element=\"baea3450-526c-44b1-809c-b5e26bea2ecf\")>,\n",
       " <selenium.webdriver.remote.webelement.WebElement (session=\"ff5da397e798f9f7069b2e67ef00c8f5\", element=\"ecee833a-4531-468c-83fb-246b6ef5e27f\")>,\n",
       " <selenium.webdriver.remote.webelement.WebElement (session=\"ff5da397e798f9f7069b2e67ef00c8f5\", element=\"fed6d6a0-91a1-4d33-98c6-1f26f2e0759e\")>,\n",
       " <selenium.webdriver.remote.webelement.WebElement (session=\"ff5da397e798f9f7069b2e67ef00c8f5\", element=\"9062232f-9600-4bce-b326-84a73f55ac6f\")>,\n",
       " <selenium.webdriver.remote.webelement.WebElement (session=\"ff5da397e798f9f7069b2e67ef00c8f5\", element=\"d3c6ed76-3c16-4e72-b242-52b3e085ef79\")>,\n",
       " <selenium.webdriver.remote.webelement.WebElement (session=\"ff5da397e798f9f7069b2e67ef00c8f5\", element=\"debbcb31-528b-48cd-8cc4-90557cb367aa\")>,\n",
       " <selenium.webdriver.remote.webelement.WebElement (session=\"ff5da397e798f9f7069b2e67ef00c8f5\", element=\"c1b7abf2-fa40-49ea-8109-decf55ba2009\")>,\n",
       " <selenium.webdriver.remote.webelement.WebElement (session=\"ff5da397e798f9f7069b2e67ef00c8f5\", element=\"3c56b53a-b65f-47c5-b8d8-1daee95634bc\")>,\n",
       " <selenium.webdriver.remote.webelement.WebElement (session=\"ff5da397e798f9f7069b2e67ef00c8f5\", element=\"a6e529f3-2fa9-4cc6-a945-39121c544c41\")>,\n",
       " <selenium.webdriver.remote.webelement.WebElement (session=\"ff5da397e798f9f7069b2e67ef00c8f5\", element=\"81817e19-8638-4e0a-89f8-cd3ee69a1113\")>,\n",
       " <selenium.webdriver.remote.webelement.WebElement (session=\"ff5da397e798f9f7069b2e67ef00c8f5\", element=\"f24beba5-60d5-40f2-af6a-d31854222968\")>,\n",
       " <selenium.webdriver.remote.webelement.WebElement (session=\"ff5da397e798f9f7069b2e67ef00c8f5\", element=\"f6555f28-036f-445c-a8fd-cb3be91f069b\")>,\n",
       " <selenium.webdriver.remote.webelement.WebElement (session=\"ff5da397e798f9f7069b2e67ef00c8f5\", element=\"5e1f4e5e-bb18-4936-9df6-84265fbf599f\")>,\n",
       " <selenium.webdriver.remote.webelement.WebElement (session=\"ff5da397e798f9f7069b2e67ef00c8f5\", element=\"b969931e-a770-4be6-8b3e-87c99f7351af\")>,\n",
       " <selenium.webdriver.remote.webelement.WebElement (session=\"ff5da397e798f9f7069b2e67ef00c8f5\", element=\"2a1335d8-01ca-45f2-b21d-5377657949d3\")>,\n",
       " <selenium.webdriver.remote.webelement.WebElement (session=\"ff5da397e798f9f7069b2e67ef00c8f5\", element=\"4216e198-e644-4f94-9a77-1bb4dc6f2f6b\")>,\n",
       " <selenium.webdriver.remote.webelement.WebElement (session=\"ff5da397e798f9f7069b2e67ef00c8f5\", element=\"e41608ff-687f-4b36-9ac3-5209d2580d54\")>,\n",
       " <selenium.webdriver.remote.webelement.WebElement (session=\"ff5da397e798f9f7069b2e67ef00c8f5\", element=\"5d3cba60-27cf-4ab7-9cd4-9abe837fb167\")>,\n",
       " <selenium.webdriver.remote.webelement.WebElement (session=\"ff5da397e798f9f7069b2e67ef00c8f5\", element=\"b63abacb-6bef-4738-a25d-bb68c9bef716\")>,\n",
       " <selenium.webdriver.remote.webelement.WebElement (session=\"ff5da397e798f9f7069b2e67ef00c8f5\", element=\"e8887557-9f6a-4c4a-8143-86a78224aae8\")>,\n",
       " <selenium.webdriver.remote.webelement.WebElement (session=\"ff5da397e798f9f7069b2e67ef00c8f5\", element=\"ba1ef654-b2ca-4a58-8e4b-e8a1da9a50aa\")>,\n",
       " <selenium.webdriver.remote.webelement.WebElement (session=\"ff5da397e798f9f7069b2e67ef00c8f5\", element=\"67216e95-2efd-4e17-a9c5-934147786856\")>,\n",
       " <selenium.webdriver.remote.webelement.WebElement (session=\"ff5da397e798f9f7069b2e67ef00c8f5\", element=\"a0ca9efe-825c-4fe1-8687-2b9487ced37f\")>,\n",
       " <selenium.webdriver.remote.webelement.WebElement (session=\"ff5da397e798f9f7069b2e67ef00c8f5\", element=\"470f10a0-2370-4417-b1eb-298b766f9f15\")>,\n",
       " <selenium.webdriver.remote.webelement.WebElement (session=\"ff5da397e798f9f7069b2e67ef00c8f5\", element=\"20a80e03-0852-4a23-92cd-cff53ebb09a5\")>,\n",
       " <selenium.webdriver.remote.webelement.WebElement (session=\"ff5da397e798f9f7069b2e67ef00c8f5\", element=\"bee03765-c571-43b5-beb7-4f24c8f25b70\")>,\n",
       " <selenium.webdriver.remote.webelement.WebElement (session=\"ff5da397e798f9f7069b2e67ef00c8f5\", element=\"414c0c04-a37a-4b2c-a766-1c20125d13bb\")>,\n",
       " <selenium.webdriver.remote.webelement.WebElement (session=\"ff5da397e798f9f7069b2e67ef00c8f5\", element=\"007dbfeb-e769-42a0-8874-4fd2df35d6f6\")>,\n",
       " <selenium.webdriver.remote.webelement.WebElement (session=\"ff5da397e798f9f7069b2e67ef00c8f5\", element=\"04b8f473-33b5-411b-9f3d-a0aa69595be9\")>,\n",
       " <selenium.webdriver.remote.webelement.WebElement (session=\"ff5da397e798f9f7069b2e67ef00c8f5\", element=\"62b36e0d-ddb5-437e-bd12-84768389d994\")>,\n",
       " <selenium.webdriver.remote.webelement.WebElement (session=\"ff5da397e798f9f7069b2e67ef00c8f5\", element=\"5b4f1aaf-9e3d-4835-af1f-1f0c81b29b92\")>,\n",
       " <selenium.webdriver.remote.webelement.WebElement (session=\"ff5da397e798f9f7069b2e67ef00c8f5\", element=\"1156f7d3-93e9-4467-9b06-65fc2e647ecc\")>]"
      ]
     },
     "execution_count": 93,
     "metadata": {},
     "output_type": "execute_result"
    }
   ],
   "source": [
    "brand=driver.find_elements_by_xpath(\"//div[@class='_2WkVRV']\")\n",
    "brand"
   ]
  },
  {
   "cell_type": "code",
   "execution_count": 94,
   "metadata": {},
   "outputs": [],
   "source": [
    "Brands=[]\n",
    "Product_Description=[]\n",
    "Price=[]"
   ]
  },
  {
   "cell_type": "code",
   "execution_count": 95,
   "metadata": {},
   "outputs": [
    {
     "data": {
      "text/plain": [
       "['ROZZETTA CRAFT',\n",
       " 'ROZZETTA CRAFT',\n",
       " 'SRPM',\n",
       " 'Elligator',\n",
       " 'PIRASO',\n",
       " 'PIRASO',\n",
       " 'Fastrack',\n",
       " 'ROZZETTA CRAFT',\n",
       " 'Fastrack',\n",
       " 'SHAAH COLLECTIONS',\n",
       " 'kingsunglasses',\n",
       " 'ROYAL SON',\n",
       " 'SHAAH COLLECTIONS',\n",
       " 'New Specs',\n",
       " 'PIRASO',\n",
       " 'FARENHEIT',\n",
       " 'ROZZETTA CRAFT',\n",
       " 'ROZZETTA CRAFT',\n",
       " 'kingsunglasses',\n",
       " 'ROYAL SON',\n",
       " 'hipe',\n",
       " 'kingsunglasses',\n",
       " 'ROYAL SON',\n",
       " 'FARENHEIT',\n",
       " 'PIRASO',\n",
       " 'PHENOMENAL',\n",
       " 'PIRASO',\n",
       " 'ROYAL SON',\n",
       " 'PHENOMENAL',\n",
       " 'Rich Club',\n",
       " 'PIRASO',\n",
       " 'ROYAL SON',\n",
       " 'SHAAH COLLECTIONS',\n",
       " 'New Specs',\n",
       " 'PHENOMENAL',\n",
       " 'ROYAL SON',\n",
       " 'ROYAL SON',\n",
       " 'kingsunglasses',\n",
       " 'SUNBEE',\n",
       " 'ROYAL SON']"
      ]
     },
     "execution_count": 95,
     "metadata": {},
     "output_type": "execute_result"
    }
   ],
   "source": [
    "for i in brand:\n",
    "    br= i.text\n",
    "    Brands.append(br)\n",
    "Brands"
   ]
  },
  {
   "cell_type": "code",
   "execution_count": 96,
   "metadata": {},
   "outputs": [
    {
     "name": "stderr",
     "output_type": "stream",
     "text": [
      "C:\\Users\\Suncity\\anaconda3\\lib\\site-packages\\ipykernel_launcher.py:1: DeprecationWarning: find_elements_by_* commands are deprecated. Please use find_elements() instead\n",
      "  \"\"\"Entry point for launching an IPython kernel.\n"
     ]
    },
    {
     "data": {
      "text/plain": [
       "[<selenium.webdriver.remote.webelement.WebElement (session=\"ff5da397e798f9f7069b2e67ef00c8f5\", element=\"2653ec12-a27f-4ba7-8b5c-493c0a6dad97\")>,\n",
       " <selenium.webdriver.remote.webelement.WebElement (session=\"ff5da397e798f9f7069b2e67ef00c8f5\", element=\"e573e0a3-9867-47a6-8e2b-8e931655a008\")>,\n",
       " <selenium.webdriver.remote.webelement.WebElement (session=\"ff5da397e798f9f7069b2e67ef00c8f5\", element=\"448e730e-0c8a-4c18-999b-5670ef60acff\")>,\n",
       " <selenium.webdriver.remote.webelement.WebElement (session=\"ff5da397e798f9f7069b2e67ef00c8f5\", element=\"55325831-1ff1-4337-a96f-6a715cbd5cd8\")>,\n",
       " <selenium.webdriver.remote.webelement.WebElement (session=\"ff5da397e798f9f7069b2e67ef00c8f5\", element=\"e2ee2b50-87fc-4a84-a728-bfdbe82cf619\")>,\n",
       " <selenium.webdriver.remote.webelement.WebElement (session=\"ff5da397e798f9f7069b2e67ef00c8f5\", element=\"9757bb1e-959c-4807-ac5c-6d63ac45730f\")>,\n",
       " <selenium.webdriver.remote.webelement.WebElement (session=\"ff5da397e798f9f7069b2e67ef00c8f5\", element=\"9db72de3-0ea2-4863-b9a7-d68bc2c18c88\")>,\n",
       " <selenium.webdriver.remote.webelement.WebElement (session=\"ff5da397e798f9f7069b2e67ef00c8f5\", element=\"fbe024d6-408c-4b0b-9f09-7e3643a8ca37\")>,\n",
       " <selenium.webdriver.remote.webelement.WebElement (session=\"ff5da397e798f9f7069b2e67ef00c8f5\", element=\"96243a56-e4ae-4c28-bf10-19bc6a451ea2\")>,\n",
       " <selenium.webdriver.remote.webelement.WebElement (session=\"ff5da397e798f9f7069b2e67ef00c8f5\", element=\"9ec5127d-951d-4a76-8d2c-35e8c2b9448c\")>,\n",
       " <selenium.webdriver.remote.webelement.WebElement (session=\"ff5da397e798f9f7069b2e67ef00c8f5\", element=\"dc9d8007-ed58-4ade-ad5f-dc3ad9990c78\")>,\n",
       " <selenium.webdriver.remote.webelement.WebElement (session=\"ff5da397e798f9f7069b2e67ef00c8f5\", element=\"cf9a5f50-e2da-4f14-84db-15fa4f3bb28e\")>,\n",
       " <selenium.webdriver.remote.webelement.WebElement (session=\"ff5da397e798f9f7069b2e67ef00c8f5\", element=\"cce3ee88-e22a-4466-b55b-adaa73897898\")>,\n",
       " <selenium.webdriver.remote.webelement.WebElement (session=\"ff5da397e798f9f7069b2e67ef00c8f5\", element=\"6e2c4676-1958-43c5-8388-24b5ce1760c1\")>,\n",
       " <selenium.webdriver.remote.webelement.WebElement (session=\"ff5da397e798f9f7069b2e67ef00c8f5\", element=\"35f29989-b42c-4a22-b622-4b93abeb9ac2\")>,\n",
       " <selenium.webdriver.remote.webelement.WebElement (session=\"ff5da397e798f9f7069b2e67ef00c8f5\", element=\"dbc5618a-367a-43a5-a34e-0c48e4856e33\")>,\n",
       " <selenium.webdriver.remote.webelement.WebElement (session=\"ff5da397e798f9f7069b2e67ef00c8f5\", element=\"564433b5-e120-4c3a-80a0-6964d89e3d37\")>,\n",
       " <selenium.webdriver.remote.webelement.WebElement (session=\"ff5da397e798f9f7069b2e67ef00c8f5\", element=\"bc9ae505-3572-4fc7-88cf-662358056ac7\")>,\n",
       " <selenium.webdriver.remote.webelement.WebElement (session=\"ff5da397e798f9f7069b2e67ef00c8f5\", element=\"0fa1e004-f21a-4e08-8ed5-0b026cecca12\")>,\n",
       " <selenium.webdriver.remote.webelement.WebElement (session=\"ff5da397e798f9f7069b2e67ef00c8f5\", element=\"af07b9eb-be61-4968-9bdb-1a397a60d51f\")>,\n",
       " <selenium.webdriver.remote.webelement.WebElement (session=\"ff5da397e798f9f7069b2e67ef00c8f5\", element=\"532ec3c5-1cbc-4188-8083-a070bec5fca7\")>,\n",
       " <selenium.webdriver.remote.webelement.WebElement (session=\"ff5da397e798f9f7069b2e67ef00c8f5\", element=\"541d9af7-26ec-49eb-8769-db73e6a6436b\")>,\n",
       " <selenium.webdriver.remote.webelement.WebElement (session=\"ff5da397e798f9f7069b2e67ef00c8f5\", element=\"7501ce04-52fe-4836-b794-03e67229e869\")>,\n",
       " <selenium.webdriver.remote.webelement.WebElement (session=\"ff5da397e798f9f7069b2e67ef00c8f5\", element=\"4d30e55c-9a8b-4533-bb4e-08384d95c57c\")>,\n",
       " <selenium.webdriver.remote.webelement.WebElement (session=\"ff5da397e798f9f7069b2e67ef00c8f5\", element=\"02bd8fa7-9e00-488f-881c-25b9af3da8d0\")>,\n",
       " <selenium.webdriver.remote.webelement.WebElement (session=\"ff5da397e798f9f7069b2e67ef00c8f5\", element=\"67a40102-2a10-4b32-ab63-c5cde17cc038\")>,\n",
       " <selenium.webdriver.remote.webelement.WebElement (session=\"ff5da397e798f9f7069b2e67ef00c8f5\", element=\"2d8b21b7-c0e1-4eb4-866e-c3c0951958ed\")>,\n",
       " <selenium.webdriver.remote.webelement.WebElement (session=\"ff5da397e798f9f7069b2e67ef00c8f5\", element=\"481e5263-2f69-42be-8e02-80ebf5d455ef\")>,\n",
       " <selenium.webdriver.remote.webelement.WebElement (session=\"ff5da397e798f9f7069b2e67ef00c8f5\", element=\"07b66f52-36ad-415e-8bdd-40ef9c585b2f\")>,\n",
       " <selenium.webdriver.remote.webelement.WebElement (session=\"ff5da397e798f9f7069b2e67ef00c8f5\", element=\"b89e9e68-b25d-4001-90bd-299cac2fa8be\")>,\n",
       " <selenium.webdriver.remote.webelement.WebElement (session=\"ff5da397e798f9f7069b2e67ef00c8f5\", element=\"797dc855-4922-4c70-a81e-add14c43ff1d\")>,\n",
       " <selenium.webdriver.remote.webelement.WebElement (session=\"ff5da397e798f9f7069b2e67ef00c8f5\", element=\"f32f07e8-9875-451d-bad1-e9975abf3b2b\")>,\n",
       " <selenium.webdriver.remote.webelement.WebElement (session=\"ff5da397e798f9f7069b2e67ef00c8f5\", element=\"d469daf4-09ba-492e-b587-5a3436e2f959\")>,\n",
       " <selenium.webdriver.remote.webelement.WebElement (session=\"ff5da397e798f9f7069b2e67ef00c8f5\", element=\"1659761d-b5d0-4bbe-88db-51d2e19fbff5\")>,\n",
       " <selenium.webdriver.remote.webelement.WebElement (session=\"ff5da397e798f9f7069b2e67ef00c8f5\", element=\"2bf14799-222a-448e-825c-624d8d5eff27\")>,\n",
       " <selenium.webdriver.remote.webelement.WebElement (session=\"ff5da397e798f9f7069b2e67ef00c8f5\", element=\"886fede2-7e8e-4a6d-b888-29b73194abe8\")>,\n",
       " <selenium.webdriver.remote.webelement.WebElement (session=\"ff5da397e798f9f7069b2e67ef00c8f5\", element=\"71df5b86-2f47-4f24-8efe-794a93cf7592\")>,\n",
       " <selenium.webdriver.remote.webelement.WebElement (session=\"ff5da397e798f9f7069b2e67ef00c8f5\", element=\"78a24094-a0ae-4d21-ae2f-259f38eb6b4e\")>]"
      ]
     },
     "execution_count": 96,
     "metadata": {},
     "output_type": "execute_result"
    }
   ],
   "source": [
    "product=driver.find_elements_by_xpath(\"//a[@class='IRpwTa']\")\n",
    "product"
   ]
  },
  {
   "cell_type": "code",
   "execution_count": 97,
   "metadata": {},
   "outputs": [
    {
     "data": {
      "text/plain": [
       "['Polarized, Night Vision, Riding Glasses Sports, Wrap-ar...',\n",
       " 'Polarized, Night Vision, Riding Glasses Sports, Wrap-ar...',\n",
       " 'UV Protection Wayfarer Sunglasses (56)',\n",
       " 'UV Protection Round Sunglasses (54)',\n",
       " 'UV Protection Aviator Sunglasses (54)',\n",
       " 'UV Protection Aviator Sunglasses (54)',\n",
       " 'UV Protection Rectangular Sunglasses (Free Size)',\n",
       " 'Toughened Glass Lens Wayfarer Sunglasses (Free Size)',\n",
       " 'UV Protection Wayfarer Sunglasses (Free Size)',\n",
       " 'UV Protection, Polarized, Mirrored Rectangular Sunglass...',\n",
       " 'Mirrored, UV Protection Wayfarer Sunglasses (53)',\n",
       " 'UV Protection Over-sized Sunglasses (65)',\n",
       " 'UV Protection, Polarized, Mirrored Rectangular Sunglass...',\n",
       " 'UV Protection Rectangular Sunglasses (Free Size)',\n",
       " 'UV Protection Aviator Sunglasses (58)',\n",
       " 'UV Protection Retro Square Sunglasses (Free Size)',\n",
       " 'UV Protection, Gradient Rectangular Sunglasses (Free Si...',\n",
       " 'UV Protection, Riding Glasses, Mirrored Wayfarer Sungla...',\n",
       " 'Gradient, UV Protection Cat-eye, Over-sized Sunglasses ...',\n",
       " 'UV Protection Sports Sunglasses (Free Size)',\n",
       " 'UV Protection Round Sunglasses (54)',\n",
       " 'Mirrored Aviator Sunglasses (55)',\n",
       " 'UV Protection Retro Square Sunglasses (60)',\n",
       " 'UV Protection Aviator Sunglasses (54)',\n",
       " 'UV Protection, Mirrored Retro Square Sunglasses (53)',\n",
       " 'UV Protection Wayfarer Sunglasses (32)',\n",
       " 'Polarized, UV Protection Round Sunglasses (52)',\n",
       " 'UV Protection Retro Square Sunglasses (Free Size)',\n",
       " 'Polarized Round Sunglasses (48)',\n",
       " 'UV Protection Aviator Sunglasses (55)',\n",
       " 'UV Protection Round Sunglasses (Free Size)',\n",
       " 'Mirrored, UV Protection, Riding Glasses, Others Round S...',\n",
       " 'UV Protection, Mirrored Round Sunglasses (Free Size)',\n",
       " 'Polarized, UV Protection, Gradient Over-sized, Butterfl...',\n",
       " 'UV Protection Rectangular Sunglasses (58)',\n",
       " 'Mirrored, UV Protection Wayfarer Sunglasses (Free Size)',\n",
       " 'UV Protection, Polarized, Mirrored Round Sunglasses (Fr...',\n",
       " 'UV Protection Retro Square Sunglasses (54)']"
      ]
     },
     "execution_count": 97,
     "metadata": {},
     "output_type": "execute_result"
    }
   ],
   "source": [
    "for i in product:\n",
    "    pr=i.text\n",
    "    Product_Description.append(pr)\n",
    "Product_Description"
   ]
  },
  {
   "cell_type": "code",
   "execution_count": 98,
   "metadata": {},
   "outputs": [
    {
     "name": "stderr",
     "output_type": "stream",
     "text": [
      "C:\\Users\\Suncity\\anaconda3\\lib\\site-packages\\ipykernel_launcher.py:1: DeprecationWarning: find_elements_by_* commands are deprecated. Please use find_elements() instead\n",
      "  \"\"\"Entry point for launching an IPython kernel.\n"
     ]
    },
    {
     "data": {
      "text/plain": [
       "[<selenium.webdriver.remote.webelement.WebElement (session=\"ff5da397e798f9f7069b2e67ef00c8f5\", element=\"6677e374-9d8b-459c-bbd9-b6a7c91f79e3\")>,\n",
       " <selenium.webdriver.remote.webelement.WebElement (session=\"ff5da397e798f9f7069b2e67ef00c8f5\", element=\"8a31fb51-8a4e-4eb3-afdd-bc4f06491846\")>,\n",
       " <selenium.webdriver.remote.webelement.WebElement (session=\"ff5da397e798f9f7069b2e67ef00c8f5\", element=\"d233a804-f54e-4bb3-8054-a8191925ce1b\")>,\n",
       " <selenium.webdriver.remote.webelement.WebElement (session=\"ff5da397e798f9f7069b2e67ef00c8f5\", element=\"f59a99df-6eb0-45ac-9ac0-1ae88d7e731b\")>,\n",
       " <selenium.webdriver.remote.webelement.WebElement (session=\"ff5da397e798f9f7069b2e67ef00c8f5\", element=\"9c0b3064-43d5-4ef2-a2c6-bf0def8d1dc8\")>,\n",
       " <selenium.webdriver.remote.webelement.WebElement (session=\"ff5da397e798f9f7069b2e67ef00c8f5\", element=\"44da3996-15a2-4ef8-86b5-859cf8cee2c8\")>,\n",
       " <selenium.webdriver.remote.webelement.WebElement (session=\"ff5da397e798f9f7069b2e67ef00c8f5\", element=\"994d9f35-8f8f-41f1-95df-184ab32da4be\")>,\n",
       " <selenium.webdriver.remote.webelement.WebElement (session=\"ff5da397e798f9f7069b2e67ef00c8f5\", element=\"c6f2208d-c523-4b44-94d7-373c2eab835b\")>,\n",
       " <selenium.webdriver.remote.webelement.WebElement (session=\"ff5da397e798f9f7069b2e67ef00c8f5\", element=\"c65014ec-eb3d-41a6-b2da-1326dd068fea\")>,\n",
       " <selenium.webdriver.remote.webelement.WebElement (session=\"ff5da397e798f9f7069b2e67ef00c8f5\", element=\"b690072f-189a-44b9-bb9d-0de596f549a5\")>,\n",
       " <selenium.webdriver.remote.webelement.WebElement (session=\"ff5da397e798f9f7069b2e67ef00c8f5\", element=\"535fff9b-05d8-4cdd-b664-4000052a41cf\")>,\n",
       " <selenium.webdriver.remote.webelement.WebElement (session=\"ff5da397e798f9f7069b2e67ef00c8f5\", element=\"279e6b72-9170-4b22-9d07-da19dc9f4b7f\")>,\n",
       " <selenium.webdriver.remote.webelement.WebElement (session=\"ff5da397e798f9f7069b2e67ef00c8f5\", element=\"e1098ec9-f6f2-432a-8c8c-ce92f179d4cd\")>,\n",
       " <selenium.webdriver.remote.webelement.WebElement (session=\"ff5da397e798f9f7069b2e67ef00c8f5\", element=\"91d62b2c-76e9-440e-85d1-d79fb3e056e4\")>,\n",
       " <selenium.webdriver.remote.webelement.WebElement (session=\"ff5da397e798f9f7069b2e67ef00c8f5\", element=\"60468fe9-b52c-4996-9289-c1e16146ea01\")>,\n",
       " <selenium.webdriver.remote.webelement.WebElement (session=\"ff5da397e798f9f7069b2e67ef00c8f5\", element=\"d4bbde93-57a4-4776-9500-32274d45752c\")>,\n",
       " <selenium.webdriver.remote.webelement.WebElement (session=\"ff5da397e798f9f7069b2e67ef00c8f5\", element=\"bcb00972-3ca9-4d84-9d36-292eb842d6ba\")>,\n",
       " <selenium.webdriver.remote.webelement.WebElement (session=\"ff5da397e798f9f7069b2e67ef00c8f5\", element=\"392aacab-4529-4640-bd87-c9821539f09d\")>,\n",
       " <selenium.webdriver.remote.webelement.WebElement (session=\"ff5da397e798f9f7069b2e67ef00c8f5\", element=\"37c31c3a-967b-4562-b8e8-3f7c25d22197\")>,\n",
       " <selenium.webdriver.remote.webelement.WebElement (session=\"ff5da397e798f9f7069b2e67ef00c8f5\", element=\"602eb74e-d9ac-4aad-8f5f-3d334d46c350\")>,\n",
       " <selenium.webdriver.remote.webelement.WebElement (session=\"ff5da397e798f9f7069b2e67ef00c8f5\", element=\"b3743843-48da-4fee-99a4-b4c74d66fce5\")>,\n",
       " <selenium.webdriver.remote.webelement.WebElement (session=\"ff5da397e798f9f7069b2e67ef00c8f5\", element=\"a1c0b3c6-e5b5-4bb1-bf0e-da2d934da608\")>,\n",
       " <selenium.webdriver.remote.webelement.WebElement (session=\"ff5da397e798f9f7069b2e67ef00c8f5\", element=\"0b7d7274-fd8f-4139-abb2-7f6d07a5fa82\")>,\n",
       " <selenium.webdriver.remote.webelement.WebElement (session=\"ff5da397e798f9f7069b2e67ef00c8f5\", element=\"f21bcc29-33e8-42ab-902e-6c84c8dba725\")>,\n",
       " <selenium.webdriver.remote.webelement.WebElement (session=\"ff5da397e798f9f7069b2e67ef00c8f5\", element=\"959bc995-0183-4d7c-9b01-8229f47100db\")>,\n",
       " <selenium.webdriver.remote.webelement.WebElement (session=\"ff5da397e798f9f7069b2e67ef00c8f5\", element=\"51d458b3-fc43-4da8-bcb3-0dd2cef1154e\")>,\n",
       " <selenium.webdriver.remote.webelement.WebElement (session=\"ff5da397e798f9f7069b2e67ef00c8f5\", element=\"2c0ea83e-884c-4ccf-a54c-da6e1212b471\")>,\n",
       " <selenium.webdriver.remote.webelement.WebElement (session=\"ff5da397e798f9f7069b2e67ef00c8f5\", element=\"dc93efb2-a711-46cf-aafd-3f9e2af22eab\")>,\n",
       " <selenium.webdriver.remote.webelement.WebElement (session=\"ff5da397e798f9f7069b2e67ef00c8f5\", element=\"5bdce44a-b1e8-4b0a-8f3f-4a2154afb556\")>,\n",
       " <selenium.webdriver.remote.webelement.WebElement (session=\"ff5da397e798f9f7069b2e67ef00c8f5\", element=\"24ac57bb-b5be-4fda-baaf-7fe9ca6f9ce9\")>,\n",
       " <selenium.webdriver.remote.webelement.WebElement (session=\"ff5da397e798f9f7069b2e67ef00c8f5\", element=\"4220bbe9-811a-487c-9ac4-6f66128e43d6\")>,\n",
       " <selenium.webdriver.remote.webelement.WebElement (session=\"ff5da397e798f9f7069b2e67ef00c8f5\", element=\"ac5ce325-17f7-4277-aaf9-f5b14b4022af\")>,\n",
       " <selenium.webdriver.remote.webelement.WebElement (session=\"ff5da397e798f9f7069b2e67ef00c8f5\", element=\"ee8915a7-3f08-4eeb-a614-89693a151815\")>,\n",
       " <selenium.webdriver.remote.webelement.WebElement (session=\"ff5da397e798f9f7069b2e67ef00c8f5\", element=\"c681fbf7-9c25-47bb-991e-157e6ce8a419\")>,\n",
       " <selenium.webdriver.remote.webelement.WebElement (session=\"ff5da397e798f9f7069b2e67ef00c8f5\", element=\"5f97e694-4b67-4f42-98da-b183d385eb60\")>,\n",
       " <selenium.webdriver.remote.webelement.WebElement (session=\"ff5da397e798f9f7069b2e67ef00c8f5\", element=\"1ac00a69-153e-4a19-9023-525c67021e65\")>,\n",
       " <selenium.webdriver.remote.webelement.WebElement (session=\"ff5da397e798f9f7069b2e67ef00c8f5\", element=\"b9748315-8593-42f8-acb0-02c1c8740d75\")>,\n",
       " <selenium.webdriver.remote.webelement.WebElement (session=\"ff5da397e798f9f7069b2e67ef00c8f5\", element=\"011ede43-1d67-4f2d-9622-4d6795db6766\")>,\n",
       " <selenium.webdriver.remote.webelement.WebElement (session=\"ff5da397e798f9f7069b2e67ef00c8f5\", element=\"3ff0d17e-00b3-4896-ad92-d3589e11484a\")>,\n",
       " <selenium.webdriver.remote.webelement.WebElement (session=\"ff5da397e798f9f7069b2e67ef00c8f5\", element=\"2959516e-706d-4167-86c5-ece0c5c06925\")>]"
      ]
     },
     "execution_count": 98,
     "metadata": {},
     "output_type": "execute_result"
    }
   ],
   "source": [
    "pri=driver.find_elements_by_xpath(\"//div[@class='_30jeq3']\")\n",
    "pri"
   ]
  },
  {
   "cell_type": "code",
   "execution_count": 99,
   "metadata": {},
   "outputs": [
    {
     "data": {
      "text/plain": [
       "['₹499',\n",
       " '₹499',\n",
       " '₹188',\n",
       " '₹248',\n",
       " '₹187',\n",
       " '₹200',\n",
       " '₹639',\n",
       " '₹499',\n",
       " '₹719',\n",
       " '₹170',\n",
       " '₹274',\n",
       " '₹664',\n",
       " '₹181',\n",
       " '₹259',\n",
       " '₹299',\n",
       " '₹594',\n",
       " '₹474',\n",
       " '₹383',\n",
       " '₹187',\n",
       " '₹664',\n",
       " '₹287',\n",
       " '₹189',\n",
       " '₹359',\n",
       " '₹339',\n",
       " '₹187',\n",
       " '₹299',\n",
       " '₹187',\n",
       " '₹759',\n",
       " '₹319',\n",
       " '₹175',\n",
       " '₹189',\n",
       " '₹759',\n",
       " '₹276',\n",
       " '₹255',\n",
       " '₹193',\n",
       " '₹1,234',\n",
       " '₹449',\n",
       " '₹259',\n",
       " '₹271',\n",
       " '₹664']"
      ]
     },
     "execution_count": 99,
     "metadata": {},
     "output_type": "execute_result"
    }
   ],
   "source": [
    "for i in pri:\n",
    "    pr=i.text\n",
    "    Price.append(pr)\n",
    "Price"
   ]
  },
  {
   "cell_type": "code",
   "execution_count": 100,
   "metadata": {},
   "outputs": [
    {
     "data": {
      "text/plain": [
       "40"
      ]
     },
     "execution_count": 100,
     "metadata": {},
     "output_type": "execute_result"
    }
   ],
   "source": [
    "len(Brands)"
   ]
  },
  {
   "cell_type": "code",
   "execution_count": 101,
   "metadata": {},
   "outputs": [
    {
     "name": "stderr",
     "output_type": "stream",
     "text": [
      "C:\\Users\\Suncity\\anaconda3\\lib\\site-packages\\ipykernel_launcher.py:1: DeprecationWarning: find_element_by_* commands are deprecated. Please use find_element() instead\n",
      "  \"\"\"Entry point for launching an IPython kernel.\n"
     ]
    }
   ],
   "source": [
    "next_button = driver.find_element_by_xpath(\"//a[@class='_1LKTO3']\")\n",
    "\n",
    "next_button.click()"
   ]
  },
  {
   "cell_type": "code",
   "execution_count": null,
   "metadata": {},
   "outputs": [],
   "source": []
  },
  {
   "cell_type": "code",
   "execution_count": 103,
   "metadata": {},
   "outputs": [
    {
     "name": "stderr",
     "output_type": "stream",
     "text": [
      "C:\\Users\\Suncity\\anaconda3\\lib\\site-packages\\ipykernel_launcher.py:1: DeprecationWarning: find_elements_by_* commands are deprecated. Please use find_elements() instead\n",
      "  \"\"\"Entry point for launching an IPython kernel.\n"
     ]
    },
    {
     "data": {
      "text/plain": [
       "[<selenium.webdriver.remote.webelement.WebElement (session=\"ff5da397e798f9f7069b2e67ef00c8f5\", element=\"f0573f9a-92bb-4926-baaa-d6c4a7135415\")>,\n",
       " <selenium.webdriver.remote.webelement.WebElement (session=\"ff5da397e798f9f7069b2e67ef00c8f5\", element=\"922bfdfa-1fa2-49eb-9a75-a6bf745d3f7c\")>,\n",
       " <selenium.webdriver.remote.webelement.WebElement (session=\"ff5da397e798f9f7069b2e67ef00c8f5\", element=\"441d8ed0-60f2-4f42-a9af-ffe455579be4\")>,\n",
       " <selenium.webdriver.remote.webelement.WebElement (session=\"ff5da397e798f9f7069b2e67ef00c8f5\", element=\"bc8bc265-ebe0-418f-8ecd-967fa56c2dd7\")>,\n",
       " <selenium.webdriver.remote.webelement.WebElement (session=\"ff5da397e798f9f7069b2e67ef00c8f5\", element=\"b01b5f73-51a4-4812-bbb6-2fbfc88cae82\")>,\n",
       " <selenium.webdriver.remote.webelement.WebElement (session=\"ff5da397e798f9f7069b2e67ef00c8f5\", element=\"d3b019c3-f5b9-4f81-9353-2a114ceeace2\")>,\n",
       " <selenium.webdriver.remote.webelement.WebElement (session=\"ff5da397e798f9f7069b2e67ef00c8f5\", element=\"c48f4840-5aac-46bf-99a4-8bf4e5d46301\")>,\n",
       " <selenium.webdriver.remote.webelement.WebElement (session=\"ff5da397e798f9f7069b2e67ef00c8f5\", element=\"229ccad6-09ef-421a-b504-5ed230aaaa6b\")>,\n",
       " <selenium.webdriver.remote.webelement.WebElement (session=\"ff5da397e798f9f7069b2e67ef00c8f5\", element=\"e1c00280-9c89-4194-aeb4-daa8fc170077\")>,\n",
       " <selenium.webdriver.remote.webelement.WebElement (session=\"ff5da397e798f9f7069b2e67ef00c8f5\", element=\"4442d02e-b26d-4f4c-b24e-196c8faa14d5\")>,\n",
       " <selenium.webdriver.remote.webelement.WebElement (session=\"ff5da397e798f9f7069b2e67ef00c8f5\", element=\"9d56bd7c-1f38-433a-9b63-b64fd4355f36\")>,\n",
       " <selenium.webdriver.remote.webelement.WebElement (session=\"ff5da397e798f9f7069b2e67ef00c8f5\", element=\"8c8b5215-1adf-4e54-8fae-b7967a3afc31\")>,\n",
       " <selenium.webdriver.remote.webelement.WebElement (session=\"ff5da397e798f9f7069b2e67ef00c8f5\", element=\"4fdaccac-92ec-4ea6-8641-85b33164f3d7\")>,\n",
       " <selenium.webdriver.remote.webelement.WebElement (session=\"ff5da397e798f9f7069b2e67ef00c8f5\", element=\"2f5f313d-a132-4ff3-b252-4ac627fa507f\")>,\n",
       " <selenium.webdriver.remote.webelement.WebElement (session=\"ff5da397e798f9f7069b2e67ef00c8f5\", element=\"4246d3b8-6ef7-4393-a8d3-7b1138ec4d4f\")>,\n",
       " <selenium.webdriver.remote.webelement.WebElement (session=\"ff5da397e798f9f7069b2e67ef00c8f5\", element=\"a49178cb-3894-4fa5-87cb-607f7d49e577\")>,\n",
       " <selenium.webdriver.remote.webelement.WebElement (session=\"ff5da397e798f9f7069b2e67ef00c8f5\", element=\"21b7f73e-7411-4784-8d74-7f3241017102\")>,\n",
       " <selenium.webdriver.remote.webelement.WebElement (session=\"ff5da397e798f9f7069b2e67ef00c8f5\", element=\"43b217d7-36cc-4bb9-85bc-904e18d721ac\")>,\n",
       " <selenium.webdriver.remote.webelement.WebElement (session=\"ff5da397e798f9f7069b2e67ef00c8f5\", element=\"e55e42d0-b2d4-47b5-95b2-cb20eab66887\")>,\n",
       " <selenium.webdriver.remote.webelement.WebElement (session=\"ff5da397e798f9f7069b2e67ef00c8f5\", element=\"16312a5e-cc08-4455-82b6-f6efc3a3e72a\")>,\n",
       " <selenium.webdriver.remote.webelement.WebElement (session=\"ff5da397e798f9f7069b2e67ef00c8f5\", element=\"aac89c9b-8e6d-4aa8-8c85-2de97c2baac8\")>,\n",
       " <selenium.webdriver.remote.webelement.WebElement (session=\"ff5da397e798f9f7069b2e67ef00c8f5\", element=\"1c00b847-49a6-4bca-a837-ec777e94735f\")>,\n",
       " <selenium.webdriver.remote.webelement.WebElement (session=\"ff5da397e798f9f7069b2e67ef00c8f5\", element=\"73c01ce7-eb21-4533-be37-b9a1df0dd706\")>,\n",
       " <selenium.webdriver.remote.webelement.WebElement (session=\"ff5da397e798f9f7069b2e67ef00c8f5\", element=\"4546baed-7e2e-4da2-b685-ba5c3d1a0def\")>,\n",
       " <selenium.webdriver.remote.webelement.WebElement (session=\"ff5da397e798f9f7069b2e67ef00c8f5\", element=\"6720cbf0-0213-4662-92d7-735517b02eba\")>,\n",
       " <selenium.webdriver.remote.webelement.WebElement (session=\"ff5da397e798f9f7069b2e67ef00c8f5\", element=\"f0d95014-dcbc-429d-8ce8-ee8933f24e6f\")>,\n",
       " <selenium.webdriver.remote.webelement.WebElement (session=\"ff5da397e798f9f7069b2e67ef00c8f5\", element=\"acff7747-b6d5-4e24-b0c2-be53f2a28ef1\")>,\n",
       " <selenium.webdriver.remote.webelement.WebElement (session=\"ff5da397e798f9f7069b2e67ef00c8f5\", element=\"9a5da275-aeb6-4cd1-893d-2c95891a85af\")>,\n",
       " <selenium.webdriver.remote.webelement.WebElement (session=\"ff5da397e798f9f7069b2e67ef00c8f5\", element=\"cd5f9028-376e-45d6-9b48-d296fc10ab5a\")>,\n",
       " <selenium.webdriver.remote.webelement.WebElement (session=\"ff5da397e798f9f7069b2e67ef00c8f5\", element=\"7a50b673-1f4c-46e9-b3c5-298e576df360\")>,\n",
       " <selenium.webdriver.remote.webelement.WebElement (session=\"ff5da397e798f9f7069b2e67ef00c8f5\", element=\"4d1abe69-4df3-44a6-802c-bd616a739301\")>,\n",
       " <selenium.webdriver.remote.webelement.WebElement (session=\"ff5da397e798f9f7069b2e67ef00c8f5\", element=\"350e189b-0027-4f83-b751-bc592d21114f\")>,\n",
       " <selenium.webdriver.remote.webelement.WebElement (session=\"ff5da397e798f9f7069b2e67ef00c8f5\", element=\"c5aa9aa4-4b2f-444d-a94c-e6159c162f89\")>,\n",
       " <selenium.webdriver.remote.webelement.WebElement (session=\"ff5da397e798f9f7069b2e67ef00c8f5\", element=\"5badf619-1817-4f91-a7ed-d808db0b464c\")>,\n",
       " <selenium.webdriver.remote.webelement.WebElement (session=\"ff5da397e798f9f7069b2e67ef00c8f5\", element=\"f903fc89-169c-43b8-9927-b3d512fbdae0\")>,\n",
       " <selenium.webdriver.remote.webelement.WebElement (session=\"ff5da397e798f9f7069b2e67ef00c8f5\", element=\"b6fb011d-84fb-4c3b-9753-259d31c67a92\")>,\n",
       " <selenium.webdriver.remote.webelement.WebElement (session=\"ff5da397e798f9f7069b2e67ef00c8f5\", element=\"3965b437-3d94-4b1e-b49d-6c1a05a11202\")>,\n",
       " <selenium.webdriver.remote.webelement.WebElement (session=\"ff5da397e798f9f7069b2e67ef00c8f5\", element=\"a522abde-5c81-4708-9c78-640e5050f7db\")>,\n",
       " <selenium.webdriver.remote.webelement.WebElement (session=\"ff5da397e798f9f7069b2e67ef00c8f5\", element=\"3fbdc381-9eaf-40b0-8a07-4b6dfc2b3997\")>,\n",
       " <selenium.webdriver.remote.webelement.WebElement (session=\"ff5da397e798f9f7069b2e67ef00c8f5\", element=\"176be067-4a08-4464-a863-b8bc175581a9\")>]"
      ]
     },
     "execution_count": 103,
     "metadata": {},
     "output_type": "execute_result"
    }
   ],
   "source": [
    "brand1=driver.find_elements_by_xpath(\"//div[@class='_2WkVRV']\")\n",
    "brand1"
   ]
  },
  {
   "cell_type": "code",
   "execution_count": 104,
   "metadata": {},
   "outputs": [
    {
     "data": {
      "text/plain": [
       "['ROZZETTA CRAFT',\n",
       " 'ROZZETTA CRAFT',\n",
       " 'SRPM',\n",
       " 'Elligator',\n",
       " 'PIRASO',\n",
       " 'PIRASO',\n",
       " 'Fastrack',\n",
       " 'ROZZETTA CRAFT',\n",
       " 'Fastrack',\n",
       " 'SHAAH COLLECTIONS',\n",
       " 'kingsunglasses',\n",
       " 'ROYAL SON',\n",
       " 'SHAAH COLLECTIONS',\n",
       " 'New Specs',\n",
       " 'PIRASO',\n",
       " 'FARENHEIT',\n",
       " 'ROZZETTA CRAFT',\n",
       " 'ROZZETTA CRAFT',\n",
       " 'kingsunglasses',\n",
       " 'ROYAL SON',\n",
       " 'hipe',\n",
       " 'kingsunglasses',\n",
       " 'ROYAL SON',\n",
       " 'FARENHEIT',\n",
       " 'PIRASO',\n",
       " 'PHENOMENAL',\n",
       " 'PIRASO',\n",
       " 'ROYAL SON',\n",
       " 'PHENOMENAL',\n",
       " 'Rich Club',\n",
       " 'PIRASO',\n",
       " 'ROYAL SON',\n",
       " 'SHAAH COLLECTIONS',\n",
       " 'New Specs',\n",
       " 'PHENOMENAL',\n",
       " 'ROYAL SON',\n",
       " 'ROYAL SON',\n",
       " 'kingsunglasses',\n",
       " 'SUNBEE',\n",
       " 'ROYAL SON',\n",
       " 'PHENOMENAL',\n",
       " 'Rich Club',\n",
       " 'GANSTA',\n",
       " 'ROZZETTA CRAFT',\n",
       " 'kingsunglasses',\n",
       " 'PIRASO',\n",
       " 'Singco India',\n",
       " 'ROYAL SON',\n",
       " 'ROYAL SON',\n",
       " 'ROZZETTA CRAFT',\n",
       " 'kingsunglasses',\n",
       " 'ROYAL SON',\n",
       " 'PIRASO',\n",
       " 'ROYAL SON',\n",
       " 'PIRASO',\n",
       " 'FARENHEIT',\n",
       " 'ROZZETTA CRAFT',\n",
       " 'agera',\n",
       " 'ROYAL SON',\n",
       " 'ROYAL SON',\n",
       " 'hipe',\n",
       " 'DEIXELS',\n",
       " 'PIRASO',\n",
       " 'ROYAL SON',\n",
       " 'Fastrack',\n",
       " 'Lee Topper',\n",
       " 'ROZZETTA CRAFT',\n",
       " 'ROYAL SON',\n",
       " 'hipe',\n",
       " 'GANSTA',\n",
       " 'kingsunglasses',\n",
       " 'ROYAL SON',\n",
       " 'Elligator',\n",
       " 'SUNBEE',\n",
       " 'AISLIN',\n",
       " 'ROYAL SON',\n",
       " 'PHENOMENAL',\n",
       " 'Elligator',\n",
       " 'SRPM',\n",
       " 'ROYAL SON']"
      ]
     },
     "execution_count": 104,
     "metadata": {},
     "output_type": "execute_result"
    }
   ],
   "source": [
    "for i in brand1:\n",
    "    br= i.text\n",
    "    Brands.append(br)\n",
    "    \n",
    "Brands"
   ]
  },
  {
   "cell_type": "code",
   "execution_count": 105,
   "metadata": {},
   "outputs": [
    {
     "data": {
      "text/plain": [
       "80"
      ]
     },
     "execution_count": 105,
     "metadata": {},
     "output_type": "execute_result"
    }
   ],
   "source": [
    " len(Brands)"
   ]
  },
  {
   "cell_type": "code",
   "execution_count": 106,
   "metadata": {},
   "outputs": [
    {
     "name": "stderr",
     "output_type": "stream",
     "text": [
      "C:\\Users\\Suncity\\anaconda3\\lib\\site-packages\\ipykernel_launcher.py:1: DeprecationWarning: find_elements_by_* commands are deprecated. Please use find_elements() instead\n",
      "  \"\"\"Entry point for launching an IPython kernel.\n"
     ]
    },
    {
     "data": {
      "text/plain": [
       "[<selenium.webdriver.remote.webelement.WebElement (session=\"ff5da397e798f9f7069b2e67ef00c8f5\", element=\"020caf00-15a7-4db1-bd1f-aa09df9acadf\")>,\n",
       " <selenium.webdriver.remote.webelement.WebElement (session=\"ff5da397e798f9f7069b2e67ef00c8f5\", element=\"3ef8fbe4-5038-4e50-92b5-b0a8477c026a\")>,\n",
       " <selenium.webdriver.remote.webelement.WebElement (session=\"ff5da397e798f9f7069b2e67ef00c8f5\", element=\"ae3f9be5-f10e-488b-9840-4c245c8c49c1\")>,\n",
       " <selenium.webdriver.remote.webelement.WebElement (session=\"ff5da397e798f9f7069b2e67ef00c8f5\", element=\"635b96fa-eb98-482f-bc46-94141e69ed85\")>,\n",
       " <selenium.webdriver.remote.webelement.WebElement (session=\"ff5da397e798f9f7069b2e67ef00c8f5\", element=\"fa8e78e5-da7f-4a07-9608-efd4dd2e26eb\")>,\n",
       " <selenium.webdriver.remote.webelement.WebElement (session=\"ff5da397e798f9f7069b2e67ef00c8f5\", element=\"7fbe54a2-2867-4cdf-9e8f-fdd6e22427ad\")>,\n",
       " <selenium.webdriver.remote.webelement.WebElement (session=\"ff5da397e798f9f7069b2e67ef00c8f5\", element=\"c0933bec-a1c3-41f7-848b-ba1f3b7af186\")>,\n",
       " <selenium.webdriver.remote.webelement.WebElement (session=\"ff5da397e798f9f7069b2e67ef00c8f5\", element=\"fdb48f93-a872-418e-9329-340d866637a7\")>,\n",
       " <selenium.webdriver.remote.webelement.WebElement (session=\"ff5da397e798f9f7069b2e67ef00c8f5\", element=\"90e244e1-837e-4d34-955a-8d551c5dbd0a\")>,\n",
       " <selenium.webdriver.remote.webelement.WebElement (session=\"ff5da397e798f9f7069b2e67ef00c8f5\", element=\"bc1f9390-ec6b-4c23-bf5b-d45814e33644\")>,\n",
       " <selenium.webdriver.remote.webelement.WebElement (session=\"ff5da397e798f9f7069b2e67ef00c8f5\", element=\"73432f80-af1d-4616-abf1-a672a01248a1\")>,\n",
       " <selenium.webdriver.remote.webelement.WebElement (session=\"ff5da397e798f9f7069b2e67ef00c8f5\", element=\"1ca62b59-c836-49a4-b6dc-7e33bfad418f\")>,\n",
       " <selenium.webdriver.remote.webelement.WebElement (session=\"ff5da397e798f9f7069b2e67ef00c8f5\", element=\"c7b2ba4c-848c-46f3-a212-2a560533bc52\")>,\n",
       " <selenium.webdriver.remote.webelement.WebElement (session=\"ff5da397e798f9f7069b2e67ef00c8f5\", element=\"7cd5733c-6bd3-46a1-8d44-b866d12ed316\")>,\n",
       " <selenium.webdriver.remote.webelement.WebElement (session=\"ff5da397e798f9f7069b2e67ef00c8f5\", element=\"49efca45-8765-4b88-8f36-bb893f607964\")>,\n",
       " <selenium.webdriver.remote.webelement.WebElement (session=\"ff5da397e798f9f7069b2e67ef00c8f5\", element=\"14f1ad1c-108b-4d78-9075-20cdf8feb778\")>,\n",
       " <selenium.webdriver.remote.webelement.WebElement (session=\"ff5da397e798f9f7069b2e67ef00c8f5\", element=\"6e685716-9702-4105-9f1a-8be595e58623\")>,\n",
       " <selenium.webdriver.remote.webelement.WebElement (session=\"ff5da397e798f9f7069b2e67ef00c8f5\", element=\"110d9d49-76e8-4225-96ce-1ba85a0cbe68\")>,\n",
       " <selenium.webdriver.remote.webelement.WebElement (session=\"ff5da397e798f9f7069b2e67ef00c8f5\", element=\"36b75424-9f51-4f42-a64b-be9742571235\")>,\n",
       " <selenium.webdriver.remote.webelement.WebElement (session=\"ff5da397e798f9f7069b2e67ef00c8f5\", element=\"df6f1a0a-1758-4a1f-9f70-5a9dcc4b66a4\")>,\n",
       " <selenium.webdriver.remote.webelement.WebElement (session=\"ff5da397e798f9f7069b2e67ef00c8f5\", element=\"34062e16-10a8-4ffd-8c22-f3b6ba3530b4\")>,\n",
       " <selenium.webdriver.remote.webelement.WebElement (session=\"ff5da397e798f9f7069b2e67ef00c8f5\", element=\"e18e6900-ce1e-43f6-b463-6b502b5642cd\")>,\n",
       " <selenium.webdriver.remote.webelement.WebElement (session=\"ff5da397e798f9f7069b2e67ef00c8f5\", element=\"f5b7ee15-094c-4174-a31b-6a457cb180b0\")>,\n",
       " <selenium.webdriver.remote.webelement.WebElement (session=\"ff5da397e798f9f7069b2e67ef00c8f5\", element=\"f03acb66-ed8f-4751-bb83-f3491a03c5aa\")>,\n",
       " <selenium.webdriver.remote.webelement.WebElement (session=\"ff5da397e798f9f7069b2e67ef00c8f5\", element=\"530b1048-ac10-4dcd-a7a7-7351fbf85574\")>,\n",
       " <selenium.webdriver.remote.webelement.WebElement (session=\"ff5da397e798f9f7069b2e67ef00c8f5\", element=\"7a62cd90-353b-495f-a9e5-32f48ae7cc5c\")>,\n",
       " <selenium.webdriver.remote.webelement.WebElement (session=\"ff5da397e798f9f7069b2e67ef00c8f5\", element=\"0012a184-ab2a-4c93-8944-cb8a67fdc7ff\")>,\n",
       " <selenium.webdriver.remote.webelement.WebElement (session=\"ff5da397e798f9f7069b2e67ef00c8f5\", element=\"65473f8a-a641-44b2-b1a5-fdf74d4bb7e5\")>,\n",
       " <selenium.webdriver.remote.webelement.WebElement (session=\"ff5da397e798f9f7069b2e67ef00c8f5\", element=\"6a498839-bb12-4df6-ab62-067666c330cc\")>,\n",
       " <selenium.webdriver.remote.webelement.WebElement (session=\"ff5da397e798f9f7069b2e67ef00c8f5\", element=\"0c424dde-2664-49da-8601-7de4a0b1c46d\")>,\n",
       " <selenium.webdriver.remote.webelement.WebElement (session=\"ff5da397e798f9f7069b2e67ef00c8f5\", element=\"197df0f0-6c7c-46cc-87bf-f75a8623e3ca\")>,\n",
       " <selenium.webdriver.remote.webelement.WebElement (session=\"ff5da397e798f9f7069b2e67ef00c8f5\", element=\"a6ea3fdd-22ea-4980-9070-44ac71b6e080\")>,\n",
       " <selenium.webdriver.remote.webelement.WebElement (session=\"ff5da397e798f9f7069b2e67ef00c8f5\", element=\"5cc3bd35-fe21-47ab-81ee-1206ce80e43e\")>,\n",
       " <selenium.webdriver.remote.webelement.WebElement (session=\"ff5da397e798f9f7069b2e67ef00c8f5\", element=\"d69f3a99-9eda-462e-871f-6745badbd648\")>,\n",
       " <selenium.webdriver.remote.webelement.WebElement (session=\"ff5da397e798f9f7069b2e67ef00c8f5\", element=\"03712f1f-771d-4a79-818f-58348468591c\")>,\n",
       " <selenium.webdriver.remote.webelement.WebElement (session=\"ff5da397e798f9f7069b2e67ef00c8f5\", element=\"bbae0646-a71f-40eb-ad1c-870fc6fce9a1\")>,\n",
       " <selenium.webdriver.remote.webelement.WebElement (session=\"ff5da397e798f9f7069b2e67ef00c8f5\", element=\"7f795fb1-f98b-4314-98b3-b68679f7e12d\")>,\n",
       " <selenium.webdriver.remote.webelement.WebElement (session=\"ff5da397e798f9f7069b2e67ef00c8f5\", element=\"e4e527d3-8e96-4357-a4b0-80d597705145\")>,\n",
       " <selenium.webdriver.remote.webelement.WebElement (session=\"ff5da397e798f9f7069b2e67ef00c8f5\", element=\"ee256ef3-faea-4d2e-a749-8a397abd174a\")>]"
      ]
     },
     "execution_count": 106,
     "metadata": {},
     "output_type": "execute_result"
    }
   ],
   "source": [
    "product1=driver.find_elements_by_xpath(\"//a[@class='IRpwTa']\")\n",
    "product1"
   ]
  },
  {
   "cell_type": "code",
   "execution_count": 107,
   "metadata": {},
   "outputs": [
    {
     "data": {
      "text/plain": [
       "['Polarized, Night Vision, Riding Glasses Sports, Wrap-ar...',\n",
       " 'Polarized, Night Vision, Riding Glasses Sports, Wrap-ar...',\n",
       " 'UV Protection Wayfarer Sunglasses (56)',\n",
       " 'UV Protection Round Sunglasses (54)',\n",
       " 'UV Protection Aviator Sunglasses (54)',\n",
       " 'UV Protection Aviator Sunglasses (54)',\n",
       " 'UV Protection Rectangular Sunglasses (Free Size)',\n",
       " 'Toughened Glass Lens Wayfarer Sunglasses (Free Size)',\n",
       " 'UV Protection Wayfarer Sunglasses (Free Size)',\n",
       " 'UV Protection, Polarized, Mirrored Rectangular Sunglass...',\n",
       " 'Mirrored, UV Protection Wayfarer Sunglasses (53)',\n",
       " 'UV Protection Over-sized Sunglasses (65)',\n",
       " 'UV Protection, Polarized, Mirrored Rectangular Sunglass...',\n",
       " 'UV Protection Rectangular Sunglasses (Free Size)',\n",
       " 'UV Protection Aviator Sunglasses (58)',\n",
       " 'UV Protection Retro Square Sunglasses (Free Size)',\n",
       " 'UV Protection, Gradient Rectangular Sunglasses (Free Si...',\n",
       " 'UV Protection, Riding Glasses, Mirrored Wayfarer Sungla...',\n",
       " 'Gradient, UV Protection Cat-eye, Over-sized Sunglasses ...',\n",
       " 'UV Protection Sports Sunglasses (Free Size)',\n",
       " 'UV Protection Round Sunglasses (54)',\n",
       " 'Mirrored Aviator Sunglasses (55)',\n",
       " 'UV Protection Retro Square Sunglasses (60)',\n",
       " 'UV Protection Aviator Sunglasses (54)',\n",
       " 'UV Protection, Mirrored Retro Square Sunglasses (53)',\n",
       " 'UV Protection Wayfarer Sunglasses (32)',\n",
       " 'Polarized, UV Protection Round Sunglasses (52)',\n",
       " 'UV Protection Retro Square Sunglasses (Free Size)',\n",
       " 'Polarized Round Sunglasses (48)',\n",
       " 'UV Protection Aviator Sunglasses (55)',\n",
       " 'UV Protection Round Sunglasses (Free Size)',\n",
       " 'Mirrored, UV Protection, Riding Glasses, Others Round S...',\n",
       " 'UV Protection, Mirrored Round Sunglasses (Free Size)',\n",
       " 'Polarized, UV Protection, Gradient Over-sized, Butterfl...',\n",
       " 'UV Protection Rectangular Sunglasses (58)',\n",
       " 'Mirrored, UV Protection Wayfarer Sunglasses (Free Size)',\n",
       " 'UV Protection, Polarized, Mirrored Round Sunglasses (Fr...',\n",
       " 'UV Protection Retro Square Sunglasses (54)',\n",
       " 'UV Protection Clubmaster Sunglasses (Free Size)',\n",
       " 'Polarized Round Sunglasses (48)',\n",
       " 'UV Protection Aviator Sunglasses (57)',\n",
       " 'Polarized, Night Vision, Riding Glasses Sports, Wrap-ar...',\n",
       " 'UV Protection, Night Vision Wayfarer Sunglasses (Free S...',\n",
       " 'UV Protection Butterfly Sunglasses (60)',\n",
       " 'Mirrored, Riding Glasses, Others Sports Sunglasses (50)',\n",
       " 'UV Protection, Gradient Over-sized Sunglasses (56)',\n",
       " 'Mirrored Aviator Sunglasses (Free Size)',\n",
       " 'UV Protection, Gradient Retro Square Sunglasses (Free S...',\n",
       " 'UV Protection Rectangular Sunglasses (Free Size)',\n",
       " 'Polarized, UV Protection, Gradient Over-sized, Butterfl...',\n",
       " 'UV Protection, Polarized Aviator Sunglasses (32)',\n",
       " 'UV Protection Round Sunglasses (50)',\n",
       " 'UV Protection Aviator Sunglasses (Free Size)',\n",
       " 'Wayfarer Sunglasses (53)',\n",
       " 'UV Protection, Riding Glasses Rectangular Sunglasses (F...',\n",
       " 'Gradient Aviator Sunglasses (55)',\n",
       " 'UV Protection Retro Square Sunglasses (58)',\n",
       " 'UV Protection, Gradient Butterfly Sunglasses (52)',\n",
       " 'UV Protection, Gradient, Mirrored, Riding Glasses Aviat...',\n",
       " 'UV Protection Aviator, Wayfarer Sunglasses (Free Size)',\n",
       " 'UV Protection Butterfly Sunglasses (65)',\n",
       " 'UV Protection, Gradient Butterfly Sunglasses (52)',\n",
       " 'Gradient, UV Protection Wayfarer Sunglasses (Free Size)',\n",
       " 'UV Protection, Riding Glasses Retro Square, Spectacle ...',\n",
       " 'UV Protection Round Sunglasses (Free Size)',\n",
       " 'Polarized Sports Sunglasses (65)',\n",
       " 'Mirrored, UV Protection, Gradient Round Sunglasses (55)',\n",
       " 'UV Protection, Riding Glasses Wayfarer Sunglasses (53)',\n",
       " 'Mirrored, UV Protection Aviator Sunglasses (56)',\n",
       " 'UV Protection, Gradient Butterfly Sunglasses (55)',\n",
       " 'UV Protection, Gradient Aviator Sunglasses (53)',\n",
       " 'UV Protection, Polarized, Mirrored Wayfarer Sunglasses ...',\n",
       " 'UV Protection, Gradient Butterfly, Retro Square Sunglas...',\n",
       " 'UV Protection, Mirrored Clubmaster Sunglasses (Free Siz...',\n",
       " 'UV Protection Retro Square, Round Sunglasses (54)',\n",
       " 'UV Protection Wayfarer Sunglasses (53)',\n",
       " 'Polarized, UV Protection, Gradient Over-sized, Butterfl...']"
      ]
     },
     "execution_count": 107,
     "metadata": {},
     "output_type": "execute_result"
    }
   ],
   "source": [
    "for i in product1:\n",
    "    pr=i.text\n",
    "    Product_Description.append(pr)\n",
    "Product_Description"
   ]
  },
  {
   "cell_type": "code",
   "execution_count": 108,
   "metadata": {},
   "outputs": [
    {
     "data": {
      "text/plain": [
       "77"
      ]
     },
     "execution_count": 108,
     "metadata": {},
     "output_type": "execute_result"
    }
   ],
   "source": [
    "len(Product_Description)"
   ]
  },
  {
   "cell_type": "code",
   "execution_count": 109,
   "metadata": {},
   "outputs": [
    {
     "name": "stderr",
     "output_type": "stream",
     "text": [
      "C:\\Users\\Suncity\\anaconda3\\lib\\site-packages\\ipykernel_launcher.py:1: DeprecationWarning: find_elements_by_* commands are deprecated. Please use find_elements() instead\n",
      "  \"\"\"Entry point for launching an IPython kernel.\n"
     ]
    },
    {
     "data": {
      "text/plain": [
       "[<selenium.webdriver.remote.webelement.WebElement (session=\"ff5da397e798f9f7069b2e67ef00c8f5\", element=\"05941a76-b048-41f5-b67e-3106e336351c\")>,\n",
       " <selenium.webdriver.remote.webelement.WebElement (session=\"ff5da397e798f9f7069b2e67ef00c8f5\", element=\"e6f359b4-817e-46b7-a590-1eca1fda6efd\")>,\n",
       " <selenium.webdriver.remote.webelement.WebElement (session=\"ff5da397e798f9f7069b2e67ef00c8f5\", element=\"19b9a3b8-b23d-4627-b0cd-ec68cf253484\")>,\n",
       " <selenium.webdriver.remote.webelement.WebElement (session=\"ff5da397e798f9f7069b2e67ef00c8f5\", element=\"2b7e9181-4dee-44f1-bd53-49f561606b34\")>,\n",
       " <selenium.webdriver.remote.webelement.WebElement (session=\"ff5da397e798f9f7069b2e67ef00c8f5\", element=\"3b238056-ec9e-4b99-ab30-c81ae8186d48\")>,\n",
       " <selenium.webdriver.remote.webelement.WebElement (session=\"ff5da397e798f9f7069b2e67ef00c8f5\", element=\"88113bf7-ce9c-4fdb-845c-66ec6600198b\")>,\n",
       " <selenium.webdriver.remote.webelement.WebElement (session=\"ff5da397e798f9f7069b2e67ef00c8f5\", element=\"db8b0e3b-4d7e-4b89-925d-86952371b1d6\")>,\n",
       " <selenium.webdriver.remote.webelement.WebElement (session=\"ff5da397e798f9f7069b2e67ef00c8f5\", element=\"d3f693de-f2b7-4f32-b572-0c7a55f66321\")>,\n",
       " <selenium.webdriver.remote.webelement.WebElement (session=\"ff5da397e798f9f7069b2e67ef00c8f5\", element=\"a2d9654f-e99d-42fb-a650-6a5ce33ad412\")>,\n",
       " <selenium.webdriver.remote.webelement.WebElement (session=\"ff5da397e798f9f7069b2e67ef00c8f5\", element=\"3a2fc6f0-5697-41ea-91fe-76c593652cf4\")>,\n",
       " <selenium.webdriver.remote.webelement.WebElement (session=\"ff5da397e798f9f7069b2e67ef00c8f5\", element=\"c3bd4210-f02f-47f6-b226-99db068aa19e\")>,\n",
       " <selenium.webdriver.remote.webelement.WebElement (session=\"ff5da397e798f9f7069b2e67ef00c8f5\", element=\"134d3c3b-fbfc-4fde-ac60-566fabe0f6fc\")>,\n",
       " <selenium.webdriver.remote.webelement.WebElement (session=\"ff5da397e798f9f7069b2e67ef00c8f5\", element=\"1f7dbe13-e350-456b-8f0d-96ae2d2b1daa\")>,\n",
       " <selenium.webdriver.remote.webelement.WebElement (session=\"ff5da397e798f9f7069b2e67ef00c8f5\", element=\"fc059b3c-60bf-464f-b523-850e385eac80\")>,\n",
       " <selenium.webdriver.remote.webelement.WebElement (session=\"ff5da397e798f9f7069b2e67ef00c8f5\", element=\"372c0601-d5ec-402f-92ac-0581e4f6e586\")>,\n",
       " <selenium.webdriver.remote.webelement.WebElement (session=\"ff5da397e798f9f7069b2e67ef00c8f5\", element=\"76f348c3-d1ea-4b90-a60f-b4538433b231\")>,\n",
       " <selenium.webdriver.remote.webelement.WebElement (session=\"ff5da397e798f9f7069b2e67ef00c8f5\", element=\"10cd4add-1437-4ec4-a6d4-5eb251d47f59\")>,\n",
       " <selenium.webdriver.remote.webelement.WebElement (session=\"ff5da397e798f9f7069b2e67ef00c8f5\", element=\"9f86a938-6b16-44c2-ab86-c14f34682c24\")>,\n",
       " <selenium.webdriver.remote.webelement.WebElement (session=\"ff5da397e798f9f7069b2e67ef00c8f5\", element=\"fdb7eddf-5760-4ef5-89a1-ddccc2f70f34\")>,\n",
       " <selenium.webdriver.remote.webelement.WebElement (session=\"ff5da397e798f9f7069b2e67ef00c8f5\", element=\"aa48f20a-c91b-4690-a95e-89a3380492c8\")>,\n",
       " <selenium.webdriver.remote.webelement.WebElement (session=\"ff5da397e798f9f7069b2e67ef00c8f5\", element=\"2174b4e7-6ac0-4ddb-b343-329bdbfffd2c\")>,\n",
       " <selenium.webdriver.remote.webelement.WebElement (session=\"ff5da397e798f9f7069b2e67ef00c8f5\", element=\"7f2fb6bf-3ce3-4373-bc34-cbcfc4516c58\")>,\n",
       " <selenium.webdriver.remote.webelement.WebElement (session=\"ff5da397e798f9f7069b2e67ef00c8f5\", element=\"6cd59563-54b7-4a93-861b-67fbea56ef8f\")>,\n",
       " <selenium.webdriver.remote.webelement.WebElement (session=\"ff5da397e798f9f7069b2e67ef00c8f5\", element=\"bdbf8765-0e76-40b4-b98f-ee390430af3e\")>,\n",
       " <selenium.webdriver.remote.webelement.WebElement (session=\"ff5da397e798f9f7069b2e67ef00c8f5\", element=\"51d5df3a-00e6-437d-a43e-09e7a14e9a8e\")>,\n",
       " <selenium.webdriver.remote.webelement.WebElement (session=\"ff5da397e798f9f7069b2e67ef00c8f5\", element=\"ed5176cc-7707-476d-921a-6b1c47a366a6\")>,\n",
       " <selenium.webdriver.remote.webelement.WebElement (session=\"ff5da397e798f9f7069b2e67ef00c8f5\", element=\"d5d2acf7-290e-4b4a-92e8-e03a818c5fb9\")>,\n",
       " <selenium.webdriver.remote.webelement.WebElement (session=\"ff5da397e798f9f7069b2e67ef00c8f5\", element=\"9266041c-7a68-4380-b867-4a39e405591a\")>,\n",
       " <selenium.webdriver.remote.webelement.WebElement (session=\"ff5da397e798f9f7069b2e67ef00c8f5\", element=\"ada376ff-61f5-46d8-86c0-d44defdcd101\")>,\n",
       " <selenium.webdriver.remote.webelement.WebElement (session=\"ff5da397e798f9f7069b2e67ef00c8f5\", element=\"82ca07fa-8221-4246-ac91-f88570b74011\")>,\n",
       " <selenium.webdriver.remote.webelement.WebElement (session=\"ff5da397e798f9f7069b2e67ef00c8f5\", element=\"2600e4c8-80b2-48a7-b6b4-c384db7763cf\")>,\n",
       " <selenium.webdriver.remote.webelement.WebElement (session=\"ff5da397e798f9f7069b2e67ef00c8f5\", element=\"7b2bb32d-181e-447c-858c-f2262491b131\")>,\n",
       " <selenium.webdriver.remote.webelement.WebElement (session=\"ff5da397e798f9f7069b2e67ef00c8f5\", element=\"dff0e610-6200-4218-bcaa-2e74f236c850\")>,\n",
       " <selenium.webdriver.remote.webelement.WebElement (session=\"ff5da397e798f9f7069b2e67ef00c8f5\", element=\"93d22896-f320-4be6-a3ef-4851a1c1e765\")>,\n",
       " <selenium.webdriver.remote.webelement.WebElement (session=\"ff5da397e798f9f7069b2e67ef00c8f5\", element=\"c59c9519-aad5-4182-b2a1-558f53987ad9\")>,\n",
       " <selenium.webdriver.remote.webelement.WebElement (session=\"ff5da397e798f9f7069b2e67ef00c8f5\", element=\"10e3174c-cf7b-48f3-8c64-9ef09525a024\")>,\n",
       " <selenium.webdriver.remote.webelement.WebElement (session=\"ff5da397e798f9f7069b2e67ef00c8f5\", element=\"b270b7dc-03ff-4b7a-999f-da919824a055\")>,\n",
       " <selenium.webdriver.remote.webelement.WebElement (session=\"ff5da397e798f9f7069b2e67ef00c8f5\", element=\"64f865c6-f457-4482-ab97-c6b268c57b54\")>,\n",
       " <selenium.webdriver.remote.webelement.WebElement (session=\"ff5da397e798f9f7069b2e67ef00c8f5\", element=\"8828d789-9bce-42ed-93c2-993cd837bb10\")>,\n",
       " <selenium.webdriver.remote.webelement.WebElement (session=\"ff5da397e798f9f7069b2e67ef00c8f5\", element=\"9fbbc3ee-7ac6-4a59-81ae-24ecf70161cd\")>]"
      ]
     },
     "execution_count": 109,
     "metadata": {},
     "output_type": "execute_result"
    }
   ],
   "source": [
    "pri1=driver.find_elements_by_xpath(\"//div[@class='_30jeq3']\")\n",
    "pri1"
   ]
  },
  {
   "cell_type": "code",
   "execution_count": 110,
   "metadata": {},
   "outputs": [
    {
     "data": {
      "text/plain": [
       "['₹499',\n",
       " '₹499',\n",
       " '₹188',\n",
       " '₹248',\n",
       " '₹187',\n",
       " '₹200',\n",
       " '₹639',\n",
       " '₹499',\n",
       " '₹719',\n",
       " '₹170',\n",
       " '₹274',\n",
       " '₹664',\n",
       " '₹181',\n",
       " '₹259',\n",
       " '₹299',\n",
       " '₹594',\n",
       " '₹474',\n",
       " '₹383',\n",
       " '₹187',\n",
       " '₹664',\n",
       " '₹287',\n",
       " '₹189',\n",
       " '₹359',\n",
       " '₹339',\n",
       " '₹187',\n",
       " '₹299',\n",
       " '₹187',\n",
       " '₹759',\n",
       " '₹319',\n",
       " '₹175',\n",
       " '₹189',\n",
       " '₹759',\n",
       " '₹276',\n",
       " '₹255',\n",
       " '₹193',\n",
       " '₹1,234',\n",
       " '₹449',\n",
       " '₹259',\n",
       " '₹271',\n",
       " '₹664',\n",
       " '₹287',\n",
       " '₹175',\n",
       " '₹269',\n",
       " '₹499',\n",
       " '₹299',\n",
       " '₹305',\n",
       " '₹194',\n",
       " '₹664',\n",
       " '₹359',\n",
       " '₹349',\n",
       " '₹192',\n",
       " '₹1,234',\n",
       " '₹164',\n",
       " '₹359',\n",
       " '₹261',\n",
       " '₹254',\n",
       " '₹426',\n",
       " '₹196',\n",
       " '₹449',\n",
       " '₹664',\n",
       " '₹209',\n",
       " '₹202',\n",
       " '₹336',\n",
       " '₹664',\n",
       " '₹639',\n",
       " '₹375',\n",
       " '₹426',\n",
       " '₹1,234',\n",
       " '₹189',\n",
       " '₹209',\n",
       " '₹211',\n",
       " '₹664',\n",
       " '₹263',\n",
       " '₹276',\n",
       " '₹401',\n",
       " '₹569',\n",
       " '₹287',\n",
       " '₹291',\n",
       " '₹220',\n",
       " '₹1,234']"
      ]
     },
     "execution_count": 110,
     "metadata": {},
     "output_type": "execute_result"
    }
   ],
   "source": [
    "for i in pri1:\n",
    "    pr=i.text\n",
    "    Price.append(pr)\n",
    "Price"
   ]
  },
  {
   "cell_type": "code",
   "execution_count": 111,
   "metadata": {},
   "outputs": [],
   "source": [
    "Brands1=Brands[0:10]\n",
    "Product_Description1=Product_Description[0:10]\n",
    "Price1=Price[0:10]"
   ]
  },
  {
   "cell_type": "code",
   "execution_count": 112,
   "metadata": {},
   "outputs": [],
   "source": [
    "df=pd.DataFrame()\n",
    "df['Brands']=Brands1\n",
    "df['Product Description']=Product_Description1\n",
    "df['Price']=Price1"
   ]
  },
  {
   "cell_type": "code",
   "execution_count": 113,
   "metadata": {},
   "outputs": [
    {
     "data": {
      "text/html": [
       "<div>\n",
       "<style scoped>\n",
       "    .dataframe tbody tr th:only-of-type {\n",
       "        vertical-align: middle;\n",
       "    }\n",
       "\n",
       "    .dataframe tbody tr th {\n",
       "        vertical-align: top;\n",
       "    }\n",
       "\n",
       "    .dataframe thead th {\n",
       "        text-align: right;\n",
       "    }\n",
       "</style>\n",
       "<table border=\"1\" class=\"dataframe\">\n",
       "  <thead>\n",
       "    <tr style=\"text-align: right;\">\n",
       "      <th></th>\n",
       "      <th>Brands</th>\n",
       "      <th>Product Description</th>\n",
       "      <th>Price</th>\n",
       "    </tr>\n",
       "  </thead>\n",
       "  <tbody>\n",
       "    <tr>\n",
       "      <th>0</th>\n",
       "      <td>ROZZETTA CRAFT</td>\n",
       "      <td>Polarized, Night Vision, Riding Glasses Sports...</td>\n",
       "      <td>₹499</td>\n",
       "    </tr>\n",
       "    <tr>\n",
       "      <th>1</th>\n",
       "      <td>ROZZETTA CRAFT</td>\n",
       "      <td>Polarized, Night Vision, Riding Glasses Sports...</td>\n",
       "      <td>₹499</td>\n",
       "    </tr>\n",
       "    <tr>\n",
       "      <th>2</th>\n",
       "      <td>SRPM</td>\n",
       "      <td>UV Protection Wayfarer Sunglasses (56)</td>\n",
       "      <td>₹188</td>\n",
       "    </tr>\n",
       "    <tr>\n",
       "      <th>3</th>\n",
       "      <td>Elligator</td>\n",
       "      <td>UV Protection Round Sunglasses (54)</td>\n",
       "      <td>₹248</td>\n",
       "    </tr>\n",
       "    <tr>\n",
       "      <th>4</th>\n",
       "      <td>PIRASO</td>\n",
       "      <td>UV Protection Aviator Sunglasses (54)</td>\n",
       "      <td>₹187</td>\n",
       "    </tr>\n",
       "    <tr>\n",
       "      <th>5</th>\n",
       "      <td>PIRASO</td>\n",
       "      <td>UV Protection Aviator Sunglasses (54)</td>\n",
       "      <td>₹200</td>\n",
       "    </tr>\n",
       "    <tr>\n",
       "      <th>6</th>\n",
       "      <td>Fastrack</td>\n",
       "      <td>UV Protection Rectangular Sunglasses (Free Size)</td>\n",
       "      <td>₹639</td>\n",
       "    </tr>\n",
       "    <tr>\n",
       "      <th>7</th>\n",
       "      <td>ROZZETTA CRAFT</td>\n",
       "      <td>Toughened Glass Lens Wayfarer Sunglasses (Free...</td>\n",
       "      <td>₹499</td>\n",
       "    </tr>\n",
       "    <tr>\n",
       "      <th>8</th>\n",
       "      <td>Fastrack</td>\n",
       "      <td>UV Protection Wayfarer Sunglasses (Free Size)</td>\n",
       "      <td>₹719</td>\n",
       "    </tr>\n",
       "    <tr>\n",
       "      <th>9</th>\n",
       "      <td>SHAAH COLLECTIONS</td>\n",
       "      <td>UV Protection, Polarized, Mirrored Rectangular...</td>\n",
       "      <td>₹170</td>\n",
       "    </tr>\n",
       "  </tbody>\n",
       "</table>\n",
       "</div>"
      ],
      "text/plain": [
       "              Brands                                Product Description Price\n",
       "0     ROZZETTA CRAFT  Polarized, Night Vision, Riding Glasses Sports...  ₹499\n",
       "1     ROZZETTA CRAFT  Polarized, Night Vision, Riding Glasses Sports...  ₹499\n",
       "2               SRPM             UV Protection Wayfarer Sunglasses (56)  ₹188\n",
       "3          Elligator                UV Protection Round Sunglasses (54)  ₹248\n",
       "4             PIRASO              UV Protection Aviator Sunglasses (54)  ₹187\n",
       "5             PIRASO              UV Protection Aviator Sunglasses (54)  ₹200\n",
       "6           Fastrack   UV Protection Rectangular Sunglasses (Free Size)  ₹639\n",
       "7     ROZZETTA CRAFT  Toughened Glass Lens Wayfarer Sunglasses (Free...  ₹499\n",
       "8           Fastrack      UV Protection Wayfarer Sunglasses (Free Size)  ₹719\n",
       "9  SHAAH COLLECTIONS  UV Protection, Polarized, Mirrored Rectangular...  ₹170"
      ]
     },
     "execution_count": 113,
     "metadata": {},
     "output_type": "execute_result"
    }
   ],
   "source": [
    "df"
   ]
  },
  {
   "cell_type": "markdown",
   "metadata": {},
   "source": [
    "Q5. Scrape 100 reviews data from flipkart.com for iphone11 phone. You have to find the\n",
    "Rating\n",
    "Review_summary\n",
    "Full review\n",
    "Scrape data for 100 reviews"
   ]
  },
  {
   "cell_type": "code",
   "execution_count": 186,
   "metadata": {},
   "outputs": [],
   "source": [
    "driver.get(\"https://www.flipkart.com/apple-iphone-11-black-64-gb-includes-earpods-power-adapter/p/itm0f37c2240b217?pid=MOBFKCTSVZAXUHGR&lid=LSTMOBFKC\")"
   ]
  },
  {
   "cell_type": "code",
   "execution_count": 187,
   "metadata": {},
   "outputs": [
    {
     "name": "stderr",
     "output_type": "stream",
     "text": [
      "C:\\Users\\Suncity\\anaconda3\\lib\\site-packages\\ipykernel_launcher.py:1: DeprecationWarning: find_element_by_* commands are deprecated. Please use find_element() instead\n",
      "  \"\"\"Entry point for launching an IPython kernel.\n"
     ]
    }
   ],
   "source": [
    "next = driver.find_element_by_xpath(\"/html/body/div[1]/div/div[3]/div[1]/div[2]/div[8]/div/div/div[5]/div/a/div/span\")\n",
    "\n",
    "next.click()"
   ]
  },
  {
   "cell_type": "code",
   "execution_count": 188,
   "metadata": {},
   "outputs": [
    {
     "name": "stderr",
     "output_type": "stream",
     "text": [
      "C:\\Users\\Suncity\\anaconda3\\lib\\site-packages\\ipykernel_launcher.py:1: DeprecationWarning: find_elements_by_* commands are deprecated. Please use find_elements() instead\n",
      "  \"\"\"Entry point for launching an IPython kernel.\n"
     ]
    },
    {
     "data": {
      "text/plain": [
       "[<selenium.webdriver.remote.webelement.WebElement (session=\"7bb2a5f6edd8d8d4d0d07972bf0320a2\", element=\"fea3120e-f7ac-41d0-b9d1-9abdf9cc002d\")>,\n",
       " <selenium.webdriver.remote.webelement.WebElement (session=\"7bb2a5f6edd8d8d4d0d07972bf0320a2\", element=\"eb839824-92b4-4178-9df9-808c889bd712\")>,\n",
       " <selenium.webdriver.remote.webelement.WebElement (session=\"7bb2a5f6edd8d8d4d0d07972bf0320a2\", element=\"395f2d8d-9a2f-4ea4-b667-8181439a1999\")>,\n",
       " <selenium.webdriver.remote.webelement.WebElement (session=\"7bb2a5f6edd8d8d4d0d07972bf0320a2\", element=\"eec9b8d6-18c7-48e7-ac30-6a37816a4954\")>,\n",
       " <selenium.webdriver.remote.webelement.WebElement (session=\"7bb2a5f6edd8d8d4d0d07972bf0320a2\", element=\"c7d6b9b3-7a67-432c-8c19-b33735b652b9\")>,\n",
       " <selenium.webdriver.remote.webelement.WebElement (session=\"7bb2a5f6edd8d8d4d0d07972bf0320a2\", element=\"c5279165-8b91-484f-a857-0195a42dcba3\")>,\n",
       " <selenium.webdriver.remote.webelement.WebElement (session=\"7bb2a5f6edd8d8d4d0d07972bf0320a2\", element=\"2b4b6404-47a4-4630-b624-214937401df8\")>,\n",
       " <selenium.webdriver.remote.webelement.WebElement (session=\"7bb2a5f6edd8d8d4d0d07972bf0320a2\", element=\"2cb3a3ad-a5e8-4d1e-b103-61e929566db7\")>,\n",
       " <selenium.webdriver.remote.webelement.WebElement (session=\"7bb2a5f6edd8d8d4d0d07972bf0320a2\", element=\"e34f98de-b5a9-43ed-88ca-fbc90c8a322c\")>,\n",
       " <selenium.webdriver.remote.webelement.WebElement (session=\"7bb2a5f6edd8d8d4d0d07972bf0320a2\", element=\"ab32aede-c286-463d-bec1-6d640f01eb19\")>]"
      ]
     },
     "execution_count": 188,
     "metadata": {},
     "output_type": "execute_result"
    }
   ],
   "source": [
    "rat=driver.find_elements_by_xpath(\"//div[@class='_3LWZlK _1BLPMq']\")\n",
    "rat"
   ]
  },
  {
   "cell_type": "code",
   "execution_count": 189,
   "metadata": {},
   "outputs": [],
   "source": [
    "Ratings=[]\n",
    "Review_summary=[]\n",
    "Fullreview=[]"
   ]
  },
  {
   "cell_type": "code",
   "execution_count": 190,
   "metadata": {},
   "outputs": [
    {
     "data": {
      "text/plain": [
       "['5', '5', '5', '5', '5', '5', '5', '4', '5', '5']"
      ]
     },
     "execution_count": 190,
     "metadata": {},
     "output_type": "execute_result"
    }
   ],
   "source": [
    "for i in rat:\n",
    "    ra=i.text\n",
    "    Ratings.append(ra)\n",
    "Ratings"
   ]
  },
  {
   "cell_type": "code",
   "execution_count": 191,
   "metadata": {},
   "outputs": [
    {
     "name": "stderr",
     "output_type": "stream",
     "text": [
      "C:\\Users\\Suncity\\anaconda3\\lib\\site-packages\\ipykernel_launcher.py:1: DeprecationWarning: find_elements_by_* commands are deprecated. Please use find_elements() instead\n",
      "  \"\"\"Entry point for launching an IPython kernel.\n"
     ]
    },
    {
     "data": {
      "text/plain": [
       "[<selenium.webdriver.remote.webelement.WebElement (session=\"7bb2a5f6edd8d8d4d0d07972bf0320a2\", element=\"f27a92e1-24a5-45bd-9897-d28413d9f35f\")>,\n",
       " <selenium.webdriver.remote.webelement.WebElement (session=\"7bb2a5f6edd8d8d4d0d07972bf0320a2\", element=\"766ae7fb-a25d-42da-ad36-5c7ed52d978c\")>,\n",
       " <selenium.webdriver.remote.webelement.WebElement (session=\"7bb2a5f6edd8d8d4d0d07972bf0320a2\", element=\"a836f65a-5beb-4bd9-993f-a178247c6306\")>,\n",
       " <selenium.webdriver.remote.webelement.WebElement (session=\"7bb2a5f6edd8d8d4d0d07972bf0320a2\", element=\"2bf116b0-997a-4a14-bd50-1ac221f88871\")>,\n",
       " <selenium.webdriver.remote.webelement.WebElement (session=\"7bb2a5f6edd8d8d4d0d07972bf0320a2\", element=\"9efca8c6-31b0-482d-98a1-236257113c4c\")>,\n",
       " <selenium.webdriver.remote.webelement.WebElement (session=\"7bb2a5f6edd8d8d4d0d07972bf0320a2\", element=\"1f764a24-ebc0-484a-8fb4-e70ccb3ba2f3\")>,\n",
       " <selenium.webdriver.remote.webelement.WebElement (session=\"7bb2a5f6edd8d8d4d0d07972bf0320a2\", element=\"1ffcfb87-ce0a-426c-ba9d-4b8cdd9be936\")>,\n",
       " <selenium.webdriver.remote.webelement.WebElement (session=\"7bb2a5f6edd8d8d4d0d07972bf0320a2\", element=\"99eb012f-279e-43b6-97e3-c00f89e056eb\")>,\n",
       " <selenium.webdriver.remote.webelement.WebElement (session=\"7bb2a5f6edd8d8d4d0d07972bf0320a2\", element=\"c9de659e-2fce-4889-9289-ed55333c0d9a\")>,\n",
       " <selenium.webdriver.remote.webelement.WebElement (session=\"7bb2a5f6edd8d8d4d0d07972bf0320a2\", element=\"44a26c36-b0ec-407f-9027-28e26ec0f4d9\")>]"
      ]
     },
     "execution_count": 191,
     "metadata": {},
     "output_type": "execute_result"
    }
   ],
   "source": [
    "rav=driver.find_elements_by_xpath(\"//p[@class='_2-N8zT']\")\n",
    "rav"
   ]
  },
  {
   "cell_type": "code",
   "execution_count": 192,
   "metadata": {},
   "outputs": [
    {
     "data": {
      "text/plain": [
       "['Brilliant',\n",
       " 'Simply awesome',\n",
       " 'Perfect product!',\n",
       " 'Best in the market!',\n",
       " 'Worth every penny',\n",
       " 'Fabulous!',\n",
       " 'Great product',\n",
       " 'Good choice',\n",
       " 'Worth every penny',\n",
       " 'Highly recommended']"
      ]
     },
     "execution_count": 192,
     "metadata": {},
     "output_type": "execute_result"
    }
   ],
   "source": [
    "for i in rav:\n",
    "    ra=i.text\n",
    "    Review_summary.append(ra)\n",
    "Review_summary"
   ]
  },
  {
   "cell_type": "code",
   "execution_count": 193,
   "metadata": {},
   "outputs": [
    {
     "name": "stderr",
     "output_type": "stream",
     "text": [
      "C:\\Users\\Suncity\\anaconda3\\lib\\site-packages\\ipykernel_launcher.py:1: DeprecationWarning: find_elements_by_* commands are deprecated. Please use find_elements() instead\n",
      "  \"\"\"Entry point for launching an IPython kernel.\n"
     ]
    },
    {
     "data": {
      "text/plain": [
       "[<selenium.webdriver.remote.webelement.WebElement (session=\"7bb2a5f6edd8d8d4d0d07972bf0320a2\", element=\"aaf7262e-fbde-4346-a155-db96d2085094\")>,\n",
       " <selenium.webdriver.remote.webelement.WebElement (session=\"7bb2a5f6edd8d8d4d0d07972bf0320a2\", element=\"af1aec48-d3b5-46ee-ab60-b33c7479a8f6\")>,\n",
       " <selenium.webdriver.remote.webelement.WebElement (session=\"7bb2a5f6edd8d8d4d0d07972bf0320a2\", element=\"dc151e0e-522c-46f5-a9a8-0e4637de7f04\")>,\n",
       " <selenium.webdriver.remote.webelement.WebElement (session=\"7bb2a5f6edd8d8d4d0d07972bf0320a2\", element=\"56c32fd8-d391-4a04-b788-70dccfcf0dc3\")>,\n",
       " <selenium.webdriver.remote.webelement.WebElement (session=\"7bb2a5f6edd8d8d4d0d07972bf0320a2\", element=\"71551b0e-dc94-4aba-ba0e-68ce9a46fa10\")>,\n",
       " <selenium.webdriver.remote.webelement.WebElement (session=\"7bb2a5f6edd8d8d4d0d07972bf0320a2\", element=\"851e76ed-9e5a-4a50-b79a-365db0d0f612\")>,\n",
       " <selenium.webdriver.remote.webelement.WebElement (session=\"7bb2a5f6edd8d8d4d0d07972bf0320a2\", element=\"e0fc4d6d-a748-4c38-944f-74244f5f90f1\")>,\n",
       " <selenium.webdriver.remote.webelement.WebElement (session=\"7bb2a5f6edd8d8d4d0d07972bf0320a2\", element=\"9eac88bc-ea57-499f-b901-c42c65531ba2\")>,\n",
       " <selenium.webdriver.remote.webelement.WebElement (session=\"7bb2a5f6edd8d8d4d0d07972bf0320a2\", element=\"f92dd57a-153b-45da-9c42-c88fadbfe160\")>,\n",
       " <selenium.webdriver.remote.webelement.WebElement (session=\"7bb2a5f6edd8d8d4d0d07972bf0320a2\", element=\"71ce9874-306b-470e-80bb-aa2e78cfe3dc\")>]"
      ]
     },
     "execution_count": 193,
     "metadata": {},
     "output_type": "execute_result"
    }
   ],
   "source": [
    "sum=driver.find_elements_by_xpath(\"//div[@class='t-ZTKy']\")\n",
    "sum"
   ]
  },
  {
   "cell_type": "code",
   "execution_count": 194,
   "metadata": {},
   "outputs": [
    {
     "data": {
      "text/plain": [
       "['The Best Phone for the Money\\n\\nThe iPhone 11 offers superb cameras, a more durable design and excellent battery life for an affordable price.\\n\\nCompelling ultra-wide camera\\nNew Night mode is excellent\\nLong battery life',\n",
       " 'Really satisfied with the Product I received... It’s totally genuine and the packaging was also really good so if ur planning to buy just go for it.',\n",
       " 'Amazing phone with great cameras and better battery which gives you the best performance. I just love the camera .',\n",
       " 'Great iPhone very snappy experience as apple kind. Upgraded from iPhone 7.\\nPros\\n-Camera top class\\n- Battery top performed\\n-Chipset no need to say as apple kind\\n-Security as you expect from apple\\n- Display super bright industry leading colour\\naccuracy and super responsive\\n-Build quality as expect from apple sturdy\\npremium durable beautiful stylish.\\n-Os most stable os in smartphone industry\\n\\nCons\\n-No 5G\\n-Display is not based on OLED technology\\n-Charger headphones and 1 apple stic...\\nREAD MORE',\n",
       " 'Previously I was using one plus 3t it was a great phone\\nAnd then I decided to upgrade I am stuck between Samsung s10 plus or iPhone 11\\nI have seen the specs and everything were good except the display it’s somewhere between 720-1080 and it’s not even an amoled it’s an LCD display\\nBut I decided to go with iPhone because I have never used an IOS device I have Been an android user from the past 9 years I ordered IPhone 11 (128gb) product red\\nMy experience after using 3 weeks\\n1. The delivery ...\\nREAD MORE',\n",
       " 'This is my first iOS phone. I am very happy with this product. Very much satisfied with this. I love this phone.',\n",
       " 'Amazing Powerful and Durable Gadget.\\n\\nI’m am very happy with the camera picture quality, Amazing face id unlocked in dark room, Strong battery with perfect screen size as you can carry easily in pocket. This is my third iPhone.\\n\\nI shifted from android Samsung Note series to iPhone because of the strong build quality and peace of mind for next 3-4 years.\\n\\nDon’t think to much just go for it and I suggest you to go for minimum 128gb variant or more 256gb.\\n\\nI’ve attached my puppy pics and no fi...\\nREAD MORE',\n",
       " 'So far it’s been an AMAZING experience coming back to iOS after nearly a decade but it’s not as versatile as android though phone is sturdy dropped it accidentally a couple of times and nothing happened fortunately camera is awesome',\n",
       " 'i11 is worthy to buy, too much happy with the product. Thank u flipkart I received the item on time..loved it..',\n",
       " 'iphone 11 is a very good phone to buy only if you can compromise for the display. The display on this is device is pretty good but you can get other options with better displays in this price segment.\\nIf you can survive with an HD+ LCD panel with thicker bezels and a notch up top then this is a very good phone for you.\\nCameras are awesome, battery backup excellent, great performance and a decent premium look. Good job Apple !']"
      ]
     },
     "execution_count": 194,
     "metadata": {},
     "output_type": "execute_result"
    }
   ],
   "source": [
    "for i in sum:\n",
    "    ra=i.text\n",
    "    Fullreview.append(ra)\n",
    "Fullreview"
   ]
  },
  {
   "cell_type": "code",
   "execution_count": 195,
   "metadata": {},
   "outputs": [
    {
     "name": "stderr",
     "output_type": "stream",
     "text": [
      "C:\\Users\\Suncity\\anaconda3\\lib\\site-packages\\ipykernel_launcher.py:1: DeprecationWarning: find_element_by_* commands are deprecated. Please use find_element() instead\n",
      "  \"\"\"Entry point for launching an IPython kernel.\n"
     ]
    }
   ],
   "source": [
    "page2 = driver.find_element_by_xpath(\"/html/body/div[1]/div/div[3]/div/div/div[2]/div[13]/div/div/nav/a[2]\")\n",
    "\n",
    "page2.click()"
   ]
  },
  {
   "cell_type": "code",
   "execution_count": 196,
   "metadata": {},
   "outputs": [
    {
     "name": "stderr",
     "output_type": "stream",
     "text": [
      "C:\\Users\\Suncity\\anaconda3\\lib\\site-packages\\ipykernel_launcher.py:1: DeprecationWarning: find_elements_by_* commands are deprecated. Please use find_elements() instead\n",
      "  \"\"\"Entry point for launching an IPython kernel.\n"
     ]
    },
    {
     "data": {
      "text/plain": [
       "[<selenium.webdriver.remote.webelement.WebElement (session=\"7bb2a5f6edd8d8d4d0d07972bf0320a2\", element=\"19c6ff34-19e4-4d89-8b8e-2e66ed72d8ff\")>,\n",
       " <selenium.webdriver.remote.webelement.WebElement (session=\"7bb2a5f6edd8d8d4d0d07972bf0320a2\", element=\"bf3adc26-7832-49e3-90b1-9340aa4d6a68\")>,\n",
       " <selenium.webdriver.remote.webelement.WebElement (session=\"7bb2a5f6edd8d8d4d0d07972bf0320a2\", element=\"5bb0d51e-b6a6-4114-b03d-2e181aeb9b84\")>,\n",
       " <selenium.webdriver.remote.webelement.WebElement (session=\"7bb2a5f6edd8d8d4d0d07972bf0320a2\", element=\"5560ca77-31a9-46db-8ff0-2d4fc7e0fe75\")>,\n",
       " <selenium.webdriver.remote.webelement.WebElement (session=\"7bb2a5f6edd8d8d4d0d07972bf0320a2\", element=\"cfb854d3-c33c-4729-9d0a-d4e4260a68aa\")>,\n",
       " <selenium.webdriver.remote.webelement.WebElement (session=\"7bb2a5f6edd8d8d4d0d07972bf0320a2\", element=\"995920f3-311c-4f8b-90b3-1b958b0d38e1\")>,\n",
       " <selenium.webdriver.remote.webelement.WebElement (session=\"7bb2a5f6edd8d8d4d0d07972bf0320a2\", element=\"5528ca44-3574-4092-8dfe-d1ec7db8551e\")>,\n",
       " <selenium.webdriver.remote.webelement.WebElement (session=\"7bb2a5f6edd8d8d4d0d07972bf0320a2\", element=\"a17ff2c8-c49c-4034-8a8e-7f4c90d91e16\")>,\n",
       " <selenium.webdriver.remote.webelement.WebElement (session=\"7bb2a5f6edd8d8d4d0d07972bf0320a2\", element=\"8d9f01a0-2dd3-48f7-9180-cf8367d1ef2d\")>,\n",
       " <selenium.webdriver.remote.webelement.WebElement (session=\"7bb2a5f6edd8d8d4d0d07972bf0320a2\", element=\"f52dd0b4-3117-4bcb-b464-4d417f41a90b\")>]"
      ]
     },
     "execution_count": 196,
     "metadata": {},
     "output_type": "execute_result"
    }
   ],
   "source": [
    "rat1=driver.find_elements_by_xpath(\"//div[@class='_3LWZlK _1BLPMq']\")\n",
    "rat1"
   ]
  },
  {
   "cell_type": "code",
   "execution_count": 197,
   "metadata": {},
   "outputs": [
    {
     "data": {
      "text/plain": [
       "['5',\n",
       " '5',\n",
       " '5',\n",
       " '5',\n",
       " '5',\n",
       " '5',\n",
       " '5',\n",
       " '4',\n",
       " '5',\n",
       " '5',\n",
       " '5',\n",
       " '5',\n",
       " '5',\n",
       " '5',\n",
       " '5',\n",
       " '5',\n",
       " '5',\n",
       " '5',\n",
       " '5',\n",
       " '5']"
      ]
     },
     "execution_count": 197,
     "metadata": {},
     "output_type": "execute_result"
    }
   ],
   "source": [
    "for i in rat1:\n",
    "    ra=i.text\n",
    "    Ratings.append(ra)\n",
    "Ratings"
   ]
  },
  {
   "cell_type": "code",
   "execution_count": 198,
   "metadata": {},
   "outputs": [
    {
     "name": "stderr",
     "output_type": "stream",
     "text": [
      "C:\\Users\\Suncity\\anaconda3\\lib\\site-packages\\ipykernel_launcher.py:1: DeprecationWarning: find_elements_by_* commands are deprecated. Please use find_elements() instead\n",
      "  \"\"\"Entry point for launching an IPython kernel.\n"
     ]
    },
    {
     "data": {
      "text/plain": [
       "[<selenium.webdriver.remote.webelement.WebElement (session=\"7bb2a5f6edd8d8d4d0d07972bf0320a2\", element=\"c40ff818-8830-481e-81e8-6511833e9771\")>,\n",
       " <selenium.webdriver.remote.webelement.WebElement (session=\"7bb2a5f6edd8d8d4d0d07972bf0320a2\", element=\"c599c60c-7f2b-4f6b-a538-09a44a3d1cab\")>,\n",
       " <selenium.webdriver.remote.webelement.WebElement (session=\"7bb2a5f6edd8d8d4d0d07972bf0320a2\", element=\"5f87d28f-05e5-4ede-a593-e1ae07e2ceca\")>,\n",
       " <selenium.webdriver.remote.webelement.WebElement (session=\"7bb2a5f6edd8d8d4d0d07972bf0320a2\", element=\"377f0353-4e36-4091-9026-cfa80583ab40\")>,\n",
       " <selenium.webdriver.remote.webelement.WebElement (session=\"7bb2a5f6edd8d8d4d0d07972bf0320a2\", element=\"7e3ca5fd-98a6-4742-aa1e-07badeae7ecf\")>,\n",
       " <selenium.webdriver.remote.webelement.WebElement (session=\"7bb2a5f6edd8d8d4d0d07972bf0320a2\", element=\"fb2fd51f-79e9-4c89-856b-cf0441385433\")>,\n",
       " <selenium.webdriver.remote.webelement.WebElement (session=\"7bb2a5f6edd8d8d4d0d07972bf0320a2\", element=\"078e890c-c401-4535-8ef1-9085122e71e1\")>,\n",
       " <selenium.webdriver.remote.webelement.WebElement (session=\"7bb2a5f6edd8d8d4d0d07972bf0320a2\", element=\"83f211da-ca40-469e-93c2-983c9898146c\")>,\n",
       " <selenium.webdriver.remote.webelement.WebElement (session=\"7bb2a5f6edd8d8d4d0d07972bf0320a2\", element=\"a3a5a709-977e-4c51-afc5-cb5762b8ad2d\")>,\n",
       " <selenium.webdriver.remote.webelement.WebElement (session=\"7bb2a5f6edd8d8d4d0d07972bf0320a2\", element=\"a7dda28b-cc48-4f20-b736-b7efe6faf5cb\")>]"
      ]
     },
     "execution_count": 198,
     "metadata": {},
     "output_type": "execute_result"
    }
   ],
   "source": [
    "rav1=driver.find_elements_by_xpath(\"//p[@class='_2-N8zT']\")\n",
    "rav1"
   ]
  },
  {
   "cell_type": "code",
   "execution_count": 199,
   "metadata": {},
   "outputs": [
    {
     "data": {
      "text/plain": [
       "['Brilliant',\n",
       " 'Simply awesome',\n",
       " 'Perfect product!',\n",
       " 'Best in the market!',\n",
       " 'Worth every penny',\n",
       " 'Fabulous!',\n",
       " 'Great product',\n",
       " 'Good choice',\n",
       " 'Worth every penny',\n",
       " 'Highly recommended',\n",
       " 'Highly recommended',\n",
       " 'Perfect product!',\n",
       " 'Perfect product!',\n",
       " 'Classy product',\n",
       " 'Perfect product!',\n",
       " 'Worth every penny',\n",
       " 'Highly recommended',\n",
       " 'Simply awesome',\n",
       " 'Worth every penny',\n",
       " 'Worth every penny']"
      ]
     },
     "execution_count": 199,
     "metadata": {},
     "output_type": "execute_result"
    }
   ],
   "source": [
    "for i in rav1:\n",
    "    ra=i.text\n",
    "    Review_summary.append(ra)\n",
    "Review_summary"
   ]
  },
  {
   "cell_type": "code",
   "execution_count": 200,
   "metadata": {},
   "outputs": [
    {
     "name": "stderr",
     "output_type": "stream",
     "text": [
      "C:\\Users\\Suncity\\anaconda3\\lib\\site-packages\\ipykernel_launcher.py:1: DeprecationWarning: find_elements_by_* commands are deprecated. Please use find_elements() instead\n",
      "  \"\"\"Entry point for launching an IPython kernel.\n"
     ]
    },
    {
     "data": {
      "text/plain": [
       "[<selenium.webdriver.remote.webelement.WebElement (session=\"7bb2a5f6edd8d8d4d0d07972bf0320a2\", element=\"c41bfb49-fda6-4135-aedf-f46394922554\")>,\n",
       " <selenium.webdriver.remote.webelement.WebElement (session=\"7bb2a5f6edd8d8d4d0d07972bf0320a2\", element=\"cbf21105-20e7-456e-a5bd-330811e5499a\")>,\n",
       " <selenium.webdriver.remote.webelement.WebElement (session=\"7bb2a5f6edd8d8d4d0d07972bf0320a2\", element=\"7edb5126-66af-4b84-9f83-917f56a2ee7a\")>,\n",
       " <selenium.webdriver.remote.webelement.WebElement (session=\"7bb2a5f6edd8d8d4d0d07972bf0320a2\", element=\"efe0a56c-70d8-4e60-bfc7-58cdf5e22b42\")>,\n",
       " <selenium.webdriver.remote.webelement.WebElement (session=\"7bb2a5f6edd8d8d4d0d07972bf0320a2\", element=\"1dcb1f16-09e1-4548-9474-1f64fa77d1f1\")>,\n",
       " <selenium.webdriver.remote.webelement.WebElement (session=\"7bb2a5f6edd8d8d4d0d07972bf0320a2\", element=\"aff5aa79-ca20-472f-ad6a-d138efda4058\")>,\n",
       " <selenium.webdriver.remote.webelement.WebElement (session=\"7bb2a5f6edd8d8d4d0d07972bf0320a2\", element=\"b4d570cb-95b7-42f8-abd9-2a8cfe5785cf\")>,\n",
       " <selenium.webdriver.remote.webelement.WebElement (session=\"7bb2a5f6edd8d8d4d0d07972bf0320a2\", element=\"a290f616-a65e-46fe-8d6f-3277749a7b9a\")>,\n",
       " <selenium.webdriver.remote.webelement.WebElement (session=\"7bb2a5f6edd8d8d4d0d07972bf0320a2\", element=\"0370d5bb-a225-42a1-98fa-bf0613a7ef74\")>,\n",
       " <selenium.webdriver.remote.webelement.WebElement (session=\"7bb2a5f6edd8d8d4d0d07972bf0320a2\", element=\"2bf8ec46-32ca-44c5-9ff1-bfc98823b68a\")>]"
      ]
     },
     "execution_count": 200,
     "metadata": {},
     "output_type": "execute_result"
    }
   ],
   "source": [
    "sum1=driver.find_elements_by_xpath(\"//div[@class='t-ZTKy']\")\n",
    "sum1"
   ]
  },
  {
   "cell_type": "code",
   "execution_count": 201,
   "metadata": {},
   "outputs": [
    {
     "data": {
      "text/plain": [
       "['The Best Phone for the Money\\n\\nThe iPhone 11 offers superb cameras, a more durable design and excellent battery life for an affordable price.\\n\\nCompelling ultra-wide camera\\nNew Night mode is excellent\\nLong battery life',\n",
       " 'Really satisfied with the Product I received... It’s totally genuine and the packaging was also really good so if ur planning to buy just go for it.',\n",
       " 'Amazing phone with great cameras and better battery which gives you the best performance. I just love the camera .',\n",
       " 'Great iPhone very snappy experience as apple kind. Upgraded from iPhone 7.\\nPros\\n-Camera top class\\n- Battery top performed\\n-Chipset no need to say as apple kind\\n-Security as you expect from apple\\n- Display super bright industry leading colour\\naccuracy and super responsive\\n-Build quality as expect from apple sturdy\\npremium durable beautiful stylish.\\n-Os most stable os in smartphone industry\\n\\nCons\\n-No 5G\\n-Display is not based on OLED technology\\n-Charger headphones and 1 apple stic...\\nREAD MORE',\n",
       " 'Previously I was using one plus 3t it was a great phone\\nAnd then I decided to upgrade I am stuck between Samsung s10 plus or iPhone 11\\nI have seen the specs and everything were good except the display it’s somewhere between 720-1080 and it’s not even an amoled it’s an LCD display\\nBut I decided to go with iPhone because I have never used an IOS device I have Been an android user from the past 9 years I ordered IPhone 11 (128gb) product red\\nMy experience after using 3 weeks\\n1. The delivery ...\\nREAD MORE',\n",
       " 'This is my first iOS phone. I am very happy with this product. Very much satisfied with this. I love this phone.',\n",
       " 'Amazing Powerful and Durable Gadget.\\n\\nI’m am very happy with the camera picture quality, Amazing face id unlocked in dark room, Strong battery with perfect screen size as you can carry easily in pocket. This is my third iPhone.\\n\\nI shifted from android Samsung Note series to iPhone because of the strong build quality and peace of mind for next 3-4 years.\\n\\nDon’t think to much just go for it and I suggest you to go for minimum 128gb variant or more 256gb.\\n\\nI’ve attached my puppy pics and no fi...\\nREAD MORE',\n",
       " 'So far it’s been an AMAZING experience coming back to iOS after nearly a decade but it’s not as versatile as android though phone is sturdy dropped it accidentally a couple of times and nothing happened fortunately camera is awesome',\n",
       " 'i11 is worthy to buy, too much happy with the product. Thank u flipkart I received the item on time..loved it..',\n",
       " 'iphone 11 is a very good phone to buy only if you can compromise for the display. The display on this is device is pretty good but you can get other options with better displays in this price segment.\\nIf you can survive with an HD+ LCD panel with thicker bezels and a notch up top then this is a very good phone for you.\\nCameras are awesome, battery backup excellent, great performance and a decent premium look. Good job Apple !',\n",
       " 'What a camera .....just awesome ..you can feel this iPhone just awesome . Good for gaming also ...try pubg in hd it’s just wow',\n",
       " 'It’s a must buy who is looking for an upgrade from previous generation of iPhones. If you are using XR then still you can hold on for sometime and upgrade to 2020 model else this phone is a must buy . Camera quality is amazing and wide angle is something to count upon. Performance wise it’s amazing and feels premium while holding in hand. So a big YES for this device. Go for 128 GB variant as the 4K videos will occupy lots of space and the storage can get over very quickly. Try to buy it with...\\nREAD MORE',\n",
       " 'Value for money❤️❤️\\nIts awesome mobile phone in the world ...\\nDisplay was very good and bright ..\\nTrust me freinds you r never regret after Buying..\\nJust go for it....\\nI love this phone and i switch to iphone x to 11',\n",
       " 'Totally in love with this ❤ the camera quality is amazing just love it 😘😘😘 itsss dammnnnnnn amazing... Must buy iPhone 11 this is my best experience ever ☀👌👌🧡🧡🧡🧡🧡 thanku apple ❤',\n",
       " \"Iphone is just awesome.. battery backup is very very nice.. continuously for 10 hours we can use it.camera is just awesome.. display is just fab.i love it alot..i had to wait 15 days for it as i pre ordered it..overalll it's worth the price..these all images are clicked by my iPhone..and i love it.\",\n",
       " 'Best budget Iphone till date ❤️ go for it guys without second thought. Let me explain you guys about Camera, Display, battery, and performance.\\n\\nCamera: at this price range there is no comparison of camera, you’ll love the picture quality as well as video quality. I am a Vlogger I wanted an iPhone with 4k video by front camera and I got this phone and I am more than happy 😃\\n\\nBattery: I use this phone roughly as I am active social media person and I have a youtube channel. so the battery ba...\\nREAD MORE',\n",
       " \"It's my first time to use iOS phone and I am loving my upgradation 😍😍 I love the color, I love the assebility of the phone....I need to learn more about its functionality, but as far as I have seen, it's quite easy and it has a lot of functions to work on, specially if you are a content writer or a blogger you get a lot of content creation platforms and they are really amazing.\\n\\nThis phone not only for good quality photography but a lot of other task too.😍💯\",\n",
       " 'Excellent camera, good performance, no lag. The lcd display is also good.. but difference come when we watch movie in prime and Netflix, the colours are not vibrant.. as we see in amoled display.. and the charger in box is of 5 watts.. takes more than 3 hours to charge from 0 to 100.. so guys be prepare to buy 18 watts charger . Finally I am an android user, it was my first Iapple phone, I promise u guys the iOS is so smooth.. overall the phone is damn good.... close eyes to buy it.. thanks t...\\nREAD MORE',\n",
       " 'It’s been almost a month since I have been using this phone. I upgraded from an iPhone 8. The main issue with my 8 was battery and this phone is just awesome when it comes to battery. It lasts a day and a half for me with my regular use , internet connected always with 4g\\nCan’t move forward without saying this. Battery of this phone is a life saver when I am traveling or at work when I don’t get the option to charge\\nCamera is superb. Front cam selfies and back cam photos are just awesome.\\n...\\nREAD MORE',\n",
       " 'Smooth like butter, camera like fantabulous, sound is crystal clear & its red color is damn attractive, i am just loving it. Must buy if you love photography.\\n\\nLucky to get it in sale, thank you Flipkart.']"
      ]
     },
     "execution_count": 201,
     "metadata": {},
     "output_type": "execute_result"
    }
   ],
   "source": [
    "for i in sum1:\n",
    "    ra=i.text\n",
    "    Fullreview.append(ra)\n",
    "Fullreview"
   ]
  },
  {
   "cell_type": "code",
   "execution_count": 202,
   "metadata": {},
   "outputs": [
    {
     "data": {
      "text/plain": [
       "20"
      ]
     },
     "execution_count": 202,
     "metadata": {},
     "output_type": "execute_result"
    }
   ],
   "source": [
    "len(Fullreview)"
   ]
  },
  {
   "cell_type": "code",
   "execution_count": 203,
   "metadata": {},
   "outputs": [
    {
     "name": "stderr",
     "output_type": "stream",
     "text": [
      "C:\\Users\\Suncity\\anaconda3\\lib\\site-packages\\ipykernel_launcher.py:1: DeprecationWarning: find_element_by_* commands are deprecated. Please use find_element() instead\n",
      "  \"\"\"Entry point for launching an IPython kernel.\n"
     ]
    }
   ],
   "source": [
    "page3 = driver.find_element_by_xpath(\"/html/body/div[1]/div/div[3]/div/div/div[2]/div[13]/div/div/nav/a[4]\")\n",
    "\n",
    "page3.click()"
   ]
  },
  {
   "cell_type": "code",
   "execution_count": 204,
   "metadata": {},
   "outputs": [
    {
     "name": "stderr",
     "output_type": "stream",
     "text": [
      "C:\\Users\\Suncity\\anaconda3\\lib\\site-packages\\ipykernel_launcher.py:1: DeprecationWarning: find_elements_by_* commands are deprecated. Please use find_elements() instead\n",
      "  \"\"\"Entry point for launching an IPython kernel.\n"
     ]
    },
    {
     "data": {
      "text/plain": [
       "[<selenium.webdriver.remote.webelement.WebElement (session=\"7bb2a5f6edd8d8d4d0d07972bf0320a2\", element=\"748957bc-1dd1-493e-8fb2-663e8e7b22a8\")>,\n",
       " <selenium.webdriver.remote.webelement.WebElement (session=\"7bb2a5f6edd8d8d4d0d07972bf0320a2\", element=\"4a02aea6-fe07-44bb-af62-a356e10ac36f\")>,\n",
       " <selenium.webdriver.remote.webelement.WebElement (session=\"7bb2a5f6edd8d8d4d0d07972bf0320a2\", element=\"58091537-4848-4ec1-a7d4-622051da80b8\")>,\n",
       " <selenium.webdriver.remote.webelement.WebElement (session=\"7bb2a5f6edd8d8d4d0d07972bf0320a2\", element=\"8ee68c55-be82-4cfc-b977-054e87729bc1\")>,\n",
       " <selenium.webdriver.remote.webelement.WebElement (session=\"7bb2a5f6edd8d8d4d0d07972bf0320a2\", element=\"1378bbf6-69db-48f9-a617-5cf3805d122d\")>,\n",
       " <selenium.webdriver.remote.webelement.WebElement (session=\"7bb2a5f6edd8d8d4d0d07972bf0320a2\", element=\"44ff20fd-efaf-4669-901e-feb345c875f0\")>,\n",
       " <selenium.webdriver.remote.webelement.WebElement (session=\"7bb2a5f6edd8d8d4d0d07972bf0320a2\", element=\"be30d516-2b0a-4f7b-8bc7-89d8f9723bb5\")>,\n",
       " <selenium.webdriver.remote.webelement.WebElement (session=\"7bb2a5f6edd8d8d4d0d07972bf0320a2\", element=\"53eee376-73c8-4454-94f0-2aaeb1890343\")>,\n",
       " <selenium.webdriver.remote.webelement.WebElement (session=\"7bb2a5f6edd8d8d4d0d07972bf0320a2\", element=\"742ab023-ffe7-4cb3-afc1-73daf10c5db8\")>,\n",
       " <selenium.webdriver.remote.webelement.WebElement (session=\"7bb2a5f6edd8d8d4d0d07972bf0320a2\", element=\"cc5c5ce6-4e7b-43bc-897a-6fb13ed32e9e\")>]"
      ]
     },
     "execution_count": 204,
     "metadata": {},
     "output_type": "execute_result"
    }
   ],
   "source": [
    "rat3=driver.find_elements_by_xpath(\"//div[@class='_3LWZlK _1BLPMq']\")\n",
    "rat3"
   ]
  },
  {
   "cell_type": "code",
   "execution_count": 205,
   "metadata": {},
   "outputs": [
    {
     "data": {
      "text/plain": [
       "['5',\n",
       " '5',\n",
       " '5',\n",
       " '5',\n",
       " '5',\n",
       " '5',\n",
       " '5',\n",
       " '4',\n",
       " '5',\n",
       " '5',\n",
       " '5',\n",
       " '5',\n",
       " '5',\n",
       " '5',\n",
       " '5',\n",
       " '5',\n",
       " '5',\n",
       " '5',\n",
       " '5',\n",
       " '5',\n",
       " '5',\n",
       " '5',\n",
       " '4',\n",
       " '5',\n",
       " '5',\n",
       " '5',\n",
       " '5',\n",
       " '4',\n",
       " '5',\n",
       " '5']"
      ]
     },
     "execution_count": 205,
     "metadata": {},
     "output_type": "execute_result"
    }
   ],
   "source": [
    "for i in rat3:\n",
    "    ra=i.text\n",
    "    Ratings.append(ra)\n",
    "Ratings"
   ]
  },
  {
   "cell_type": "code",
   "execution_count": 206,
   "metadata": {},
   "outputs": [
    {
     "name": "stderr",
     "output_type": "stream",
     "text": [
      "C:\\Users\\Suncity\\anaconda3\\lib\\site-packages\\ipykernel_launcher.py:1: DeprecationWarning: find_elements_by_* commands are deprecated. Please use find_elements() instead\n",
      "  \"\"\"Entry point for launching an IPython kernel.\n"
     ]
    },
    {
     "data": {
      "text/plain": [
       "[<selenium.webdriver.remote.webelement.WebElement (session=\"7bb2a5f6edd8d8d4d0d07972bf0320a2\", element=\"7310c747-123c-4649-939d-c9b965adb858\")>,\n",
       " <selenium.webdriver.remote.webelement.WebElement (session=\"7bb2a5f6edd8d8d4d0d07972bf0320a2\", element=\"a38eb022-4e91-4a33-a4ba-fa95e852c746\")>,\n",
       " <selenium.webdriver.remote.webelement.WebElement (session=\"7bb2a5f6edd8d8d4d0d07972bf0320a2\", element=\"a00f0ab9-419e-4ec0-84d6-f7825ab33fb7\")>,\n",
       " <selenium.webdriver.remote.webelement.WebElement (session=\"7bb2a5f6edd8d8d4d0d07972bf0320a2\", element=\"bc2ed49d-2382-42c3-9fdb-54d9609449a4\")>,\n",
       " <selenium.webdriver.remote.webelement.WebElement (session=\"7bb2a5f6edd8d8d4d0d07972bf0320a2\", element=\"d0eb9218-af50-4998-9935-8b383ff1f850\")>,\n",
       " <selenium.webdriver.remote.webelement.WebElement (session=\"7bb2a5f6edd8d8d4d0d07972bf0320a2\", element=\"ded0fa71-da81-4c99-9db9-0fc54302c2ac\")>,\n",
       " <selenium.webdriver.remote.webelement.WebElement (session=\"7bb2a5f6edd8d8d4d0d07972bf0320a2\", element=\"cba0c355-9590-487f-9537-ba804ccfbd60\")>,\n",
       " <selenium.webdriver.remote.webelement.WebElement (session=\"7bb2a5f6edd8d8d4d0d07972bf0320a2\", element=\"e298b639-9135-451a-abd4-90e5ec50e8ee\")>,\n",
       " <selenium.webdriver.remote.webelement.WebElement (session=\"7bb2a5f6edd8d8d4d0d07972bf0320a2\", element=\"32d4ba4c-99a4-42fc-9dee-5bc46a09bbad\")>,\n",
       " <selenium.webdriver.remote.webelement.WebElement (session=\"7bb2a5f6edd8d8d4d0d07972bf0320a2\", element=\"2af5e288-4a9f-4365-9eee-7f569a9d96d4\")>]"
      ]
     },
     "execution_count": 206,
     "metadata": {},
     "output_type": "execute_result"
    }
   ],
   "source": [
    "rav3=driver.find_elements_by_xpath(\"//p[@class='_2-N8zT']\")\n",
    "rav3"
   ]
  },
  {
   "cell_type": "code",
   "execution_count": 207,
   "metadata": {},
   "outputs": [
    {
     "data": {
      "text/plain": [
       "['Brilliant',\n",
       " 'Simply awesome',\n",
       " 'Perfect product!',\n",
       " 'Best in the market!',\n",
       " 'Worth every penny',\n",
       " 'Fabulous!',\n",
       " 'Great product',\n",
       " 'Good choice',\n",
       " 'Worth every penny',\n",
       " 'Highly recommended',\n",
       " 'Highly recommended',\n",
       " 'Perfect product!',\n",
       " 'Perfect product!',\n",
       " 'Classy product',\n",
       " 'Perfect product!',\n",
       " 'Worth every penny',\n",
       " 'Highly recommended',\n",
       " 'Simply awesome',\n",
       " 'Worth every penny',\n",
       " 'Worth every penny',\n",
       " 'Terrific',\n",
       " 'Wonderful',\n",
       " 'Nice product',\n",
       " 'Perfect product!',\n",
       " 'Brilliant',\n",
       " 'Classy product',\n",
       " 'Must buy!',\n",
       " 'Good choice',\n",
       " 'Perfect product!',\n",
       " 'Wonderful']"
      ]
     },
     "execution_count": 207,
     "metadata": {},
     "output_type": "execute_result"
    }
   ],
   "source": [
    "for i in rav3:\n",
    "    ra=i.text\n",
    "    Review_summary.append(ra)\n",
    "Review_summary"
   ]
  },
  {
   "cell_type": "code",
   "execution_count": 208,
   "metadata": {},
   "outputs": [
    {
     "name": "stderr",
     "output_type": "stream",
     "text": [
      "C:\\Users\\Suncity\\anaconda3\\lib\\site-packages\\ipykernel_launcher.py:1: DeprecationWarning: find_elements_by_* commands are deprecated. Please use find_elements() instead\n",
      "  \"\"\"Entry point for launching an IPython kernel.\n"
     ]
    },
    {
     "data": {
      "text/plain": [
       "[<selenium.webdriver.remote.webelement.WebElement (session=\"7bb2a5f6edd8d8d4d0d07972bf0320a2\", element=\"e5342802-18af-4db9-b287-ee93542bc4c3\")>,\n",
       " <selenium.webdriver.remote.webelement.WebElement (session=\"7bb2a5f6edd8d8d4d0d07972bf0320a2\", element=\"b489f267-a0f1-4004-ad0e-c3245a1ed6f6\")>,\n",
       " <selenium.webdriver.remote.webelement.WebElement (session=\"7bb2a5f6edd8d8d4d0d07972bf0320a2\", element=\"15f497dd-5d5f-467d-aee9-b91cb1e86bb4\")>,\n",
       " <selenium.webdriver.remote.webelement.WebElement (session=\"7bb2a5f6edd8d8d4d0d07972bf0320a2\", element=\"e3304809-9b95-4b77-880d-f329a2a7e51b\")>,\n",
       " <selenium.webdriver.remote.webelement.WebElement (session=\"7bb2a5f6edd8d8d4d0d07972bf0320a2\", element=\"16e4fc80-6913-4e65-b698-b25d73b64f71\")>,\n",
       " <selenium.webdriver.remote.webelement.WebElement (session=\"7bb2a5f6edd8d8d4d0d07972bf0320a2\", element=\"a1fc9e85-53fa-4c8f-ac0b-9535398e0b50\")>,\n",
       " <selenium.webdriver.remote.webelement.WebElement (session=\"7bb2a5f6edd8d8d4d0d07972bf0320a2\", element=\"32742434-5a5b-4fe2-ac86-474247f05b4e\")>,\n",
       " <selenium.webdriver.remote.webelement.WebElement (session=\"7bb2a5f6edd8d8d4d0d07972bf0320a2\", element=\"3ec72005-ce6d-493b-9348-90e3a6eacde3\")>,\n",
       " <selenium.webdriver.remote.webelement.WebElement (session=\"7bb2a5f6edd8d8d4d0d07972bf0320a2\", element=\"4c937295-371f-418c-af19-4f297ffb17d9\")>,\n",
       " <selenium.webdriver.remote.webelement.WebElement (session=\"7bb2a5f6edd8d8d4d0d07972bf0320a2\", element=\"3682a073-fc03-4caa-b07c-83069ff7cf98\")>]"
      ]
     },
     "execution_count": 208,
     "metadata": {},
     "output_type": "execute_result"
    }
   ],
   "source": [
    "sum3=driver.find_elements_by_xpath(\"//div[@class='t-ZTKy']\")\n",
    "sum3"
   ]
  },
  {
   "cell_type": "code",
   "execution_count": 209,
   "metadata": {},
   "outputs": [
    {
     "data": {
      "text/plain": [
       "['The Best Phone for the Money\\n\\nThe iPhone 11 offers superb cameras, a more durable design and excellent battery life for an affordable price.\\n\\nCompelling ultra-wide camera\\nNew Night mode is excellent\\nLong battery life',\n",
       " 'Really satisfied with the Product I received... It’s totally genuine and the packaging was also really good so if ur planning to buy just go for it.',\n",
       " 'Amazing phone with great cameras and better battery which gives you the best performance. I just love the camera .',\n",
       " 'Great iPhone very snappy experience as apple kind. Upgraded from iPhone 7.\\nPros\\n-Camera top class\\n- Battery top performed\\n-Chipset no need to say as apple kind\\n-Security as you expect from apple\\n- Display super bright industry leading colour\\naccuracy and super responsive\\n-Build quality as expect from apple sturdy\\npremium durable beautiful stylish.\\n-Os most stable os in smartphone industry\\n\\nCons\\n-No 5G\\n-Display is not based on OLED technology\\n-Charger headphones and 1 apple stic...\\nREAD MORE',\n",
       " 'Previously I was using one plus 3t it was a great phone\\nAnd then I decided to upgrade I am stuck between Samsung s10 plus or iPhone 11\\nI have seen the specs and everything were good except the display it’s somewhere between 720-1080 and it’s not even an amoled it’s an LCD display\\nBut I decided to go with iPhone because I have never used an IOS device I have Been an android user from the past 9 years I ordered IPhone 11 (128gb) product red\\nMy experience after using 3 weeks\\n1. The delivery ...\\nREAD MORE',\n",
       " 'This is my first iOS phone. I am very happy with this product. Very much satisfied with this. I love this phone.',\n",
       " 'Amazing Powerful and Durable Gadget.\\n\\nI’m am very happy with the camera picture quality, Amazing face id unlocked in dark room, Strong battery with perfect screen size as you can carry easily in pocket. This is my third iPhone.\\n\\nI shifted from android Samsung Note series to iPhone because of the strong build quality and peace of mind for next 3-4 years.\\n\\nDon’t think to much just go for it and I suggest you to go for minimum 128gb variant or more 256gb.\\n\\nI’ve attached my puppy pics and no fi...\\nREAD MORE',\n",
       " 'So far it’s been an AMAZING experience coming back to iOS after nearly a decade but it’s not as versatile as android though phone is sturdy dropped it accidentally a couple of times and nothing happened fortunately camera is awesome',\n",
       " 'i11 is worthy to buy, too much happy with the product. Thank u flipkart I received the item on time..loved it..',\n",
       " 'iphone 11 is a very good phone to buy only if you can compromise for the display. The display on this is device is pretty good but you can get other options with better displays in this price segment.\\nIf you can survive with an HD+ LCD panel with thicker bezels and a notch up top then this is a very good phone for you.\\nCameras are awesome, battery backup excellent, great performance and a decent premium look. Good job Apple !',\n",
       " 'What a camera .....just awesome ..you can feel this iPhone just awesome . Good for gaming also ...try pubg in hd it’s just wow',\n",
       " 'It’s a must buy who is looking for an upgrade from previous generation of iPhones. If you are using XR then still you can hold on for sometime and upgrade to 2020 model else this phone is a must buy . Camera quality is amazing and wide angle is something to count upon. Performance wise it’s amazing and feels premium while holding in hand. So a big YES for this device. Go for 128 GB variant as the 4K videos will occupy lots of space and the storage can get over very quickly. Try to buy it with...\\nREAD MORE',\n",
       " 'Value for money❤️❤️\\nIts awesome mobile phone in the world ...\\nDisplay was very good and bright ..\\nTrust me freinds you r never regret after Buying..\\nJust go for it....\\nI love this phone and i switch to iphone x to 11',\n",
       " 'Totally in love with this ❤ the camera quality is amazing just love it 😘😘😘 itsss dammnnnnnn amazing... Must buy iPhone 11 this is my best experience ever ☀👌👌🧡🧡🧡🧡🧡 thanku apple ❤',\n",
       " \"Iphone is just awesome.. battery backup is very very nice.. continuously for 10 hours we can use it.camera is just awesome.. display is just fab.i love it alot..i had to wait 15 days for it as i pre ordered it..overalll it's worth the price..these all images are clicked by my iPhone..and i love it.\",\n",
       " 'Best budget Iphone till date ❤️ go for it guys without second thought. Let me explain you guys about Camera, Display, battery, and performance.\\n\\nCamera: at this price range there is no comparison of camera, you’ll love the picture quality as well as video quality. I am a Vlogger I wanted an iPhone with 4k video by front camera and I got this phone and I am more than happy 😃\\n\\nBattery: I use this phone roughly as I am active social media person and I have a youtube channel. so the battery ba...\\nREAD MORE',\n",
       " \"It's my first time to use iOS phone and I am loving my upgradation 😍😍 I love the color, I love the assebility of the phone....I need to learn more about its functionality, but as far as I have seen, it's quite easy and it has a lot of functions to work on, specially if you are a content writer or a blogger you get a lot of content creation platforms and they are really amazing.\\n\\nThis phone not only for good quality photography but a lot of other task too.😍💯\",\n",
       " 'Excellent camera, good performance, no lag. The lcd display is also good.. but difference come when we watch movie in prime and Netflix, the colours are not vibrant.. as we see in amoled display.. and the charger in box is of 5 watts.. takes more than 3 hours to charge from 0 to 100.. so guys be prepare to buy 18 watts charger . Finally I am an android user, it was my first Iapple phone, I promise u guys the iOS is so smooth.. overall the phone is damn good.... close eyes to buy it.. thanks t...\\nREAD MORE',\n",
       " 'It’s been almost a month since I have been using this phone. I upgraded from an iPhone 8. The main issue with my 8 was battery and this phone is just awesome when it comes to battery. It lasts a day and a half for me with my regular use , internet connected always with 4g\\nCan’t move forward without saying this. Battery of this phone is a life saver when I am traveling or at work when I don’t get the option to charge\\nCamera is superb. Front cam selfies and back cam photos are just awesome.\\n...\\nREAD MORE',\n",
       " 'Smooth like butter, camera like fantabulous, sound is crystal clear & its red color is damn attractive, i am just loving it. Must buy if you love photography.\\n\\nLucky to get it in sale, thank you Flipkart.',\n",
       " 'Really worth of money. i just love it. It is the best phone ever.',\n",
       " 'This is my first ever I phone. Before this I was using my google nexus 5. But moving from android to iOS is a great experience. It’s worth at this price. I will highly recommend it if you want to move to iOS. The best part of this phone is it’s camera and it’s battery life. This two things have won my heart. I loved it. Happy to have it in my hand. Still exploring its features. And can’t forget to mention Flipkart service. Very prompt service and fast delivery.',\n",
       " 'Awesome Phone. Slightly high price but worth. Better than iPhone XR.\\nCamera is superb and wide angle camera is very clear.\\n12MP selfie camera is also very good.\\nA13 Chip gives a very good and smooth performance.',\n",
       " 'Battery backup is extraordinary, camera is decent & performance offered by A13 bionic is awsome. The display is good in practical usage like the visibility of display is very good in direct sun light compare to pro models. Iam extremely satisfied for the money I spent.',\n",
       " 'I have migrated from OP 7pro... and trust me, iPhone 11 is totally worth it.. following are the reasons:-\\n1)there is ABSOLUTELY NO ISSUE WITH THE DISPLAY... its crisp, sharp and I found it to be much much better than OP7 pro. Netflix, Prime video all run crisply... you won’t miss a thing. True Tone works flawlessly...the display brightness is perfect. OP have not calibrated their screens properly.\\n2) iPhone 11 series have really good cameras... others have spoken in depth about them.\\n3) bat...\\nREAD MORE',\n",
       " 'Superb Product !!!\\nA big and worthy upgrade from mi 3S to iphone 11 .\\nTotally loved it !',\n",
       " 'It’s an amazing product from apple and the camera is simply superb. Phone is faster.Night shot is simply superb and detailing and colour differentiation from camera is an added advantage\\n\\nThis review I have written from iPhone 11 only and I am glad to say outside.\\n\\nCons wise if we see HD+ display only, no battery percentage indicator as in older iPhone 8.\\nNo assistive touch control button in it\\nNo oleophobic coating on back panel glass and finger prints are visible but since I bought mint gr...\\nREAD MORE',\n",
       " 'Looking so good 👍 😍 super 👌 stylish 😎 phone\\nClean box 📦 good 👍 delivery 👌 fast delivery\\nOriginal box Original iphone 📱 👌 😍😍😍',\n",
       " 'After 1 month use I found camera quality best compared to my previous Samsung note 10+.Display not good as note 10 also charging too slow.Apple should add fast charger like 11 plus and pro.Best phone for daily use',\n",
       " 'I just directly switch from iphone 6s to iphone 11 .The best premium smartphone I recommend to everyone. Excellent quality and colors the iphone have in 11 series.\\nCamera quality is just awesome and the major feel when we hold in our hands. The sound quality and volume is also higher then the previous models.\\nI will recommend to buy iphone 11 instead of pro models , there is nothing much difference as this model contains everything which fulfill our needs.\\n\\nOnly one thing that I dislike abo...\\nREAD MORE']"
      ]
     },
     "execution_count": 209,
     "metadata": {},
     "output_type": "execute_result"
    }
   ],
   "source": [
    "for i in sum3:\n",
    "    ra=i.text\n",
    "    Fullreview.append(ra)\n",
    "Fullreview"
   ]
  },
  {
   "cell_type": "code",
   "execution_count": 210,
   "metadata": {},
   "outputs": [
    {
     "data": {
      "text/plain": [
       "30"
      ]
     },
     "execution_count": 210,
     "metadata": {},
     "output_type": "execute_result"
    }
   ],
   "source": [
    "len(Fullreview)"
   ]
  },
  {
   "cell_type": "code",
   "execution_count": 211,
   "metadata": {},
   "outputs": [],
   "source": [
    "df=pd.DataFrame()\n",
    "df['Ratings']=Ratings\n",
    "df['Review_summary']=Review_summary\n",
    "df['Fullreview']=Fullreview"
   ]
  },
  {
   "cell_type": "code",
   "execution_count": 212,
   "metadata": {},
   "outputs": [
    {
     "data": {
      "text/html": [
       "<div>\n",
       "<style scoped>\n",
       "    .dataframe tbody tr th:only-of-type {\n",
       "        vertical-align: middle;\n",
       "    }\n",
       "\n",
       "    .dataframe tbody tr th {\n",
       "        vertical-align: top;\n",
       "    }\n",
       "\n",
       "    .dataframe thead th {\n",
       "        text-align: right;\n",
       "    }\n",
       "</style>\n",
       "<table border=\"1\" class=\"dataframe\">\n",
       "  <thead>\n",
       "    <tr style=\"text-align: right;\">\n",
       "      <th></th>\n",
       "      <th>Ratings</th>\n",
       "      <th>Review_summary</th>\n",
       "      <th>Fullreview</th>\n",
       "    </tr>\n",
       "  </thead>\n",
       "  <tbody>\n",
       "    <tr>\n",
       "      <th>0</th>\n",
       "      <td>5</td>\n",
       "      <td>Brilliant</td>\n",
       "      <td>The Best Phone for the Money\\n\\nThe iPhone 11 ...</td>\n",
       "    </tr>\n",
       "    <tr>\n",
       "      <th>1</th>\n",
       "      <td>5</td>\n",
       "      <td>Simply awesome</td>\n",
       "      <td>Really satisfied with the Product I received.....</td>\n",
       "    </tr>\n",
       "    <tr>\n",
       "      <th>2</th>\n",
       "      <td>5</td>\n",
       "      <td>Perfect product!</td>\n",
       "      <td>Amazing phone with great cameras and better ba...</td>\n",
       "    </tr>\n",
       "    <tr>\n",
       "      <th>3</th>\n",
       "      <td>5</td>\n",
       "      <td>Best in the market!</td>\n",
       "      <td>Great iPhone very snappy experience as apple k...</td>\n",
       "    </tr>\n",
       "    <tr>\n",
       "      <th>4</th>\n",
       "      <td>5</td>\n",
       "      <td>Worth every penny</td>\n",
       "      <td>Previously I was using one plus 3t it was a gr...</td>\n",
       "    </tr>\n",
       "    <tr>\n",
       "      <th>5</th>\n",
       "      <td>5</td>\n",
       "      <td>Fabulous!</td>\n",
       "      <td>This is my first iOS phone. I am very happy wi...</td>\n",
       "    </tr>\n",
       "    <tr>\n",
       "      <th>6</th>\n",
       "      <td>5</td>\n",
       "      <td>Great product</td>\n",
       "      <td>Amazing Powerful and Durable Gadget.\\n\\nI’m am...</td>\n",
       "    </tr>\n",
       "    <tr>\n",
       "      <th>7</th>\n",
       "      <td>4</td>\n",
       "      <td>Good choice</td>\n",
       "      <td>So far it’s been an AMAZING experience coming ...</td>\n",
       "    </tr>\n",
       "    <tr>\n",
       "      <th>8</th>\n",
       "      <td>5</td>\n",
       "      <td>Worth every penny</td>\n",
       "      <td>i11 is worthy to buy, too much happy with the ...</td>\n",
       "    </tr>\n",
       "    <tr>\n",
       "      <th>9</th>\n",
       "      <td>5</td>\n",
       "      <td>Highly recommended</td>\n",
       "      <td>iphone 11 is a very good phone to buy only if ...</td>\n",
       "    </tr>\n",
       "    <tr>\n",
       "      <th>10</th>\n",
       "      <td>5</td>\n",
       "      <td>Highly recommended</td>\n",
       "      <td>What a camera .....just awesome ..you can feel...</td>\n",
       "    </tr>\n",
       "    <tr>\n",
       "      <th>11</th>\n",
       "      <td>5</td>\n",
       "      <td>Perfect product!</td>\n",
       "      <td>It’s a must buy who is looking for an upgrade ...</td>\n",
       "    </tr>\n",
       "    <tr>\n",
       "      <th>12</th>\n",
       "      <td>5</td>\n",
       "      <td>Perfect product!</td>\n",
       "      <td>Value for money❤️❤️\\nIts awesome mobile phone ...</td>\n",
       "    </tr>\n",
       "    <tr>\n",
       "      <th>13</th>\n",
       "      <td>5</td>\n",
       "      <td>Classy product</td>\n",
       "      <td>Totally in love with this ❤ the camera quality...</td>\n",
       "    </tr>\n",
       "    <tr>\n",
       "      <th>14</th>\n",
       "      <td>5</td>\n",
       "      <td>Perfect product!</td>\n",
       "      <td>Iphone is just awesome.. battery backup is ver...</td>\n",
       "    </tr>\n",
       "    <tr>\n",
       "      <th>15</th>\n",
       "      <td>5</td>\n",
       "      <td>Worth every penny</td>\n",
       "      <td>Best budget Iphone till date ❤️ go for it guys...</td>\n",
       "    </tr>\n",
       "    <tr>\n",
       "      <th>16</th>\n",
       "      <td>5</td>\n",
       "      <td>Highly recommended</td>\n",
       "      <td>It's my first time to use iOS phone and I am l...</td>\n",
       "    </tr>\n",
       "    <tr>\n",
       "      <th>17</th>\n",
       "      <td>5</td>\n",
       "      <td>Simply awesome</td>\n",
       "      <td>Excellent camera, good performance, no lag. Th...</td>\n",
       "    </tr>\n",
       "    <tr>\n",
       "      <th>18</th>\n",
       "      <td>5</td>\n",
       "      <td>Worth every penny</td>\n",
       "      <td>It’s been almost a month since I have been usi...</td>\n",
       "    </tr>\n",
       "    <tr>\n",
       "      <th>19</th>\n",
       "      <td>5</td>\n",
       "      <td>Worth every penny</td>\n",
       "      <td>Smooth like butter, camera like fantabulous, s...</td>\n",
       "    </tr>\n",
       "    <tr>\n",
       "      <th>20</th>\n",
       "      <td>5</td>\n",
       "      <td>Terrific</td>\n",
       "      <td>Really worth of money. i just love it. It is t...</td>\n",
       "    </tr>\n",
       "    <tr>\n",
       "      <th>21</th>\n",
       "      <td>5</td>\n",
       "      <td>Wonderful</td>\n",
       "      <td>This is my first ever I phone. Before this I w...</td>\n",
       "    </tr>\n",
       "    <tr>\n",
       "      <th>22</th>\n",
       "      <td>4</td>\n",
       "      <td>Nice product</td>\n",
       "      <td>Awesome Phone. Slightly high price but worth. ...</td>\n",
       "    </tr>\n",
       "    <tr>\n",
       "      <th>23</th>\n",
       "      <td>5</td>\n",
       "      <td>Perfect product!</td>\n",
       "      <td>Battery backup is extraordinary, camera is dec...</td>\n",
       "    </tr>\n",
       "    <tr>\n",
       "      <th>24</th>\n",
       "      <td>5</td>\n",
       "      <td>Brilliant</td>\n",
       "      <td>I have migrated from OP 7pro... and trust me, ...</td>\n",
       "    </tr>\n",
       "    <tr>\n",
       "      <th>25</th>\n",
       "      <td>5</td>\n",
       "      <td>Classy product</td>\n",
       "      <td>Superb Product !!!\\nA big and worthy upgrade f...</td>\n",
       "    </tr>\n",
       "    <tr>\n",
       "      <th>26</th>\n",
       "      <td>5</td>\n",
       "      <td>Must buy!</td>\n",
       "      <td>It’s an amazing product from apple and the cam...</td>\n",
       "    </tr>\n",
       "    <tr>\n",
       "      <th>27</th>\n",
       "      <td>4</td>\n",
       "      <td>Good choice</td>\n",
       "      <td>Looking so good 👍 😍 super 👌 stylish 😎 phone\\nC...</td>\n",
       "    </tr>\n",
       "    <tr>\n",
       "      <th>28</th>\n",
       "      <td>5</td>\n",
       "      <td>Perfect product!</td>\n",
       "      <td>After 1 month use I found camera quality best ...</td>\n",
       "    </tr>\n",
       "    <tr>\n",
       "      <th>29</th>\n",
       "      <td>5</td>\n",
       "      <td>Wonderful</td>\n",
       "      <td>I just directly switch from iphone 6s to iphon...</td>\n",
       "    </tr>\n",
       "  </tbody>\n",
       "</table>\n",
       "</div>"
      ],
      "text/plain": [
       "   Ratings       Review_summary  \\\n",
       "0        5            Brilliant   \n",
       "1        5       Simply awesome   \n",
       "2        5     Perfect product!   \n",
       "3        5  Best in the market!   \n",
       "4        5    Worth every penny   \n",
       "5        5            Fabulous!   \n",
       "6        5        Great product   \n",
       "7        4          Good choice   \n",
       "8        5    Worth every penny   \n",
       "9        5   Highly recommended   \n",
       "10       5   Highly recommended   \n",
       "11       5     Perfect product!   \n",
       "12       5     Perfect product!   \n",
       "13       5       Classy product   \n",
       "14       5     Perfect product!   \n",
       "15       5    Worth every penny   \n",
       "16       5   Highly recommended   \n",
       "17       5       Simply awesome   \n",
       "18       5    Worth every penny   \n",
       "19       5    Worth every penny   \n",
       "20       5             Terrific   \n",
       "21       5            Wonderful   \n",
       "22       4         Nice product   \n",
       "23       5     Perfect product!   \n",
       "24       5            Brilliant   \n",
       "25       5       Classy product   \n",
       "26       5            Must buy!   \n",
       "27       4          Good choice   \n",
       "28       5     Perfect product!   \n",
       "29       5            Wonderful   \n",
       "\n",
       "                                           Fullreview  \n",
       "0   The Best Phone for the Money\\n\\nThe iPhone 11 ...  \n",
       "1   Really satisfied with the Product I received.....  \n",
       "2   Amazing phone with great cameras and better ba...  \n",
       "3   Great iPhone very snappy experience as apple k...  \n",
       "4   Previously I was using one plus 3t it was a gr...  \n",
       "5   This is my first iOS phone. I am very happy wi...  \n",
       "6   Amazing Powerful and Durable Gadget.\\n\\nI’m am...  \n",
       "7   So far it’s been an AMAZING experience coming ...  \n",
       "8   i11 is worthy to buy, too much happy with the ...  \n",
       "9   iphone 11 is a very good phone to buy only if ...  \n",
       "10  What a camera .....just awesome ..you can feel...  \n",
       "11  It’s a must buy who is looking for an upgrade ...  \n",
       "12  Value for money❤️❤️\\nIts awesome mobile phone ...  \n",
       "13  Totally in love with this ❤ the camera quality...  \n",
       "14  Iphone is just awesome.. battery backup is ver...  \n",
       "15  Best budget Iphone till date ❤️ go for it guys...  \n",
       "16  It's my first time to use iOS phone and I am l...  \n",
       "17  Excellent camera, good performance, no lag. Th...  \n",
       "18  It’s been almost a month since I have been usi...  \n",
       "19  Smooth like butter, camera like fantabulous, s...  \n",
       "20  Really worth of money. i just love it. It is t...  \n",
       "21  This is my first ever I phone. Before this I w...  \n",
       "22  Awesome Phone. Slightly high price but worth. ...  \n",
       "23  Battery backup is extraordinary, camera is dec...  \n",
       "24  I have migrated from OP 7pro... and trust me, ...  \n",
       "25  Superb Product !!!\\nA big and worthy upgrade f...  \n",
       "26  It’s an amazing product from apple and the cam...  \n",
       "27  Looking so good 👍 😍 super 👌 stylish 😎 phone\\nC...  \n",
       "28  After 1 month use I found camera quality best ...  \n",
       "29  I just directly switch from iphone 6s to iphon...  "
      ]
     },
     "execution_count": 212,
     "metadata": {},
     "output_type": "execute_result"
    }
   ],
   "source": [
    "df"
   ]
  },
  {
   "cell_type": "markdown",
   "metadata": {},
   "source": [
    "Q6. Scrape data for first 100 sneakers you find when you visit flipkart.com and search for \"sneaker\" in the search field.\n",
    "You have to scrape 4 attributes of each sneaker:\n",
    "1. Brand\n",
    "2. Product Description\n",
    "3. Price"
   ]
  },
  {
   "cell_type": "code",
   "execution_count": 1,
   "metadata": {},
   "outputs": [
    {
     "name": "stdout",
     "output_type": "stream",
     "text": [
      "Requirement already satisfied: selenium in c:\\users\\suncity\\anaconda3\\lib\\site-packages (4.1.0)\n",
      "Requirement already satisfied: urllib3[secure]~=1.26 in c:\\users\\suncity\\anaconda3\\lib\\site-packages (from selenium) (1.26.7)\n",
      "Requirement already satisfied: trio~=0.17 in c:\\users\\suncity\\anaconda3\\lib\\site-packages (from selenium) (0.19.0)\n",
      "Requirement already satisfied: trio-websocket~=0.9 in c:\\users\\suncity\\anaconda3\\lib\\site-packages (from selenium) (0.9.2)\n",
      "Requirement already satisfied: idna>=2.0.0; extra == \"secure\" in c:\\users\\suncity\\anaconda3\\lib\\site-packages (from urllib3[secure]~=1.26->selenium) (2.8)\n",
      "Requirement already satisfied: certifi; extra == \"secure\" in c:\\users\\suncity\\anaconda3\\lib\\site-packages (from urllib3[secure]~=1.26->selenium) (2019.11.28)\n",
      "Requirement already satisfied: pyOpenSSL>=0.14; extra == \"secure\" in c:\\users\\suncity\\anaconda3\\lib\\site-packages (from urllib3[secure]~=1.26->selenium) (19.1.0)\n",
      "Requirement already satisfied: cryptography>=1.3.4; extra == \"secure\" in c:\\users\\suncity\\anaconda3\\lib\\site-packages (from urllib3[secure]~=1.26->selenium) (2.8)\n",
      "Requirement already satisfied: sortedcontainers in c:\\users\\suncity\\anaconda3\\lib\\site-packages (from trio~=0.17->selenium) (2.1.0)\n",
      "Requirement already satisfied: async-generator>=1.9 in c:\\users\\suncity\\anaconda3\\lib\\site-packages (from trio~=0.17->selenium) (1.10)\n",
      "Requirement already satisfied: outcome in c:\\users\\suncity\\anaconda3\\lib\\site-packages (from trio~=0.17->selenium) (1.1.0)\n",
      "Requirement already satisfied: sniffio in c:\\users\\suncity\\anaconda3\\lib\\site-packages (from trio~=0.17->selenium) (1.2.0)\n",
      "Requirement already satisfied: attrs>=19.2.0 in c:\\users\\suncity\\anaconda3\\lib\\site-packages (from trio~=0.17->selenium) (19.3.0)\n",
      "Requirement already satisfied: cffi>=1.14; os_name == \"nt\" and implementation_name != \"pypy\" in c:\\users\\suncity\\anaconda3\\lib\\site-packages (from trio~=0.17->selenium) (1.14.0)\n",
      "Requirement already satisfied: wsproto>=0.14 in c:\\users\\suncity\\anaconda3\\lib\\site-packages (from trio-websocket~=0.9->selenium) (1.0.0)\n",
      "Requirement already satisfied: six>=1.5.2 in c:\\users\\suncity\\anaconda3\\lib\\site-packages (from pyOpenSSL>=0.14; extra == \"secure\"->urllib3[secure]~=1.26->selenium) (1.14.0)\n",
      "Requirement already satisfied: pycparser in c:\\users\\suncity\\anaconda3\\lib\\site-packages (from cffi>=1.14; os_name == \"nt\" and implementation_name != \"pypy\"->trio~=0.17->selenium) (2.19)\n",
      "Requirement already satisfied: h11<1,>=0.9.0 in c:\\users\\suncity\\anaconda3\\lib\\site-packages (from wsproto>=0.14->trio-websocket~=0.9->selenium) (0.12.0)\n"
     ]
    }
   ],
   "source": [
    "#Let's first install the selenium Library\n",
    "!pip install selenium"
   ]
  },
  {
   "cell_type": "code",
   "execution_count": 2,
   "metadata": {},
   "outputs": [],
   "source": [
    "#let's import all the required libraries\n",
    "import selenium\n",
    "import pandas as pd\n",
    "from selenium import webdriver"
   ]
  },
  {
   "cell_type": "code",
   "execution_count": 3,
   "metadata": {},
   "outputs": [
    {
     "name": "stderr",
     "output_type": "stream",
     "text": [
      "C:\\Users\\Suncity\\anaconda3\\lib\\site-packages\\ipykernel_launcher.py:2: DeprecationWarning: executable_path has been deprecated, please pass in a Service object\n",
      "  \n"
     ]
    }
   ],
   "source": [
    "#let's first to connect with the driver\n",
    "driver= webdriver.Chrome(r\"C:/Users/Suncity/Downloads/chromedriver_win32/chromedriver.exe\")"
   ]
  },
  {
   "cell_type": "code",
   "execution_count": 4,
   "metadata": {},
   "outputs": [],
   "source": [
    "driver.get(\"https://www.flipkart.com/\")"
   ]
  },
  {
   "cell_type": "code",
   "execution_count": 5,
   "metadata": {},
   "outputs": [
    {
     "name": "stderr",
     "output_type": "stream",
     "text": [
      "C:\\Users\\Suncity\\anaconda3\\lib\\site-packages\\ipykernel_launcher.py:2: DeprecationWarning: find_element_by_* commands are deprecated. Please use find_element() instead\n",
      "  \n"
     ]
    }
   ],
   "source": [
    "#finding element for job search bar\n",
    "search1=driver.find_element_by_name('q')\n",
    "search1.send_keys(\"sneakers\")"
   ]
  },
  {
   "cell_type": "code",
   "execution_count": 6,
   "metadata": {},
   "outputs": [
    {
     "name": "stderr",
     "output_type": "stream",
     "text": [
      "C:\\Users\\Suncity\\anaconda3\\lib\\site-packages\\ipykernel_launcher.py:1: DeprecationWarning: find_element_by_* commands are deprecated. Please use find_element() instead\n",
      "  \"\"\"Entry point for launching an IPython kernel.\n"
     ]
    }
   ],
   "source": [
    "search_btn=driver.find_element_by_xpath(\"//button[@class='L0Z3Pu']\")\n",
    "search_btn.click()"
   ]
  },
  {
   "cell_type": "code",
   "execution_count": 7,
   "metadata": {},
   "outputs": [
    {
     "name": "stderr",
     "output_type": "stream",
     "text": [
      "C:\\Users\\Suncity\\anaconda3\\lib\\site-packages\\ipykernel_launcher.py:1: DeprecationWarning: find_elements_by_* commands are deprecated. Please use find_elements() instead\n",
      "  \"\"\"Entry point for launching an IPython kernel.\n"
     ]
    },
    {
     "data": {
      "text/plain": [
       "[<selenium.webdriver.remote.webelement.WebElement (session=\"ecc063c6db6134752c3601a50bbfcb82\", element=\"0daae58a-48b2-4a46-93cf-6585be24d4a7\")>,\n",
       " <selenium.webdriver.remote.webelement.WebElement (session=\"ecc063c6db6134752c3601a50bbfcb82\", element=\"64a9231e-3335-4526-99f5-0e86bc5a417e\")>,\n",
       " <selenium.webdriver.remote.webelement.WebElement (session=\"ecc063c6db6134752c3601a50bbfcb82\", element=\"b94c754e-feb6-434b-882a-0bec05a85cf1\")>,\n",
       " <selenium.webdriver.remote.webelement.WebElement (session=\"ecc063c6db6134752c3601a50bbfcb82\", element=\"58eb193f-2d6a-401c-8764-dc49bc6541a1\")>,\n",
       " <selenium.webdriver.remote.webelement.WebElement (session=\"ecc063c6db6134752c3601a50bbfcb82\", element=\"4bbb09b4-ff6b-4cbe-a3a0-3d8dac6481fc\")>,\n",
       " <selenium.webdriver.remote.webelement.WebElement (session=\"ecc063c6db6134752c3601a50bbfcb82\", element=\"f725e093-4dca-423e-8897-e39b585407a6\")>,\n",
       " <selenium.webdriver.remote.webelement.WebElement (session=\"ecc063c6db6134752c3601a50bbfcb82\", element=\"3cd1b41e-9423-4155-a573-fa5a3f84ed47\")>,\n",
       " <selenium.webdriver.remote.webelement.WebElement (session=\"ecc063c6db6134752c3601a50bbfcb82\", element=\"b99f772b-61cc-4fae-a73f-d5837fa5b923\")>,\n",
       " <selenium.webdriver.remote.webelement.WebElement (session=\"ecc063c6db6134752c3601a50bbfcb82\", element=\"974c7e5f-87f5-423c-add9-1c04949b56a2\")>,\n",
       " <selenium.webdriver.remote.webelement.WebElement (session=\"ecc063c6db6134752c3601a50bbfcb82\", element=\"a37c5bab-3e80-4d85-af73-71097cd2b9f3\")>,\n",
       " <selenium.webdriver.remote.webelement.WebElement (session=\"ecc063c6db6134752c3601a50bbfcb82\", element=\"edecf09e-2b30-4877-9b5f-ac50603067a1\")>,\n",
       " <selenium.webdriver.remote.webelement.WebElement (session=\"ecc063c6db6134752c3601a50bbfcb82\", element=\"bbca894e-5821-4391-b372-96a18db13a39\")>,\n",
       " <selenium.webdriver.remote.webelement.WebElement (session=\"ecc063c6db6134752c3601a50bbfcb82\", element=\"8895bb2d-983f-4cca-bebd-6dccd26c64e0\")>,\n",
       " <selenium.webdriver.remote.webelement.WebElement (session=\"ecc063c6db6134752c3601a50bbfcb82\", element=\"36dffcf5-ad18-4ced-9041-16626cb7c91a\")>,\n",
       " <selenium.webdriver.remote.webelement.WebElement (session=\"ecc063c6db6134752c3601a50bbfcb82\", element=\"1547626c-af49-4ecf-b768-d287937b6af9\")>,\n",
       " <selenium.webdriver.remote.webelement.WebElement (session=\"ecc063c6db6134752c3601a50bbfcb82\", element=\"b572d452-858a-46c6-afb2-15c71986f157\")>,\n",
       " <selenium.webdriver.remote.webelement.WebElement (session=\"ecc063c6db6134752c3601a50bbfcb82\", element=\"0f518465-a591-4a97-bfa0-93ed15af9608\")>,\n",
       " <selenium.webdriver.remote.webelement.WebElement (session=\"ecc063c6db6134752c3601a50bbfcb82\", element=\"12b20fae-88d4-441d-9312-d3a9de754f24\")>,\n",
       " <selenium.webdriver.remote.webelement.WebElement (session=\"ecc063c6db6134752c3601a50bbfcb82\", element=\"2c4697e8-341a-4b78-bcd7-678e6e8db1bd\")>,\n",
       " <selenium.webdriver.remote.webelement.WebElement (session=\"ecc063c6db6134752c3601a50bbfcb82\", element=\"675f8852-7302-4b61-a774-00ee1000c55b\")>,\n",
       " <selenium.webdriver.remote.webelement.WebElement (session=\"ecc063c6db6134752c3601a50bbfcb82\", element=\"c2a7f8b9-b15e-46c0-bba1-2c29b96988c7\")>,\n",
       " <selenium.webdriver.remote.webelement.WebElement (session=\"ecc063c6db6134752c3601a50bbfcb82\", element=\"c22b4d43-ab24-4734-a0c4-f04c20a95026\")>,\n",
       " <selenium.webdriver.remote.webelement.WebElement (session=\"ecc063c6db6134752c3601a50bbfcb82\", element=\"132b9444-e0e5-4e35-aa8a-4cee33e58a64\")>,\n",
       " <selenium.webdriver.remote.webelement.WebElement (session=\"ecc063c6db6134752c3601a50bbfcb82\", element=\"135f96c4-f8e5-43be-9d26-74194d47114b\")>,\n",
       " <selenium.webdriver.remote.webelement.WebElement (session=\"ecc063c6db6134752c3601a50bbfcb82\", element=\"6bcd6aec-5714-4974-97e7-64f21cf2bcea\")>,\n",
       " <selenium.webdriver.remote.webelement.WebElement (session=\"ecc063c6db6134752c3601a50bbfcb82\", element=\"593c6faa-606a-4774-bdc7-0bd3020506e3\")>,\n",
       " <selenium.webdriver.remote.webelement.WebElement (session=\"ecc063c6db6134752c3601a50bbfcb82\", element=\"432ae82b-018e-4da6-935a-8bdbcf3147e3\")>,\n",
       " <selenium.webdriver.remote.webelement.WebElement (session=\"ecc063c6db6134752c3601a50bbfcb82\", element=\"367d7237-2633-47f0-a537-7e80cf09c6b7\")>,\n",
       " <selenium.webdriver.remote.webelement.WebElement (session=\"ecc063c6db6134752c3601a50bbfcb82\", element=\"e607b271-107d-4507-8872-f5eeb1682950\")>,\n",
       " <selenium.webdriver.remote.webelement.WebElement (session=\"ecc063c6db6134752c3601a50bbfcb82\", element=\"6c66139c-acda-4651-a157-3e7a9a553d02\")>,\n",
       " <selenium.webdriver.remote.webelement.WebElement (session=\"ecc063c6db6134752c3601a50bbfcb82\", element=\"508599a3-0852-4181-9e8e-5162bc82cda1\")>,\n",
       " <selenium.webdriver.remote.webelement.WebElement (session=\"ecc063c6db6134752c3601a50bbfcb82\", element=\"40bd447e-5548-43d1-a3d8-078de526235b\")>,\n",
       " <selenium.webdriver.remote.webelement.WebElement (session=\"ecc063c6db6134752c3601a50bbfcb82\", element=\"4b403908-1b9f-48ab-ab10-afb609310e3a\")>,\n",
       " <selenium.webdriver.remote.webelement.WebElement (session=\"ecc063c6db6134752c3601a50bbfcb82\", element=\"77f6a5b7-485f-4044-881b-d5c81443d86b\")>,\n",
       " <selenium.webdriver.remote.webelement.WebElement (session=\"ecc063c6db6134752c3601a50bbfcb82\", element=\"29f557d8-af21-4048-aa51-eac32e0dcf8b\")>,\n",
       " <selenium.webdriver.remote.webelement.WebElement (session=\"ecc063c6db6134752c3601a50bbfcb82\", element=\"08fa1473-eddd-48fb-a919-c59fde9c6d5f\")>,\n",
       " <selenium.webdriver.remote.webelement.WebElement (session=\"ecc063c6db6134752c3601a50bbfcb82\", element=\"62189ec0-f1c9-4219-b364-51af95f1817a\")>,\n",
       " <selenium.webdriver.remote.webelement.WebElement (session=\"ecc063c6db6134752c3601a50bbfcb82\", element=\"60185a64-b5ef-4e3e-9648-a58f1303abb0\")>,\n",
       " <selenium.webdriver.remote.webelement.WebElement (session=\"ecc063c6db6134752c3601a50bbfcb82\", element=\"06a0202f-abe1-434e-81bd-56339daedc02\")>,\n",
       " <selenium.webdriver.remote.webelement.WebElement (session=\"ecc063c6db6134752c3601a50bbfcb82\", element=\"6b1e206f-2c60-415a-ac71-4e029881f47b\")>]"
      ]
     },
     "execution_count": 7,
     "metadata": {},
     "output_type": "execute_result"
    }
   ],
   "source": [
    "brand=driver.find_elements_by_xpath(\"//div[@class='_2WkVRV']\")\n",
    "brand"
   ]
  },
  {
   "cell_type": "code",
   "execution_count": 8,
   "metadata": {},
   "outputs": [],
   "source": [
    "Brand=[]\n",
    "Product_brief=[]\n",
    "Price=[]\n",
    "Price1=[]"
   ]
  },
  {
   "cell_type": "code",
   "execution_count": 9,
   "metadata": {},
   "outputs": [
    {
     "data": {
      "text/plain": [
       "['RapidBox',\n",
       " 'Chevit',\n",
       " 'Chevit',\n",
       " 'Numenzo',\n",
       " 'SCATCHITE',\n",
       " 'Chevit',\n",
       " 'Shoes Bank',\n",
       " 'URBANBOX',\n",
       " 'Magnolia',\n",
       " 'Edoeviv',\n",
       " 'BRUTON',\n",
       " 'Numenzo',\n",
       " 'ganpati traders',\n",
       " 'Absolute comfort',\n",
       " 'BIRDE',\n",
       " 'Chevit',\n",
       " 'Rzisbo',\n",
       " 'Zsyto',\n",
       " 'Chevit',\n",
       " 'PUMA',\n",
       " 'PUMA',\n",
       " 'Kraasa',\n",
       " 'Robbie jones',\n",
       " 'Kraasa',\n",
       " 'Clymb',\n",
       " 'Robbie jones',\n",
       " 'BIRDE',\n",
       " 'Stefano Rads',\n",
       " 'TR',\n",
       " 'ASTEROID',\n",
       " 'Absolute comfort',\n",
       " 'CALCADOS',\n",
       " 'D-SNEAKERZ',\n",
       " 'SPARX',\n",
       " 'BRUTON',\n",
       " 'HOTSTYLE',\n",
       " 'Chevit',\n",
       " 'believe',\n",
       " 'ASTEROID',\n",
       " 'Robbie jones']"
      ]
     },
     "execution_count": 9,
     "metadata": {},
     "output_type": "execute_result"
    }
   ],
   "source": [
    "for i in brand:\n",
    "    b=i.text\n",
    "    Brand.append(b)\n",
    "Brand"
   ]
  },
  {
   "cell_type": "code",
   "execution_count": 10,
   "metadata": {},
   "outputs": [
    {
     "data": {
      "text/plain": [
       "40"
      ]
     },
     "execution_count": 10,
     "metadata": {},
     "output_type": "execute_result"
    }
   ],
   "source": [
    "len(Brand)"
   ]
  },
  {
   "cell_type": "code",
   "execution_count": 11,
   "metadata": {},
   "outputs": [
    {
     "name": "stderr",
     "output_type": "stream",
     "text": [
      "C:\\Users\\Suncity\\anaconda3\\lib\\site-packages\\ipykernel_launcher.py:1: DeprecationWarning: find_elements_by_* commands are deprecated. Please use find_elements() instead\n",
      "  \"\"\"Entry point for launching an IPython kernel.\n"
     ]
    },
    {
     "data": {
      "text/plain": [
       "[<selenium.webdriver.remote.webelement.WebElement (session=\"ecc063c6db6134752c3601a50bbfcb82\", element=\"bde95a98-98e0-4053-a930-1955119cbef2\")>,\n",
       " <selenium.webdriver.remote.webelement.WebElement (session=\"ecc063c6db6134752c3601a50bbfcb82\", element=\"ca6fdf5e-c6c1-4a35-8cdf-885fbc1eabad\")>,\n",
       " <selenium.webdriver.remote.webelement.WebElement (session=\"ecc063c6db6134752c3601a50bbfcb82\", element=\"66e0db24-12f2-4987-944d-bf4cd7a6ccb7\")>,\n",
       " <selenium.webdriver.remote.webelement.WebElement (session=\"ecc063c6db6134752c3601a50bbfcb82\", element=\"e940dcba-1688-4f10-85f8-c053c2e96e35\")>,\n",
       " <selenium.webdriver.remote.webelement.WebElement (session=\"ecc063c6db6134752c3601a50bbfcb82\", element=\"1c59dd0c-e405-4e32-bb20-538b60167b53\")>,\n",
       " <selenium.webdriver.remote.webelement.WebElement (session=\"ecc063c6db6134752c3601a50bbfcb82\", element=\"6700fc91-4896-4cf0-9e5b-099942b18a9b\")>,\n",
       " <selenium.webdriver.remote.webelement.WebElement (session=\"ecc063c6db6134752c3601a50bbfcb82\", element=\"830fa746-a665-462f-98b1-868a3c3ad4f7\")>,\n",
       " <selenium.webdriver.remote.webelement.WebElement (session=\"ecc063c6db6134752c3601a50bbfcb82\", element=\"7781249b-2ed2-4514-ab21-e30aea5fdaed\")>,\n",
       " <selenium.webdriver.remote.webelement.WebElement (session=\"ecc063c6db6134752c3601a50bbfcb82\", element=\"11fb979b-ce2c-4816-af8d-331a84582f35\")>,\n",
       " <selenium.webdriver.remote.webelement.WebElement (session=\"ecc063c6db6134752c3601a50bbfcb82\", element=\"1cd83455-20b9-4ff7-94c3-9b2e0e68e21d\")>,\n",
       " <selenium.webdriver.remote.webelement.WebElement (session=\"ecc063c6db6134752c3601a50bbfcb82\", element=\"12d4a115-bdc0-4549-9ccf-72139e22efa8\")>,\n",
       " <selenium.webdriver.remote.webelement.WebElement (session=\"ecc063c6db6134752c3601a50bbfcb82\", element=\"926b7335-7fe5-49c7-a5a7-33de2c4f8257\")>,\n",
       " <selenium.webdriver.remote.webelement.WebElement (session=\"ecc063c6db6134752c3601a50bbfcb82\", element=\"490ffc81-565a-47ed-b06b-07701841116e\")>,\n",
       " <selenium.webdriver.remote.webelement.WebElement (session=\"ecc063c6db6134752c3601a50bbfcb82\", element=\"38945301-1a5f-4c19-8364-cd4f1c5a3238\")>,\n",
       " <selenium.webdriver.remote.webelement.WebElement (session=\"ecc063c6db6134752c3601a50bbfcb82\", element=\"5a5be1ec-fd42-436e-a605-6f1cf8ada720\")>,\n",
       " <selenium.webdriver.remote.webelement.WebElement (session=\"ecc063c6db6134752c3601a50bbfcb82\", element=\"05ba28a9-f482-4323-b189-e9ad960ea90f\")>,\n",
       " <selenium.webdriver.remote.webelement.WebElement (session=\"ecc063c6db6134752c3601a50bbfcb82\", element=\"13bdcbee-ec80-4df3-bac3-0384bc6de44d\")>,\n",
       " <selenium.webdriver.remote.webelement.WebElement (session=\"ecc063c6db6134752c3601a50bbfcb82\", element=\"8245f9b9-b826-478a-a5a4-502fc9c32f39\")>,\n",
       " <selenium.webdriver.remote.webelement.WebElement (session=\"ecc063c6db6134752c3601a50bbfcb82\", element=\"aa72efb7-9593-436e-a2f3-70d010bcfed0\")>,\n",
       " <selenium.webdriver.remote.webelement.WebElement (session=\"ecc063c6db6134752c3601a50bbfcb82\", element=\"f8e2de86-c8e4-442e-88f8-38366cc2d570\")>,\n",
       " <selenium.webdriver.remote.webelement.WebElement (session=\"ecc063c6db6134752c3601a50bbfcb82\", element=\"8a84730f-fc57-4d15-b27b-d312fc47535e\")>,\n",
       " <selenium.webdriver.remote.webelement.WebElement (session=\"ecc063c6db6134752c3601a50bbfcb82\", element=\"faef8371-9ea8-4c31-b55f-117525a3b6fa\")>,\n",
       " <selenium.webdriver.remote.webelement.WebElement (session=\"ecc063c6db6134752c3601a50bbfcb82\", element=\"2ccd65c4-99b4-4a57-a4ff-ac38d0c73148\")>,\n",
       " <selenium.webdriver.remote.webelement.WebElement (session=\"ecc063c6db6134752c3601a50bbfcb82\", element=\"7b5b1f88-ff23-43a4-8b68-38637abab603\")>,\n",
       " <selenium.webdriver.remote.webelement.WebElement (session=\"ecc063c6db6134752c3601a50bbfcb82\", element=\"1823ad3f-f20b-4bbc-8c7c-e563a71cd693\")>,\n",
       " <selenium.webdriver.remote.webelement.WebElement (session=\"ecc063c6db6134752c3601a50bbfcb82\", element=\"6f4204df-5c00-410d-8bcd-462d3349f7e8\")>,\n",
       " <selenium.webdriver.remote.webelement.WebElement (session=\"ecc063c6db6134752c3601a50bbfcb82\", element=\"6538faf9-ae46-4612-bdba-eb93fd2d341f\")>,\n",
       " <selenium.webdriver.remote.webelement.WebElement (session=\"ecc063c6db6134752c3601a50bbfcb82\", element=\"4c2d89ea-2437-467b-84af-b9138a3319ff\")>,\n",
       " <selenium.webdriver.remote.webelement.WebElement (session=\"ecc063c6db6134752c3601a50bbfcb82\", element=\"ee47f5de-8d60-4f23-9e9d-6b52f41e9d54\")>,\n",
       " <selenium.webdriver.remote.webelement.WebElement (session=\"ecc063c6db6134752c3601a50bbfcb82\", element=\"4519f6f3-ac35-487c-be61-129c30c6f475\")>,\n",
       " <selenium.webdriver.remote.webelement.WebElement (session=\"ecc063c6db6134752c3601a50bbfcb82\", element=\"0430b1e1-45f7-44bb-83f7-66c9b7cdd2c1\")>]"
      ]
     },
     "execution_count": 11,
     "metadata": {},
     "output_type": "execute_result"
    }
   ],
   "source": [
    "brief=driver.find_elements_by_xpath(\"//a[@class='IRpwTa']\")\n",
    "brief"
   ]
  },
  {
   "cell_type": "code",
   "execution_count": 12,
   "metadata": {},
   "outputs": [
    {
     "data": {
      "text/plain": [
       "['Combo Pack of 4 Casual Sneakers With Sneakers For Men',\n",
       " 'Unique & Perfect Collection Combo Pack of 02 Shoes for ...',\n",
       " 'White Sneaker For Men Sneakers For Men',\n",
       " 'Sneakers Sneakers For Men',\n",
       " 'Super Stylish & Trendy Combo Pack of 02 Pairs Sneakers ...',\n",
       " \"White Sneaker For Men's/Boy's Sneakers For Men\",\n",
       " 'Sneakers For Men',\n",
       " \"Luxury Branded Fashionable Men's Casual Walking Partywe...\",\n",
       " 'Modern Trendy Sneakers Shoes Sneakers For Men',\n",
       " '411 Casual Sneakers For Men',\n",
       " 'Sports Running Shoes Sneakers For Men',\n",
       " 'Speed Set of 5 Pairs Sneakers Outdoors Casuals for Men ...',\n",
       " 'Sneakers For Men',\n",
       " 'Combo Pack of 5 Casual Sneakers Sneakers For Men',\n",
       " 'Lazy Knit Slip On Sneakers For Men',\n",
       " 'Lazy Knit Slip On Sneakers For Men',\n",
       " 'Series 7 Sneakers For Men',\n",
       " 'Casual Sneakers Black Shoes For Men Sneakers For Men',\n",
       " 'Shark-41 Sneakers For Men',\n",
       " 'Sneakers For Men',\n",
       " 'Sneakers For Men',\n",
       " 'Combo Pack of 2 Casual Shoes Sneakers For Men',\n",
       " 'Sneakers For Men',\n",
       " \"Original Luxury Branded Fashionable Men's Casual Walkin...\",\n",
       " \"Casual , Partywear Sneakers Shoes For Men's And Boys Wh...\",\n",
       " 'SM-322 Sneakers For Men',\n",
       " 'Modern & Trendy Collection Combo Pack of 02 Shoes for M...',\n",
       " 'Combo Pack of 3 Casual Shoes (Sneakers Shoes) Sneakers ...',\n",
       " 'Sneakers for men(black_7) Sneakers For Men',\n",
       " \"Original Luxury Branded Fashionable Men's Casual Walkin...\",\n",
       " 'Sneakers For Men']"
      ]
     },
     "execution_count": 12,
     "metadata": {},
     "output_type": "execute_result"
    }
   ],
   "source": [
    "for i in brief:\n",
    "    br=i.text\n",
    "    Product_brief.append(br)\n",
    "Product_brief"
   ]
  },
  {
   "cell_type": "code",
   "execution_count": 13,
   "metadata": {},
   "outputs": [
    {
     "data": {
      "text/plain": [
       "31"
      ]
     },
     "execution_count": 13,
     "metadata": {},
     "output_type": "execute_result"
    }
   ],
   "source": [
    "len(Product_brief)"
   ]
  },
  {
   "cell_type": "code",
   "execution_count": 14,
   "metadata": {},
   "outputs": [
    {
     "name": "stderr",
     "output_type": "stream",
     "text": [
      "C:\\Users\\Suncity\\anaconda3\\lib\\site-packages\\ipykernel_launcher.py:1: DeprecationWarning: find_elements_by_* commands are deprecated. Please use find_elements() instead\n",
      "  \"\"\"Entry point for launching an IPython kernel.\n"
     ]
    },
    {
     "data": {
      "text/plain": [
       "[<selenium.webdriver.remote.webelement.WebElement (session=\"ecc063c6db6134752c3601a50bbfcb82\", element=\"a98b6cb4-079c-4015-adc5-b5c7c5cbb253\")>,\n",
       " <selenium.webdriver.remote.webelement.WebElement (session=\"ecc063c6db6134752c3601a50bbfcb82\", element=\"5ad3b338-0683-4d5a-9d77-15aa5f281964\")>,\n",
       " <selenium.webdriver.remote.webelement.WebElement (session=\"ecc063c6db6134752c3601a50bbfcb82\", element=\"b713b649-c67f-47ac-91d4-b966f2537794\")>,\n",
       " <selenium.webdriver.remote.webelement.WebElement (session=\"ecc063c6db6134752c3601a50bbfcb82\", element=\"999d396b-40c3-473c-bd31-b24fb782fa96\")>,\n",
       " <selenium.webdriver.remote.webelement.WebElement (session=\"ecc063c6db6134752c3601a50bbfcb82\", element=\"192315b3-2170-493d-8ddc-4eb710f5a8fb\")>,\n",
       " <selenium.webdriver.remote.webelement.WebElement (session=\"ecc063c6db6134752c3601a50bbfcb82\", element=\"dcea50d1-fb9a-4812-93fa-854e2ed0e71b\")>,\n",
       " <selenium.webdriver.remote.webelement.WebElement (session=\"ecc063c6db6134752c3601a50bbfcb82\", element=\"594a8e36-d43e-4d45-80c2-9800ae3c3022\")>,\n",
       " <selenium.webdriver.remote.webelement.WebElement (session=\"ecc063c6db6134752c3601a50bbfcb82\", element=\"730212f4-2eed-47e3-9d37-478f53a09f98\")>,\n",
       " <selenium.webdriver.remote.webelement.WebElement (session=\"ecc063c6db6134752c3601a50bbfcb82\", element=\"57fa06cf-c6b1-4586-8489-00cba6d4c9da\")>,\n",
       " <selenium.webdriver.remote.webelement.WebElement (session=\"ecc063c6db6134752c3601a50bbfcb82\", element=\"512420de-3868-49ea-bdb3-e35c628deb62\")>,\n",
       " <selenium.webdriver.remote.webelement.WebElement (session=\"ecc063c6db6134752c3601a50bbfcb82\", element=\"562d1563-a89a-4c6d-96ee-6d8b53f585de\")>,\n",
       " <selenium.webdriver.remote.webelement.WebElement (session=\"ecc063c6db6134752c3601a50bbfcb82\", element=\"3a8e2378-35ca-4cc1-b108-2161953fbad2\")>,\n",
       " <selenium.webdriver.remote.webelement.WebElement (session=\"ecc063c6db6134752c3601a50bbfcb82\", element=\"b6e18835-c808-4268-ab77-4ab82ee5fabf\")>,\n",
       " <selenium.webdriver.remote.webelement.WebElement (session=\"ecc063c6db6134752c3601a50bbfcb82\", element=\"0515c138-4778-4a98-9f54-753f8713512f\")>,\n",
       " <selenium.webdriver.remote.webelement.WebElement (session=\"ecc063c6db6134752c3601a50bbfcb82\", element=\"31e11ebf-599c-4b92-b6ce-45549857f41e\")>,\n",
       " <selenium.webdriver.remote.webelement.WebElement (session=\"ecc063c6db6134752c3601a50bbfcb82\", element=\"13b8e11f-c49b-44a3-a4fc-231387b5bc9b\")>,\n",
       " <selenium.webdriver.remote.webelement.WebElement (session=\"ecc063c6db6134752c3601a50bbfcb82\", element=\"2265a7bd-b6fa-4e72-bc82-4f3d424ead99\")>,\n",
       " <selenium.webdriver.remote.webelement.WebElement (session=\"ecc063c6db6134752c3601a50bbfcb82\", element=\"ddfcd7ac-2c67-46fb-88f4-6383a8cf96ec\")>,\n",
       " <selenium.webdriver.remote.webelement.WebElement (session=\"ecc063c6db6134752c3601a50bbfcb82\", element=\"a70aaaa6-adf2-4305-bf53-7c673a56e046\")>,\n",
       " <selenium.webdriver.remote.webelement.WebElement (session=\"ecc063c6db6134752c3601a50bbfcb82\", element=\"fd7d7366-0aaa-401e-819e-5e1801d31d00\")>,\n",
       " <selenium.webdriver.remote.webelement.WebElement (session=\"ecc063c6db6134752c3601a50bbfcb82\", element=\"809130d2-8412-403d-b6f4-f348ac277f23\")>,\n",
       " <selenium.webdriver.remote.webelement.WebElement (session=\"ecc063c6db6134752c3601a50bbfcb82\", element=\"3cdc4bc0-b502-4c7a-8ab8-12dd8d4834a6\")>,\n",
       " <selenium.webdriver.remote.webelement.WebElement (session=\"ecc063c6db6134752c3601a50bbfcb82\", element=\"ddf3196b-5495-4691-b585-c6c676a93ddb\")>,\n",
       " <selenium.webdriver.remote.webelement.WebElement (session=\"ecc063c6db6134752c3601a50bbfcb82\", element=\"e4b47be7-7d0b-4479-8599-ba6be329c34e\")>,\n",
       " <selenium.webdriver.remote.webelement.WebElement (session=\"ecc063c6db6134752c3601a50bbfcb82\", element=\"086d07d9-2ce6-4cdc-accc-05494204346d\")>,\n",
       " <selenium.webdriver.remote.webelement.WebElement (session=\"ecc063c6db6134752c3601a50bbfcb82\", element=\"aa9e3921-39b4-4c29-aebc-b15fcdbabc8d\")>,\n",
       " <selenium.webdriver.remote.webelement.WebElement (session=\"ecc063c6db6134752c3601a50bbfcb82\", element=\"f89ddc26-aacc-4e05-beb9-a3c18706dfa3\")>,\n",
       " <selenium.webdriver.remote.webelement.WebElement (session=\"ecc063c6db6134752c3601a50bbfcb82\", element=\"d5e06f7d-aa9b-41f8-adde-f344d6f2e579\")>,\n",
       " <selenium.webdriver.remote.webelement.WebElement (session=\"ecc063c6db6134752c3601a50bbfcb82\", element=\"6ab9acb5-cb03-4426-8e9f-be06d655570b\")>,\n",
       " <selenium.webdriver.remote.webelement.WebElement (session=\"ecc063c6db6134752c3601a50bbfcb82\", element=\"ba7d2f42-0f37-453a-8f03-31b493e698c6\")>,\n",
       " <selenium.webdriver.remote.webelement.WebElement (session=\"ecc063c6db6134752c3601a50bbfcb82\", element=\"21bc451f-5f1b-4ceb-8f66-d5107bc2a722\")>,\n",
       " <selenium.webdriver.remote.webelement.WebElement (session=\"ecc063c6db6134752c3601a50bbfcb82\", element=\"9c317bf7-08a7-4257-b1f7-7402ec95e9d5\")>,\n",
       " <selenium.webdriver.remote.webelement.WebElement (session=\"ecc063c6db6134752c3601a50bbfcb82\", element=\"c1ae52e6-6e1d-4105-aa7f-e6be605f6c46\")>,\n",
       " <selenium.webdriver.remote.webelement.WebElement (session=\"ecc063c6db6134752c3601a50bbfcb82\", element=\"162e662b-36a5-4b96-afc3-623303dd8bfc\")>,\n",
       " <selenium.webdriver.remote.webelement.WebElement (session=\"ecc063c6db6134752c3601a50bbfcb82\", element=\"d8e0d072-c3b6-4ae8-9b6b-9fe5d9fb4cfa\")>,\n",
       " <selenium.webdriver.remote.webelement.WebElement (session=\"ecc063c6db6134752c3601a50bbfcb82\", element=\"fb92676d-52fa-4eff-99dc-4e25ceb2b7da\")>,\n",
       " <selenium.webdriver.remote.webelement.WebElement (session=\"ecc063c6db6134752c3601a50bbfcb82\", element=\"e4b14d7d-248f-4938-8174-4bbb71a9fa5c\")>,\n",
       " <selenium.webdriver.remote.webelement.WebElement (session=\"ecc063c6db6134752c3601a50bbfcb82\", element=\"54b68d86-498e-4d96-aa12-57b398c53450\")>,\n",
       " <selenium.webdriver.remote.webelement.WebElement (session=\"ecc063c6db6134752c3601a50bbfcb82\", element=\"9156f3cd-e0d1-4724-a47a-12259c4bdf32\")>,\n",
       " <selenium.webdriver.remote.webelement.WebElement (session=\"ecc063c6db6134752c3601a50bbfcb82\", element=\"dcd77e89-66c0-45e0-a2cf-5c2a974f46a4\")>]"
      ]
     },
     "execution_count": 14,
     "metadata": {},
     "output_type": "execute_result"
    }
   ],
   "source": [
    "price=driver.find_elements_by_xpath(\"//div[@class='_30jeq3']\")\n",
    "price"
   ]
  },
  {
   "cell_type": "code",
   "execution_count": null,
   "metadata": {},
   "outputs": [],
   "source": []
  },
  {
   "cell_type": "code",
   "execution_count": 15,
   "metadata": {},
   "outputs": [
    {
     "data": {
      "text/plain": [
       "['₹680',\n",
       " '₹425',\n",
       " '₹509',\n",
       " '₹499',\n",
       " '₹377',\n",
       " '₹536',\n",
       " '₹331',\n",
       " '₹247',\n",
       " '₹398',\n",
       " '₹499',\n",
       " '₹299',\n",
       " '₹499',\n",
       " '₹145',\n",
       " '₹240',\n",
       " '₹299',\n",
       " '₹679',\n",
       " '₹549',\n",
       " '₹295',\n",
       " '₹679',\n",
       " '₹899',\n",
       " '₹939',\n",
       " '₹444',\n",
       " '₹451',\n",
       " '₹444',\n",
       " '₹649',\n",
       " '₹499',\n",
       " '₹422',\n",
       " '₹251',\n",
       " '₹599',\n",
       " '₹474',\n",
       " '₹199',\n",
       " '₹949',\n",
       " '₹384',\n",
       " '₹849',\n",
       " '₹471',\n",
       " '₹187',\n",
       " '₹596',\n",
       " '₹424',\n",
       " '₹499',\n",
       " '₹499']"
      ]
     },
     "execution_count": 15,
     "metadata": {},
     "output_type": "execute_result"
    }
   ],
   "source": [
    "for i in price:\n",
    "    p=i.text\n",
    "    Price.append(p)\n",
    "Price"
   ]
  },
  {
   "cell_type": "code",
   "execution_count": 16,
   "metadata": {},
   "outputs": [
    {
     "name": "stderr",
     "output_type": "stream",
     "text": [
      "C:\\Users\\Suncity\\anaconda3\\lib\\site-packages\\ipykernel_launcher.py:1: DeprecationWarning: find_elements_by_* commands are deprecated. Please use find_elements() instead\n",
      "  \"\"\"Entry point for launching an IPython kernel.\n"
     ]
    },
    {
     "data": {
      "text/plain": [
       "[<selenium.webdriver.remote.webelement.WebElement (session=\"ecc063c6db6134752c3601a50bbfcb82\", element=\"ab286414-e9ce-466e-8892-078997e687af\")>,\n",
       " <selenium.webdriver.remote.webelement.WebElement (session=\"ecc063c6db6134752c3601a50bbfcb82\", element=\"6bea5430-82d7-4c3c-8b7e-88c21f6ab083\")>,\n",
       " <selenium.webdriver.remote.webelement.WebElement (session=\"ecc063c6db6134752c3601a50bbfcb82\", element=\"f58ecbea-e84f-4335-bc6c-68140e888bb7\")>,\n",
       " <selenium.webdriver.remote.webelement.WebElement (session=\"ecc063c6db6134752c3601a50bbfcb82\", element=\"2b20f4d5-35cb-4aa7-90b7-e8b90c66a325\")>,\n",
       " <selenium.webdriver.remote.webelement.WebElement (session=\"ecc063c6db6134752c3601a50bbfcb82\", element=\"d7060f62-72c3-443a-bed2-6f44ded16fe9\")>,\n",
       " <selenium.webdriver.remote.webelement.WebElement (session=\"ecc063c6db6134752c3601a50bbfcb82\", element=\"48107fdf-873e-4a29-b8ed-6576513d97a3\")>,\n",
       " <selenium.webdriver.remote.webelement.WebElement (session=\"ecc063c6db6134752c3601a50bbfcb82\", element=\"e5d06b5f-eb9b-48b4-a52f-59232f32e4d5\")>,\n",
       " <selenium.webdriver.remote.webelement.WebElement (session=\"ecc063c6db6134752c3601a50bbfcb82\", element=\"c79a39d9-5cd4-4e73-b90a-437026a4a65b\")>,\n",
       " <selenium.webdriver.remote.webelement.WebElement (session=\"ecc063c6db6134752c3601a50bbfcb82\", element=\"9add8010-dbf0-4ab2-aa9b-0066692e9af1\")>,\n",
       " <selenium.webdriver.remote.webelement.WebElement (session=\"ecc063c6db6134752c3601a50bbfcb82\", element=\"6ba1952f-1d02-4c6b-956e-5e3dcb41296a\")>,\n",
       " <selenium.webdriver.remote.webelement.WebElement (session=\"ecc063c6db6134752c3601a50bbfcb82\", element=\"7ad30f3b-04cd-4a05-afa4-579a07ac6724\")>,\n",
       " <selenium.webdriver.remote.webelement.WebElement (session=\"ecc063c6db6134752c3601a50bbfcb82\", element=\"b739578c-d612-48ca-aa19-1017e6bb52da\")>,\n",
       " <selenium.webdriver.remote.webelement.WebElement (session=\"ecc063c6db6134752c3601a50bbfcb82\", element=\"1646dff0-bacd-4681-82cc-d541b20cbf1e\")>,\n",
       " <selenium.webdriver.remote.webelement.WebElement (session=\"ecc063c6db6134752c3601a50bbfcb82\", element=\"bb4f14e7-11c0-4a26-8b0a-4d5074b9c6b4\")>,\n",
       " <selenium.webdriver.remote.webelement.WebElement (session=\"ecc063c6db6134752c3601a50bbfcb82\", element=\"87feba76-663e-40ca-8e57-bb893030cc77\")>,\n",
       " <selenium.webdriver.remote.webelement.WebElement (session=\"ecc063c6db6134752c3601a50bbfcb82\", element=\"28553cb8-fd00-46ab-8380-a7ecc2380225\")>,\n",
       " <selenium.webdriver.remote.webelement.WebElement (session=\"ecc063c6db6134752c3601a50bbfcb82\", element=\"53256539-13d0-4e8d-af44-034b033291ba\")>,\n",
       " <selenium.webdriver.remote.webelement.WebElement (session=\"ecc063c6db6134752c3601a50bbfcb82\", element=\"67f64893-3bd4-4640-9ba8-8e49ff1568c0\")>,\n",
       " <selenium.webdriver.remote.webelement.WebElement (session=\"ecc063c6db6134752c3601a50bbfcb82\", element=\"0457faca-e777-44f1-9a0c-4e4e991d553a\")>,\n",
       " <selenium.webdriver.remote.webelement.WebElement (session=\"ecc063c6db6134752c3601a50bbfcb82\", element=\"fc0c9aae-5c3c-4d2a-a9a2-2b6c7b50d148\")>,\n",
       " <selenium.webdriver.remote.webelement.WebElement (session=\"ecc063c6db6134752c3601a50bbfcb82\", element=\"02367675-4c46-404c-8f1e-691a0b82116f\")>,\n",
       " <selenium.webdriver.remote.webelement.WebElement (session=\"ecc063c6db6134752c3601a50bbfcb82\", element=\"d256b740-fcfb-4d63-bb21-c1a2cf87a204\")>,\n",
       " <selenium.webdriver.remote.webelement.WebElement (session=\"ecc063c6db6134752c3601a50bbfcb82\", element=\"393d539e-c921-4bfe-be14-f8223beabb69\")>,\n",
       " <selenium.webdriver.remote.webelement.WebElement (session=\"ecc063c6db6134752c3601a50bbfcb82\", element=\"961b37c9-aed2-4ea1-a822-8bae36bde7a9\")>,\n",
       " <selenium.webdriver.remote.webelement.WebElement (session=\"ecc063c6db6134752c3601a50bbfcb82\", element=\"5aca959a-f5c9-40d9-8b9e-06d2b97e3a03\")>,\n",
       " <selenium.webdriver.remote.webelement.WebElement (session=\"ecc063c6db6134752c3601a50bbfcb82\", element=\"df190682-850a-4827-982f-9b5161e225f2\")>,\n",
       " <selenium.webdriver.remote.webelement.WebElement (session=\"ecc063c6db6134752c3601a50bbfcb82\", element=\"67659939-7783-4a6e-822d-c10469b8d0ca\")>,\n",
       " <selenium.webdriver.remote.webelement.WebElement (session=\"ecc063c6db6134752c3601a50bbfcb82\", element=\"f94aaac3-8f55-4ec3-8cd5-7415d7f41c8a\")>,\n",
       " <selenium.webdriver.remote.webelement.WebElement (session=\"ecc063c6db6134752c3601a50bbfcb82\", element=\"09b4d00d-baaa-486f-addc-96449bb05b36\")>,\n",
       " <selenium.webdriver.remote.webelement.WebElement (session=\"ecc063c6db6134752c3601a50bbfcb82\", element=\"ddf074e8-fde8-42b5-8c88-ac8d87287660\")>,\n",
       " <selenium.webdriver.remote.webelement.WebElement (session=\"ecc063c6db6134752c3601a50bbfcb82\", element=\"1586b47e-433e-4519-a60d-cc7e3d84c2c1\")>,\n",
       " <selenium.webdriver.remote.webelement.WebElement (session=\"ecc063c6db6134752c3601a50bbfcb82\", element=\"a2aa34c4-4665-4f54-9399-0c417d8c53a7\")>,\n",
       " <selenium.webdriver.remote.webelement.WebElement (session=\"ecc063c6db6134752c3601a50bbfcb82\", element=\"21191d64-0cf0-451d-b734-4ef6863e7574\")>,\n",
       " <selenium.webdriver.remote.webelement.WebElement (session=\"ecc063c6db6134752c3601a50bbfcb82\", element=\"9be815a7-3301-44a7-a94f-2237c57efb24\")>,\n",
       " <selenium.webdriver.remote.webelement.WebElement (session=\"ecc063c6db6134752c3601a50bbfcb82\", element=\"dc717960-0b58-4813-8b7f-13b5f182ef56\")>,\n",
       " <selenium.webdriver.remote.webelement.WebElement (session=\"ecc063c6db6134752c3601a50bbfcb82\", element=\"6d7b47d9-3447-4ca0-8c60-dc6a8960e81d\")>,\n",
       " <selenium.webdriver.remote.webelement.WebElement (session=\"ecc063c6db6134752c3601a50bbfcb82\", element=\"077cb856-5075-4c0f-bff1-3cdbe0f17edb\")>,\n",
       " <selenium.webdriver.remote.webelement.WebElement (session=\"ecc063c6db6134752c3601a50bbfcb82\", element=\"a0941345-8d6e-49e4-b80a-88251954e86e\")>,\n",
       " <selenium.webdriver.remote.webelement.WebElement (session=\"ecc063c6db6134752c3601a50bbfcb82\", element=\"14f6ae5f-0dd6-4910-9806-27e859af3d02\")>,\n",
       " <selenium.webdriver.remote.webelement.WebElement (session=\"ecc063c6db6134752c3601a50bbfcb82\", element=\"4669313a-69fc-481b-af16-28e442bf643d\")>]"
      ]
     },
     "execution_count": 16,
     "metadata": {},
     "output_type": "execute_result"
    }
   ],
   "source": [
    "price1=driver.find_elements_by_xpath(\"//div[@class='_3Ay6Sb']\")\n",
    "price1"
   ]
  },
  {
   "cell_type": "code",
   "execution_count": 17,
   "metadata": {},
   "outputs": [
    {
     "data": {
      "text/plain": [
       "['31% off',\n",
       " '78% off',\n",
       " '66% off',\n",
       " '61% off',\n",
       " '62% off',\n",
       " '66% off',\n",
       " '66% off',\n",
       " '75% off',\n",
       " '60% off',\n",
       " '37% off',\n",
       " '76% off',\n",
       " '75% off',\n",
       " '70% off',\n",
       " '75% off',\n",
       " '40% off',\n",
       " '72% off',\n",
       " '45% off',\n",
       " '77% off',\n",
       " '72% off',\n",
       " '70% off',\n",
       " '68% off',\n",
       " '55% off',\n",
       " '54% off',\n",
       " '55% off',\n",
       " '56% off',\n",
       " '50% off',\n",
       " '57% off',\n",
       " '83% off',\n",
       " '70% off',\n",
       " '52% off',\n",
       " '60% off',\n",
       " '52% off',\n",
       " '41% off',\n",
       " '15% off',\n",
       " '81% off',\n",
       " '62% off',\n",
       " '60% off',\n",
       " '57% off',\n",
       " '75% off',\n",
       " '50% off']"
      ]
     },
     "execution_count": 17,
     "metadata": {},
     "output_type": "execute_result"
    }
   ],
   "source": [
    "for i in price1:\n",
    "    p=i.text\n",
    "    Price1.append(p)\n",
    "Price1"
   ]
  },
  {
   "cell_type": "code",
   "execution_count": 18,
   "metadata": {},
   "outputs": [
    {
     "name": "stderr",
     "output_type": "stream",
     "text": [
      "C:\\Users\\Suncity\\anaconda3\\lib\\site-packages\\ipykernel_launcher.py:1: DeprecationWarning: find_element_by_* commands are deprecated. Please use find_element() instead\n",
      "  \"\"\"Entry point for launching an IPython kernel.\n"
     ]
    }
   ],
   "source": [
    "next_page=driver.find_element_by_xpath(\"/html/body/div[1]/div/div[3]/div[1]/div[2]/div[12]/div/div/nav/a[11]/span\")\n",
    "next_page.click()"
   ]
  },
  {
   "cell_type": "code",
   "execution_count": 19,
   "metadata": {},
   "outputs": [
    {
     "name": "stderr",
     "output_type": "stream",
     "text": [
      "C:\\Users\\Suncity\\anaconda3\\lib\\site-packages\\ipykernel_launcher.py:1: DeprecationWarning: find_elements_by_* commands are deprecated. Please use find_elements() instead\n",
      "  \"\"\"Entry point for launching an IPython kernel.\n"
     ]
    },
    {
     "data": {
      "text/plain": [
       "[<selenium.webdriver.remote.webelement.WebElement (session=\"ecc063c6db6134752c3601a50bbfcb82\", element=\"4f04afca-7703-4dfe-aaf8-816f81f26920\")>,\n",
       " <selenium.webdriver.remote.webelement.WebElement (session=\"ecc063c6db6134752c3601a50bbfcb82\", element=\"2a129bef-c67d-4f87-80ab-01a865123c00\")>,\n",
       " <selenium.webdriver.remote.webelement.WebElement (session=\"ecc063c6db6134752c3601a50bbfcb82\", element=\"013cd314-4150-434e-9eaa-3a292c01022e\")>,\n",
       " <selenium.webdriver.remote.webelement.WebElement (session=\"ecc063c6db6134752c3601a50bbfcb82\", element=\"f1f07d8c-b32a-4efb-ad15-633d5582ef14\")>,\n",
       " <selenium.webdriver.remote.webelement.WebElement (session=\"ecc063c6db6134752c3601a50bbfcb82\", element=\"2153c168-1b86-472a-85b5-ee4ce389091f\")>,\n",
       " <selenium.webdriver.remote.webelement.WebElement (session=\"ecc063c6db6134752c3601a50bbfcb82\", element=\"2e29ab9d-3c5f-4a8b-a568-d3dd04703ca3\")>,\n",
       " <selenium.webdriver.remote.webelement.WebElement (session=\"ecc063c6db6134752c3601a50bbfcb82\", element=\"947ffe9a-ab9e-45d2-95c1-337a218eb276\")>,\n",
       " <selenium.webdriver.remote.webelement.WebElement (session=\"ecc063c6db6134752c3601a50bbfcb82\", element=\"5a6a37e3-e2db-4b54-936f-2859af558c33\")>,\n",
       " <selenium.webdriver.remote.webelement.WebElement (session=\"ecc063c6db6134752c3601a50bbfcb82\", element=\"bd18aba0-c408-45e3-a650-e78dc124def1\")>,\n",
       " <selenium.webdriver.remote.webelement.WebElement (session=\"ecc063c6db6134752c3601a50bbfcb82\", element=\"53f2ed77-dd51-4499-b44d-5d3b219d213e\")>,\n",
       " <selenium.webdriver.remote.webelement.WebElement (session=\"ecc063c6db6134752c3601a50bbfcb82\", element=\"fe2feedd-d59a-49cb-8582-eac599086bba\")>,\n",
       " <selenium.webdriver.remote.webelement.WebElement (session=\"ecc063c6db6134752c3601a50bbfcb82\", element=\"35c7d00b-9b64-4377-87b7-32b90e85ce02\")>,\n",
       " <selenium.webdriver.remote.webelement.WebElement (session=\"ecc063c6db6134752c3601a50bbfcb82\", element=\"8472e74e-c7d1-4208-a279-b6cc59fad4a3\")>,\n",
       " <selenium.webdriver.remote.webelement.WebElement (session=\"ecc063c6db6134752c3601a50bbfcb82\", element=\"a7e4cc65-ae9f-4b1d-8641-9d590c9f5ffb\")>,\n",
       " <selenium.webdriver.remote.webelement.WebElement (session=\"ecc063c6db6134752c3601a50bbfcb82\", element=\"7d3a0858-20f8-4787-b6b7-8e67a447fe28\")>,\n",
       " <selenium.webdriver.remote.webelement.WebElement (session=\"ecc063c6db6134752c3601a50bbfcb82\", element=\"94ab05e0-254b-45ca-89db-b262f8e10dae\")>,\n",
       " <selenium.webdriver.remote.webelement.WebElement (session=\"ecc063c6db6134752c3601a50bbfcb82\", element=\"d0ae3751-07e4-429e-9504-320fb3ef6e84\")>,\n",
       " <selenium.webdriver.remote.webelement.WebElement (session=\"ecc063c6db6134752c3601a50bbfcb82\", element=\"cd243ba7-3228-491c-bf99-f210f474144f\")>,\n",
       " <selenium.webdriver.remote.webelement.WebElement (session=\"ecc063c6db6134752c3601a50bbfcb82\", element=\"1ca11e4c-34a3-47ac-b564-d0046c51b5b6\")>,\n",
       " <selenium.webdriver.remote.webelement.WebElement (session=\"ecc063c6db6134752c3601a50bbfcb82\", element=\"ded72267-a5dc-44e8-9994-390ef33b6690\")>,\n",
       " <selenium.webdriver.remote.webelement.WebElement (session=\"ecc063c6db6134752c3601a50bbfcb82\", element=\"d65096a9-e2d6-4e88-ba29-5d31663a7ae9\")>,\n",
       " <selenium.webdriver.remote.webelement.WebElement (session=\"ecc063c6db6134752c3601a50bbfcb82\", element=\"c4cf265f-dd7c-492e-a073-73ee5868f632\")>,\n",
       " <selenium.webdriver.remote.webelement.WebElement (session=\"ecc063c6db6134752c3601a50bbfcb82\", element=\"8cc48ddb-fb79-4a14-9f99-5c07b16bcf96\")>,\n",
       " <selenium.webdriver.remote.webelement.WebElement (session=\"ecc063c6db6134752c3601a50bbfcb82\", element=\"1fdaafcf-0908-4a0d-8f25-dd2c4827d208\")>,\n",
       " <selenium.webdriver.remote.webelement.WebElement (session=\"ecc063c6db6134752c3601a50bbfcb82\", element=\"870b8aae-af39-4bd5-8535-bbfac91375a0\")>,\n",
       " <selenium.webdriver.remote.webelement.WebElement (session=\"ecc063c6db6134752c3601a50bbfcb82\", element=\"bd8c86e4-a401-4134-8a6e-4acf338e34e7\")>,\n",
       " <selenium.webdriver.remote.webelement.WebElement (session=\"ecc063c6db6134752c3601a50bbfcb82\", element=\"df8a8627-7ae4-4967-830c-d975633293cf\")>,\n",
       " <selenium.webdriver.remote.webelement.WebElement (session=\"ecc063c6db6134752c3601a50bbfcb82\", element=\"f5e6531e-7b5d-4962-9733-f6b2a75d26ce\")>,\n",
       " <selenium.webdriver.remote.webelement.WebElement (session=\"ecc063c6db6134752c3601a50bbfcb82\", element=\"4987d5a8-c738-4de6-9580-5094eb6dee56\")>,\n",
       " <selenium.webdriver.remote.webelement.WebElement (session=\"ecc063c6db6134752c3601a50bbfcb82\", element=\"6a63e850-cdb6-4454-b810-310de9415aff\")>,\n",
       " <selenium.webdriver.remote.webelement.WebElement (session=\"ecc063c6db6134752c3601a50bbfcb82\", element=\"3a448f0a-fcdc-4fe2-8069-287a412beffd\")>,\n",
       " <selenium.webdriver.remote.webelement.WebElement (session=\"ecc063c6db6134752c3601a50bbfcb82\", element=\"4f55f5ef-146b-458b-a7a5-734d3bc96327\")>,\n",
       " <selenium.webdriver.remote.webelement.WebElement (session=\"ecc063c6db6134752c3601a50bbfcb82\", element=\"a11d81c1-e1e5-4e37-84e4-420bc64f7156\")>,\n",
       " <selenium.webdriver.remote.webelement.WebElement (session=\"ecc063c6db6134752c3601a50bbfcb82\", element=\"9d24a22c-08f2-4fab-b662-98cc4d54bc9f\")>,\n",
       " <selenium.webdriver.remote.webelement.WebElement (session=\"ecc063c6db6134752c3601a50bbfcb82\", element=\"2c75124f-de41-4987-b1c2-3cff9ddbb08e\")>,\n",
       " <selenium.webdriver.remote.webelement.WebElement (session=\"ecc063c6db6134752c3601a50bbfcb82\", element=\"b46e200b-6b38-49c7-8c06-55a33633adfa\")>,\n",
       " <selenium.webdriver.remote.webelement.WebElement (session=\"ecc063c6db6134752c3601a50bbfcb82\", element=\"67cb72a4-0b3e-4e24-8152-5d680111dada\")>,\n",
       " <selenium.webdriver.remote.webelement.WebElement (session=\"ecc063c6db6134752c3601a50bbfcb82\", element=\"d87b045d-58d9-45f5-b6e7-6242bc01e1ba\")>,\n",
       " <selenium.webdriver.remote.webelement.WebElement (session=\"ecc063c6db6134752c3601a50bbfcb82\", element=\"b3735406-de2d-42d9-b45a-75f678434120\")>,\n",
       " <selenium.webdriver.remote.webelement.WebElement (session=\"ecc063c6db6134752c3601a50bbfcb82\", element=\"e8a8048c-f9f0-4f93-a69e-6b1226b9eb58\")>]"
      ]
     },
     "execution_count": 19,
     "metadata": {},
     "output_type": "execute_result"
    }
   ],
   "source": [
    "brand1=driver.find_elements_by_xpath(\"//div[@class='_2WkVRV']\")\n",
    "brand1"
   ]
  },
  {
   "cell_type": "code",
   "execution_count": 20,
   "metadata": {},
   "outputs": [
    {
     "data": {
      "text/plain": [
       "['RapidBox',\n",
       " 'Chevit',\n",
       " 'Chevit',\n",
       " 'Numenzo',\n",
       " 'SCATCHITE',\n",
       " 'Chevit',\n",
       " 'Shoes Bank',\n",
       " 'URBANBOX',\n",
       " 'Magnolia',\n",
       " 'Edoeviv',\n",
       " 'BRUTON',\n",
       " 'Numenzo',\n",
       " 'ganpati traders',\n",
       " 'Absolute comfort',\n",
       " 'BIRDE',\n",
       " 'Chevit',\n",
       " 'Rzisbo',\n",
       " 'Zsyto',\n",
       " 'Chevit',\n",
       " 'PUMA',\n",
       " 'PUMA',\n",
       " 'Kraasa',\n",
       " 'Robbie jones',\n",
       " 'Kraasa',\n",
       " 'Clymb',\n",
       " 'Robbie jones',\n",
       " 'BIRDE',\n",
       " 'Stefano Rads',\n",
       " 'TR',\n",
       " 'ASTEROID',\n",
       " 'Absolute comfort',\n",
       " 'CALCADOS',\n",
       " 'D-SNEAKERZ',\n",
       " 'SPARX',\n",
       " 'BRUTON',\n",
       " 'HOTSTYLE',\n",
       " 'Chevit',\n",
       " 'believe',\n",
       " 'ASTEROID',\n",
       " 'Robbie jones',\n",
       " 'Clymb',\n",
       " 'STRANGER BROTHERS',\n",
       " 'Numenzo',\n",
       " 'Zorth',\n",
       " 'PUMA',\n",
       " 'HOTSTYLE',\n",
       " 'LuvShus',\n",
       " 'BIRDE',\n",
       " 'Robbie jones',\n",
       " 'flipy',\n",
       " 'PACIFIER',\n",
       " 'Chevit',\n",
       " 'India hub',\n",
       " 'zovim',\n",
       " 'Chevit',\n",
       " 'ESSENCE',\n",
       " 'SPARX',\n",
       " 'RODDICK SHOES',\n",
       " 'BIRDE',\n",
       " 'FEWROK',\n",
       " 'ESSENCE',\n",
       " 'RODDICK SHOES',\n",
       " 'Zsyto',\n",
       " 'BIRDE',\n",
       " 'Robbie jones',\n",
       " 'Extoes',\n",
       " 'Chevit',\n",
       " 'BIRDE',\n",
       " 'Chevit',\n",
       " 'India hub',\n",
       " 'ASIAN',\n",
       " 'Robbie jones',\n",
       " 'RED TAPE',\n",
       " 'T-ROCK',\n",
       " 'Robbie jones',\n",
       " 'SPARX',\n",
       " 'RapidBox',\n",
       " 'Echor',\n",
       " 'Clymb',\n",
       " 'Robbie jones']"
      ]
     },
     "execution_count": 20,
     "metadata": {},
     "output_type": "execute_result"
    }
   ],
   "source": [
    "for i in brand1:\n",
    "    b=i.text\n",
    "    Brand.append(b)\n",
    "Brand"
   ]
  },
  {
   "cell_type": "code",
   "execution_count": 29,
   "metadata": {},
   "outputs": [
    {
     "data": {
      "text/plain": [
       "80"
      ]
     },
     "execution_count": 29,
     "metadata": {},
     "output_type": "execute_result"
    }
   ],
   "source": [
    "len(Brand)"
   ]
  },
  {
   "cell_type": "code",
   "execution_count": 21,
   "metadata": {},
   "outputs": [
    {
     "name": "stderr",
     "output_type": "stream",
     "text": [
      "C:\\Users\\Suncity\\anaconda3\\lib\\site-packages\\ipykernel_launcher.py:1: DeprecationWarning: find_elements_by_* commands are deprecated. Please use find_elements() instead\n",
      "  \"\"\"Entry point for launching an IPython kernel.\n"
     ]
    },
    {
     "data": {
      "text/plain": [
       "[<selenium.webdriver.remote.webelement.WebElement (session=\"ecc063c6db6134752c3601a50bbfcb82\", element=\"9b364d26-d08c-4205-99e7-90d6c02e5299\")>,\n",
       " <selenium.webdriver.remote.webelement.WebElement (session=\"ecc063c6db6134752c3601a50bbfcb82\", element=\"c3c711c1-dc3d-4431-a748-f69c07a59fa0\")>,\n",
       " <selenium.webdriver.remote.webelement.WebElement (session=\"ecc063c6db6134752c3601a50bbfcb82\", element=\"240d54b8-2269-45fa-8850-9cee665da9e3\")>,\n",
       " <selenium.webdriver.remote.webelement.WebElement (session=\"ecc063c6db6134752c3601a50bbfcb82\", element=\"fb595a52-be65-4b48-a762-72d1839e0da8\")>,\n",
       " <selenium.webdriver.remote.webelement.WebElement (session=\"ecc063c6db6134752c3601a50bbfcb82\", element=\"a1789e00-b10b-4209-bdeb-a6c6f1f07a49\")>,\n",
       " <selenium.webdriver.remote.webelement.WebElement (session=\"ecc063c6db6134752c3601a50bbfcb82\", element=\"ab021c99-c00f-4b7c-9951-af6ab571d7d8\")>,\n",
       " <selenium.webdriver.remote.webelement.WebElement (session=\"ecc063c6db6134752c3601a50bbfcb82\", element=\"2d81bb8f-71b1-48fb-b425-1d21b2117d22\")>,\n",
       " <selenium.webdriver.remote.webelement.WebElement (session=\"ecc063c6db6134752c3601a50bbfcb82\", element=\"4b8023c6-41a9-4a47-bf13-4578069db9d0\")>,\n",
       " <selenium.webdriver.remote.webelement.WebElement (session=\"ecc063c6db6134752c3601a50bbfcb82\", element=\"bf86bd95-4a4e-4054-ab22-c0aff844b110\")>,\n",
       " <selenium.webdriver.remote.webelement.WebElement (session=\"ecc063c6db6134752c3601a50bbfcb82\", element=\"30d23058-e145-4794-8521-25b01bb3f7ee\")>,\n",
       " <selenium.webdriver.remote.webelement.WebElement (session=\"ecc063c6db6134752c3601a50bbfcb82\", element=\"28517d1e-7d16-4bd7-8003-88c2ce182f31\")>,\n",
       " <selenium.webdriver.remote.webelement.WebElement (session=\"ecc063c6db6134752c3601a50bbfcb82\", element=\"9ef34483-9ba9-4f92-8fbb-dec193aef763\")>,\n",
       " <selenium.webdriver.remote.webelement.WebElement (session=\"ecc063c6db6134752c3601a50bbfcb82\", element=\"044a114a-5ea1-4c3c-baa6-984c119f8fde\")>,\n",
       " <selenium.webdriver.remote.webelement.WebElement (session=\"ecc063c6db6134752c3601a50bbfcb82\", element=\"cc35845d-271b-4322-945a-bc028c93666c\")>,\n",
       " <selenium.webdriver.remote.webelement.WebElement (session=\"ecc063c6db6134752c3601a50bbfcb82\", element=\"56066b9c-8ddf-404f-87d0-33170932d2f3\")>,\n",
       " <selenium.webdriver.remote.webelement.WebElement (session=\"ecc063c6db6134752c3601a50bbfcb82\", element=\"399d80af-4d07-4f9e-a94c-d17c15dcb143\")>,\n",
       " <selenium.webdriver.remote.webelement.WebElement (session=\"ecc063c6db6134752c3601a50bbfcb82\", element=\"a292f4a3-3bd7-40b8-9f98-2c2dfddafe71\")>,\n",
       " <selenium.webdriver.remote.webelement.WebElement (session=\"ecc063c6db6134752c3601a50bbfcb82\", element=\"e2db3c36-a810-49fa-adbc-4b1854c6ca0d\")>,\n",
       " <selenium.webdriver.remote.webelement.WebElement (session=\"ecc063c6db6134752c3601a50bbfcb82\", element=\"cec32ae4-48be-4afc-b526-161931a99d1a\")>,\n",
       " <selenium.webdriver.remote.webelement.WebElement (session=\"ecc063c6db6134752c3601a50bbfcb82\", element=\"12544599-f3a1-46c8-a7d5-4c72c077c3ce\")>,\n",
       " <selenium.webdriver.remote.webelement.WebElement (session=\"ecc063c6db6134752c3601a50bbfcb82\", element=\"8dd7c70e-eae9-408e-9894-49cef9d95cb1\")>,\n",
       " <selenium.webdriver.remote.webelement.WebElement (session=\"ecc063c6db6134752c3601a50bbfcb82\", element=\"30802901-980a-4959-9cb3-57791d94d1ca\")>,\n",
       " <selenium.webdriver.remote.webelement.WebElement (session=\"ecc063c6db6134752c3601a50bbfcb82\", element=\"46f75ba4-fbab-448e-a6e4-a06e11dd30e3\")>,\n",
       " <selenium.webdriver.remote.webelement.WebElement (session=\"ecc063c6db6134752c3601a50bbfcb82\", element=\"272c69a9-4627-442b-bdee-765fe49fee4e\")>,\n",
       " <selenium.webdriver.remote.webelement.WebElement (session=\"ecc063c6db6134752c3601a50bbfcb82\", element=\"20c2201d-e899-4668-b0bb-10179261fc47\")>,\n",
       " <selenium.webdriver.remote.webelement.WebElement (session=\"ecc063c6db6134752c3601a50bbfcb82\", element=\"2c0c1dca-8ae3-484d-90e6-6733e5a8bb60\")>,\n",
       " <selenium.webdriver.remote.webelement.WebElement (session=\"ecc063c6db6134752c3601a50bbfcb82\", element=\"1869756e-e03a-4970-afb7-cb9223914068\")>,\n",
       " <selenium.webdriver.remote.webelement.WebElement (session=\"ecc063c6db6134752c3601a50bbfcb82\", element=\"93b82f81-fec5-4ae8-8f8b-097ecbdbf528\")>,\n",
       " <selenium.webdriver.remote.webelement.WebElement (session=\"ecc063c6db6134752c3601a50bbfcb82\", element=\"cc39bec9-e15f-4d43-b9b9-c1810b6cf517\")>,\n",
       " <selenium.webdriver.remote.webelement.WebElement (session=\"ecc063c6db6134752c3601a50bbfcb82\", element=\"449dcd9b-a84c-45e5-a5e6-2fce00fd829b\")>,\n",
       " <selenium.webdriver.remote.webelement.WebElement (session=\"ecc063c6db6134752c3601a50bbfcb82\", element=\"adb443ca-4fb7-4932-b10d-fe06f2b41cce\")>,\n",
       " <selenium.webdriver.remote.webelement.WebElement (session=\"ecc063c6db6134752c3601a50bbfcb82\", element=\"d1eaad34-ee98-4526-b86e-0249ddd48cc2\")>,\n",
       " <selenium.webdriver.remote.webelement.WebElement (session=\"ecc063c6db6134752c3601a50bbfcb82\", element=\"286eaf46-ff8d-4090-ba90-7e9a836c9472\")>,\n",
       " <selenium.webdriver.remote.webelement.WebElement (session=\"ecc063c6db6134752c3601a50bbfcb82\", element=\"8fa6d6ec-e0d9-4d8a-9c42-b16d02901b77\")>,\n",
       " <selenium.webdriver.remote.webelement.WebElement (session=\"ecc063c6db6134752c3601a50bbfcb82\", element=\"89c1860c-0887-498c-9b2c-e0edfd722782\")>,\n",
       " <selenium.webdriver.remote.webelement.WebElement (session=\"ecc063c6db6134752c3601a50bbfcb82\", element=\"513245f7-7571-4569-a150-23a2cf86e99c\")>,\n",
       " <selenium.webdriver.remote.webelement.WebElement (session=\"ecc063c6db6134752c3601a50bbfcb82\", element=\"7f1c89a1-af4a-4765-bd96-ba16ac54b781\")>]"
      ]
     },
     "execution_count": 21,
     "metadata": {},
     "output_type": "execute_result"
    }
   ],
   "source": [
    "brief1=driver.find_elements_by_xpath(\"//a[@class='IRpwTa']\")\n",
    "brief1"
   ]
  },
  {
   "cell_type": "code",
   "execution_count": 22,
   "metadata": {},
   "outputs": [
    {
     "data": {
      "text/plain": [
       "['Combo Pack of 4 Casual Sneakers With Sneakers For Men',\n",
       " 'Unique & Perfect Collection Combo Pack of 02 Shoes for ...',\n",
       " 'White Sneaker For Men Sneakers For Men',\n",
       " 'Sneakers Sneakers For Men',\n",
       " 'Super Stylish & Trendy Combo Pack of 02 Pairs Sneakers ...',\n",
       " \"White Sneaker For Men's/Boy's Sneakers For Men\",\n",
       " 'Sneakers For Men',\n",
       " \"Luxury Branded Fashionable Men's Casual Walking Partywe...\",\n",
       " 'Modern Trendy Sneakers Shoes Sneakers For Men',\n",
       " '411 Casual Sneakers For Men',\n",
       " 'Sports Running Shoes Sneakers For Men',\n",
       " 'Speed Set of 5 Pairs Sneakers Outdoors Casuals for Men ...',\n",
       " 'Sneakers For Men',\n",
       " 'Combo Pack of 5 Casual Sneakers Sneakers For Men',\n",
       " 'Lazy Knit Slip On Sneakers For Men',\n",
       " 'Lazy Knit Slip On Sneakers For Men',\n",
       " 'Series 7 Sneakers For Men',\n",
       " 'Casual Sneakers Black Shoes For Men Sneakers For Men',\n",
       " 'Shark-41 Sneakers For Men',\n",
       " 'Sneakers For Men',\n",
       " 'Sneakers For Men',\n",
       " 'Combo Pack of 2 Casual Shoes Sneakers For Men',\n",
       " 'Sneakers For Men',\n",
       " \"Original Luxury Branded Fashionable Men's Casual Walkin...\",\n",
       " \"Casual , Partywear Sneakers Shoes For Men's And Boys Wh...\",\n",
       " 'SM-322 Sneakers For Men',\n",
       " 'Modern & Trendy Collection Combo Pack of 02 Shoes for M...',\n",
       " 'Combo Pack of 3 Casual Shoes (Sneakers Shoes) Sneakers ...',\n",
       " 'Sneakers for men(black_7) Sneakers For Men',\n",
       " \"Original Luxury Branded Fashionable Men's Casual Walkin...\",\n",
       " 'Sneakers For Men',\n",
       " 'Mesh Sports/Walking Shoes/Outdoor Ultra Lightweight Run...',\n",
       " 'Sneakers For Men',\n",
       " 'Sneakers For Men',\n",
       " 'Sneakers For Men',\n",
       " 'Backcourt Mid CyberWeek Sneakers For Men',\n",
       " 'Sneakers For Men',\n",
       " 'Men Casual Shoe New Trend With Fashion Panda Desgined L...',\n",
       " 'Birde Trendy Casual Shoes Sneakers For Men',\n",
       " 'Sneakers For Men',\n",
       " 'CASUAL Sneakers For Men',\n",
       " 'Sneakers For Men',\n",
       " '516 Trendy Star Perfect Sneakers For Men',\n",
       " 'Sneakers For Men',\n",
       " 'jeans shoes for men boy Sneakers For Men',\n",
       " 'Perfect & Affordable Combo Pack of 02 Pairs Sneakers Ou...',\n",
       " 'Sneakers For Men',\n",
       " 'Canvas Casual Partywear Outdoor Sneakers Shoes For Mens...',\n",
       " 'Fashion Outdoor Canvas Casual Light Weight Lace-up Even...',\n",
       " 'Combo Pack of 2 Casual Shoes Sneakers For Men',\n",
       " 'Luxury Fashionable casual sneaker shoes and partywear s...',\n",
       " 'Fashion Outdoor Canvas Casual Light Weight Lace-up Even...',\n",
       " 'Birde Trendy Casual Shoes Sneakers For Men',\n",
       " 'Sneakers For Men',\n",
       " 'Modern Trendy Shoes Combo pack of 4 Sneakers For Men',\n",
       " 'Combo Pack of 02 Pair Casual Sneakers Outdoor Sports Sh...',\n",
       " 'Sneakers For Men',\n",
       " 'Lightweight & Stylish Pack of 02 Pair Shoes for Men Cas...',\n",
       " 'Sneakers For Men',\n",
       " 'Skypy-31 Walking Shoes,Training Shoes,Sneakers,Loafers,...',\n",
       " 'Casual Sneakers White Shoes For Men Sneakers For Men',\n",
       " 'Sneakers For Men',\n",
       " 'Synthetic Leather Casual Partywear Wedding Sneakers Sho...',\n",
       " 'Casual Sneakers Green Shoes For Men And Boys Sneakers F...',\n",
       " 'SM-322 Sneakers For Men',\n",
       " \"Men's Canvas Low Top Sneakers Lace-up Classic Casual Sn...\",\n",
       " 'Sneakers For Men',\n",
       " 'Casual Sneakers Shoes For Men Sneakers For Men']"
      ]
     },
     "execution_count": 22,
     "metadata": {},
     "output_type": "execute_result"
    }
   ],
   "source": [
    "for i in brief1:\n",
    "    br=i.text\n",
    "    Product_brief.append(br)\n",
    "Product_brief"
   ]
  },
  {
   "cell_type": "code",
   "execution_count": 23,
   "metadata": {},
   "outputs": [
    {
     "data": {
      "text/plain": [
       "68"
      ]
     },
     "execution_count": 23,
     "metadata": {},
     "output_type": "execute_result"
    }
   ],
   "source": [
    "len(Product_brief)"
   ]
  },
  {
   "cell_type": "code",
   "execution_count": 24,
   "metadata": {},
   "outputs": [
    {
     "name": "stderr",
     "output_type": "stream",
     "text": [
      "C:\\Users\\Suncity\\anaconda3\\lib\\site-packages\\ipykernel_launcher.py:1: DeprecationWarning: find_elements_by_* commands are deprecated. Please use find_elements() instead\n",
      "  \"\"\"Entry point for launching an IPython kernel.\n"
     ]
    },
    {
     "data": {
      "text/plain": [
       "[<selenium.webdriver.remote.webelement.WebElement (session=\"ecc063c6db6134752c3601a50bbfcb82\", element=\"dad218a0-f16e-4275-9a3a-e85becbbd222\")>,\n",
       " <selenium.webdriver.remote.webelement.WebElement (session=\"ecc063c6db6134752c3601a50bbfcb82\", element=\"95647358-2285-47d8-89bb-b3b13e27b903\")>,\n",
       " <selenium.webdriver.remote.webelement.WebElement (session=\"ecc063c6db6134752c3601a50bbfcb82\", element=\"6c3103f0-1f5f-4955-ad12-20722416123f\")>,\n",
       " <selenium.webdriver.remote.webelement.WebElement (session=\"ecc063c6db6134752c3601a50bbfcb82\", element=\"3c1084ed-fdda-4309-8b97-1c0edcb684ee\")>,\n",
       " <selenium.webdriver.remote.webelement.WebElement (session=\"ecc063c6db6134752c3601a50bbfcb82\", element=\"9f8f39d1-52b6-40ab-ab05-f4fadb0c9350\")>,\n",
       " <selenium.webdriver.remote.webelement.WebElement (session=\"ecc063c6db6134752c3601a50bbfcb82\", element=\"feb9085b-db2f-4855-aa0d-9e81dd264c3c\")>,\n",
       " <selenium.webdriver.remote.webelement.WebElement (session=\"ecc063c6db6134752c3601a50bbfcb82\", element=\"5b2c498b-45b0-4a7e-995f-9b90e24aefac\")>,\n",
       " <selenium.webdriver.remote.webelement.WebElement (session=\"ecc063c6db6134752c3601a50bbfcb82\", element=\"d9ca0633-17fb-49e6-a145-25bbb3d773c5\")>,\n",
       " <selenium.webdriver.remote.webelement.WebElement (session=\"ecc063c6db6134752c3601a50bbfcb82\", element=\"9a4cd97b-bad3-4865-8dd8-5ad5a4b758ad\")>,\n",
       " <selenium.webdriver.remote.webelement.WebElement (session=\"ecc063c6db6134752c3601a50bbfcb82\", element=\"bb882477-47a0-4f84-a0db-f52ae324f5b8\")>,\n",
       " <selenium.webdriver.remote.webelement.WebElement (session=\"ecc063c6db6134752c3601a50bbfcb82\", element=\"f05cbcb1-5e5a-47ff-99ee-91eb13d13bf7\")>,\n",
       " <selenium.webdriver.remote.webelement.WebElement (session=\"ecc063c6db6134752c3601a50bbfcb82\", element=\"b41dd690-4b55-47fa-b975-39c995084d23\")>,\n",
       " <selenium.webdriver.remote.webelement.WebElement (session=\"ecc063c6db6134752c3601a50bbfcb82\", element=\"9e6b3460-8937-443b-8205-0a44b4b6ef61\")>,\n",
       " <selenium.webdriver.remote.webelement.WebElement (session=\"ecc063c6db6134752c3601a50bbfcb82\", element=\"1df346e1-0fe4-4a4a-be99-f1c53db89c3e\")>,\n",
       " <selenium.webdriver.remote.webelement.WebElement (session=\"ecc063c6db6134752c3601a50bbfcb82\", element=\"4004f19f-4a30-4f87-a88c-00fb8429357f\")>,\n",
       " <selenium.webdriver.remote.webelement.WebElement (session=\"ecc063c6db6134752c3601a50bbfcb82\", element=\"f8e28801-ed09-42d4-af37-10f1f48384f7\")>,\n",
       " <selenium.webdriver.remote.webelement.WebElement (session=\"ecc063c6db6134752c3601a50bbfcb82\", element=\"86e81bc2-6a70-4f24-8357-ad724a959fe0\")>,\n",
       " <selenium.webdriver.remote.webelement.WebElement (session=\"ecc063c6db6134752c3601a50bbfcb82\", element=\"f4d3f146-585f-438d-af41-4f5f053607df\")>,\n",
       " <selenium.webdriver.remote.webelement.WebElement (session=\"ecc063c6db6134752c3601a50bbfcb82\", element=\"537e77f8-1f8d-44d1-a17f-a8589f06f094\")>,\n",
       " <selenium.webdriver.remote.webelement.WebElement (session=\"ecc063c6db6134752c3601a50bbfcb82\", element=\"7029b13a-a559-48bd-9fda-e04da29e0102\")>,\n",
       " <selenium.webdriver.remote.webelement.WebElement (session=\"ecc063c6db6134752c3601a50bbfcb82\", element=\"dfc166c9-eced-4049-996e-d4578ea88370\")>,\n",
       " <selenium.webdriver.remote.webelement.WebElement (session=\"ecc063c6db6134752c3601a50bbfcb82\", element=\"8ba07753-dba6-4291-9b84-b2dbaa168a36\")>,\n",
       " <selenium.webdriver.remote.webelement.WebElement (session=\"ecc063c6db6134752c3601a50bbfcb82\", element=\"33a85010-0516-4f47-86ae-8643b62e5053\")>,\n",
       " <selenium.webdriver.remote.webelement.WebElement (session=\"ecc063c6db6134752c3601a50bbfcb82\", element=\"dfe39163-cdd7-4961-8921-230a8f3ba6e6\")>,\n",
       " <selenium.webdriver.remote.webelement.WebElement (session=\"ecc063c6db6134752c3601a50bbfcb82\", element=\"e01be71a-1f94-4e82-8337-192b7838f00a\")>,\n",
       " <selenium.webdriver.remote.webelement.WebElement (session=\"ecc063c6db6134752c3601a50bbfcb82\", element=\"576d6df5-d7bb-4848-a11c-e2062030a657\")>,\n",
       " <selenium.webdriver.remote.webelement.WebElement (session=\"ecc063c6db6134752c3601a50bbfcb82\", element=\"6d9bbccd-2d5e-4436-ade5-7e50e469077b\")>,\n",
       " <selenium.webdriver.remote.webelement.WebElement (session=\"ecc063c6db6134752c3601a50bbfcb82\", element=\"175cc482-5535-4220-a3c6-abe6f04658b6\")>,\n",
       " <selenium.webdriver.remote.webelement.WebElement (session=\"ecc063c6db6134752c3601a50bbfcb82\", element=\"173e912d-a28d-49de-904d-9cad25c843a7\")>,\n",
       " <selenium.webdriver.remote.webelement.WebElement (session=\"ecc063c6db6134752c3601a50bbfcb82\", element=\"81985b76-b619-4bda-bfee-c29b8fdb216e\")>,\n",
       " <selenium.webdriver.remote.webelement.WebElement (session=\"ecc063c6db6134752c3601a50bbfcb82\", element=\"5d20dbbd-2aa8-4c85-9adb-a7407a076113\")>,\n",
       " <selenium.webdriver.remote.webelement.WebElement (session=\"ecc063c6db6134752c3601a50bbfcb82\", element=\"b415844e-8824-4e94-b37e-da83b8d24c35\")>,\n",
       " <selenium.webdriver.remote.webelement.WebElement (session=\"ecc063c6db6134752c3601a50bbfcb82\", element=\"2f573e88-be9a-4c6f-8ed1-625233d35507\")>,\n",
       " <selenium.webdriver.remote.webelement.WebElement (session=\"ecc063c6db6134752c3601a50bbfcb82\", element=\"ea68066d-97f7-4d84-b0e0-d22e7b3a1736\")>,\n",
       " <selenium.webdriver.remote.webelement.WebElement (session=\"ecc063c6db6134752c3601a50bbfcb82\", element=\"5b9f9e07-d45a-4f0a-aff3-898180258e3b\")>,\n",
       " <selenium.webdriver.remote.webelement.WebElement (session=\"ecc063c6db6134752c3601a50bbfcb82\", element=\"46c16538-fe53-4888-b2a9-35892f939c60\")>,\n",
       " <selenium.webdriver.remote.webelement.WebElement (session=\"ecc063c6db6134752c3601a50bbfcb82\", element=\"c0a0c1db-48b7-48c7-8968-594317bd42ca\")>,\n",
       " <selenium.webdriver.remote.webelement.WebElement (session=\"ecc063c6db6134752c3601a50bbfcb82\", element=\"ce79ea76-02ab-47b3-aca2-ddaf2b72a750\")>,\n",
       " <selenium.webdriver.remote.webelement.WebElement (session=\"ecc063c6db6134752c3601a50bbfcb82\", element=\"a7ab967b-21d2-453e-ab31-4c1b752e5fb6\")>,\n",
       " <selenium.webdriver.remote.webelement.WebElement (session=\"ecc063c6db6134752c3601a50bbfcb82\", element=\"5f69d777-3867-4e95-82a2-751ba99e7a87\")>]"
      ]
     },
     "execution_count": 24,
     "metadata": {},
     "output_type": "execute_result"
    }
   ],
   "source": [
    "price=driver.find_elements_by_xpath(\"//div[@class='_30jeq3']\")\n",
    "price"
   ]
  },
  {
   "cell_type": "code",
   "execution_count": 25,
   "metadata": {},
   "outputs": [
    {
     "data": {
      "text/plain": [
       "['₹680',\n",
       " '₹425',\n",
       " '₹509',\n",
       " '₹499',\n",
       " '₹377',\n",
       " '₹536',\n",
       " '₹331',\n",
       " '₹247',\n",
       " '₹398',\n",
       " '₹499',\n",
       " '₹299',\n",
       " '₹499',\n",
       " '₹145',\n",
       " '₹240',\n",
       " '₹299',\n",
       " '₹679',\n",
       " '₹549',\n",
       " '₹295',\n",
       " '₹679',\n",
       " '₹899',\n",
       " '₹939',\n",
       " '₹444',\n",
       " '₹451',\n",
       " '₹444',\n",
       " '₹649',\n",
       " '₹499',\n",
       " '₹422',\n",
       " '₹251',\n",
       " '₹599',\n",
       " '₹474',\n",
       " '₹199',\n",
       " '₹949',\n",
       " '₹384',\n",
       " '₹849',\n",
       " '₹471',\n",
       " '₹187',\n",
       " '₹596',\n",
       " '₹424',\n",
       " '₹499',\n",
       " '₹499',\n",
       " '₹259',\n",
       " '₹459',\n",
       " '₹499',\n",
       " '₹449',\n",
       " '₹2,659',\n",
       " '₹314',\n",
       " '₹442',\n",
       " '₹299',\n",
       " '₹499',\n",
       " '₹449',\n",
       " '₹499',\n",
       " '₹299',\n",
       " '₹499',\n",
       " '₹459',\n",
       " '₹447',\n",
       " '₹399',\n",
       " '₹679',\n",
       " '₹499',\n",
       " '₹423',\n",
       " '₹424',\n",
       " '₹399',\n",
       " '₹499',\n",
       " '₹418',\n",
       " '₹299',\n",
       " '₹499',\n",
       " '₹949',\n",
       " '₹420',\n",
       " '₹535',\n",
       " '₹420',\n",
       " '₹379',\n",
       " '₹439',\n",
       " '₹474',\n",
       " '₹1,012',\n",
       " '₹359',\n",
       " '₹499',\n",
       " '₹840',\n",
       " '₹630',\n",
       " '₹394',\n",
       " '₹649',\n",
       " '₹449']"
      ]
     },
     "execution_count": 25,
     "metadata": {},
     "output_type": "execute_result"
    }
   ],
   "source": [
    "for i in price:\n",
    "    p=i.text\n",
    "    Price.append(p)\n",
    "Price"
   ]
  },
  {
   "cell_type": "code",
   "execution_count": 26,
   "metadata": {},
   "outputs": [
    {
     "name": "stderr",
     "output_type": "stream",
     "text": [
      "C:\\Users\\Suncity\\anaconda3\\lib\\site-packages\\ipykernel_launcher.py:1: DeprecationWarning: find_elements_by_* commands are deprecated. Please use find_elements() instead\n",
      "  \"\"\"Entry point for launching an IPython kernel.\n"
     ]
    },
    {
     "data": {
      "text/plain": [
       "[<selenium.webdriver.remote.webelement.WebElement (session=\"ecc063c6db6134752c3601a50bbfcb82\", element=\"ed3d6e18-e4b9-4899-adb8-02047f0729ab\")>,\n",
       " <selenium.webdriver.remote.webelement.WebElement (session=\"ecc063c6db6134752c3601a50bbfcb82\", element=\"ca2ea670-9c1b-481c-96d2-3c95dd71a15a\")>,\n",
       " <selenium.webdriver.remote.webelement.WebElement (session=\"ecc063c6db6134752c3601a50bbfcb82\", element=\"7ef8cb37-c5b0-484f-b546-3a31b4fb6815\")>,\n",
       " <selenium.webdriver.remote.webelement.WebElement (session=\"ecc063c6db6134752c3601a50bbfcb82\", element=\"13cb20cd-2041-44b2-b52f-7fdee1fbe2d6\")>,\n",
       " <selenium.webdriver.remote.webelement.WebElement (session=\"ecc063c6db6134752c3601a50bbfcb82\", element=\"403eec58-ef2c-4e1b-ac9e-063db6306fcb\")>,\n",
       " <selenium.webdriver.remote.webelement.WebElement (session=\"ecc063c6db6134752c3601a50bbfcb82\", element=\"3e97ac24-bb9d-4e45-bdc6-5416ed07b814\")>,\n",
       " <selenium.webdriver.remote.webelement.WebElement (session=\"ecc063c6db6134752c3601a50bbfcb82\", element=\"070caae7-5b4b-4654-9822-ae243775418f\")>,\n",
       " <selenium.webdriver.remote.webelement.WebElement (session=\"ecc063c6db6134752c3601a50bbfcb82\", element=\"93db6f42-d91c-40cc-b1ab-939e0b7adfad\")>,\n",
       " <selenium.webdriver.remote.webelement.WebElement (session=\"ecc063c6db6134752c3601a50bbfcb82\", element=\"ea8e3e07-2eee-4755-98da-7be30319c2bc\")>,\n",
       " <selenium.webdriver.remote.webelement.WebElement (session=\"ecc063c6db6134752c3601a50bbfcb82\", element=\"2d755337-f3dd-4de2-837b-ba07c6a3f8e3\")>,\n",
       " <selenium.webdriver.remote.webelement.WebElement (session=\"ecc063c6db6134752c3601a50bbfcb82\", element=\"ab484d5e-9886-454d-9eb6-f551a6f5d5cf\")>,\n",
       " <selenium.webdriver.remote.webelement.WebElement (session=\"ecc063c6db6134752c3601a50bbfcb82\", element=\"eb9095e0-b207-42dc-a8f5-5c1636324957\")>,\n",
       " <selenium.webdriver.remote.webelement.WebElement (session=\"ecc063c6db6134752c3601a50bbfcb82\", element=\"4c12429e-0968-4eca-afef-d33a5bdf386e\")>,\n",
       " <selenium.webdriver.remote.webelement.WebElement (session=\"ecc063c6db6134752c3601a50bbfcb82\", element=\"4e4389e4-e1bb-449f-b5a0-6809a947f0ca\")>,\n",
       " <selenium.webdriver.remote.webelement.WebElement (session=\"ecc063c6db6134752c3601a50bbfcb82\", element=\"8aca37a9-a6f8-4982-ad07-32e4460ebb80\")>,\n",
       " <selenium.webdriver.remote.webelement.WebElement (session=\"ecc063c6db6134752c3601a50bbfcb82\", element=\"b4d187dc-181b-4a2a-bc09-c715e182706f\")>,\n",
       " <selenium.webdriver.remote.webelement.WebElement (session=\"ecc063c6db6134752c3601a50bbfcb82\", element=\"5135aa51-3314-42d2-9598-0357562b7206\")>,\n",
       " <selenium.webdriver.remote.webelement.WebElement (session=\"ecc063c6db6134752c3601a50bbfcb82\", element=\"4fb941d7-05b2-46fb-97b4-34e8f4dd05dd\")>,\n",
       " <selenium.webdriver.remote.webelement.WebElement (session=\"ecc063c6db6134752c3601a50bbfcb82\", element=\"3a0ec09e-7fac-4808-b406-4619a772c77a\")>,\n",
       " <selenium.webdriver.remote.webelement.WebElement (session=\"ecc063c6db6134752c3601a50bbfcb82\", element=\"70705c90-27e6-48b2-a368-fed0812f11e9\")>,\n",
       " <selenium.webdriver.remote.webelement.WebElement (session=\"ecc063c6db6134752c3601a50bbfcb82\", element=\"7e99b974-37dd-4e49-aeb0-000cc879266f\")>,\n",
       " <selenium.webdriver.remote.webelement.WebElement (session=\"ecc063c6db6134752c3601a50bbfcb82\", element=\"0d44e30f-38e7-48be-bfb3-620d99f42be4\")>,\n",
       " <selenium.webdriver.remote.webelement.WebElement (session=\"ecc063c6db6134752c3601a50bbfcb82\", element=\"a585dcc7-6fbd-4fee-b48e-a045df7303e4\")>,\n",
       " <selenium.webdriver.remote.webelement.WebElement (session=\"ecc063c6db6134752c3601a50bbfcb82\", element=\"d94b8f14-80fa-4659-828b-becc02a701bc\")>,\n",
       " <selenium.webdriver.remote.webelement.WebElement (session=\"ecc063c6db6134752c3601a50bbfcb82\", element=\"708db130-0810-416f-98ee-9945a1297606\")>,\n",
       " <selenium.webdriver.remote.webelement.WebElement (session=\"ecc063c6db6134752c3601a50bbfcb82\", element=\"21c948db-bcbb-4ca1-89d9-1a447bcc29a8\")>,\n",
       " <selenium.webdriver.remote.webelement.WebElement (session=\"ecc063c6db6134752c3601a50bbfcb82\", element=\"88393ba9-3b01-459f-81f6-ff1a91562c59\")>,\n",
       " <selenium.webdriver.remote.webelement.WebElement (session=\"ecc063c6db6134752c3601a50bbfcb82\", element=\"5722a945-b01a-4faf-bb8e-c0b904b3c710\")>,\n",
       " <selenium.webdriver.remote.webelement.WebElement (session=\"ecc063c6db6134752c3601a50bbfcb82\", element=\"33594b04-bb82-4a6b-97e6-8d9691286d90\")>,\n",
       " <selenium.webdriver.remote.webelement.WebElement (session=\"ecc063c6db6134752c3601a50bbfcb82\", element=\"40d365f2-3822-4412-9c59-fe4fb92bc364\")>,\n",
       " <selenium.webdriver.remote.webelement.WebElement (session=\"ecc063c6db6134752c3601a50bbfcb82\", element=\"d86f891c-4d9b-4c11-9c45-8b5b9df91cf5\")>,\n",
       " <selenium.webdriver.remote.webelement.WebElement (session=\"ecc063c6db6134752c3601a50bbfcb82\", element=\"1fbb453d-f414-43c9-86e8-a4e644bd45f1\")>,\n",
       " <selenium.webdriver.remote.webelement.WebElement (session=\"ecc063c6db6134752c3601a50bbfcb82\", element=\"6c9ddb3e-3933-49fb-a1ce-9c339bd02ccb\")>,\n",
       " <selenium.webdriver.remote.webelement.WebElement (session=\"ecc063c6db6134752c3601a50bbfcb82\", element=\"15332fc4-4e94-4362-ba1e-13f6fab29ada\")>,\n",
       " <selenium.webdriver.remote.webelement.WebElement (session=\"ecc063c6db6134752c3601a50bbfcb82\", element=\"d4dc1110-1436-4117-9e3d-2e7caf1f27d1\")>,\n",
       " <selenium.webdriver.remote.webelement.WebElement (session=\"ecc063c6db6134752c3601a50bbfcb82\", element=\"50016ea1-a1f1-447d-9eb8-e74203292511\")>,\n",
       " <selenium.webdriver.remote.webelement.WebElement (session=\"ecc063c6db6134752c3601a50bbfcb82\", element=\"dc811333-66c7-417f-aec3-7620e1db1bca\")>,\n",
       " <selenium.webdriver.remote.webelement.WebElement (session=\"ecc063c6db6134752c3601a50bbfcb82\", element=\"8d51269d-1114-4d40-aadb-21712ad0edcb\")>,\n",
       " <selenium.webdriver.remote.webelement.WebElement (session=\"ecc063c6db6134752c3601a50bbfcb82\", element=\"25d1f53f-a391-496b-8496-3cc1c4565741\")>,\n",
       " <selenium.webdriver.remote.webelement.WebElement (session=\"ecc063c6db6134752c3601a50bbfcb82\", element=\"f8d65725-b817-4bb4-abe3-3ee8c81a6b75\")>]"
      ]
     },
     "execution_count": 26,
     "metadata": {},
     "output_type": "execute_result"
    }
   ],
   "source": [
    "price1=driver.find_elements_by_xpath(\"//div[@class='_3Ay6Sb']\")\n",
    "price1"
   ]
  },
  {
   "cell_type": "code",
   "execution_count": 27,
   "metadata": {},
   "outputs": [
    {
     "data": {
      "text/plain": [
       "['31% off',\n",
       " '78% off',\n",
       " '66% off',\n",
       " '61% off',\n",
       " '62% off',\n",
       " '66% off',\n",
       " '66% off',\n",
       " '75% off',\n",
       " '60% off',\n",
       " '37% off',\n",
       " '76% off',\n",
       " '75% off',\n",
       " '70% off',\n",
       " '75% off',\n",
       " '40% off',\n",
       " '72% off',\n",
       " '45% off',\n",
       " '77% off',\n",
       " '72% off',\n",
       " '70% off',\n",
       " '68% off',\n",
       " '55% off',\n",
       " '54% off',\n",
       " '55% off',\n",
       " '56% off',\n",
       " '50% off',\n",
       " '57% off',\n",
       " '83% off',\n",
       " '70% off',\n",
       " '52% off',\n",
       " '60% off',\n",
       " '52% off',\n",
       " '41% off',\n",
       " '15% off',\n",
       " '81% off',\n",
       " '62% off',\n",
       " '60% off',\n",
       " '57% off',\n",
       " '75% off',\n",
       " '50% off',\n",
       " '74% off',\n",
       " '54% off',\n",
       " '61% off',\n",
       " '55% off',\n",
       " '62% off',\n",
       " '68% off',\n",
       " '55% off',\n",
       " '40% off',\n",
       " '50% off',\n",
       " '71% off',\n",
       " '57% off',\n",
       " '62% off',\n",
       " '83% off',\n",
       " '54% off',\n",
       " '65% off',\n",
       " '60% off',\n",
       " '15% off',\n",
       " '50% off',\n",
       " '57% off',\n",
       " '57% off',\n",
       " '60% off',\n",
       " '50% off',\n",
       " '58% off',\n",
       " '40% off',\n",
       " '50% off',\n",
       " '36% off',\n",
       " '71% off',\n",
       " '46% off',\n",
       " '71% off',\n",
       " '70% off',\n",
       " '45% off',\n",
       " '52% off',\n",
       " '76% off',\n",
       " '64% off',\n",
       " '50% off',\n",
       " '15% off',\n",
       " '36% off',\n",
       " '73% off',\n",
       " '56% off',\n",
       " '55% off']"
      ]
     },
     "execution_count": 27,
     "metadata": {},
     "output_type": "execute_result"
    }
   ],
   "source": [
    "for i in price1:\n",
    "    p=i.text\n",
    "    Price1.append(p)\n",
    "Price1"
   ]
  },
  {
   "cell_type": "code",
   "execution_count": 28,
   "metadata": {},
   "outputs": [
    {
     "data": {
      "text/plain": [
       "80"
      ]
     },
     "execution_count": 28,
     "metadata": {},
     "output_type": "execute_result"
    }
   ],
   "source": [
    "len(Price1)"
   ]
  },
  {
   "cell_type": "code",
   "execution_count": 30,
   "metadata": {},
   "outputs": [
    {
     "name": "stderr",
     "output_type": "stream",
     "text": [
      "C:\\Users\\Suncity\\anaconda3\\lib\\site-packages\\ipykernel_launcher.py:1: DeprecationWarning: find_element_by_* commands are deprecated. Please use find_element() instead\n",
      "  \"\"\"Entry point for launching an IPython kernel.\n"
     ]
    }
   ],
   "source": [
    "next_page=driver.find_element_by_xpath(\"/html/body/div[1]/div/div[3]/div[1]/div[2]/div[12]/div/div/nav/a[4]\")\n",
    "next_page.click()"
   ]
  },
  {
   "cell_type": "code",
   "execution_count": 31,
   "metadata": {},
   "outputs": [
    {
     "name": "stderr",
     "output_type": "stream",
     "text": [
      "C:\\Users\\Suncity\\anaconda3\\lib\\site-packages\\ipykernel_launcher.py:1: DeprecationWarning: find_elements_by_* commands are deprecated. Please use find_elements() instead\n",
      "  \"\"\"Entry point for launching an IPython kernel.\n"
     ]
    },
    {
     "data": {
      "text/plain": [
       "[<selenium.webdriver.remote.webelement.WebElement (session=\"ecc063c6db6134752c3601a50bbfcb82\", element=\"c6194984-c166-46c7-8180-f9474be5c3ef\")>,\n",
       " <selenium.webdriver.remote.webelement.WebElement (session=\"ecc063c6db6134752c3601a50bbfcb82\", element=\"527b0d3f-6451-4bf8-a06d-2bcc50d9759d\")>,\n",
       " <selenium.webdriver.remote.webelement.WebElement (session=\"ecc063c6db6134752c3601a50bbfcb82\", element=\"51d392c1-cccb-4738-908d-caa0703bd5bd\")>,\n",
       " <selenium.webdriver.remote.webelement.WebElement (session=\"ecc063c6db6134752c3601a50bbfcb82\", element=\"93ad7f67-5615-4fc6-bbfa-42fa0932b1f5\")>,\n",
       " <selenium.webdriver.remote.webelement.WebElement (session=\"ecc063c6db6134752c3601a50bbfcb82\", element=\"813e8e5e-ac42-44ad-90b9-37bd8f003a40\")>,\n",
       " <selenium.webdriver.remote.webelement.WebElement (session=\"ecc063c6db6134752c3601a50bbfcb82\", element=\"050e39a5-7ae4-48fd-9b50-d4833ff3c6fa\")>,\n",
       " <selenium.webdriver.remote.webelement.WebElement (session=\"ecc063c6db6134752c3601a50bbfcb82\", element=\"ee3c3aeb-c8ba-4715-aee9-ce90d14cea55\")>,\n",
       " <selenium.webdriver.remote.webelement.WebElement (session=\"ecc063c6db6134752c3601a50bbfcb82\", element=\"7c5ca400-4c15-4393-921e-72f949362e95\")>,\n",
       " <selenium.webdriver.remote.webelement.WebElement (session=\"ecc063c6db6134752c3601a50bbfcb82\", element=\"f8b2acfe-c9e7-43f9-bfdc-e4026858b68b\")>,\n",
       " <selenium.webdriver.remote.webelement.WebElement (session=\"ecc063c6db6134752c3601a50bbfcb82\", element=\"3d32dd34-f6bc-48f0-ab59-3115e63528d4\")>,\n",
       " <selenium.webdriver.remote.webelement.WebElement (session=\"ecc063c6db6134752c3601a50bbfcb82\", element=\"161fef87-bf3e-41aa-bede-ec0757fbec16\")>,\n",
       " <selenium.webdriver.remote.webelement.WebElement (session=\"ecc063c6db6134752c3601a50bbfcb82\", element=\"cc28ca99-bf63-407e-bc9e-21b77bcb5057\")>,\n",
       " <selenium.webdriver.remote.webelement.WebElement (session=\"ecc063c6db6134752c3601a50bbfcb82\", element=\"e8e32161-8713-4be3-a968-c0d8666a9cdc\")>,\n",
       " <selenium.webdriver.remote.webelement.WebElement (session=\"ecc063c6db6134752c3601a50bbfcb82\", element=\"a96538e6-87c3-470f-b062-679196788a1b\")>,\n",
       " <selenium.webdriver.remote.webelement.WebElement (session=\"ecc063c6db6134752c3601a50bbfcb82\", element=\"da940e2d-a282-49ff-8a96-cd1824444696\")>,\n",
       " <selenium.webdriver.remote.webelement.WebElement (session=\"ecc063c6db6134752c3601a50bbfcb82\", element=\"465c7b39-7b58-4020-bc53-94f7b09acd4c\")>,\n",
       " <selenium.webdriver.remote.webelement.WebElement (session=\"ecc063c6db6134752c3601a50bbfcb82\", element=\"095d9544-8fc7-4f6c-9c90-05357914fb0c\")>,\n",
       " <selenium.webdriver.remote.webelement.WebElement (session=\"ecc063c6db6134752c3601a50bbfcb82\", element=\"09fe1694-7bbb-4eaa-b83c-46f6745f3837\")>,\n",
       " <selenium.webdriver.remote.webelement.WebElement (session=\"ecc063c6db6134752c3601a50bbfcb82\", element=\"d25873d0-8586-49e0-b3c4-cad15f1f10fa\")>,\n",
       " <selenium.webdriver.remote.webelement.WebElement (session=\"ecc063c6db6134752c3601a50bbfcb82\", element=\"b709aab9-4fc9-4a69-8938-e932906ce8c8\")>,\n",
       " <selenium.webdriver.remote.webelement.WebElement (session=\"ecc063c6db6134752c3601a50bbfcb82\", element=\"8f607f17-4bdb-49ea-815e-44fd7aaed52a\")>,\n",
       " <selenium.webdriver.remote.webelement.WebElement (session=\"ecc063c6db6134752c3601a50bbfcb82\", element=\"496ac244-8923-470d-a0f3-ba9355aac5fb\")>,\n",
       " <selenium.webdriver.remote.webelement.WebElement (session=\"ecc063c6db6134752c3601a50bbfcb82\", element=\"04a332c0-6ac7-4808-85b3-b5faa19a5879\")>,\n",
       " <selenium.webdriver.remote.webelement.WebElement (session=\"ecc063c6db6134752c3601a50bbfcb82\", element=\"09c854af-aea9-4c70-974d-662febdda74f\")>,\n",
       " <selenium.webdriver.remote.webelement.WebElement (session=\"ecc063c6db6134752c3601a50bbfcb82\", element=\"8688fee6-bb74-4064-9e6d-f94be5010c25\")>,\n",
       " <selenium.webdriver.remote.webelement.WebElement (session=\"ecc063c6db6134752c3601a50bbfcb82\", element=\"c42e5aae-aa42-4ac4-867d-8939c035b492\")>,\n",
       " <selenium.webdriver.remote.webelement.WebElement (session=\"ecc063c6db6134752c3601a50bbfcb82\", element=\"4be9e4c9-01fd-4676-96b4-dbd5aad7da10\")>,\n",
       " <selenium.webdriver.remote.webelement.WebElement (session=\"ecc063c6db6134752c3601a50bbfcb82\", element=\"d5caa6b9-a741-4d6d-aa41-3b3d2c254ffa\")>,\n",
       " <selenium.webdriver.remote.webelement.WebElement (session=\"ecc063c6db6134752c3601a50bbfcb82\", element=\"fefa3997-8691-42a8-881b-7031331d6b7a\")>,\n",
       " <selenium.webdriver.remote.webelement.WebElement (session=\"ecc063c6db6134752c3601a50bbfcb82\", element=\"15aafcfa-e54e-43dd-8918-2149536e8da4\")>,\n",
       " <selenium.webdriver.remote.webelement.WebElement (session=\"ecc063c6db6134752c3601a50bbfcb82\", element=\"419e5c4c-0476-4b06-bd16-9dd3435706c7\")>,\n",
       " <selenium.webdriver.remote.webelement.WebElement (session=\"ecc063c6db6134752c3601a50bbfcb82\", element=\"5d3d1d1a-2016-4afe-885e-006637be3282\")>,\n",
       " <selenium.webdriver.remote.webelement.WebElement (session=\"ecc063c6db6134752c3601a50bbfcb82\", element=\"68ca0140-c902-4be8-8f37-5d7f3fd2a1c7\")>,\n",
       " <selenium.webdriver.remote.webelement.WebElement (session=\"ecc063c6db6134752c3601a50bbfcb82\", element=\"4013fb75-1319-4bb4-b83f-be3da243e78c\")>,\n",
       " <selenium.webdriver.remote.webelement.WebElement (session=\"ecc063c6db6134752c3601a50bbfcb82\", element=\"b4ee4bc7-2fb1-4c7a-b24a-8e5f90f27bd3\")>,\n",
       " <selenium.webdriver.remote.webelement.WebElement (session=\"ecc063c6db6134752c3601a50bbfcb82\", element=\"6fef1f05-e028-47ba-86f9-72fbe4d4cb06\")>,\n",
       " <selenium.webdriver.remote.webelement.WebElement (session=\"ecc063c6db6134752c3601a50bbfcb82\", element=\"800c241a-8a64-4581-b487-479bf92f0ad1\")>,\n",
       " <selenium.webdriver.remote.webelement.WebElement (session=\"ecc063c6db6134752c3601a50bbfcb82\", element=\"fad4f980-dc9e-4243-938a-3bcc59715f6f\")>,\n",
       " <selenium.webdriver.remote.webelement.WebElement (session=\"ecc063c6db6134752c3601a50bbfcb82\", element=\"de68707d-673a-481d-8f9e-6ac34957678d\")>,\n",
       " <selenium.webdriver.remote.webelement.WebElement (session=\"ecc063c6db6134752c3601a50bbfcb82\", element=\"1aeac70d-b68c-48cc-8519-50012da2e1c9\")>]"
      ]
     },
     "execution_count": 31,
     "metadata": {},
     "output_type": "execute_result"
    }
   ],
   "source": [
    "brand1=driver.find_elements_by_xpath(\"//div[@class='_2WkVRV']\")\n",
    "brand1"
   ]
  },
  {
   "cell_type": "code",
   "execution_count": 32,
   "metadata": {},
   "outputs": [
    {
     "data": {
      "text/plain": [
       "['RapidBox',\n",
       " 'Chevit',\n",
       " 'Chevit',\n",
       " 'Numenzo',\n",
       " 'SCATCHITE',\n",
       " 'Chevit',\n",
       " 'Shoes Bank',\n",
       " 'URBANBOX',\n",
       " 'Magnolia',\n",
       " 'Edoeviv',\n",
       " 'BRUTON',\n",
       " 'Numenzo',\n",
       " 'ganpati traders',\n",
       " 'Absolute comfort',\n",
       " 'BIRDE',\n",
       " 'Chevit',\n",
       " 'Rzisbo',\n",
       " 'Zsyto',\n",
       " 'Chevit',\n",
       " 'PUMA',\n",
       " 'PUMA',\n",
       " 'Kraasa',\n",
       " 'Robbie jones',\n",
       " 'Kraasa',\n",
       " 'Clymb',\n",
       " 'Robbie jones',\n",
       " 'BIRDE',\n",
       " 'Stefano Rads',\n",
       " 'TR',\n",
       " 'ASTEROID',\n",
       " 'Absolute comfort',\n",
       " 'CALCADOS',\n",
       " 'D-SNEAKERZ',\n",
       " 'SPARX',\n",
       " 'BRUTON',\n",
       " 'HOTSTYLE',\n",
       " 'Chevit',\n",
       " 'believe',\n",
       " 'ASTEROID',\n",
       " 'Robbie jones',\n",
       " 'Clymb',\n",
       " 'STRANGER BROTHERS',\n",
       " 'Numenzo',\n",
       " 'Zorth',\n",
       " 'PUMA',\n",
       " 'HOTSTYLE',\n",
       " 'LuvShus',\n",
       " 'BIRDE',\n",
       " 'Robbie jones',\n",
       " 'flipy',\n",
       " 'PACIFIER',\n",
       " 'Chevit',\n",
       " 'India hub',\n",
       " 'zovim',\n",
       " 'Chevit',\n",
       " 'ESSENCE',\n",
       " 'SPARX',\n",
       " 'RODDICK SHOES',\n",
       " 'BIRDE',\n",
       " 'FEWROK',\n",
       " 'ESSENCE',\n",
       " 'RODDICK SHOES',\n",
       " 'Zsyto',\n",
       " 'BIRDE',\n",
       " 'Robbie jones',\n",
       " 'Extoes',\n",
       " 'Chevit',\n",
       " 'BIRDE',\n",
       " 'Chevit',\n",
       " 'India hub',\n",
       " 'ASIAN',\n",
       " 'Robbie jones',\n",
       " 'RED TAPE',\n",
       " 'T-ROCK',\n",
       " 'Robbie jones',\n",
       " 'SPARX',\n",
       " 'RapidBox',\n",
       " 'Echor',\n",
       " 'Clymb',\n",
       " 'Robbie jones',\n",
       " 'PEHANOSA',\n",
       " 'D-SNEAKERZ',\n",
       " 'BIRDE',\n",
       " 'Trendmode',\n",
       " 'SPARX',\n",
       " 'PUMA',\n",
       " 'SPARX',\n",
       " 'SPARX',\n",
       " 'SPARX',\n",
       " 'Robbie jones',\n",
       " 'FEWROK',\n",
       " 'Chevit',\n",
       " 'SneakerVilla',\n",
       " 'HOC',\n",
       " 'ESSENCE',\n",
       " 'aadi',\n",
       " 'BIRDE',\n",
       " 'Robbie jones',\n",
       " 'ESSENCE',\n",
       " 'bluemaker',\n",
       " 'BRUTON',\n",
       " 'bluemaker',\n",
       " 'tigonis',\n",
       " 'Bond Street By Red Tape',\n",
       " 'BRUTON',\n",
       " 'Brothers Gift',\n",
       " 'SPARX',\n",
       " 'KANEGGYE',\n",
       " 'PUMA',\n",
       " 'HRX by Hrithik Roshan',\n",
       " 'BIRDE',\n",
       " 'Elixir Man',\n",
       " 'bluemaker',\n",
       " 'Kraasa',\n",
       " 'Eliq',\n",
       " 'Echor',\n",
       " 'Zorth',\n",
       " 'Ardeo',\n",
       " 'bluemaker',\n",
       " 'SPARX']"
      ]
     },
     "execution_count": 32,
     "metadata": {},
     "output_type": "execute_result"
    }
   ],
   "source": [
    "for i in brand1:\n",
    "    b=i.text\n",
    "    Brand.append(b)\n",
    "Brand"
   ]
  },
  {
   "cell_type": "code",
   "execution_count": 33,
   "metadata": {},
   "outputs": [
    {
     "name": "stderr",
     "output_type": "stream",
     "text": [
      "C:\\Users\\Suncity\\anaconda3\\lib\\site-packages\\ipykernel_launcher.py:1: DeprecationWarning: find_elements_by_* commands are deprecated. Please use find_elements() instead\n",
      "  \"\"\"Entry point for launching an IPython kernel.\n"
     ]
    },
    {
     "data": {
      "text/plain": [
       "[<selenium.webdriver.remote.webelement.WebElement (session=\"ecc063c6db6134752c3601a50bbfcb82\", element=\"5b52244a-9fb3-4d5b-8527-fe59f045195a\")>,\n",
       " <selenium.webdriver.remote.webelement.WebElement (session=\"ecc063c6db6134752c3601a50bbfcb82\", element=\"eefa3c2d-781b-4631-8234-13be754e9fea\")>,\n",
       " <selenium.webdriver.remote.webelement.WebElement (session=\"ecc063c6db6134752c3601a50bbfcb82\", element=\"b78e77ca-0efe-4074-9723-fb6ac596895a\")>,\n",
       " <selenium.webdriver.remote.webelement.WebElement (session=\"ecc063c6db6134752c3601a50bbfcb82\", element=\"53602145-765d-4393-8d5e-0746c63adaec\")>,\n",
       " <selenium.webdriver.remote.webelement.WebElement (session=\"ecc063c6db6134752c3601a50bbfcb82\", element=\"0ce23e86-17bc-48d6-b657-9c67619b14d3\")>,\n",
       " <selenium.webdriver.remote.webelement.WebElement (session=\"ecc063c6db6134752c3601a50bbfcb82\", element=\"940a1438-9919-4559-8f71-94376fbf7fdd\")>,\n",
       " <selenium.webdriver.remote.webelement.WebElement (session=\"ecc063c6db6134752c3601a50bbfcb82\", element=\"f6136bfb-0ef3-4708-891b-1b06bd9cbf80\")>,\n",
       " <selenium.webdriver.remote.webelement.WebElement (session=\"ecc063c6db6134752c3601a50bbfcb82\", element=\"84e89317-691a-41b2-8682-3becee83f279\")>,\n",
       " <selenium.webdriver.remote.webelement.WebElement (session=\"ecc063c6db6134752c3601a50bbfcb82\", element=\"e5a6f123-b9d3-41ef-a9c1-e9979e331606\")>,\n",
       " <selenium.webdriver.remote.webelement.WebElement (session=\"ecc063c6db6134752c3601a50bbfcb82\", element=\"3fe4d2d9-4c1c-4672-a2cc-80339dd20e65\")>,\n",
       " <selenium.webdriver.remote.webelement.WebElement (session=\"ecc063c6db6134752c3601a50bbfcb82\", element=\"721901bf-966c-433d-9a36-9c9223b85baa\")>,\n",
       " <selenium.webdriver.remote.webelement.WebElement (session=\"ecc063c6db6134752c3601a50bbfcb82\", element=\"61484c83-3291-4b8e-8acf-4aa30ba1e498\")>,\n",
       " <selenium.webdriver.remote.webelement.WebElement (session=\"ecc063c6db6134752c3601a50bbfcb82\", element=\"678d7850-9b67-409d-80b3-34ce0116373d\")>,\n",
       " <selenium.webdriver.remote.webelement.WebElement (session=\"ecc063c6db6134752c3601a50bbfcb82\", element=\"de57ec34-0727-4213-91ec-9b6cdd630876\")>,\n",
       " <selenium.webdriver.remote.webelement.WebElement (session=\"ecc063c6db6134752c3601a50bbfcb82\", element=\"f2ce3b9a-5510-4232-b3a4-7760486a42d7\")>,\n",
       " <selenium.webdriver.remote.webelement.WebElement (session=\"ecc063c6db6134752c3601a50bbfcb82\", element=\"62e04ad4-abb9-4f2e-9959-f26f12318f2d\")>,\n",
       " <selenium.webdriver.remote.webelement.WebElement (session=\"ecc063c6db6134752c3601a50bbfcb82\", element=\"3e5aa6d8-b136-4967-8c3d-f1e31636c068\")>,\n",
       " <selenium.webdriver.remote.webelement.WebElement (session=\"ecc063c6db6134752c3601a50bbfcb82\", element=\"4be43ad4-ab62-4848-99d7-a3850ffef973\")>,\n",
       " <selenium.webdriver.remote.webelement.WebElement (session=\"ecc063c6db6134752c3601a50bbfcb82\", element=\"a33dc13d-1947-46bd-bd7c-076b84a5869e\")>,\n",
       " <selenium.webdriver.remote.webelement.WebElement (session=\"ecc063c6db6134752c3601a50bbfcb82\", element=\"2ab53743-f3e1-4f1c-8d39-51e4d35557e6\")>,\n",
       " <selenium.webdriver.remote.webelement.WebElement (session=\"ecc063c6db6134752c3601a50bbfcb82\", element=\"c5751b9e-ff0b-499f-989d-807425f77ac6\")>,\n",
       " <selenium.webdriver.remote.webelement.WebElement (session=\"ecc063c6db6134752c3601a50bbfcb82\", element=\"e0c7ee0b-a27d-4c50-854d-fc19d6bc1762\")>,\n",
       " <selenium.webdriver.remote.webelement.WebElement (session=\"ecc063c6db6134752c3601a50bbfcb82\", element=\"da11db51-cc1d-4417-884d-a04b55ed243c\")>,\n",
       " <selenium.webdriver.remote.webelement.WebElement (session=\"ecc063c6db6134752c3601a50bbfcb82\", element=\"f5c466f1-5c26-45d1-b048-f422f49335f1\")>,\n",
       " <selenium.webdriver.remote.webelement.WebElement (session=\"ecc063c6db6134752c3601a50bbfcb82\", element=\"a30b04fa-718b-4945-a874-ae4bf89d2aa7\")>,\n",
       " <selenium.webdriver.remote.webelement.WebElement (session=\"ecc063c6db6134752c3601a50bbfcb82\", element=\"9d193241-439d-46a3-826d-93e72f1817b6\")>,\n",
       " <selenium.webdriver.remote.webelement.WebElement (session=\"ecc063c6db6134752c3601a50bbfcb82\", element=\"f48f961d-b777-47fa-aa63-f7aacb8a8b0d\")>,\n",
       " <selenium.webdriver.remote.webelement.WebElement (session=\"ecc063c6db6134752c3601a50bbfcb82\", element=\"6fe6c68c-ca58-4ff6-b440-2ff7ae51bd11\")>,\n",
       " <selenium.webdriver.remote.webelement.WebElement (session=\"ecc063c6db6134752c3601a50bbfcb82\", element=\"0e090ed0-4b83-41b4-9dd5-6cae8ce80a87\")>,\n",
       " <selenium.webdriver.remote.webelement.WebElement (session=\"ecc063c6db6134752c3601a50bbfcb82\", element=\"a0339706-614a-4921-a8d4-c90055a9c1ba\")>,\n",
       " <selenium.webdriver.remote.webelement.WebElement (session=\"ecc063c6db6134752c3601a50bbfcb82\", element=\"1ce8a82c-2b42-4a8d-875b-be11b64fc54e\")>,\n",
       " <selenium.webdriver.remote.webelement.WebElement (session=\"ecc063c6db6134752c3601a50bbfcb82\", element=\"56971548-0c68-4e3c-830d-aba900598ef8\")>,\n",
       " <selenium.webdriver.remote.webelement.WebElement (session=\"ecc063c6db6134752c3601a50bbfcb82\", element=\"9fc55065-5f29-46dc-ae44-7befc16b72e6\")>]"
      ]
     },
     "execution_count": 33,
     "metadata": {},
     "output_type": "execute_result"
    }
   ],
   "source": [
    "brief1=driver.find_elements_by_xpath(\"//a[@class='IRpwTa']\")\n",
    "brief1"
   ]
  },
  {
   "cell_type": "code",
   "execution_count": 34,
   "metadata": {},
   "outputs": [
    {
     "data": {
      "text/plain": [
       "['Combo Pack of 4 Casual Sneakers With Sneakers For Men',\n",
       " 'Unique & Perfect Collection Combo Pack of 02 Shoes for ...',\n",
       " 'White Sneaker For Men Sneakers For Men',\n",
       " 'Sneakers Sneakers For Men',\n",
       " 'Super Stylish & Trendy Combo Pack of 02 Pairs Sneakers ...',\n",
       " \"White Sneaker For Men's/Boy's Sneakers For Men\",\n",
       " 'Sneakers For Men',\n",
       " \"Luxury Branded Fashionable Men's Casual Walking Partywe...\",\n",
       " 'Modern Trendy Sneakers Shoes Sneakers For Men',\n",
       " '411 Casual Sneakers For Men',\n",
       " 'Sports Running Shoes Sneakers For Men',\n",
       " 'Speed Set of 5 Pairs Sneakers Outdoors Casuals for Men ...',\n",
       " 'Sneakers For Men',\n",
       " 'Combo Pack of 5 Casual Sneakers Sneakers For Men',\n",
       " 'Lazy Knit Slip On Sneakers For Men',\n",
       " 'Lazy Knit Slip On Sneakers For Men',\n",
       " 'Series 7 Sneakers For Men',\n",
       " 'Casual Sneakers Black Shoes For Men Sneakers For Men',\n",
       " 'Shark-41 Sneakers For Men',\n",
       " 'Sneakers For Men',\n",
       " 'Sneakers For Men',\n",
       " 'Combo Pack of 2 Casual Shoes Sneakers For Men',\n",
       " 'Sneakers For Men',\n",
       " \"Original Luxury Branded Fashionable Men's Casual Walkin...\",\n",
       " \"Casual , Partywear Sneakers Shoes For Men's And Boys Wh...\",\n",
       " 'SM-322 Sneakers For Men',\n",
       " 'Modern & Trendy Collection Combo Pack of 02 Shoes for M...',\n",
       " 'Combo Pack of 3 Casual Shoes (Sneakers Shoes) Sneakers ...',\n",
       " 'Sneakers for men(black_7) Sneakers For Men',\n",
       " \"Original Luxury Branded Fashionable Men's Casual Walkin...\",\n",
       " 'Sneakers For Men',\n",
       " 'Mesh Sports/Walking Shoes/Outdoor Ultra Lightweight Run...',\n",
       " 'Sneakers For Men',\n",
       " 'Sneakers For Men',\n",
       " 'Sneakers For Men',\n",
       " 'Backcourt Mid CyberWeek Sneakers For Men',\n",
       " 'Sneakers For Men',\n",
       " 'Men Casual Shoe New Trend With Fashion Panda Desgined L...',\n",
       " 'Birde Trendy Casual Shoes Sneakers For Men',\n",
       " 'Sneakers For Men',\n",
       " 'CASUAL Sneakers For Men',\n",
       " 'Sneakers For Men',\n",
       " '516 Trendy Star Perfect Sneakers For Men',\n",
       " 'Sneakers For Men',\n",
       " 'jeans shoes for men boy Sneakers For Men',\n",
       " 'Perfect & Affordable Combo Pack of 02 Pairs Sneakers Ou...',\n",
       " 'Sneakers For Men',\n",
       " 'Canvas Casual Partywear Outdoor Sneakers Shoes For Mens...',\n",
       " 'Fashion Outdoor Canvas Casual Light Weight Lace-up Even...',\n",
       " 'Combo Pack of 2 Casual Shoes Sneakers For Men',\n",
       " 'Luxury Fashionable casual sneaker shoes and partywear s...',\n",
       " 'Fashion Outdoor Canvas Casual Light Weight Lace-up Even...',\n",
       " 'Birde Trendy Casual Shoes Sneakers For Men',\n",
       " 'Sneakers For Men',\n",
       " 'Modern Trendy Shoes Combo pack of 4 Sneakers For Men',\n",
       " 'Combo Pack of 02 Pair Casual Sneakers Outdoor Sports Sh...',\n",
       " 'Sneakers For Men',\n",
       " 'Lightweight & Stylish Pack of 02 Pair Shoes for Men Cas...',\n",
       " 'Sneakers For Men',\n",
       " 'Skypy-31 Walking Shoes,Training Shoes,Sneakers,Loafers,...',\n",
       " 'Casual Sneakers White Shoes For Men Sneakers For Men',\n",
       " 'Sneakers For Men',\n",
       " 'Synthetic Leather Casual Partywear Wedding Sneakers Sho...',\n",
       " 'Casual Sneakers Green Shoes For Men And Boys Sneakers F...',\n",
       " 'SM-322 Sneakers For Men',\n",
       " \"Men's Canvas Low Top Sneakers Lace-up Classic Casual Sn...\",\n",
       " 'Sneakers For Men',\n",
       " 'Casual Sneakers Shoes For Men Sneakers For Men',\n",
       " 'Sneaker for men Sneakers For Men',\n",
       " \"Casual , Partywear Sneakers Shoes For Men's And Boys Wh...\",\n",
       " 'Combo Pack of 2 Casual Shoes Sneakers For Men',\n",
       " 'Sneakers For Men',\n",
       " 'Lazy Knit Slip On Sneakers For Men',\n",
       " 'SM-322 Sneakers For Men',\n",
       " 'SM-482 Sneakers For Men',\n",
       " 'Sneakers For Men',\n",
       " 'Smart Casuals Canvas Shoes Combo pack of 2 Sneakers For...',\n",
       " 'Luxury Fashionable Breathable Casual Sneakers Shoes For...',\n",
       " 'Trendy Sneakers For Men',\n",
       " 'Sneakers For Men',\n",
       " 'Trendy Casual Shoes Sneakers For Men',\n",
       " 'Casual Sneakers Green Shoes For Men And Boys Sneakers F...',\n",
       " 'Sneakers For Men',\n",
       " 'casual for men (blue 06) Sneakers For Men',\n",
       " 'Lattest Sneakers Shoe Sneakers For Men',\n",
       " 'casual for men Sneakers For Men',\n",
       " 'Sneakers For Men',\n",
       " 'Sneakers For Men',\n",
       " 'Combo Pack Of 2 Latest Stylish Casual Shoes for Men Lac...',\n",
       " \"Brothers Luxury Fashionable Men's Casual Walking Runnin...\",\n",
       " 'Sneakers For Men',\n",
       " 'Plank Eng Knit Slipon IDP Sneakers For Men',\n",
       " 'Sneakers For Men',\n",
       " 'Sneakers For Men',\n",
       " 'Elixir Man Limited Edition Casual Shoes Sneakers For Me...',\n",
       " 'casual for men (beige 10) Sneakers For Men',\n",
       " 'Deal Sneakers For Men',\n",
       " \"Echor Men's Sneakers Fashion Lightweight Running Shoes ...\",\n",
       " 'New Fashion Outdoor Trendy Lightweight Casual,Canvas St...',\n",
       " 'casual for men Sneakers For Men',\n",
       " 'Men White Sneakers Sneakers For Men']"
      ]
     },
     "execution_count": 34,
     "metadata": {},
     "output_type": "execute_result"
    }
   ],
   "source": [
    "for i in brief1:\n",
    "    br=i.text\n",
    "    Product_brief.append(br)\n",
    "Product_brief"
   ]
  },
  {
   "cell_type": "code",
   "execution_count": 35,
   "metadata": {},
   "outputs": [
    {
     "name": "stderr",
     "output_type": "stream",
     "text": [
      "C:\\Users\\Suncity\\anaconda3\\lib\\site-packages\\ipykernel_launcher.py:1: DeprecationWarning: find_elements_by_* commands are deprecated. Please use find_elements() instead\n",
      "  \"\"\"Entry point for launching an IPython kernel.\n"
     ]
    },
    {
     "data": {
      "text/plain": [
       "[<selenium.webdriver.remote.webelement.WebElement (session=\"ecc063c6db6134752c3601a50bbfcb82\", element=\"19fdbbfd-fe4c-4519-8f81-c5a11620e93c\")>,\n",
       " <selenium.webdriver.remote.webelement.WebElement (session=\"ecc063c6db6134752c3601a50bbfcb82\", element=\"2ccfe3b2-5f67-4a7a-b205-db0481a50318\")>,\n",
       " <selenium.webdriver.remote.webelement.WebElement (session=\"ecc063c6db6134752c3601a50bbfcb82\", element=\"a45ca57c-1e95-4062-b3ca-fc3be097e3c5\")>,\n",
       " <selenium.webdriver.remote.webelement.WebElement (session=\"ecc063c6db6134752c3601a50bbfcb82\", element=\"8b13da01-a664-4bb2-86e2-8c4cbb99e507\")>,\n",
       " <selenium.webdriver.remote.webelement.WebElement (session=\"ecc063c6db6134752c3601a50bbfcb82\", element=\"77a33e4b-5662-4c5b-a198-7f42a5a36be2\")>,\n",
       " <selenium.webdriver.remote.webelement.WebElement (session=\"ecc063c6db6134752c3601a50bbfcb82\", element=\"13a8dff3-716b-4844-a90a-ee483badcd87\")>,\n",
       " <selenium.webdriver.remote.webelement.WebElement (session=\"ecc063c6db6134752c3601a50bbfcb82\", element=\"c30b5781-e295-41a7-84d1-a357d75c9501\")>,\n",
       " <selenium.webdriver.remote.webelement.WebElement (session=\"ecc063c6db6134752c3601a50bbfcb82\", element=\"c956e130-ba0e-4715-aebb-8391e0de8fa7\")>,\n",
       " <selenium.webdriver.remote.webelement.WebElement (session=\"ecc063c6db6134752c3601a50bbfcb82\", element=\"1358cf15-9a2d-49f2-9ccd-2114d6008ad9\")>,\n",
       " <selenium.webdriver.remote.webelement.WebElement (session=\"ecc063c6db6134752c3601a50bbfcb82\", element=\"dec8656e-e84f-475e-83e0-be701f8a5b50\")>,\n",
       " <selenium.webdriver.remote.webelement.WebElement (session=\"ecc063c6db6134752c3601a50bbfcb82\", element=\"2c357dfe-4539-4135-ba27-508092643b87\")>,\n",
       " <selenium.webdriver.remote.webelement.WebElement (session=\"ecc063c6db6134752c3601a50bbfcb82\", element=\"c75af28f-d5bd-4780-826b-f3b2da9319ce\")>,\n",
       " <selenium.webdriver.remote.webelement.WebElement (session=\"ecc063c6db6134752c3601a50bbfcb82\", element=\"090efd6e-1759-4ed9-88fb-bff34557615d\")>,\n",
       " <selenium.webdriver.remote.webelement.WebElement (session=\"ecc063c6db6134752c3601a50bbfcb82\", element=\"fad2a7d6-d290-4be7-a027-48c437cf943b\")>,\n",
       " <selenium.webdriver.remote.webelement.WebElement (session=\"ecc063c6db6134752c3601a50bbfcb82\", element=\"116b3a4f-c00e-4a6e-a783-8a5ca9666d96\")>,\n",
       " <selenium.webdriver.remote.webelement.WebElement (session=\"ecc063c6db6134752c3601a50bbfcb82\", element=\"14d9ccc0-e324-4d27-aae6-82712f58cbe9\")>,\n",
       " <selenium.webdriver.remote.webelement.WebElement (session=\"ecc063c6db6134752c3601a50bbfcb82\", element=\"3b93d776-d55e-4c31-9f14-69163d110345\")>,\n",
       " <selenium.webdriver.remote.webelement.WebElement (session=\"ecc063c6db6134752c3601a50bbfcb82\", element=\"93238ac3-338f-4ee5-a130-7bf05ef72687\")>,\n",
       " <selenium.webdriver.remote.webelement.WebElement (session=\"ecc063c6db6134752c3601a50bbfcb82\", element=\"73455352-6e8a-4df3-a882-bed4c43dafc4\")>,\n",
       " <selenium.webdriver.remote.webelement.WebElement (session=\"ecc063c6db6134752c3601a50bbfcb82\", element=\"85d06430-67ff-490d-a2c4-0992853592a4\")>,\n",
       " <selenium.webdriver.remote.webelement.WebElement (session=\"ecc063c6db6134752c3601a50bbfcb82\", element=\"c31f85b0-2896-4919-830b-961bbdcdee56\")>,\n",
       " <selenium.webdriver.remote.webelement.WebElement (session=\"ecc063c6db6134752c3601a50bbfcb82\", element=\"749eeef7-0e13-4fd7-99cd-316dc065ce6d\")>,\n",
       " <selenium.webdriver.remote.webelement.WebElement (session=\"ecc063c6db6134752c3601a50bbfcb82\", element=\"5187ea0f-1b4e-4176-9cac-c9f637b33686\")>,\n",
       " <selenium.webdriver.remote.webelement.WebElement (session=\"ecc063c6db6134752c3601a50bbfcb82\", element=\"d1202bbe-c7e8-4866-a019-02a6d2855d92\")>,\n",
       " <selenium.webdriver.remote.webelement.WebElement (session=\"ecc063c6db6134752c3601a50bbfcb82\", element=\"99153991-9f6f-40e1-87e8-047531defeeb\")>,\n",
       " <selenium.webdriver.remote.webelement.WebElement (session=\"ecc063c6db6134752c3601a50bbfcb82\", element=\"14ad8696-cb3b-422c-bd84-98448745e378\")>,\n",
       " <selenium.webdriver.remote.webelement.WebElement (session=\"ecc063c6db6134752c3601a50bbfcb82\", element=\"86baf461-3d0d-49e8-afc4-2d7ce459183e\")>,\n",
       " <selenium.webdriver.remote.webelement.WebElement (session=\"ecc063c6db6134752c3601a50bbfcb82\", element=\"0d65c4d4-3bf4-44f6-a14d-850c6c2a2945\")>,\n",
       " <selenium.webdriver.remote.webelement.WebElement (session=\"ecc063c6db6134752c3601a50bbfcb82\", element=\"8da53066-8028-49f4-8c2f-2d34c1a3e35c\")>,\n",
       " <selenium.webdriver.remote.webelement.WebElement (session=\"ecc063c6db6134752c3601a50bbfcb82\", element=\"47a3d224-3acf-4801-980d-a2819515e7ae\")>,\n",
       " <selenium.webdriver.remote.webelement.WebElement (session=\"ecc063c6db6134752c3601a50bbfcb82\", element=\"501c4a1c-1ea4-46e5-b87d-88bf43b05bb9\")>,\n",
       " <selenium.webdriver.remote.webelement.WebElement (session=\"ecc063c6db6134752c3601a50bbfcb82\", element=\"0940fb2f-a1e4-42d1-904a-9ba8d644c51e\")>,\n",
       " <selenium.webdriver.remote.webelement.WebElement (session=\"ecc063c6db6134752c3601a50bbfcb82\", element=\"efcd6aae-9855-492b-85b4-9145e7888c65\")>,\n",
       " <selenium.webdriver.remote.webelement.WebElement (session=\"ecc063c6db6134752c3601a50bbfcb82\", element=\"0c1d69de-9e77-433d-8495-c32444eece40\")>,\n",
       " <selenium.webdriver.remote.webelement.WebElement (session=\"ecc063c6db6134752c3601a50bbfcb82\", element=\"f408a360-ef11-477e-a487-99905c3b6192\")>,\n",
       " <selenium.webdriver.remote.webelement.WebElement (session=\"ecc063c6db6134752c3601a50bbfcb82\", element=\"35087d46-bc0c-45b4-8020-1a0d7ce2d2ea\")>,\n",
       " <selenium.webdriver.remote.webelement.WebElement (session=\"ecc063c6db6134752c3601a50bbfcb82\", element=\"367b1b5c-05a5-4ca0-84a7-bcdfa69dfb8d\")>,\n",
       " <selenium.webdriver.remote.webelement.WebElement (session=\"ecc063c6db6134752c3601a50bbfcb82\", element=\"f41babd3-901f-4315-944a-fa65dbb6f4fc\")>,\n",
       " <selenium.webdriver.remote.webelement.WebElement (session=\"ecc063c6db6134752c3601a50bbfcb82\", element=\"bceaeb9b-1f51-4f5f-8486-f3bde1d3cf15\")>,\n",
       " <selenium.webdriver.remote.webelement.WebElement (session=\"ecc063c6db6134752c3601a50bbfcb82\", element=\"1c363f63-d711-4af7-ac65-c96514037b0f\")>]"
      ]
     },
     "execution_count": 35,
     "metadata": {},
     "output_type": "execute_result"
    }
   ],
   "source": [
    "price=driver.find_elements_by_xpath(\"//div[@class='_30jeq3']\")\n",
    "price"
   ]
  },
  {
   "cell_type": "code",
   "execution_count": 36,
   "metadata": {},
   "outputs": [
    {
     "data": {
      "text/plain": [
       "['₹680',\n",
       " '₹425',\n",
       " '₹509',\n",
       " '₹499',\n",
       " '₹377',\n",
       " '₹536',\n",
       " '₹331',\n",
       " '₹247',\n",
       " '₹398',\n",
       " '₹499',\n",
       " '₹299',\n",
       " '₹499',\n",
       " '₹145',\n",
       " '₹240',\n",
       " '₹299',\n",
       " '₹679',\n",
       " '₹549',\n",
       " '₹295',\n",
       " '₹679',\n",
       " '₹899',\n",
       " '₹939',\n",
       " '₹444',\n",
       " '₹451',\n",
       " '₹444',\n",
       " '₹649',\n",
       " '₹499',\n",
       " '₹422',\n",
       " '₹251',\n",
       " '₹599',\n",
       " '₹474',\n",
       " '₹199',\n",
       " '₹949',\n",
       " '₹384',\n",
       " '₹849',\n",
       " '₹471',\n",
       " '₹187',\n",
       " '₹596',\n",
       " '₹424',\n",
       " '₹499',\n",
       " '₹499',\n",
       " '₹259',\n",
       " '₹459',\n",
       " '₹499',\n",
       " '₹449',\n",
       " '₹2,659',\n",
       " '₹314',\n",
       " '₹442',\n",
       " '₹299',\n",
       " '₹499',\n",
       " '₹449',\n",
       " '₹499',\n",
       " '₹299',\n",
       " '₹499',\n",
       " '₹459',\n",
       " '₹447',\n",
       " '₹399',\n",
       " '₹679',\n",
       " '₹499',\n",
       " '₹423',\n",
       " '₹424',\n",
       " '₹399',\n",
       " '₹499',\n",
       " '₹418',\n",
       " '₹299',\n",
       " '₹499',\n",
       " '₹949',\n",
       " '₹420',\n",
       " '₹535',\n",
       " '₹420',\n",
       " '₹379',\n",
       " '₹439',\n",
       " '₹474',\n",
       " '₹1,012',\n",
       " '₹359',\n",
       " '₹499',\n",
       " '₹840',\n",
       " '₹630',\n",
       " '₹394',\n",
       " '₹649',\n",
       " '₹449',\n",
       " '₹439',\n",
       " '₹384',\n",
       " '₹423',\n",
       " '₹249',\n",
       " '₹879',\n",
       " '₹1,029',\n",
       " '₹849',\n",
       " '₹637',\n",
       " '₹1,138',\n",
       " '₹451',\n",
       " '₹420',\n",
       " '₹322',\n",
       " '₹569',\n",
       " '₹479',\n",
       " '₹399',\n",
       " '₹449',\n",
       " '₹299',\n",
       " '₹499',\n",
       " '₹399',\n",
       " '₹499',\n",
       " '₹299',\n",
       " '₹499',\n",
       " '₹429',\n",
       " '₹897',\n",
       " '₹530',\n",
       " '₹449',\n",
       " '₹849',\n",
       " '₹359',\n",
       " '₹1,999',\n",
       " '₹2,639',\n",
       " '₹535',\n",
       " '₹599',\n",
       " '₹499',\n",
       " '₹374',\n",
       " '₹259',\n",
       " '₹499',\n",
       " '₹435',\n",
       " '₹424',\n",
       " '₹499',\n",
       " '₹679']"
      ]
     },
     "execution_count": 36,
     "metadata": {},
     "output_type": "execute_result"
    }
   ],
   "source": [
    "for i in price:\n",
    "    p=i.text\n",
    "    Price.append(p)\n",
    "Price"
   ]
  },
  {
   "cell_type": "code",
   "execution_count": 37,
   "metadata": {},
   "outputs": [
    {
     "name": "stderr",
     "output_type": "stream",
     "text": [
      "C:\\Users\\Suncity\\anaconda3\\lib\\site-packages\\ipykernel_launcher.py:1: DeprecationWarning: find_elements_by_* commands are deprecated. Please use find_elements() instead\n",
      "  \"\"\"Entry point for launching an IPython kernel.\n"
     ]
    },
    {
     "data": {
      "text/plain": [
       "[<selenium.webdriver.remote.webelement.WebElement (session=\"ecc063c6db6134752c3601a50bbfcb82\", element=\"0dddcc7a-9d3d-4395-8957-b8c4f688e9c8\")>,\n",
       " <selenium.webdriver.remote.webelement.WebElement (session=\"ecc063c6db6134752c3601a50bbfcb82\", element=\"60379162-8a0a-4aad-ad9f-7947c9d7f3d0\")>,\n",
       " <selenium.webdriver.remote.webelement.WebElement (session=\"ecc063c6db6134752c3601a50bbfcb82\", element=\"06fb86b4-0d69-488c-ad9a-d29784bfe635\")>,\n",
       " <selenium.webdriver.remote.webelement.WebElement (session=\"ecc063c6db6134752c3601a50bbfcb82\", element=\"21aaf337-59fd-4009-a8ea-268347d62f64\")>,\n",
       " <selenium.webdriver.remote.webelement.WebElement (session=\"ecc063c6db6134752c3601a50bbfcb82\", element=\"9d84314d-3b52-4d8c-b751-797f34ffd540\")>,\n",
       " <selenium.webdriver.remote.webelement.WebElement (session=\"ecc063c6db6134752c3601a50bbfcb82\", element=\"0c8746aa-a19d-4052-a177-6c34bfc795da\")>,\n",
       " <selenium.webdriver.remote.webelement.WebElement (session=\"ecc063c6db6134752c3601a50bbfcb82\", element=\"365f3266-9e49-4700-aec9-6017cb23145c\")>,\n",
       " <selenium.webdriver.remote.webelement.WebElement (session=\"ecc063c6db6134752c3601a50bbfcb82\", element=\"95aa0db0-d3b6-4d16-a2f8-129d4fcfa9e9\")>,\n",
       " <selenium.webdriver.remote.webelement.WebElement (session=\"ecc063c6db6134752c3601a50bbfcb82\", element=\"1a3e4f9f-61ce-4376-a412-dd668908677a\")>,\n",
       " <selenium.webdriver.remote.webelement.WebElement (session=\"ecc063c6db6134752c3601a50bbfcb82\", element=\"4f5e5f68-1b71-4e70-aee0-702c72fb8929\")>,\n",
       " <selenium.webdriver.remote.webelement.WebElement (session=\"ecc063c6db6134752c3601a50bbfcb82\", element=\"028d7b08-7ac3-4bda-9d23-cd233e82461b\")>,\n",
       " <selenium.webdriver.remote.webelement.WebElement (session=\"ecc063c6db6134752c3601a50bbfcb82\", element=\"e4952c92-3080-458b-bd15-c55466a4257c\")>,\n",
       " <selenium.webdriver.remote.webelement.WebElement (session=\"ecc063c6db6134752c3601a50bbfcb82\", element=\"f51217cb-4540-4de3-86b4-b2c1d3769dd2\")>,\n",
       " <selenium.webdriver.remote.webelement.WebElement (session=\"ecc063c6db6134752c3601a50bbfcb82\", element=\"0de7e21c-fa20-444f-943b-d5bc8a6c315e\")>,\n",
       " <selenium.webdriver.remote.webelement.WebElement (session=\"ecc063c6db6134752c3601a50bbfcb82\", element=\"95ee3239-1aa4-405b-ba3f-3e532612b2aa\")>,\n",
       " <selenium.webdriver.remote.webelement.WebElement (session=\"ecc063c6db6134752c3601a50bbfcb82\", element=\"bf070f73-7411-41ed-b215-a4c9182f0ad3\")>,\n",
       " <selenium.webdriver.remote.webelement.WebElement (session=\"ecc063c6db6134752c3601a50bbfcb82\", element=\"8621e4c2-55e7-4368-91fa-7d013848128b\")>,\n",
       " <selenium.webdriver.remote.webelement.WebElement (session=\"ecc063c6db6134752c3601a50bbfcb82\", element=\"40abb6f6-3cbe-47a4-87e1-ba8abf04c99e\")>,\n",
       " <selenium.webdriver.remote.webelement.WebElement (session=\"ecc063c6db6134752c3601a50bbfcb82\", element=\"af7989f9-1faa-4692-9dc9-1b1a0c06d3c8\")>,\n",
       " <selenium.webdriver.remote.webelement.WebElement (session=\"ecc063c6db6134752c3601a50bbfcb82\", element=\"6e3034ce-af04-4403-ad4a-73f469bd8276\")>,\n",
       " <selenium.webdriver.remote.webelement.WebElement (session=\"ecc063c6db6134752c3601a50bbfcb82\", element=\"1187d031-b3d9-4b31-a59a-868a682c7f93\")>,\n",
       " <selenium.webdriver.remote.webelement.WebElement (session=\"ecc063c6db6134752c3601a50bbfcb82\", element=\"98415f35-ce95-40c0-95c0-ab3a6c0474fa\")>,\n",
       " <selenium.webdriver.remote.webelement.WebElement (session=\"ecc063c6db6134752c3601a50bbfcb82\", element=\"563887b2-f2e7-43d6-9c83-6771eb5e9597\")>,\n",
       " <selenium.webdriver.remote.webelement.WebElement (session=\"ecc063c6db6134752c3601a50bbfcb82\", element=\"ef12771f-0eaf-4e30-91f4-fa1737ca8726\")>,\n",
       " <selenium.webdriver.remote.webelement.WebElement (session=\"ecc063c6db6134752c3601a50bbfcb82\", element=\"f2b908d8-a1f2-49b0-b0f9-875592a3f1b6\")>,\n",
       " <selenium.webdriver.remote.webelement.WebElement (session=\"ecc063c6db6134752c3601a50bbfcb82\", element=\"c866d667-56eb-467a-9c79-caae1af2090b\")>,\n",
       " <selenium.webdriver.remote.webelement.WebElement (session=\"ecc063c6db6134752c3601a50bbfcb82\", element=\"6031fe01-2f0f-4337-82c5-b8a83df1c563\")>,\n",
       " <selenium.webdriver.remote.webelement.WebElement (session=\"ecc063c6db6134752c3601a50bbfcb82\", element=\"e2ccf1c5-ea5d-41f5-a866-214a90c4cafa\")>,\n",
       " <selenium.webdriver.remote.webelement.WebElement (session=\"ecc063c6db6134752c3601a50bbfcb82\", element=\"08b5f0eb-3eca-427b-9d12-3591fd6d4f47\")>,\n",
       " <selenium.webdriver.remote.webelement.WebElement (session=\"ecc063c6db6134752c3601a50bbfcb82\", element=\"6347deb0-8022-4ce0-9658-7b9ae8a353a0\")>,\n",
       " <selenium.webdriver.remote.webelement.WebElement (session=\"ecc063c6db6134752c3601a50bbfcb82\", element=\"d1a3ac31-fd80-4194-8084-94e60bdf807f\")>,\n",
       " <selenium.webdriver.remote.webelement.WebElement (session=\"ecc063c6db6134752c3601a50bbfcb82\", element=\"09341fae-56dd-480a-b84e-5df2ab313fd5\")>,\n",
       " <selenium.webdriver.remote.webelement.WebElement (session=\"ecc063c6db6134752c3601a50bbfcb82\", element=\"7437666b-9733-4e87-b5ff-a75babbc5a95\")>,\n",
       " <selenium.webdriver.remote.webelement.WebElement (session=\"ecc063c6db6134752c3601a50bbfcb82\", element=\"7c850b55-70c7-43bf-8ad9-a5da2275190f\")>,\n",
       " <selenium.webdriver.remote.webelement.WebElement (session=\"ecc063c6db6134752c3601a50bbfcb82\", element=\"5c762039-1e74-4209-8b89-1b52df1d7159\")>,\n",
       " <selenium.webdriver.remote.webelement.WebElement (session=\"ecc063c6db6134752c3601a50bbfcb82\", element=\"45108fae-a8ef-40e1-8745-61fde90d1f78\")>,\n",
       " <selenium.webdriver.remote.webelement.WebElement (session=\"ecc063c6db6134752c3601a50bbfcb82\", element=\"5fa7923b-b644-4896-a187-843f0b1e10ed\")>,\n",
       " <selenium.webdriver.remote.webelement.WebElement (session=\"ecc063c6db6134752c3601a50bbfcb82\", element=\"87794858-80e8-41d1-a92e-18fb5b6e9c91\")>,\n",
       " <selenium.webdriver.remote.webelement.WebElement (session=\"ecc063c6db6134752c3601a50bbfcb82\", element=\"902181f2-492d-4b03-8754-d7aa24e12d43\")>,\n",
       " <selenium.webdriver.remote.webelement.WebElement (session=\"ecc063c6db6134752c3601a50bbfcb82\", element=\"ca29d91d-381c-4d2d-a2fa-76b8b4636ebd\")>]"
      ]
     },
     "execution_count": 37,
     "metadata": {},
     "output_type": "execute_result"
    }
   ],
   "source": [
    "price1=driver.find_elements_by_xpath(\"//div[@class='_3Ay6Sb']\")\n",
    "price1"
   ]
  },
  {
   "cell_type": "code",
   "execution_count": 38,
   "metadata": {},
   "outputs": [
    {
     "data": {
      "text/plain": [
       "['31% off',\n",
       " '78% off',\n",
       " '66% off',\n",
       " '61% off',\n",
       " '62% off',\n",
       " '66% off',\n",
       " '66% off',\n",
       " '75% off',\n",
       " '60% off',\n",
       " '37% off',\n",
       " '76% off',\n",
       " '75% off',\n",
       " '70% off',\n",
       " '75% off',\n",
       " '40% off',\n",
       " '72% off',\n",
       " '45% off',\n",
       " '77% off',\n",
       " '72% off',\n",
       " '70% off',\n",
       " '68% off',\n",
       " '55% off',\n",
       " '54% off',\n",
       " '55% off',\n",
       " '56% off',\n",
       " '50% off',\n",
       " '57% off',\n",
       " '83% off',\n",
       " '70% off',\n",
       " '52% off',\n",
       " '60% off',\n",
       " '52% off',\n",
       " '41% off',\n",
       " '15% off',\n",
       " '81% off',\n",
       " '62% off',\n",
       " '60% off',\n",
       " '57% off',\n",
       " '75% off',\n",
       " '50% off',\n",
       " '74% off',\n",
       " '54% off',\n",
       " '61% off',\n",
       " '55% off',\n",
       " '62% off',\n",
       " '68% off',\n",
       " '55% off',\n",
       " '40% off',\n",
       " '50% off',\n",
       " '71% off',\n",
       " '57% off',\n",
       " '62% off',\n",
       " '83% off',\n",
       " '54% off',\n",
       " '65% off',\n",
       " '60% off',\n",
       " '15% off',\n",
       " '50% off',\n",
       " '57% off',\n",
       " '57% off',\n",
       " '60% off',\n",
       " '50% off',\n",
       " '58% off',\n",
       " '40% off',\n",
       " '50% off',\n",
       " '36% off',\n",
       " '71% off',\n",
       " '46% off',\n",
       " '71% off',\n",
       " '70% off',\n",
       " '45% off',\n",
       " '52% off',\n",
       " '76% off',\n",
       " '64% off',\n",
       " '50% off',\n",
       " '15% off',\n",
       " '36% off',\n",
       " '73% off',\n",
       " '56% off',\n",
       " '55% off',\n",
       " '56% off',\n",
       " '61% off',\n",
       " '57% off',\n",
       " '64% off',\n",
       " '12% off',\n",
       " '65% off',\n",
       " '15% off',\n",
       " '14% off',\n",
       " '15% off',\n",
       " '54% off',\n",
       " '57% off',\n",
       " '67% off',\n",
       " '43% off',\n",
       " '76% off',\n",
       " '60% off',\n",
       " '77% off',\n",
       " '40% off',\n",
       " '50% off',\n",
       " '60% off',\n",
       " '50% off',\n",
       " '76% off',\n",
       " '50% off',\n",
       " '76% off',\n",
       " '76% off',\n",
       " '78% off',\n",
       " '77% off',\n",
       " '15% off',\n",
       " '28% off',\n",
       " '50% off',\n",
       " '32% off',\n",
       " '46% off',\n",
       " '81% off',\n",
       " '50% off',\n",
       " '55% off',\n",
       " '48% off',\n",
       " '66% off',\n",
       " '56% off',\n",
       " '73% off',\n",
       " '50% off',\n",
       " '15% off']"
      ]
     },
     "execution_count": 38,
     "metadata": {},
     "output_type": "execute_result"
    }
   ],
   "source": [
    "for i in price1:\n",
    "    p=i.text\n",
    "    Price1.append(p)\n",
    "Price1"
   ]
  },
  {
   "cell_type": "code",
   "execution_count": 39,
   "metadata": {},
   "outputs": [
    {
     "data": {
      "text/plain": [
       "120"
      ]
     },
     "execution_count": 39,
     "metadata": {},
     "output_type": "execute_result"
    }
   ],
   "source": [
    "len(Brand)"
   ]
  },
  {
   "cell_type": "code",
   "execution_count": 41,
   "metadata": {},
   "outputs": [],
   "source": [
    "df=pd.DataFrame()\n",
    "df['Brand_name']=Brand\n",
    "#df['Product_brief']=Product_brief\n",
    "df['Price']=Price\n",
    "df['Discount']=Price1"
   ]
  },
  {
   "cell_type": "code",
   "execution_count": 42,
   "metadata": {},
   "outputs": [
    {
     "data": {
      "text/html": [
       "<div>\n",
       "<style scoped>\n",
       "    .dataframe tbody tr th:only-of-type {\n",
       "        vertical-align: middle;\n",
       "    }\n",
       "\n",
       "    .dataframe tbody tr th {\n",
       "        vertical-align: top;\n",
       "    }\n",
       "\n",
       "    .dataframe thead th {\n",
       "        text-align: right;\n",
       "    }\n",
       "</style>\n",
       "<table border=\"1\" class=\"dataframe\">\n",
       "  <thead>\n",
       "    <tr style=\"text-align: right;\">\n",
       "      <th></th>\n",
       "      <th>Brand_name</th>\n",
       "      <th>Price</th>\n",
       "      <th>Discount</th>\n",
       "    </tr>\n",
       "  </thead>\n",
       "  <tbody>\n",
       "    <tr>\n",
       "      <th>0</th>\n",
       "      <td>RapidBox</td>\n",
       "      <td>₹680</td>\n",
       "      <td>31% off</td>\n",
       "    </tr>\n",
       "    <tr>\n",
       "      <th>1</th>\n",
       "      <td>Chevit</td>\n",
       "      <td>₹425</td>\n",
       "      <td>78% off</td>\n",
       "    </tr>\n",
       "    <tr>\n",
       "      <th>2</th>\n",
       "      <td>Chevit</td>\n",
       "      <td>₹509</td>\n",
       "      <td>66% off</td>\n",
       "    </tr>\n",
       "    <tr>\n",
       "      <th>3</th>\n",
       "      <td>Numenzo</td>\n",
       "      <td>₹499</td>\n",
       "      <td>61% off</td>\n",
       "    </tr>\n",
       "    <tr>\n",
       "      <th>4</th>\n",
       "      <td>SCATCHITE</td>\n",
       "      <td>₹377</td>\n",
       "      <td>62% off</td>\n",
       "    </tr>\n",
       "    <tr>\n",
       "      <th>...</th>\n",
       "      <td>...</td>\n",
       "      <td>...</td>\n",
       "      <td>...</td>\n",
       "    </tr>\n",
       "    <tr>\n",
       "      <th>115</th>\n",
       "      <td>Echor</td>\n",
       "      <td>₹499</td>\n",
       "      <td>66% off</td>\n",
       "    </tr>\n",
       "    <tr>\n",
       "      <th>116</th>\n",
       "      <td>Zorth</td>\n",
       "      <td>₹435</td>\n",
       "      <td>56% off</td>\n",
       "    </tr>\n",
       "    <tr>\n",
       "      <th>117</th>\n",
       "      <td>Ardeo</td>\n",
       "      <td>₹424</td>\n",
       "      <td>73% off</td>\n",
       "    </tr>\n",
       "    <tr>\n",
       "      <th>118</th>\n",
       "      <td>bluemaker</td>\n",
       "      <td>₹499</td>\n",
       "      <td>50% off</td>\n",
       "    </tr>\n",
       "    <tr>\n",
       "      <th>119</th>\n",
       "      <td>SPARX</td>\n",
       "      <td>₹679</td>\n",
       "      <td>15% off</td>\n",
       "    </tr>\n",
       "  </tbody>\n",
       "</table>\n",
       "<p>120 rows × 3 columns</p>\n",
       "</div>"
      ],
      "text/plain": [
       "    Brand_name Price Discount\n",
       "0     RapidBox  ₹680  31% off\n",
       "1       Chevit  ₹425  78% off\n",
       "2       Chevit  ₹509  66% off\n",
       "3      Numenzo  ₹499  61% off\n",
       "4    SCATCHITE  ₹377  62% off\n",
       "..         ...   ...      ...\n",
       "115      Echor  ₹499  66% off\n",
       "116      Zorth  ₹435  56% off\n",
       "117      Ardeo  ₹424  73% off\n",
       "118  bluemaker  ₹499  50% off\n",
       "119      SPARX  ₹679  15% off\n",
       "\n",
       "[120 rows x 3 columns]"
      ]
     },
     "execution_count": 42,
     "metadata": {},
     "output_type": "execute_result"
    }
   ],
   "source": [
    "df"
   ]
  },
  {
   "cell_type": "markdown",
   "metadata": {},
   "source": [
    "Q7. Extracting data from myntra website https://www.myntra.com/shoes"
   ]
  },
  {
   "cell_type": "code",
   "execution_count": 1,
   "metadata": {},
   "outputs": [
    {
     "name": "stdout",
     "output_type": "stream",
     "text": [
      "Requirement already satisfied: selenium in c:\\users\\suncity\\anaconda3\\lib\\site-packages (4.1.0)\n",
      "Requirement already satisfied: trio-websocket~=0.9 in c:\\users\\suncity\\anaconda3\\lib\\site-packages (from selenium) (0.9.2)\n",
      "Requirement already satisfied: urllib3[secure]~=1.26 in c:\\users\\suncity\\anaconda3\\lib\\site-packages (from selenium) (1.26.7)\n",
      "Requirement already satisfied: trio~=0.17 in c:\\users\\suncity\\anaconda3\\lib\\site-packages (from selenium) (0.19.0)\n",
      "Requirement already satisfied: wsproto>=0.14 in c:\\users\\suncity\\anaconda3\\lib\\site-packages (from trio-websocket~=0.9->selenium) (1.0.0)\n",
      "Requirement already satisfied: async-generator>=1.10 in c:\\users\\suncity\\anaconda3\\lib\\site-packages (from trio-websocket~=0.9->selenium) (1.10)\n",
      "Requirement already satisfied: certifi; extra == \"secure\" in c:\\users\\suncity\\anaconda3\\lib\\site-packages (from urllib3[secure]~=1.26->selenium) (2019.11.28)\n",
      "Requirement already satisfied: cryptography>=1.3.4; extra == \"secure\" in c:\\users\\suncity\\anaconda3\\lib\\site-packages (from urllib3[secure]~=1.26->selenium) (2.8)\n",
      "Requirement already satisfied: idna>=2.0.0; extra == \"secure\" in c:\\users\\suncity\\anaconda3\\lib\\site-packages (from urllib3[secure]~=1.26->selenium) (2.8)\n",
      "Requirement already satisfied: pyOpenSSL>=0.14; extra == \"secure\" in c:\\users\\suncity\\anaconda3\\lib\\site-packages (from urllib3[secure]~=1.26->selenium) (19.1.0)\n",
      "Requirement already satisfied: cffi>=1.14; os_name == \"nt\" and implementation_name != \"pypy\" in c:\\users\\suncity\\anaconda3\\lib\\site-packages (from trio~=0.17->selenium) (1.14.0)\n",
      "Requirement already satisfied: sniffio in c:\\users\\suncity\\anaconda3\\lib\\site-packages (from trio~=0.17->selenium) (1.2.0)\n",
      "Requirement already satisfied: sortedcontainers in c:\\users\\suncity\\anaconda3\\lib\\site-packages (from trio~=0.17->selenium) (2.1.0)\n",
      "Requirement already satisfied: outcome in c:\\users\\suncity\\anaconda3\\lib\\site-packages (from trio~=0.17->selenium) (1.1.0)\n",
      "Requirement already satisfied: attrs>=19.2.0 in c:\\users\\suncity\\anaconda3\\lib\\site-packages (from trio~=0.17->selenium) (19.3.0)\n",
      "Requirement already satisfied: h11<1,>=0.9.0 in c:\\users\\suncity\\anaconda3\\lib\\site-packages (from wsproto>=0.14->trio-websocket~=0.9->selenium) (0.12.0)\n",
      "Requirement already satisfied: six>=1.4.1 in c:\\users\\suncity\\anaconda3\\lib\\site-packages (from cryptography>=1.3.4; extra == \"secure\"->urllib3[secure]~=1.26->selenium) (1.14.0)\n",
      "Requirement already satisfied: pycparser in c:\\users\\suncity\\anaconda3\\lib\\site-packages (from cffi>=1.14; os_name == \"nt\" and implementation_name != \"pypy\"->trio~=0.17->selenium) (2.19)\n"
     ]
    }
   ],
   "source": [
    "#Let's first install the selenium Library\n",
    "!pip install selenium"
   ]
  },
  {
   "cell_type": "code",
   "execution_count": 2,
   "metadata": {},
   "outputs": [],
   "source": [
    "#let's import all the required libraries\n",
    "import selenium\n",
    "import pandas as pd\n",
    "from selenium import webdriver"
   ]
  },
  {
   "cell_type": "code",
   "execution_count": 3,
   "metadata": {},
   "outputs": [
    {
     "name": "stderr",
     "output_type": "stream",
     "text": [
      "C:\\Users\\Suncity\\anaconda3\\lib\\site-packages\\ipykernel_launcher.py:2: DeprecationWarning: executable_path has been deprecated, please pass in a Service object\n",
      "  \n"
     ]
    }
   ],
   "source": [
    "#let's first to connect with the driver\n",
    "driver= webdriver.Chrome(r\"C:/Users/Suncity/Downloads/chromedriver_win32/chromedriver.exe\")"
   ]
  },
  {
   "cell_type": "code",
   "execution_count": 4,
   "metadata": {},
   "outputs": [],
   "source": [
    "driver.get(\"https://www.myntra.com/shoes\")"
   ]
  },
  {
   "cell_type": "code",
   "execution_count": 5,
   "metadata": {},
   "outputs": [
    {
     "name": "stderr",
     "output_type": "stream",
     "text": [
      "C:\\Users\\Suncity\\anaconda3\\lib\\site-packages\\ipykernel_launcher.py:1: DeprecationWarning: find_element_by_* commands are deprecated. Please use find_element() instead\n",
      "  \"\"\"Entry point for launching an IPython kernel.\n"
     ]
    }
   ],
   "source": [
    "slry_box = driver.find_element_by_xpath(\"/html/body/div[2]/div/div[1]/main/div[3]/div[1]/section/div/div[5]/ul/li[2]/label\")\n",
    "\n",
    "slry_box.click()"
   ]
  },
  {
   "cell_type": "code",
   "execution_count": 6,
   "metadata": {},
   "outputs": [
    {
     "name": "stderr",
     "output_type": "stream",
     "text": [
      "C:\\Users\\Suncity\\anaconda3\\lib\\site-packages\\ipykernel_launcher.py:1: DeprecationWarning: find_element_by_* commands are deprecated. Please use find_element() instead\n",
      "  \"\"\"Entry point for launching an IPython kernel.\n"
     ]
    }
   ],
   "source": [
    "box = driver.find_element_by_xpath(\"/html/body/div[2]/div/div[1]/main/div[3]/div[1]/section/div/div[6]/ul/li[1]/label\")\n",
    "\n",
    "box.click()"
   ]
  },
  {
   "cell_type": "code",
   "execution_count": 7,
   "metadata": {},
   "outputs": [
    {
     "name": "stderr",
     "output_type": "stream",
     "text": [
      "C:\\Users\\Suncity\\anaconda3\\lib\\site-packages\\ipykernel_launcher.py:1: DeprecationWarning: find_element_by_* commands are deprecated. Please use find_element() instead\n",
      "  \"\"\"Entry point for launching an IPython kernel.\n"
     ]
    }
   ],
   "source": [
    "search_box = driver.find_element_by_xpath(\"/html/body/div[1]/div/div/header/div[2]/div[3]/input\")\n",
    "\n",
    "search_box.click()"
   ]
  },
  {
   "cell_type": "code",
   "execution_count": 8,
   "metadata": {},
   "outputs": [
    {
     "name": "stderr",
     "output_type": "stream",
     "text": [
      "C:\\Users\\Suncity\\anaconda3\\lib\\site-packages\\ipykernel_launcher.py:1: DeprecationWarning: find_element_by_* commands are deprecated. Please use find_element() instead\n",
      "  \"\"\"Entry point for launching an IPython kernel.\n"
     ]
    }
   ],
   "source": [
    "slry_box = driver.find_element_by_xpath(\"/html/body/div[2]/div/div[1]/main/div[3]/div[1]/section/div/div[5]/ul/li[2]/label\")\n",
    "\n",
    "slry_box.click()"
   ]
  },
  {
   "cell_type": "code",
   "execution_count": 9,
   "metadata": {},
   "outputs": [
    {
     "name": "stderr",
     "output_type": "stream",
     "text": [
      "C:\\Users\\Suncity\\anaconda3\\lib\\site-packages\\ipykernel_launcher.py:1: DeprecationWarning: find_element_by_* commands are deprecated. Please use find_element() instead\n",
      "  \"\"\"Entry point for launching an IPython kernel.\n"
     ]
    }
   ],
   "source": [
    "search_box = driver.find_element_by_xpath(\"/html/body/div[1]/div/div/header/div[2]/div[3]/input\")\n",
    "\n",
    "search_box.click()"
   ]
  },
  {
   "cell_type": "code",
   "execution_count": 10,
   "metadata": {},
   "outputs": [
    {
     "name": "stderr",
     "output_type": "stream",
     "text": [
      "C:\\Users\\Suncity\\anaconda3\\lib\\site-packages\\ipykernel_launcher.py:1: DeprecationWarning: find_elements_by_* commands are deprecated. Please use find_elements() instead\n",
      "  \"\"\"Entry point for launching an IPython kernel.\n"
     ]
    },
    {
     "data": {
      "text/plain": [
       "[<selenium.webdriver.remote.webelement.WebElement (session=\"2b617219bf29a8331e185366fb68b165\", element=\"85cc983c-7d01-4fc1-81ef-fcc901a4f00f\")>,\n",
       " <selenium.webdriver.remote.webelement.WebElement (session=\"2b617219bf29a8331e185366fb68b165\", element=\"f52f9d22-f7e5-4385-ac0c-b6515e7f4819\")>,\n",
       " <selenium.webdriver.remote.webelement.WebElement (session=\"2b617219bf29a8331e185366fb68b165\", element=\"f38f75b4-2e32-45e0-91ef-55dd8c4056cc\")>,\n",
       " <selenium.webdriver.remote.webelement.WebElement (session=\"2b617219bf29a8331e185366fb68b165\", element=\"7fafa729-4338-472c-b79d-6c8ff2cdb5a6\")>,\n",
       " <selenium.webdriver.remote.webelement.WebElement (session=\"2b617219bf29a8331e185366fb68b165\", element=\"4df18607-8b30-4c21-8d1b-210cb155a7cf\")>,\n",
       " <selenium.webdriver.remote.webelement.WebElement (session=\"2b617219bf29a8331e185366fb68b165\", element=\"a78119f2-ab36-4ef5-877f-789499c6b9a8\")>,\n",
       " <selenium.webdriver.remote.webelement.WebElement (session=\"2b617219bf29a8331e185366fb68b165\", element=\"e45f751b-fce0-47f1-91a7-d50deb7a79b6\")>,\n",
       " <selenium.webdriver.remote.webelement.WebElement (session=\"2b617219bf29a8331e185366fb68b165\", element=\"8c7d56a0-0291-4b59-a2c7-27880496a355\")>,\n",
       " <selenium.webdriver.remote.webelement.WebElement (session=\"2b617219bf29a8331e185366fb68b165\", element=\"6aa4abd9-3b89-4151-8eb9-f091e91e79ff\")>,\n",
       " <selenium.webdriver.remote.webelement.WebElement (session=\"2b617219bf29a8331e185366fb68b165\", element=\"8ad8fc1b-d92c-44e5-ae4f-426acea8da16\")>,\n",
       " <selenium.webdriver.remote.webelement.WebElement (session=\"2b617219bf29a8331e185366fb68b165\", element=\"22cc6882-ad03-4dda-a3ba-2f331336ccef\")>,\n",
       " <selenium.webdriver.remote.webelement.WebElement (session=\"2b617219bf29a8331e185366fb68b165\", element=\"035be5c6-a047-4586-8ba8-44f9982f083f\")>,\n",
       " <selenium.webdriver.remote.webelement.WebElement (session=\"2b617219bf29a8331e185366fb68b165\", element=\"e92c590d-94b7-45ab-a5de-ccda98707629\")>,\n",
       " <selenium.webdriver.remote.webelement.WebElement (session=\"2b617219bf29a8331e185366fb68b165\", element=\"4e24131a-91a4-4b6b-aa37-5373d214c2d9\")>,\n",
       " <selenium.webdriver.remote.webelement.WebElement (session=\"2b617219bf29a8331e185366fb68b165\", element=\"f5d6b3ab-f473-4988-951d-9825cd79d6b5\")>,\n",
       " <selenium.webdriver.remote.webelement.WebElement (session=\"2b617219bf29a8331e185366fb68b165\", element=\"25406716-e77b-4921-9f05-5995ef9e1fd3\")>,\n",
       " <selenium.webdriver.remote.webelement.WebElement (session=\"2b617219bf29a8331e185366fb68b165\", element=\"a490b28a-ee9b-4998-8f70-6a86e3b0898f\")>,\n",
       " <selenium.webdriver.remote.webelement.WebElement (session=\"2b617219bf29a8331e185366fb68b165\", element=\"2b59fce7-d9f4-44a5-a800-29a36faaeeb2\")>,\n",
       " <selenium.webdriver.remote.webelement.WebElement (session=\"2b617219bf29a8331e185366fb68b165\", element=\"aac77ad2-492e-444b-8676-400085d6e3d8\")>,\n",
       " <selenium.webdriver.remote.webelement.WebElement (session=\"2b617219bf29a8331e185366fb68b165\", element=\"5b90fab2-5cf2-4269-b627-a67d3ed72057\")>,\n",
       " <selenium.webdriver.remote.webelement.WebElement (session=\"2b617219bf29a8331e185366fb68b165\", element=\"51c653bd-3c21-4a26-a57a-188d719d4195\")>,\n",
       " <selenium.webdriver.remote.webelement.WebElement (session=\"2b617219bf29a8331e185366fb68b165\", element=\"f8081765-6f3c-4fcf-8ed0-b169333349c5\")>,\n",
       " <selenium.webdriver.remote.webelement.WebElement (session=\"2b617219bf29a8331e185366fb68b165\", element=\"17a10215-81f2-4f72-8fbf-14ab9c5466a0\")>,\n",
       " <selenium.webdriver.remote.webelement.WebElement (session=\"2b617219bf29a8331e185366fb68b165\", element=\"b1b56e09-5bbb-45d7-bfd1-f07165e485a1\")>,\n",
       " <selenium.webdriver.remote.webelement.WebElement (session=\"2b617219bf29a8331e185366fb68b165\", element=\"d187c460-fe40-4506-ba6c-bc9006e2c61c\")>,\n",
       " <selenium.webdriver.remote.webelement.WebElement (session=\"2b617219bf29a8331e185366fb68b165\", element=\"914b05bd-8cbe-4fb9-aeed-5527b3832ef0\")>,\n",
       " <selenium.webdriver.remote.webelement.WebElement (session=\"2b617219bf29a8331e185366fb68b165\", element=\"e0bf51e7-7325-4e78-b0cb-2821746d163a\")>,\n",
       " <selenium.webdriver.remote.webelement.WebElement (session=\"2b617219bf29a8331e185366fb68b165\", element=\"b922928f-c5e8-40c0-b364-1f90613a9816\")>,\n",
       " <selenium.webdriver.remote.webelement.WebElement (session=\"2b617219bf29a8331e185366fb68b165\", element=\"1e089516-7780-480f-9517-a5fbc58da0e4\")>,\n",
       " <selenium.webdriver.remote.webelement.WebElement (session=\"2b617219bf29a8331e185366fb68b165\", element=\"6960fe92-ccdf-4533-a2c3-76baebbd9ffe\")>,\n",
       " <selenium.webdriver.remote.webelement.WebElement (session=\"2b617219bf29a8331e185366fb68b165\", element=\"15382a18-e8d5-4efc-a0ec-e578868cd6bb\")>,\n",
       " <selenium.webdriver.remote.webelement.WebElement (session=\"2b617219bf29a8331e185366fb68b165\", element=\"ee5a5b11-8a7e-4b3a-a27a-d4dd43aa2267\")>,\n",
       " <selenium.webdriver.remote.webelement.WebElement (session=\"2b617219bf29a8331e185366fb68b165\", element=\"e5894df5-6156-4eda-98cf-71e73ef6c94c\")>,\n",
       " <selenium.webdriver.remote.webelement.WebElement (session=\"2b617219bf29a8331e185366fb68b165\", element=\"8120bc33-4f0b-40ce-92ef-bc3b8f009181\")>,\n",
       " <selenium.webdriver.remote.webelement.WebElement (session=\"2b617219bf29a8331e185366fb68b165\", element=\"017f2671-12ed-45bf-94a5-c4b422a99199\")>,\n",
       " <selenium.webdriver.remote.webelement.WebElement (session=\"2b617219bf29a8331e185366fb68b165\", element=\"0d92ae07-d706-427a-b311-bd79d21864af\")>,\n",
       " <selenium.webdriver.remote.webelement.WebElement (session=\"2b617219bf29a8331e185366fb68b165\", element=\"150eb746-7b75-4b81-a5a0-4220c8c8d4ee\")>,\n",
       " <selenium.webdriver.remote.webelement.WebElement (session=\"2b617219bf29a8331e185366fb68b165\", element=\"75314c36-7447-48c8-a14e-0436ab13f48f\")>,\n",
       " <selenium.webdriver.remote.webelement.WebElement (session=\"2b617219bf29a8331e185366fb68b165\", element=\"c57874ee-2e6b-412c-8094-1c3d449912a8\")>,\n",
       " <selenium.webdriver.remote.webelement.WebElement (session=\"2b617219bf29a8331e185366fb68b165\", element=\"a62d5c0b-6c27-4d28-b839-b0b23f2fe544\")>,\n",
       " <selenium.webdriver.remote.webelement.WebElement (session=\"2b617219bf29a8331e185366fb68b165\", element=\"13a5ad88-5c7e-4237-a257-fde12ac78ab7\")>,\n",
       " <selenium.webdriver.remote.webelement.WebElement (session=\"2b617219bf29a8331e185366fb68b165\", element=\"a3599f54-013d-40b3-8a3e-8c4e0a1d0f33\")>,\n",
       " <selenium.webdriver.remote.webelement.WebElement (session=\"2b617219bf29a8331e185366fb68b165\", element=\"2bf8606a-9caa-4e74-8712-a4c591bc7a38\")>,\n",
       " <selenium.webdriver.remote.webelement.WebElement (session=\"2b617219bf29a8331e185366fb68b165\", element=\"dd7cf81e-b1a3-4d07-9d54-6b9ca52054f9\")>,\n",
       " <selenium.webdriver.remote.webelement.WebElement (session=\"2b617219bf29a8331e185366fb68b165\", element=\"58c2f343-f818-457b-b9e1-a502643fab5b\")>,\n",
       " <selenium.webdriver.remote.webelement.WebElement (session=\"2b617219bf29a8331e185366fb68b165\", element=\"b42cc5a9-277e-4a12-a5a8-f0148c46cf4f\")>,\n",
       " <selenium.webdriver.remote.webelement.WebElement (session=\"2b617219bf29a8331e185366fb68b165\", element=\"a68323c8-34a6-4d3d-a88f-6baa5d4c89d5\")>,\n",
       " <selenium.webdriver.remote.webelement.WebElement (session=\"2b617219bf29a8331e185366fb68b165\", element=\"3665ac08-0139-489a-b964-717bf5e458da\")>,\n",
       " <selenium.webdriver.remote.webelement.WebElement (session=\"2b617219bf29a8331e185366fb68b165\", element=\"f3c47adc-a3d0-4c19-a47b-ca5e7c2df744\")>,\n",
       " <selenium.webdriver.remote.webelement.WebElement (session=\"2b617219bf29a8331e185366fb68b165\", element=\"7b797fb4-3131-46e8-98e5-10546c067ff9\")>]"
      ]
     },
     "execution_count": 10,
     "metadata": {},
     "output_type": "execute_result"
    }
   ],
   "source": [
    "Bran = driver.find_elements_by_xpath(\"//div[@class='product-productMetaInfo'][h3]\")\n",
    "Bran"
   ]
  },
  {
   "cell_type": "code",
   "execution_count": 11,
   "metadata": {},
   "outputs": [],
   "source": [
    "Brand1=[]\n",
    "Detail=[]\n",
    "Price=[]"
   ]
  },
  {
   "cell_type": "code",
   "execution_count": 14,
   "metadata": {},
   "outputs": [],
   "source": [
    "for i in Bran:\n",
    "    b = i.text\n",
    "    Brand1.append(b.split('\\n')[0])\n",
    "    Detail.append(b.split('\\n')[1])\n",
    "    Price.append(b.split('\\n')[2])\n"
   ]
  },
  {
   "cell_type": "code",
   "execution_count": 15,
   "metadata": {},
   "outputs": [
    {
     "data": {
      "text/plain": [
       "['Nike',\n",
       " 'Nike',\n",
       " 'Nike',\n",
       " 'Puma',\n",
       " 'Nike',\n",
       " 'Puma',\n",
       " 'UNDER ARMOUR',\n",
       " 'Nike',\n",
       " 'Nike',\n",
       " 'ASICS',\n",
       " 'Skechers',\n",
       " 'Calvin Klein',\n",
       " 'Puma',\n",
       " 'ASICS',\n",
       " 'Bugatti',\n",
       " 'Skechers',\n",
       " 'Bugatti',\n",
       " 'Skechers',\n",
       " 'Hush Puppies',\n",
       " 'Hush Puppies',\n",
       " 'MANGO',\n",
       " 'Calvin Klein',\n",
       " 'Hush Puppies',\n",
       " 'Saint G',\n",
       " 'MANGO',\n",
       " 'Calvin Klein',\n",
       " 'Bugatti',\n",
       " 'Saint G',\n",
       " 'Calvin Klein',\n",
       " 'Tommy Hilfiger',\n",
       " 'Hush Puppies',\n",
       " 'ASICS',\n",
       " 'Puma',\n",
       " 'Tommy Hilfiger',\n",
       " 'Tommy Hilfiger',\n",
       " 'ASICS',\n",
       " 'Saint G',\n",
       " 'Cole Haan',\n",
       " 'Cole Haan',\n",
       " 'Hush Puppies',\n",
       " 'Saint G',\n",
       " 'Saint G',\n",
       " 'Saint G',\n",
       " 'Saint G',\n",
       " 'Hush Puppies',\n",
       " 'DAVINCHI',\n",
       " 'Hush Puppies',\n",
       " 'Bugatti',\n",
       " 'J.FONTINI',\n",
       " 'Pavers England',\n",
       " 'DAVINCHI',\n",
       " 'DAVINCHI']"
      ]
     },
     "execution_count": 15,
     "metadata": {},
     "output_type": "execute_result"
    }
   ],
   "source": [
    "Brand1"
   ]
  },
  {
   "cell_type": "code",
   "execution_count": 16,
   "metadata": {},
   "outputs": [
    {
     "data": {
      "text/plain": [
       "['Men Zoom Span 4 Running Shoes',\n",
       " 'Men Deviate Nitro Running Shoe',\n",
       " 'Men FLIGHT LEGACY Sneakers',\n",
       " 'Men Running Shoes',\n",
       " 'Men HOVR Apex 2 Training',\n",
       " 'Men Waffle One SE Sneakers',\n",
       " \"Men BlazerLow '77 Sneakers\",\n",
       " 'Men Running Shoes',\n",
       " 'Men Balance Anchor Walking',\n",
       " 'Men Textured Leather Sneaker',\n",
       " 'Men Electrify Nitro Running',\n",
       " 'Men GEL-KAYANO 27 Shoes',\n",
       " 'Men Textured Leather High-Top Flat Boots',\n",
       " 'Men Go Run Pure 2 Axis Running',\n",
       " 'Men Running Shoes',\n",
       " 'Men Go Run Hyper Burst Running',\n",
       " 'Men Solid Formal Slip-Ons',\n",
       " 'Men Formal Derbys',\n",
       " 'Women WovenDesign Sports Shoes',\n",
       " 'Men UV MONO Leather Sneakers',\n",
       " 'Men Solid Leather Formal Slip-Ons',\n",
       " 'Leather Boots with Buckles',\n",
       " 'Textured High-Top Flat Boots',\n",
       " 'Men Solid Leather Sneakers',\n",
       " 'Leather Block Heeled Boots',\n",
       " 'Women High-Top Heeled Boots',\n",
       " 'Men Solid Low Top LTH Sneakers',\n",
       " 'Women Leather Block Pumps',\n",
       " 'Men Solid Leather Formal Slip-Ons',\n",
       " 'Men Colourblocked PU Sneakers',\n",
       " 'Women Eternity NITRO Shoes',\n",
       " 'Men Lightweight Sneakers',\n",
       " 'Women ELEVATED Leather Sneaker',\n",
       " 'Skycourt Sneakers',\n",
       " 'Women Leather Heeled Boots',\n",
       " 'Men Wingtip Oxford Sneakers',\n",
       " 'Men GENERATION ZEROGRAND STITCHLITE',\n",
       " 'Men Leather Slip-On Sneakers',\n",
       " 'Men Mid-Top Chelsea Boots',\n",
       " 'Men Leather Chelsea Boots',\n",
       " 'Women Kitten Heeled Boots',\n",
       " 'Leather Block Heeled Boots',\n",
       " 'Men Solid Leather Formal Derbys',\n",
       " 'Men Textured Formal Loafers',\n",
       " 'Men Leather Derbys',\n",
       " 'Men Sneakers',\n",
       " 'Men Textured Leather Loafers',\n",
       " 'Men Textured Leather Formal Derbys',\n",
       " 'Men Textured Formal Leather Loafers',\n",
       " 'Men Textured Formal Leather Loafers']"
      ]
     },
     "execution_count": 16,
     "metadata": {},
     "output_type": "execute_result"
    }
   ],
   "source": [
    "Detail"
   ]
  },
  {
   "cell_type": "code",
   "execution_count": 17,
   "metadata": {},
   "outputs": [
    {
     "data": {
      "text/plain": [
       "['Rs. 7195',\n",
       " 'Rs. 11249Rs. 14999(25% OFF)',\n",
       " 'Rs. 7995',\n",
       " 'Rs. 8449Rs. 12999(35% OFF)',\n",
       " 'Rs. 13999',\n",
       " 'Rs. 8295',\n",
       " 'Rs. 7195',\n",
       " 'Rs. 7999',\n",
       " 'Rs. 9999',\n",
       " 'Rs. 9999',\n",
       " 'Rs. 7499Rs. 9999(25% OFF)',\n",
       " 'Rs. 11999Rs. 14999(20% OFF)',\n",
       " 'Rs. 11999',\n",
       " 'Rs. 7499',\n",
       " 'Rs. 9999',\n",
       " 'Rs. 8499',\n",
       " 'Rs. 9999',\n",
       " 'Rs. 9999',\n",
       " 'Rs. 7191Rs. 7990(10% OFF)',\n",
       " 'Rs. 8999',\n",
       " 'Rs. 8999',\n",
       " 'Rs. 8500Rs. 10500(Rs. 2000 OFF)',\n",
       " 'Rs. 7990',\n",
       " 'Rs. 9999',\n",
       " 'Rs. 9999',\n",
       " 'Rs. 9800Rs. 13900(Rs. 4100 OFF)',\n",
       " 'Rs. 8999',\n",
       " 'Rs. 7999',\n",
       " 'Rs. 9999',\n",
       " 'Rs. 9999',\n",
       " 'Rs. 7799Rs. 12999(40% OFF)',\n",
       " 'Rs. 7999',\n",
       " 'Rs. 7599',\n",
       " 'Rs. 7999',\n",
       " 'Rs. 11900Rs. 13900(Rs. 2000 OFF)',\n",
       " 'Rs. 12999',\n",
       " 'Rs. 11999',\n",
       " 'Rs. 9999',\n",
       " 'Rs. 9810Rs. 10900(Rs. 1090 OFF)',\n",
       " 'Rs. 10710Rs. 11900(Rs. 1190 OFF)',\n",
       " 'Rs. 7900Rs. 8900(Rs. 1000 OFF)',\n",
       " 'Rs. 7900Rs. 8900(Rs. 1000 OFF)',\n",
       " 'Rs. 9999',\n",
       " 'Rs. 9990',\n",
       " 'Rs. 7999',\n",
       " 'Rs. 7999',\n",
       " 'Rs. 7990',\n",
       " 'Rs. 8999',\n",
       " 'Rs. 8990',\n",
       " 'Rs. 8990']"
      ]
     },
     "execution_count": 17,
     "metadata": {},
     "output_type": "execute_result"
    }
   ],
   "source": [
    "Price"
   ]
  },
  {
   "cell_type": "code",
   "execution_count": 19,
   "metadata": {},
   "outputs": [
    {
     "name": "stderr",
     "output_type": "stream",
     "text": [
      "C:\\Users\\Suncity\\anaconda3\\lib\\site-packages\\ipykernel_launcher.py:1: DeprecationWarning: find_element_by_* commands are deprecated. Please use find_element() instead\n",
      "  \"\"\"Entry point for launching an IPython kernel.\n"
     ]
    }
   ],
   "source": [
    "next_page=driver.find_element_by_xpath(\"/html/body/div[2]/div/div[1]/main/div[3]/div[2]/div/div[2]/section/div[2]/ul/li[3]/a\")\n",
    "next_page.click()"
   ]
  },
  {
   "cell_type": "code",
   "execution_count": 20,
   "metadata": {},
   "outputs": [
    {
     "name": "stderr",
     "output_type": "stream",
     "text": [
      "C:\\Users\\Suncity\\anaconda3\\lib\\site-packages\\ipykernel_launcher.py:1: DeprecationWarning: find_elements_by_* commands are deprecated. Please use find_elements() instead\n",
      "  \"\"\"Entry point for launching an IPython kernel.\n"
     ]
    },
    {
     "data": {
      "text/plain": [
       "[<selenium.webdriver.remote.webelement.WebElement (session=\"2b617219bf29a8331e185366fb68b165\", element=\"7b797fb4-3131-46e8-98e5-10546c067ff9\")>,\n",
       " <selenium.webdriver.remote.webelement.WebElement (session=\"2b617219bf29a8331e185366fb68b165\", element=\"cad43aa4-0e70-4863-8a0b-3a6eb38644d5\")>,\n",
       " <selenium.webdriver.remote.webelement.WebElement (session=\"2b617219bf29a8331e185366fb68b165\", element=\"d3bea754-4869-4815-b837-1d7af2b39c51\")>,\n",
       " <selenium.webdriver.remote.webelement.WebElement (session=\"2b617219bf29a8331e185366fb68b165\", element=\"c65755e6-67a0-497a-abd5-28d9e289d49f\")>,\n",
       " <selenium.webdriver.remote.webelement.WebElement (session=\"2b617219bf29a8331e185366fb68b165\", element=\"10c7a9f5-ac97-4c54-bb3a-ba48fb88b1dc\")>,\n",
       " <selenium.webdriver.remote.webelement.WebElement (session=\"2b617219bf29a8331e185366fb68b165\", element=\"0d9127a5-f006-4ac3-9a0b-f7bf68a66d7f\")>,\n",
       " <selenium.webdriver.remote.webelement.WebElement (session=\"2b617219bf29a8331e185366fb68b165\", element=\"b701aa19-b964-478f-9c0a-e48fa990a2a8\")>,\n",
       " <selenium.webdriver.remote.webelement.WebElement (session=\"2b617219bf29a8331e185366fb68b165\", element=\"2e101db8-4670-423c-b92e-82405caf6b4e\")>,\n",
       " <selenium.webdriver.remote.webelement.WebElement (session=\"2b617219bf29a8331e185366fb68b165\", element=\"52636a2c-8252-4cbc-9ec3-7eff8058dc77\")>,\n",
       " <selenium.webdriver.remote.webelement.WebElement (session=\"2b617219bf29a8331e185366fb68b165\", element=\"d6ec51e1-a922-4ca1-9856-809507c359b0\")>,\n",
       " <selenium.webdriver.remote.webelement.WebElement (session=\"2b617219bf29a8331e185366fb68b165\", element=\"082ac19b-524a-49e7-85ad-ad49e11c6aab\")>,\n",
       " <selenium.webdriver.remote.webelement.WebElement (session=\"2b617219bf29a8331e185366fb68b165\", element=\"e9a68cdd-c0ab-4e0e-bd70-345a4e97c78f\")>,\n",
       " <selenium.webdriver.remote.webelement.WebElement (session=\"2b617219bf29a8331e185366fb68b165\", element=\"c6a5ba56-8828-4ac0-9667-dfd213ec37eb\")>,\n",
       " <selenium.webdriver.remote.webelement.WebElement (session=\"2b617219bf29a8331e185366fb68b165\", element=\"6003b652-0d18-4928-b5b3-1bda9c7952ae\")>,\n",
       " <selenium.webdriver.remote.webelement.WebElement (session=\"2b617219bf29a8331e185366fb68b165\", element=\"e26e6305-2d25-4f4c-821f-75503ce72d64\")>,\n",
       " <selenium.webdriver.remote.webelement.WebElement (session=\"2b617219bf29a8331e185366fb68b165\", element=\"cecbd670-65b8-4118-bae4-7467c1f17d6f\")>,\n",
       " <selenium.webdriver.remote.webelement.WebElement (session=\"2b617219bf29a8331e185366fb68b165\", element=\"fc487914-f8c9-49ac-96d5-28d9a101904c\")>,\n",
       " <selenium.webdriver.remote.webelement.WebElement (session=\"2b617219bf29a8331e185366fb68b165\", element=\"23c59eb8-f203-482e-9bbf-1a17a27d4c4c\")>,\n",
       " <selenium.webdriver.remote.webelement.WebElement (session=\"2b617219bf29a8331e185366fb68b165\", element=\"a2aeb393-420a-47e5-b25f-4420dc09208f\")>,\n",
       " <selenium.webdriver.remote.webelement.WebElement (session=\"2b617219bf29a8331e185366fb68b165\", element=\"2ceba2d1-6028-4ef4-abd4-35845e8736ee\")>,\n",
       " <selenium.webdriver.remote.webelement.WebElement (session=\"2b617219bf29a8331e185366fb68b165\", element=\"7aae0b29-6eca-4b68-80d3-e48a38f99bc0\")>,\n",
       " <selenium.webdriver.remote.webelement.WebElement (session=\"2b617219bf29a8331e185366fb68b165\", element=\"6155c9c8-d3e0-43cc-879a-5e1970752e2c\")>,\n",
       " <selenium.webdriver.remote.webelement.WebElement (session=\"2b617219bf29a8331e185366fb68b165\", element=\"fd0337cf-f356-420b-a796-38d9f15832f8\")>,\n",
       " <selenium.webdriver.remote.webelement.WebElement (session=\"2b617219bf29a8331e185366fb68b165\", element=\"eb112a3b-572a-4789-b126-6c8a462cf4dd\")>,\n",
       " <selenium.webdriver.remote.webelement.WebElement (session=\"2b617219bf29a8331e185366fb68b165\", element=\"44a8f56b-3043-46ee-bd16-68519030e9ba\")>,\n",
       " <selenium.webdriver.remote.webelement.WebElement (session=\"2b617219bf29a8331e185366fb68b165\", element=\"5e5a1cbd-d1e9-4b36-ab61-0e477f7e5ffd\")>,\n",
       " <selenium.webdriver.remote.webelement.WebElement (session=\"2b617219bf29a8331e185366fb68b165\", element=\"452fc9cc-4cbe-482e-bf40-365ce2cf5263\")>,\n",
       " <selenium.webdriver.remote.webelement.WebElement (session=\"2b617219bf29a8331e185366fb68b165\", element=\"1d593859-c832-4a8b-8e1d-3679f1d5a2a7\")>,\n",
       " <selenium.webdriver.remote.webelement.WebElement (session=\"2b617219bf29a8331e185366fb68b165\", element=\"4dadc0bf-1f2d-4baf-b432-7071323898a7\")>,\n",
       " <selenium.webdriver.remote.webelement.WebElement (session=\"2b617219bf29a8331e185366fb68b165\", element=\"6d51f937-cb18-4af4-a0fd-e689f89b425b\")>,\n",
       " <selenium.webdriver.remote.webelement.WebElement (session=\"2b617219bf29a8331e185366fb68b165\", element=\"991fbc47-4f1c-4c5f-8c12-886a152a0a54\")>,\n",
       " <selenium.webdriver.remote.webelement.WebElement (session=\"2b617219bf29a8331e185366fb68b165\", element=\"a5e88e88-f406-4abd-9380-4ad271f080cc\")>,\n",
       " <selenium.webdriver.remote.webelement.WebElement (session=\"2b617219bf29a8331e185366fb68b165\", element=\"e8826d7f-00c6-43cb-98f7-3f4aca6df977\")>,\n",
       " <selenium.webdriver.remote.webelement.WebElement (session=\"2b617219bf29a8331e185366fb68b165\", element=\"2370c366-6c4a-4c56-ad56-3f43eb9e2676\")>,\n",
       " <selenium.webdriver.remote.webelement.WebElement (session=\"2b617219bf29a8331e185366fb68b165\", element=\"f665be58-b57f-487d-95cf-db1821478f5c\")>,\n",
       " <selenium.webdriver.remote.webelement.WebElement (session=\"2b617219bf29a8331e185366fb68b165\", element=\"a20b1d27-40c6-46bb-9953-1a331cb63748\")>,\n",
       " <selenium.webdriver.remote.webelement.WebElement (session=\"2b617219bf29a8331e185366fb68b165\", element=\"979bb9f7-e94d-497c-b6bf-470a84d871df\")>,\n",
       " <selenium.webdriver.remote.webelement.WebElement (session=\"2b617219bf29a8331e185366fb68b165\", element=\"c2ee5646-2c68-46d1-9fce-41e262508c2f\")>,\n",
       " <selenium.webdriver.remote.webelement.WebElement (session=\"2b617219bf29a8331e185366fb68b165\", element=\"46cca07b-2f34-4a6d-b0de-06a1ba09f0bb\")>,\n",
       " <selenium.webdriver.remote.webelement.WebElement (session=\"2b617219bf29a8331e185366fb68b165\", element=\"fb1e50ee-3bef-4e75-a1cc-6d355e3716ae\")>,\n",
       " <selenium.webdriver.remote.webelement.WebElement (session=\"2b617219bf29a8331e185366fb68b165\", element=\"a2c23a80-5921-49c6-abe0-9f8dd9ebb941\")>,\n",
       " <selenium.webdriver.remote.webelement.WebElement (session=\"2b617219bf29a8331e185366fb68b165\", element=\"384f24c1-183c-4a89-b91f-5baa7bab7a82\")>,\n",
       " <selenium.webdriver.remote.webelement.WebElement (session=\"2b617219bf29a8331e185366fb68b165\", element=\"67b067f1-be21-45e5-8cdb-4b0612d198ba\")>,\n",
       " <selenium.webdriver.remote.webelement.WebElement (session=\"2b617219bf29a8331e185366fb68b165\", element=\"20ce90ea-8b52-4e04-8b7b-9d959a40004e\")>,\n",
       " <selenium.webdriver.remote.webelement.WebElement (session=\"2b617219bf29a8331e185366fb68b165\", element=\"911e15cd-5a29-4dc6-ac1a-f6ba1dcceecb\")>,\n",
       " <selenium.webdriver.remote.webelement.WebElement (session=\"2b617219bf29a8331e185366fb68b165\", element=\"f93e8d44-8f81-485e-94d3-0924faaf85b5\")>,\n",
       " <selenium.webdriver.remote.webelement.WebElement (session=\"2b617219bf29a8331e185366fb68b165\", element=\"24f87589-aa3b-4a75-8775-820d6db15015\")>,\n",
       " <selenium.webdriver.remote.webelement.WebElement (session=\"2b617219bf29a8331e185366fb68b165\", element=\"7dee9d65-4658-479d-9f06-ef417cef145c\")>,\n",
       " <selenium.webdriver.remote.webelement.WebElement (session=\"2b617219bf29a8331e185366fb68b165\", element=\"71b3a3ed-cf6c-4e14-afff-860e1f7ad91c\")>,\n",
       " <selenium.webdriver.remote.webelement.WebElement (session=\"2b617219bf29a8331e185366fb68b165\", element=\"d5ea5d8e-580f-4f57-a08f-4192f34755e6\")>]"
      ]
     },
     "execution_count": 20,
     "metadata": {},
     "output_type": "execute_result"
    }
   ],
   "source": [
    "Bran = driver.find_elements_by_xpath(\"//div[@class='product-productMetaInfo'][h3]\")\n",
    "Bran"
   ]
  },
  {
   "cell_type": "code",
   "execution_count": 21,
   "metadata": {},
   "outputs": [],
   "source": [
    "for i in Bran:\n",
    "    b = i.text\n",
    "    Brand1.append(b.split('\\n')[0])\n",
    "    Detail.append(b.split('\\n')[1])\n",
    "    Price.append(b.split('\\n')[2])\n"
   ]
  },
  {
   "cell_type": "code",
   "execution_count": 26,
   "metadata": {},
   "outputs": [
    {
     "data": {
      "text/plain": [
       "['Nike',\n",
       " 'Nike',\n",
       " 'Nike',\n",
       " 'Puma',\n",
       " 'Nike',\n",
       " 'Puma',\n",
       " 'UNDER ARMOUR',\n",
       " 'Nike',\n",
       " 'Nike',\n",
       " 'ASICS',\n",
       " 'Skechers',\n",
       " 'Calvin Klein',\n",
       " 'Puma',\n",
       " 'ASICS',\n",
       " 'Bugatti',\n",
       " 'Skechers',\n",
       " 'Bugatti',\n",
       " 'Skechers',\n",
       " 'Hush Puppies',\n",
       " 'Hush Puppies',\n",
       " 'MANGO',\n",
       " 'Calvin Klein',\n",
       " 'Hush Puppies',\n",
       " 'Saint G',\n",
       " 'MANGO',\n",
       " 'Calvin Klein',\n",
       " 'Bugatti',\n",
       " 'Saint G',\n",
       " 'Calvin Klein',\n",
       " 'Tommy Hilfiger',\n",
       " 'Hush Puppies',\n",
       " 'ASICS',\n",
       " 'Puma',\n",
       " 'Tommy Hilfiger',\n",
       " 'Tommy Hilfiger',\n",
       " 'ASICS',\n",
       " 'Saint G',\n",
       " 'Cole Haan',\n",
       " 'Cole Haan',\n",
       " 'Hush Puppies',\n",
       " 'Saint G',\n",
       " 'Saint G',\n",
       " 'Saint G',\n",
       " 'Saint G',\n",
       " 'Hush Puppies',\n",
       " 'DAVINCHI',\n",
       " 'Hush Puppies',\n",
       " 'Bugatti',\n",
       " 'J.FONTINI',\n",
       " 'Pavers England',\n",
       " 'DAVINCHI',\n",
       " 'DAVINCHI',\n",
       " 'DAVINCHI',\n",
       " 'MANGO',\n",
       " 'Tommy Hilfiger',\n",
       " 'Pavers England',\n",
       " 'Puma',\n",
       " 'Bugatti',\n",
       " 'Saint G',\n",
       " 'ROSSO BRUNELLO',\n",
       " 'Saint G',\n",
       " 'ASICS',\n",
       " 'Saint G',\n",
       " 'UNDER ARMOUR',\n",
       " 'Cole Haan',\n",
       " 'Puma',\n",
       " 'UNDER ARMOUR',\n",
       " 'Geox',\n",
       " 'Saint G',\n",
       " 'Puma',\n",
       " 'Geox',\n",
       " 'Onitsuka Tiger',\n",
       " 'ASICS',\n",
       " 'Tommy Hilfiger',\n",
       " 'Bugatti',\n",
       " 'Bugatti',\n",
       " 'Geox',\n",
       " 'ASICS',\n",
       " 'Nike',\n",
       " 'J.FONTINI',\n",
       " 'J.FONTINI',\n",
       " 'Geox',\n",
       " 'Xtep',\n",
       " 'Ruosh',\n",
       " 'Geox',\n",
       " 'Geox',\n",
       " 'Nike',\n",
       " 'RARE RABBIT',\n",
       " 'RARE RABBIT',\n",
       " 'Calvin Klein',\n",
       " 'DAVINCHI',\n",
       " 'J.FONTINI',\n",
       " 'DAVINCHI',\n",
       " 'DAVINCHI',\n",
       " 'DAVINCHI',\n",
       " 'Hush Puppies',\n",
       " 'J.FONTINI',\n",
       " 'DAVINCHI',\n",
       " 'DAVINCHI',\n",
       " 'Saint G',\n",
       " 'ASICS',\n",
       " 'Pavers England']"
      ]
     },
     "execution_count": 26,
     "metadata": {},
     "output_type": "execute_result"
    }
   ],
   "source": [
    "(Brand1)"
   ]
  },
  {
   "cell_type": "markdown",
   "metadata": {},
   "source": []
  },
  {
   "cell_type": "code",
   "execution_count": 27,
   "metadata": {},
   "outputs": [
    {
     "data": {
      "text/plain": [
       "['Men Zoom Span 4 Running Shoes',\n",
       " 'Men Deviate Nitro Running Shoe',\n",
       " 'Men FLIGHT LEGACY Sneakers',\n",
       " 'Men Running Shoes',\n",
       " 'Men HOVR Apex 2 Training',\n",
       " 'Men Waffle One SE Sneakers',\n",
       " \"Men BlazerLow '77 Sneakers\",\n",
       " 'Men Running Shoes',\n",
       " 'Men Balance Anchor Walking',\n",
       " 'Men Textured Leather Sneaker',\n",
       " 'Men Electrify Nitro Running',\n",
       " 'Men GEL-KAYANO 27 Shoes',\n",
       " 'Men Textured Leather High-Top Flat Boots',\n",
       " 'Men Go Run Pure 2 Axis Running',\n",
       " 'Men Running Shoes',\n",
       " 'Men Go Run Hyper Burst Running',\n",
       " 'Men Solid Formal Slip-Ons',\n",
       " 'Men Formal Derbys',\n",
       " 'Women WovenDesign Sports Shoes',\n",
       " 'Men UV MONO Leather Sneakers',\n",
       " 'Men Solid Leather Formal Slip-Ons',\n",
       " 'Leather Boots with Buckles',\n",
       " 'Textured High-Top Flat Boots',\n",
       " 'Men Solid Leather Sneakers',\n",
       " 'Leather Block Heeled Boots',\n",
       " 'Women High-Top Heeled Boots',\n",
       " 'Men Solid Low Top LTH Sneakers',\n",
       " 'Women Leather Block Pumps',\n",
       " 'Men Solid Leather Formal Slip-Ons',\n",
       " 'Men Colourblocked PU Sneakers',\n",
       " 'Women Eternity NITRO Shoes',\n",
       " 'Men Lightweight Sneakers',\n",
       " 'Women ELEVATED Leather Sneaker',\n",
       " 'Skycourt Sneakers',\n",
       " 'Women Leather Heeled Boots',\n",
       " 'Men Wingtip Oxford Sneakers',\n",
       " 'Men GENERATION ZEROGRAND STITCHLITE',\n",
       " 'Men Leather Slip-On Sneakers',\n",
       " 'Men Mid-Top Chelsea Boots',\n",
       " 'Men Leather Chelsea Boots',\n",
       " 'Women Kitten Heeled Boots',\n",
       " 'Leather Block Heeled Boots',\n",
       " 'Men Solid Leather Formal Derbys',\n",
       " 'Men Textured Formal Loafers',\n",
       " 'Men Leather Derbys',\n",
       " 'Men Sneakers',\n",
       " 'Men Textured Leather Loafers',\n",
       " 'Men Textured Leather Formal Derbys',\n",
       " 'Men Textured Formal Leather Loafers',\n",
       " 'Men Textured Formal Leather Loafers',\n",
       " 'Men Textured Formal Leather Loafers',\n",
       " 'Women Leather Penny Loafers',\n",
       " 'Women Leather Sneakers',\n",
       " 'Men Solid Leather Formal Loafers',\n",
       " 'Men FUTURE 5.1 Football Shoes',\n",
       " 'Leather Heeled Knee Boots',\n",
       " 'Women Leather Heeled Boots',\n",
       " 'Leather High-Top Block Heeled Boots',\n",
       " 'Textured Leather Block Heeled Boots',\n",
       " 'Women Running Shoes',\n",
       " 'Printed Flatform Heeled Boots',\n",
       " 'Women Charged Vantage ClrShft',\n",
       " 'Women Leather Sneakers',\n",
       " 'Women Magnify Nitro Shoes',\n",
       " 'Women Charged Impulse Shft',\n",
       " 'Women Quilted Leather Pumps',\n",
       " 'Women Leather Heeled Boots',\n",
       " 'Men Magnify Nitro Running',\n",
       " 'Women Leather Heeled Loafers',\n",
       " 'Women Perforations Sneakers',\n",
       " 'Men Black Running Sports Shoes',\n",
       " 'Women Hybrid Leather Sneakers',\n",
       " 'Men Black Walking Shoes',\n",
       " 'Men Walking Shoes',\n",
       " 'Men Leather Mid-Top Flat Boots',\n",
       " 'Men Running Shoes',\n",
       " 'Women Air Zoom Vomero 16 Run',\n",
       " 'Men Textured Leather Loafers',\n",
       " 'Men Solid Loafers',\n",
       " 'Men Leather Formal Derbys',\n",
       " 'Men Running Shoes',\n",
       " 'Men Solid Leather Formal Monks',\n",
       " 'Men Leather Driving Shoes',\n",
       " 'Men Leather Flat Boots',\n",
       " 'Men AIR ZOOM PEGASUS 36 Shoes',\n",
       " 'Men Textured Leather Loafers',\n",
       " 'Men Leather Flat Boots',\n",
       " 'Men Solid Suede Sneakers',\n",
       " 'Ustraa black',\n",
       " 'Men Black Leather Loafers',\n",
       " 'Solid Slip On Shoes',\n",
       " 'Men Formal Leather Slip-Ons',\n",
       " 'Solid Leather Formal Shoes',\n",
       " 'Men Solid Formal Leather Slip-Ons',\n",
       " 'Men Textured Leather Formal Loafers',\n",
       " 'Men Solid Leather Formal Derbys',\n",
       " 'Men Textured Formal Leather Oxfords',\n",
       " 'Women Leather Heeled Boots',\n",
       " 'Men Black Running Shoes',\n",
       " 'Men Leather Driving Shoes']"
      ]
     },
     "execution_count": 27,
     "metadata": {},
     "output_type": "execute_result"
    }
   ],
   "source": [
    "Detail"
   ]
  },
  {
   "cell_type": "code",
   "execution_count": 28,
   "metadata": {},
   "outputs": [
    {
     "data": {
      "text/plain": [
       "['Rs. 7195',\n",
       " 'Rs. 11249Rs. 14999(25% OFF)',\n",
       " 'Rs. 7995',\n",
       " 'Rs. 8449Rs. 12999(35% OFF)',\n",
       " 'Rs. 13999',\n",
       " 'Rs. 8295',\n",
       " 'Rs. 7195',\n",
       " 'Rs. 7999',\n",
       " 'Rs. 9999',\n",
       " 'Rs. 9999',\n",
       " 'Rs. 7499Rs. 9999(25% OFF)',\n",
       " 'Rs. 11999Rs. 14999(20% OFF)',\n",
       " 'Rs. 11999',\n",
       " 'Rs. 7499',\n",
       " 'Rs. 9999',\n",
       " 'Rs. 8499',\n",
       " 'Rs. 9999',\n",
       " 'Rs. 9999',\n",
       " 'Rs. 7191Rs. 7990(10% OFF)',\n",
       " 'Rs. 8999',\n",
       " 'Rs. 8999',\n",
       " 'Rs. 8500Rs. 10500(Rs. 2000 OFF)',\n",
       " 'Rs. 7990',\n",
       " 'Rs. 9999',\n",
       " 'Rs. 9999',\n",
       " 'Rs. 9800Rs. 13900(Rs. 4100 OFF)',\n",
       " 'Rs. 8999',\n",
       " 'Rs. 7999',\n",
       " 'Rs. 9999',\n",
       " 'Rs. 9999',\n",
       " 'Rs. 7799Rs. 12999(40% OFF)',\n",
       " 'Rs. 7999',\n",
       " 'Rs. 7599',\n",
       " 'Rs. 7999',\n",
       " 'Rs. 11900Rs. 13900(Rs. 2000 OFF)',\n",
       " 'Rs. 12999',\n",
       " 'Rs. 11999',\n",
       " 'Rs. 9999',\n",
       " 'Rs. 9810Rs. 10900(Rs. 1090 OFF)',\n",
       " 'Rs. 10710Rs. 11900(Rs. 1190 OFF)',\n",
       " 'Rs. 7900Rs. 8900(Rs. 1000 OFF)',\n",
       " 'Rs. 7900Rs. 8900(Rs. 1000 OFF)',\n",
       " 'Rs. 9999',\n",
       " 'Rs. 9990',\n",
       " 'Rs. 7999',\n",
       " 'Rs. 7999',\n",
       " 'Rs. 7990',\n",
       " 'Rs. 8999',\n",
       " 'Rs. 8990',\n",
       " 'Rs. 8990',\n",
       " 'Rs. 8990',\n",
       " 'Rs. 7191Rs. 7990(10% OFF)',\n",
       " 'Rs. 7599',\n",
       " 'Rs. 7999',\n",
       " 'Rs. 11899Rs. 16999(30% OFF)',\n",
       " 'Rs. 12999',\n",
       " 'Rs. 12510Rs. 13900(Rs. 1390 OFF)',\n",
       " 'Rs. 13999',\n",
       " 'Rs. 10500Rs. 10900(Rs. 400 OFF)',\n",
       " 'Rs. 8999',\n",
       " 'Rs. 9550Rs. 10500(Rs. 950 OFF)',\n",
       " 'Rs. 7999',\n",
       " 'Rs. 10999',\n",
       " 'Rs. 7799Rs. 12999(40% OFF)',\n",
       " 'Rs. 7499',\n",
       " 'Rs. 8999',\n",
       " 'Rs. 7500Rs. 9500(Rs. 2000 OFF)',\n",
       " 'Rs. 9099Rs. 12999(30% OFF)',\n",
       " 'Rs. 8999',\n",
       " 'Rs. 8999',\n",
       " 'Rs. 7999',\n",
       " 'Rs. 7999',\n",
       " 'Rs. 8999',\n",
       " 'Rs. 8999',\n",
       " 'Rs. 12999',\n",
       " 'Rs. 7999',\n",
       " 'Rs. 13495',\n",
       " 'Rs. 7990',\n",
       " 'Rs. 8990',\n",
       " 'Rs. 11490',\n",
       " 'Rs. 7699',\n",
       " 'Rs. 8990',\n",
       " 'Rs. 9999',\n",
       " 'Rs. 11999',\n",
       " 'Rs. 9995',\n",
       " 'Rs. 7699Rs. 10999(30% OFF)',\n",
       " 'Rs. 9999',\n",
       " 'Rs. 7999',\n",
       " 'Rs. 8990',\n",
       " 'Rs. 8490',\n",
       " 'Rs. 7990',\n",
       " 'Rs. 8990',\n",
       " 'Rs. 7990',\n",
       " 'Rs. 9999',\n",
       " 'Rs. 8990',\n",
       " 'Rs. 8990',\n",
       " 'Rs. 7990',\n",
       " 'Rs. 10710Rs. 11900(Rs. 1190 OFF)',\n",
       " 'Rs. 9999',\n",
       " 'Rs. 7499']"
      ]
     },
     "execution_count": 28,
     "metadata": {},
     "output_type": "execute_result"
    }
   ],
   "source": [
    "Price"
   ]
  },
  {
   "cell_type": "markdown",
   "metadata": {},
   "source": [
    "Q8. Scraping data from amazon"
   ]
  },
  {
   "cell_type": "code",
   "execution_count": 54,
   "metadata": {},
   "outputs": [
    {
     "name": "stdout",
     "output_type": "stream",
     "text": [
      "Requirement already satisfied: selenium in c:\\users\\suncity\\anaconda3\\lib\\site-packages (4.1.0)\n",
      "Requirement already satisfied: urllib3[secure]~=1.26 in c:\\users\\suncity\\anaconda3\\lib\\site-packages (from selenium) (1.26.7)\n",
      "Requirement already satisfied: trio-websocket~=0.9 in c:\\users\\suncity\\anaconda3\\lib\\site-packages (from selenium) (0.9.2)\n",
      "Requirement already satisfied: trio~=0.17 in c:\\users\\suncity\\anaconda3\\lib\\site-packages (from selenium) (0.19.0)\n",
      "Requirement already satisfied: certifi; extra == \"secure\" in c:\\users\\suncity\\anaconda3\\lib\\site-packages (from urllib3[secure]~=1.26->selenium) (2019.11.28)\n",
      "Requirement already satisfied: pyOpenSSL>=0.14; extra == \"secure\" in c:\\users\\suncity\\anaconda3\\lib\\site-packages (from urllib3[secure]~=1.26->selenium) (19.1.0)\n",
      "Requirement already satisfied: idna>=2.0.0; extra == \"secure\" in c:\\users\\suncity\\anaconda3\\lib\\site-packages (from urllib3[secure]~=1.26->selenium) (2.8)\n",
      "Requirement already satisfied: cryptography>=1.3.4; extra == \"secure\" in c:\\users\\suncity\\anaconda3\\lib\\site-packages (from urllib3[secure]~=1.26->selenium) (2.8)\n",
      "Requirement already satisfied: wsproto>=0.14 in c:\\users\\suncity\\anaconda3\\lib\\site-packages (from trio-websocket~=0.9->selenium) (1.0.0)\n",
      "Requirement already satisfied: async-generator>=1.10 in c:\\users\\suncity\\anaconda3\\lib\\site-packages (from trio-websocket~=0.9->selenium) (1.10)\n",
      "Requirement already satisfied: sortedcontainers in c:\\users\\suncity\\anaconda3\\lib\\site-packages (from trio~=0.17->selenium) (2.1.0)\n",
      "Requirement already satisfied: cffi>=1.14; os_name == \"nt\" and implementation_name != \"pypy\" in c:\\users\\suncity\\anaconda3\\lib\\site-packages (from trio~=0.17->selenium) (1.14.0)\n",
      "Requirement already satisfied: outcome in c:\\users\\suncity\\anaconda3\\lib\\site-packages (from trio~=0.17->selenium) (1.1.0)\n",
      "Requirement already satisfied: attrs>=19.2.0 in c:\\users\\suncity\\anaconda3\\lib\\site-packages (from trio~=0.17->selenium) (19.3.0)\n",
      "Requirement already satisfied: sniffio in c:\\users\\suncity\\anaconda3\\lib\\site-packages (from trio~=0.17->selenium) (1.2.0)\n",
      "Requirement already satisfied: six>=1.5.2 in c:\\users\\suncity\\anaconda3\\lib\\site-packages (from pyOpenSSL>=0.14; extra == \"secure\"->urllib3[secure]~=1.26->selenium) (1.14.0)\n",
      "Requirement already satisfied: h11<1,>=0.9.0 in c:\\users\\suncity\\anaconda3\\lib\\site-packages (from wsproto>=0.14->trio-websocket~=0.9->selenium) (0.12.0)\n",
      "Requirement already satisfied: pycparser in c:\\users\\suncity\\anaconda3\\lib\\site-packages (from cffi>=1.14; os_name == \"nt\" and implementation_name != \"pypy\"->trio~=0.17->selenium) (2.19)\n"
     ]
    }
   ],
   "source": [
    "#Let's first install the selenium Library\n",
    "!pip install selenium"
   ]
  },
  {
   "cell_type": "code",
   "execution_count": 55,
   "metadata": {},
   "outputs": [],
   "source": [
    "#let's import all the required libraries\n",
    "import selenium\n",
    "import pandas as pd\n",
    "from selenium import webdriver"
   ]
  },
  {
   "cell_type": "code",
   "execution_count": 56,
   "metadata": {},
   "outputs": [],
   "source": [
    "#let's first to connect with the driver\n",
    "driver= webdriver.Chrome(r\"C:/Users/Suncity/Downloads/chromedriver_win32/chromedriver.exe\")"
   ]
  },
  {
   "cell_type": "code",
   "execution_count": 57,
   "metadata": {},
   "outputs": [],
   "source": [
    "driver.get(\"https://www.amazon.in/\")"
   ]
  },
  {
   "cell_type": "code",
   "execution_count": 58,
   "metadata": {},
   "outputs": [],
   "source": [
    "#finding  laptops\n",
    "search_item=driver.find_element_by_id('twotabsearchtextbox')\n",
    "search_item.send_keys(\"laptop\")"
   ]
  },
  {
   "cell_type": "code",
   "execution_count": 59,
   "metadata": {
    "scrolled": true
   },
   "outputs": [],
   "source": [
    "search = driver.find_element_by_xpath(\"/html/body/div[1]/header/div/div[1]/div[2]/div/form/div[3]/div/span/input\")\n",
    "search.click()"
   ]
  },
  {
   "cell_type": "code",
   "execution_count": 60,
   "metadata": {},
   "outputs": [],
   "source": [
    "cpu = driver.find_element_by_xpath(\"/html/body/div[1]/div[2]/div[1]/div[2]/div/div[3]/span/div[1]/span/div/div/div[6]/ul[2]/li[12]/span/a/span\")\n",
    "cpu.click()"
   ]
  },
  {
   "cell_type": "code",
   "execution_count": 61,
   "metadata": {},
   "outputs": [
    {
     "ename": "NoSuchElementException",
     "evalue": "Message: no such element: Unable to locate element: {\"method\":\"xpath\",\"selector\":\"/html/body/div[1]/div[2]/div[1]/div[2]/div/div[3]/span/div[1]/span/div/div/div[6]/ul[1]/li[2]/span/a/span\"}\n  (Session info: chrome=96.0.4664.110)\nStacktrace:\nBacktrace:\n\tOrdinal0 [0x009D6903+2517251]\n\tOrdinal0 [0x0096F8E1+2095329]\n\tOrdinal0 [0x00872848+1058888]\n\tOrdinal0 [0x0089D448+1233992]\n\tOrdinal0 [0x0089D63B+1234491]\n\tOrdinal0 [0x008C7812+1406994]\n\tOrdinal0 [0x008B650A+1336586]\n\tOrdinal0 [0x008C5BBF+1399743]\n\tOrdinal0 [0x008B639B+1336219]\n\tOrdinal0 [0x008927A7+1189799]\n\tOrdinal0 [0x00893609+1193481]\n\tGetHandleVerifier [0x00B65904+1577972]\n\tGetHandleVerifier [0x00C10B97+2279047]\n\tGetHandleVerifier [0x00A66D09+534521]\n\tGetHandleVerifier [0x00A65DB9+530601]\n\tOrdinal0 [0x00974FF9+2117625]\n\tOrdinal0 [0x009798A8+2136232]\n\tOrdinal0 [0x009799E2+2136546]\n\tOrdinal0 [0x00983541+2176321]\n\tBaseThreadInitThunk [0x75FAFA29+25]\n\tRtlGetAppContainerNamedObjectPath [0x76FF7A9E+286]\n\tRtlGetAppContainerNamedObjectPath [0x76FF7A6E+238]\n",
     "output_type": "error",
     "traceback": [
      "\u001b[1;31m---------------------------------------------------------------------------\u001b[0m",
      "\u001b[1;31mNoSuchElementException\u001b[0m                    Traceback (most recent call last)",
      "\u001b[1;32m<ipython-input-61-08c885e40de7>\u001b[0m in \u001b[0;36m<module>\u001b[1;34m\u001b[0m\n\u001b[1;32m----> 1\u001b[1;33m \u001b[0mcpu1\u001b[0m \u001b[1;33m=\u001b[0m \u001b[0mdriver\u001b[0m\u001b[1;33m.\u001b[0m\u001b[0mfind_element_by_xpath\u001b[0m\u001b[1;33m(\u001b[0m\u001b[1;34m\"/html/body/div[1]/div[2]/div[1]/div[2]/div/div[3]/span/div[1]/span/div/div/div[6]/ul[1]/li[2]/span/a/span\"\u001b[0m\u001b[1;33m)\u001b[0m\u001b[1;33m\u001b[0m\u001b[1;33m\u001b[0m\u001b[0m\n\u001b[0m\u001b[0;32m      2\u001b[0m \u001b[0mcpu1\u001b[0m\u001b[1;33m.\u001b[0m\u001b[0mclick\u001b[0m\u001b[1;33m(\u001b[0m\u001b[1;33m)\u001b[0m\u001b[1;33m\u001b[0m\u001b[1;33m\u001b[0m\u001b[0m\n",
      "\u001b[1;32m~\\anaconda3\\lib\\site-packages\\selenium\\webdriver\\remote\\webdriver.py\u001b[0m in \u001b[0;36mfind_element_by_xpath\u001b[1;34m(self, xpath)\u001b[0m\n\u001b[0;32m    518\u001b[0m             \u001b[0mstacklevel\u001b[0m\u001b[1;33m=\u001b[0m\u001b[1;36m2\u001b[0m\u001b[1;33m,\u001b[0m\u001b[1;33m\u001b[0m\u001b[1;33m\u001b[0m\u001b[0m\n\u001b[0;32m    519\u001b[0m         )\n\u001b[1;32m--> 520\u001b[1;33m         \u001b[1;32mreturn\u001b[0m \u001b[0mself\u001b[0m\u001b[1;33m.\u001b[0m\u001b[0mfind_element\u001b[0m\u001b[1;33m(\u001b[0m\u001b[0mby\u001b[0m\u001b[1;33m=\u001b[0m\u001b[0mBy\u001b[0m\u001b[1;33m.\u001b[0m\u001b[0mXPATH\u001b[0m\u001b[1;33m,\u001b[0m \u001b[0mvalue\u001b[0m\u001b[1;33m=\u001b[0m\u001b[0mxpath\u001b[0m\u001b[1;33m)\u001b[0m\u001b[1;33m\u001b[0m\u001b[1;33m\u001b[0m\u001b[0m\n\u001b[0m\u001b[0;32m    521\u001b[0m \u001b[1;33m\u001b[0m\u001b[0m\n\u001b[0;32m    522\u001b[0m     \u001b[1;32mdef\u001b[0m \u001b[0mfind_elements_by_xpath\u001b[0m\u001b[1;33m(\u001b[0m\u001b[0mself\u001b[0m\u001b[1;33m,\u001b[0m \u001b[0mxpath\u001b[0m\u001b[1;33m)\u001b[0m \u001b[1;33m->\u001b[0m \u001b[0mWebElement\u001b[0m\u001b[1;33m:\u001b[0m\u001b[1;33m\u001b[0m\u001b[1;33m\u001b[0m\u001b[0m\n",
      "\u001b[1;32m~\\anaconda3\\lib\\site-packages\\selenium\\webdriver\\remote\\webdriver.py\u001b[0m in \u001b[0;36mfind_element\u001b[1;34m(self, by, value)\u001b[0m\n\u001b[0;32m   1244\u001b[0m         return self.execute(Command.FIND_ELEMENT, {\n\u001b[0;32m   1245\u001b[0m             \u001b[1;34m'using'\u001b[0m\u001b[1;33m:\u001b[0m \u001b[0mby\u001b[0m\u001b[1;33m,\u001b[0m\u001b[1;33m\u001b[0m\u001b[1;33m\u001b[0m\u001b[0m\n\u001b[1;32m-> 1246\u001b[1;33m             'value': value})['value']\n\u001b[0m\u001b[0;32m   1247\u001b[0m \u001b[1;33m\u001b[0m\u001b[0m\n\u001b[0;32m   1248\u001b[0m     \u001b[1;32mdef\u001b[0m \u001b[0mfind_elements\u001b[0m\u001b[1;33m(\u001b[0m\u001b[0mself\u001b[0m\u001b[1;33m,\u001b[0m \u001b[0mby\u001b[0m\u001b[1;33m=\u001b[0m\u001b[0mBy\u001b[0m\u001b[1;33m.\u001b[0m\u001b[0mID\u001b[0m\u001b[1;33m,\u001b[0m \u001b[0mvalue\u001b[0m\u001b[1;33m=\u001b[0m\u001b[1;32mNone\u001b[0m\u001b[1;33m)\u001b[0m \u001b[1;33m->\u001b[0m \u001b[0mList\u001b[0m\u001b[1;33m[\u001b[0m\u001b[0mWebElement\u001b[0m\u001b[1;33m]\u001b[0m\u001b[1;33m:\u001b[0m\u001b[1;33m\u001b[0m\u001b[1;33m\u001b[0m\u001b[0m\n",
      "\u001b[1;32m~\\anaconda3\\lib\\site-packages\\selenium\\webdriver\\remote\\webdriver.py\u001b[0m in \u001b[0;36mexecute\u001b[1;34m(self, driver_command, params)\u001b[0m\n\u001b[0;32m    422\u001b[0m         \u001b[0mresponse\u001b[0m \u001b[1;33m=\u001b[0m \u001b[0mself\u001b[0m\u001b[1;33m.\u001b[0m\u001b[0mcommand_executor\u001b[0m\u001b[1;33m.\u001b[0m\u001b[0mexecute\u001b[0m\u001b[1;33m(\u001b[0m\u001b[0mdriver_command\u001b[0m\u001b[1;33m,\u001b[0m \u001b[0mparams\u001b[0m\u001b[1;33m)\u001b[0m\u001b[1;33m\u001b[0m\u001b[1;33m\u001b[0m\u001b[0m\n\u001b[0;32m    423\u001b[0m         \u001b[1;32mif\u001b[0m \u001b[0mresponse\u001b[0m\u001b[1;33m:\u001b[0m\u001b[1;33m\u001b[0m\u001b[1;33m\u001b[0m\u001b[0m\n\u001b[1;32m--> 424\u001b[1;33m             \u001b[0mself\u001b[0m\u001b[1;33m.\u001b[0m\u001b[0merror_handler\u001b[0m\u001b[1;33m.\u001b[0m\u001b[0mcheck_response\u001b[0m\u001b[1;33m(\u001b[0m\u001b[0mresponse\u001b[0m\u001b[1;33m)\u001b[0m\u001b[1;33m\u001b[0m\u001b[1;33m\u001b[0m\u001b[0m\n\u001b[0m\u001b[0;32m    425\u001b[0m             response['value'] = self._unwrap_value(\n\u001b[0;32m    426\u001b[0m                 response.get('value', None))\n",
      "\u001b[1;32m~\\anaconda3\\lib\\site-packages\\selenium\\webdriver\\remote\\errorhandler.py\u001b[0m in \u001b[0;36mcheck_response\u001b[1;34m(self, response)\u001b[0m\n\u001b[0;32m    245\u001b[0m                 \u001b[0malert_text\u001b[0m \u001b[1;33m=\u001b[0m \u001b[0mvalue\u001b[0m\u001b[1;33m[\u001b[0m\u001b[1;34m'alert'\u001b[0m\u001b[1;33m]\u001b[0m\u001b[1;33m.\u001b[0m\u001b[0mget\u001b[0m\u001b[1;33m(\u001b[0m\u001b[1;34m'text'\u001b[0m\u001b[1;33m)\u001b[0m\u001b[1;33m\u001b[0m\u001b[1;33m\u001b[0m\u001b[0m\n\u001b[0;32m    246\u001b[0m             \u001b[1;32mraise\u001b[0m \u001b[0mexception_class\u001b[0m\u001b[1;33m(\u001b[0m\u001b[0mmessage\u001b[0m\u001b[1;33m,\u001b[0m \u001b[0mscreen\u001b[0m\u001b[1;33m,\u001b[0m \u001b[0mstacktrace\u001b[0m\u001b[1;33m,\u001b[0m \u001b[0malert_text\u001b[0m\u001b[1;33m)\u001b[0m  \u001b[1;31m# type: ignore[call-arg]  # mypy is not smart enough here\u001b[0m\u001b[1;33m\u001b[0m\u001b[1;33m\u001b[0m\u001b[0m\n\u001b[1;32m--> 247\u001b[1;33m         \u001b[1;32mraise\u001b[0m \u001b[0mexception_class\u001b[0m\u001b[1;33m(\u001b[0m\u001b[0mmessage\u001b[0m\u001b[1;33m,\u001b[0m \u001b[0mscreen\u001b[0m\u001b[1;33m,\u001b[0m \u001b[0mstacktrace\u001b[0m\u001b[1;33m)\u001b[0m\u001b[1;33m\u001b[0m\u001b[1;33m\u001b[0m\u001b[0m\n\u001b[0m\u001b[0;32m    248\u001b[0m \u001b[1;33m\u001b[0m\u001b[0m\n\u001b[0;32m    249\u001b[0m     \u001b[1;32mdef\u001b[0m \u001b[0m_value_or_default\u001b[0m\u001b[1;33m(\u001b[0m\u001b[0mself\u001b[0m\u001b[1;33m,\u001b[0m \u001b[0mobj\u001b[0m\u001b[1;33m:\u001b[0m \u001b[0mMapping\u001b[0m\u001b[1;33m[\u001b[0m\u001b[0m_KT\u001b[0m\u001b[1;33m,\u001b[0m \u001b[0m_VT\u001b[0m\u001b[1;33m]\u001b[0m\u001b[1;33m,\u001b[0m \u001b[0mkey\u001b[0m\u001b[1;33m:\u001b[0m \u001b[0m_KT\u001b[0m\u001b[1;33m,\u001b[0m \u001b[0mdefault\u001b[0m\u001b[1;33m:\u001b[0m \u001b[0m_VT\u001b[0m\u001b[1;33m)\u001b[0m \u001b[1;33m->\u001b[0m \u001b[0m_VT\u001b[0m\u001b[1;33m:\u001b[0m\u001b[1;33m\u001b[0m\u001b[1;33m\u001b[0m\u001b[0m\n",
      "\u001b[1;31mNoSuchElementException\u001b[0m: Message: no such element: Unable to locate element: {\"method\":\"xpath\",\"selector\":\"/html/body/div[1]/div[2]/div[1]/div[2]/div/div[3]/span/div[1]/span/div/div/div[6]/ul[1]/li[2]/span/a/span\"}\n  (Session info: chrome=96.0.4664.110)\nStacktrace:\nBacktrace:\n\tOrdinal0 [0x009D6903+2517251]\n\tOrdinal0 [0x0096F8E1+2095329]\n\tOrdinal0 [0x00872848+1058888]\n\tOrdinal0 [0x0089D448+1233992]\n\tOrdinal0 [0x0089D63B+1234491]\n\tOrdinal0 [0x008C7812+1406994]\n\tOrdinal0 [0x008B650A+1336586]\n\tOrdinal0 [0x008C5BBF+1399743]\n\tOrdinal0 [0x008B639B+1336219]\n\tOrdinal0 [0x008927A7+1189799]\n\tOrdinal0 [0x00893609+1193481]\n\tGetHandleVerifier [0x00B65904+1577972]\n\tGetHandleVerifier [0x00C10B97+2279047]\n\tGetHandleVerifier [0x00A66D09+534521]\n\tGetHandleVerifier [0x00A65DB9+530601]\n\tOrdinal0 [0x00974FF9+2117625]\n\tOrdinal0 [0x009798A8+2136232]\n\tOrdinal0 [0x009799E2+2136546]\n\tOrdinal0 [0x00983541+2176321]\n\tBaseThreadInitThunk [0x75FAFA29+25]\n\tRtlGetAppContainerNamedObjectPath [0x76FF7A9E+286]\n\tRtlGetAppContainerNamedObjectPath [0x76FF7A6E+238]\n"
     ]
    }
   ],
   "source": [
    "cpu1 = driver.find_element_by_xpath(\"/html/body/div[1]/div[2]/div[1]/div[2]/div/div[3]/span/div[1]/span/div/div/div[6]/ul[1]/li[2]/span/a/span\")\n",
    "cpu1.click()"
   ]
  },
  {
   "cell_type": "code",
   "execution_count": 62,
   "metadata": {},
   "outputs": [
    {
     "data": {
      "text/plain": [
       "[<selenium.webdriver.remote.webelement.WebElement (session=\"1d067793a2151386b201cecc311dc7ec\", element=\"6fef78e7-49e3-4dbf-b562-9a779bab8830\")>,\n",
       " <selenium.webdriver.remote.webelement.WebElement (session=\"1d067793a2151386b201cecc311dc7ec\", element=\"86343a11-4e5b-4d1a-8a8f-4e6ac58cf8ce\")>,\n",
       " <selenium.webdriver.remote.webelement.WebElement (session=\"1d067793a2151386b201cecc311dc7ec\", element=\"ac7f07e2-c40f-49e2-9e16-57b8a5587c56\")>,\n",
       " <selenium.webdriver.remote.webelement.WebElement (session=\"1d067793a2151386b201cecc311dc7ec\", element=\"fa42a8bf-41bc-43a6-8ef8-290436a6273d\")>,\n",
       " <selenium.webdriver.remote.webelement.WebElement (session=\"1d067793a2151386b201cecc311dc7ec\", element=\"941d5acd-4d3f-4673-bfb9-4a11e2d699ab\")>,\n",
       " <selenium.webdriver.remote.webelement.WebElement (session=\"1d067793a2151386b201cecc311dc7ec\", element=\"575375f4-486e-41bc-9ffc-b798e21dd49d\")>,\n",
       " <selenium.webdriver.remote.webelement.WebElement (session=\"1d067793a2151386b201cecc311dc7ec\", element=\"8344f204-edc1-4237-be24-d4fa94862cab\")>,\n",
       " <selenium.webdriver.remote.webelement.WebElement (session=\"1d067793a2151386b201cecc311dc7ec\", element=\"b1253e4e-e20d-4d10-b826-3baf8625eca5\")>,\n",
       " <selenium.webdriver.remote.webelement.WebElement (session=\"1d067793a2151386b201cecc311dc7ec\", element=\"2de1ff77-68b9-42dc-8329-2c58d2a2873c\")>,\n",
       " <selenium.webdriver.remote.webelement.WebElement (session=\"1d067793a2151386b201cecc311dc7ec\", element=\"7f91c9f8-4ee2-4ed2-a5f1-fc7df15fe8be\")>,\n",
       " <selenium.webdriver.remote.webelement.WebElement (session=\"1d067793a2151386b201cecc311dc7ec\", element=\"6cfa2ee4-1d14-4b78-ba56-4c88dd3ab35c\")>,\n",
       " <selenium.webdriver.remote.webelement.WebElement (session=\"1d067793a2151386b201cecc311dc7ec\", element=\"31b80d0a-e459-4be1-9364-99508aa820c4\")>,\n",
       " <selenium.webdriver.remote.webelement.WebElement (session=\"1d067793a2151386b201cecc311dc7ec\", element=\"3f6bad26-91c2-4109-8246-13d0d025841a\")>,\n",
       " <selenium.webdriver.remote.webelement.WebElement (session=\"1d067793a2151386b201cecc311dc7ec\", element=\"af9e945c-a82a-4253-a475-a2776152ab5f\")>,\n",
       " <selenium.webdriver.remote.webelement.WebElement (session=\"1d067793a2151386b201cecc311dc7ec\", element=\"880ceab5-354c-4510-8460-8963c256a5a1\")>,\n",
       " <selenium.webdriver.remote.webelement.WebElement (session=\"1d067793a2151386b201cecc311dc7ec\", element=\"f0108161-6f7c-4a16-82e8-3c34e8b7490d\")>,\n",
       " <selenium.webdriver.remote.webelement.WebElement (session=\"1d067793a2151386b201cecc311dc7ec\", element=\"c7539fc3-79d6-460d-ab51-613e21834d0d\")>,\n",
       " <selenium.webdriver.remote.webelement.WebElement (session=\"1d067793a2151386b201cecc311dc7ec\", element=\"fa329a16-72fe-4907-b611-6885072fdb99\")>,\n",
       " <selenium.webdriver.remote.webelement.WebElement (session=\"1d067793a2151386b201cecc311dc7ec\", element=\"723146a2-9966-41d5-92ba-b9f6a29cf5df\")>,\n",
       " <selenium.webdriver.remote.webelement.WebElement (session=\"1d067793a2151386b201cecc311dc7ec\", element=\"1df8a993-d42a-406d-b875-6205f884c98d\")>,\n",
       " <selenium.webdriver.remote.webelement.WebElement (session=\"1d067793a2151386b201cecc311dc7ec\", element=\"033f7222-ebe6-418b-b7ad-3dfe40b6b3e9\")>,\n",
       " <selenium.webdriver.remote.webelement.WebElement (session=\"1d067793a2151386b201cecc311dc7ec\", element=\"fd42a2fc-5972-4e88-93ea-b2b90e540528\")>,\n",
       " <selenium.webdriver.remote.webelement.WebElement (session=\"1d067793a2151386b201cecc311dc7ec\", element=\"13e20fb8-51ca-4673-8d97-99a3873d5a18\")>,\n",
       " <selenium.webdriver.remote.webelement.WebElement (session=\"1d067793a2151386b201cecc311dc7ec\", element=\"ad120724-af5e-4d85-a46a-8221494d7260\")>,\n",
       " <selenium.webdriver.remote.webelement.WebElement (session=\"1d067793a2151386b201cecc311dc7ec\", element=\"7672675e-a8f2-43e3-b4c6-5b87238bb45c\")>,\n",
       " <selenium.webdriver.remote.webelement.WebElement (session=\"1d067793a2151386b201cecc311dc7ec\", element=\"b6b6f17f-6857-4bb2-9ca5-e9b1f3f1abe7\")>,\n",
       " <selenium.webdriver.remote.webelement.WebElement (session=\"1d067793a2151386b201cecc311dc7ec\", element=\"1f3add5f-7bd2-415c-a300-5ff6c18089e5\")>,\n",
       " <selenium.webdriver.remote.webelement.WebElement (session=\"1d067793a2151386b201cecc311dc7ec\", element=\"d34978d1-06b1-401d-8ed7-3f5312874dbb\")>,\n",
       " <selenium.webdriver.remote.webelement.WebElement (session=\"1d067793a2151386b201cecc311dc7ec\", element=\"e7d69364-7a97-4341-a833-27da39373bc3\")>,\n",
       " <selenium.webdriver.remote.webelement.WebElement (session=\"1d067793a2151386b201cecc311dc7ec\", element=\"eb9001b3-6535-4f2b-aa1d-9e806547d9c2\")>]"
      ]
     },
     "execution_count": 62,
     "metadata": {},
     "output_type": "execute_result"
    }
   ],
   "source": [
    "brand=driver.find_elements_by_xpath(\"//h2[@class='a-size-mini a-spacing-none a-color-base s-line-clamp-2']\")\n",
    "brand"
   ]
  },
  {
   "cell_type": "code",
   "execution_count": 63,
   "metadata": {},
   "outputs": [],
   "source": [
    "Brand =[]\n",
    "Rating=[]\n",
    "Price=[]"
   ]
  },
  {
   "cell_type": "code",
   "execution_count": 64,
   "metadata": {},
   "outputs": [
    {
     "data": {
      "text/plain": [
       "['Acer Nitro 5 AN515-57 Gaming Laptop | Intel Core i7-11800H |NVIDIA GeForce RTX 3050 Laptop Graphics |15.6\" FHD 144Hz IPS Display |8GB DDR4 | 256GB SSD+1TB HDD | Killer Wi-Fi 6 | RGB Backlit Keyboard',\n",
       " 'Fujitsu UH-X 11th Gen Intel i7 Core 13.3 inches FHD IPS 400Nits Thin and Light Business Laptop (16GB/512GB SSD/Windows 10/Office/Iris Xe Graphics/Backlit Kb/ Fingerprint Reader/Black/0.878kg), 4ZR1D67596',\n",
       " 'HP Pavilion (2021) Intel 11th Gen Core i7 14 inches FHD Screen Thin & Light Laptop, 16 GB RAM, 1TB SSD, Iris Xe Graphics, Windows 10, MS Office, Backlit Keyboard, 1.41kg (14-dv0058TU)',\n",
       " 'Mi Notebook Horizon Edition 14 Intel Core i7-10510U 10th Gen Thin and Light Laptop(8GB/512GB SSD/Windows 10/Nvidia MX350 2GB Graphics/Grey/1.35Kg)(Without Webcam) XMA1904-AF',\n",
       " 'Mi Notebook Pro QHD+ IPS Anti Glare Display Intel Core i7-11370H 11th Gen 14-inch(35.56 cms) Thin and Light Laptop (16GB/512GB SSD/Iris Xe Graphics/Win 10/Backlit KB/Fingerprint Sensor/1.4 Kg)',\n",
       " 'Lenovo ThinkBook 15 Intel 11th Gen Core i7 15.6\"(39.62 cm)FHD IPS 300 nits Antiglare 100% sRGB Thin & Light Laptop(16GB/1TB HDD+128GB SSD/Windows 10/MS Office/3 Yr Onsite Warranty/1.7 Kg) 20VEA0HBIH',\n",
       " 'HP Pavilion x360 11th Gen Intel Core i7 14-inch(35.6 cm) Touchscreen 2-in-1 FHD Laptop (16GB/512GB SSD/Fingerprint Reader/Windows 10/MS Office/Natural Silver/1.41 Kg), 14-dy0050TU',\n",
       " 'Dell 14 (2021) i7-1195G7 2in1 Touch Screen Laptop, 16GB, 512GB SSD, Win 10 + MS Office, 14.0\" (35.56 cms) FHD Display, Backlit KB, FPR + Active Pen, Platinum Silver (Inspiron 5410, D560596WIN9S)',\n",
       " 'HP Pavilion 13, 11th Gen Intel Core i7, 13.3-inch(33.8 cm) FHD,IPS, Micro-Edge Laptop (16GB RAM/ 1TB SSD/ Win 10/ FPR/Audio B&O/Alexa Built-in/MS Office/ Ceramic White/ 1.24 Kg) -13-bb0078TU',\n",
       " 'Acer Nitro 5 AN515-57 Gaming Laptop | Intel Core i7-11800H |NVIDIA GeForce RTX 3050 Ti Laptop Graphics |15.6\" FHD 144Hz IPS Display |16GB DDR4 |256GB SSD+1TB HDD |Killer Wi-Fi 6 |RGB Backlit Keyboard',\n",
       " 'HP Envy x360 11th Gen Intel Core i7 13.3-inch(33.8 cm) OLED Touchscreen Convertible Laptop (16GB/512GB SSD/Windows 11 Home/MS Office 2019/Fingerprint Reader/Pale Gold/1.32kg), 13-bd0521TU',\n",
       " 'HP Pavilion Gaming(2021) 10th Gen Intel Core i7 15.6-inch(39.6 cm) FHD IPS 144Hz Gaming Laptop (16GB/512GB SSD + 32GB Intel Optane/NVIDIA GTX 1650Ti 4GB/Win 10/MS Office/Shadow Black), 15-DK1511TX',\n",
       " 'Lenovo ThinkBook Yoga 14s Intel Core i7 11th Gen 14\"(35.56cm) FHD IPS 300 nits 100% sRGB Dolby Vision 2-in-1 Touchscreen Laptop (16GB RAM/512GB SSD/Windows 10/MS Office/Active Pen/1.50 kg) 20WEA01EIH',\n",
       " 'Dell 15 (2021) i7-11800H Gaming Laptop, 16GB, 512GB SSD, Win 10 + MS Office, NVIDIA RTX 3050 Ti 4GB, 15.6\" (39.61 cms) FHD, Backlit KB Orange, Dark Shadow Grey (G15 5511, D560546WIN9B)',\n",
       " 'LG Gram 16 Ultra-Light Intel Evo 11th Gen Core i7,16 GB RAM, 512 GB SSD, Win-10, Iris Xe Graphics, 16-inches (40.64 cms), Thunderbolt 4, USC -C x 2 (with Power), 1.19 kg, 3 Yr Warranty (16Z90P, Black)',\n",
       " '(Renewed) HP Laptop Zbook Studio Ultraslim 2.1KG Intel Core i7-6820HQ Processor , 32 GB Ram & 128 GB SSD, 15.6 Inches with Nvidia 8GB Graphics with HD Screen Computer',\n",
       " 'ASUS TUF Dash F15 (2021) 15.6-inch (39.62 cms) FHD 144Hz, Intel Core i7-11370H 11th Gen, RTX 3060 6GB Graphics, Gaming Laptop (16GB/512GB SSD/Office 2019/Windows 10/Gray/2 Kg), FX516PM-HN175TS',\n",
       " 'Lenovo Legion 5 11th Gen Intel Core i7 15.6\"(39.62cm) FHD IPS Gaming Laptop (16GB/512GB SSD/NVIDIA RTX 3050 4GB/120Hz Refresh Rate/Windows 10/MS Office/Backlit Keyboard/Phantom Blue/2.4Kg), 82JK007WIN',\n",
       " 'Acer Nitro 5 AN515-57 Gaming Laptop | Intel Core i7-11800H |NVIDIA GeForce RTX 3050 Ti Laptop Graphics |15.6\" FHD 144Hz IPS Display |16GB DDR4 |256GB SSD+1TB HDD |Killer Wi-Fi 6 |RGB Backlit Keyboard',\n",
       " 'Dell 15 (2021) i7-10870H Gaming Laptop, 16GB DDR4, 512GB SSD, Win 10 + MS Office, NVIDIA RTX 3050 Ti 4GB, 15.6\" (39.61 cms) FHD AG 250 nits 120Hz, Backlit KB Orange (G15 5510, D560534WIN9B)',\n",
       " '(Renewed) Dell Intel Core i7 4th Gen 14 Inch(35.56 cms) 1366x768 HD Laptop (8GB RAM/500GB HDD/Windows 10 Pro/MS Office 2019/Intel Integrated HD Graphics 4600/2.1Kg,Silver) Latitude E6440',\n",
       " 'LG Gram 17-inches Ultra-Light Intel Evo 11th Gen Core i7,16 GB RAM, 512 GB SSD, New Win-11 Preload, Iris Xe Graphics, USC -C x 2 (with Power), 1.35 kg, 3 Yr Warranty (17Z90P-G.AH85A2, Black)',\n",
       " 'Mi Notebook Ultra 3.2K resolution display Intel Core i7-11370H 11th Gen 15.6-inch(39.62 cm) Thin and Light laptop (16GB/512GB SSD/Iris Xe Graphics/Win 10/MS Office/Backlit KB/Fingerprint sensor/1.7Kg)',\n",
       " 'Fujitsu UH-X 11th Gen Intel i7 Core 13.3 inches FHD IPS 400Nits Thin and Light Business Laptop (16GB/512GB SSD/Windows 10/Office/Iris Xe Graphics/Backlit Kb/ Fingerprint Reader/Black/0.878kg), 4ZR1D67596',\n",
       " 'Dell 14 (2021) Inspiron 5410 Intel i7-1165G7 14 inches 16Gb RAM, 512Gb SSD, FHD Display, Windows 10 + MSO, Backlit KB + FPR + Active Pen, 2in1 Touch Screen Laptop - Silver Metal, 1.5 kg, D560469WIN9S',\n",
       " 'LG Gram 14 Ultralight Intel Evo 11th Gen Core i7,16 GB RAM, 512 GB SSD, Win-10, Iris Xe Graphics, 14-inches (35.56 cms), Thunderbolt 4, USC -Cx2 (with Power), 999 Grams, 3 Yr Warranty (14Z90P, Black)',\n",
       " '(Renewed) ASUS TUF Dash F15 (2021) 15.6-inch (39.62 cms) FHD 144Hz, Intel Core i7-11370H 11th Gen, RTX 3050 4GB Graphics, Gaming Laptop (16GB/512GB SSD/Windows 10/Gray/2 Kg), FX516PCZ-HN091T',\n",
       " 'ASUS TUF Dash F15 (2021), 15.6\" (39.62 cms) FHD 144Hz, Intel Core i7-11370H 11th Gen, RTX 3050 Ti 4GB Graphics, Gaming Laptop (16GB/1TB SSD/Office 2019/Windows 10/Eclipse Gray/2 kg), FX516PE-HN088TS',\n",
       " 'Lenovo ThinkBook Yoga 14s Intel Core i7 11th Gen 14\"(35.56cm) FHD IPS 300 nits 100% sRGB Dolby Vision 2-in-1 Touchscreen Laptop (16GB RAM/512GB SSD/Windows 10/MS Office/Active Pen/1.50 kg) 20WEA01EIH',\n",
       " 'HP Pavilion 13, 11th Gen Intel Core i7, 13.3-inch(33.8 cm) FHD,IPS, Micro-Edge Laptop (16GB RAM/ 1TB SSD/ Win 10/ FPR/Audio B&O/Alexa Built-in/MS Office/ Ceramic White/ 1.24 Kg) -13-bb0078TU']"
      ]
     },
     "execution_count": 64,
     "metadata": {},
     "output_type": "execute_result"
    }
   ],
   "source": [
    "for i in brand:\n",
    "    b=i.text\n",
    "    Brand.append(b)\n",
    "Brand"
   ]
  },
  {
   "cell_type": "code",
   "execution_count": 65,
   "metadata": {},
   "outputs": [],
   "source": [
    "rate=driver.find_elements_by_xpath(\"/html/body/div[1]/div[2]/div[1]/div[1]/div/span[3]/div[2]/div[2]/div/span/div/div/div/div/div[2]/div[2]/div/div/div[2]/div/span[1]\")"
   ]
  },
  {
   "cell_type": "code",
   "execution_count": 81,
   "metadata": {},
   "outputs": [
    {
     "data": {
      "text/plain": [
       "['₹88,990',\n",
       " '₹84,990',\n",
       " '₹49,990',\n",
       " '₹73,999',\n",
       " '₹85,990',\n",
       " '₹92,200',\n",
       " '₹87,800',\n",
       " '₹89,990',\n",
       " '₹1,01,990',\n",
       " '₹86,990',\n",
       " '₹89,990',\n",
       " '₹1,05,703',\n",
       " '₹1,00,790',\n",
       " '₹1,09,990',\n",
       " '₹1,00,990',\n",
       " '₹1,03,500',\n",
       " '₹95,289',\n",
       " '₹98,999',\n",
       " '₹77,999',\n",
       " '₹92,990',\n",
       " '₹87,990',\n",
       " '₹79,892',\n",
       " '₹1,07,990',\n",
       " '₹89,990',\n",
       " '₹87,800',\n",
       " '(2353)',\n",
       " '']"
      ]
     },
     "execution_count": 81,
     "metadata": {},
     "output_type": "execute_result"
    }
   ],
   "source": [
    "price=driver.find_elements_by_xpath(\"//a[@class='a-size-base a-link-normal a-text-normal']/span[1]\")\n",
    "for i in price:\n",
    "    pr=i.text\n",
    "    Price.append(pr)\n",
    "Price\n",
    "                                                     \n",
    "        "
   ]
  },
  {
   "cell_type": "code",
   "execution_count": 69,
   "metadata": {},
   "outputs": [],
   "source": [
    "#locating Ratings\n",
    "urls=driver.find_elements_by_xpath(\"//a[@class='a-link-normal a-text-normal']\")#collecting urls of all the laptop\n",
    "UR=[]\n",
    "for i in urls[:10]:\n",
    "    UR.append(i.get_attribute('href'))#getting the url of first 10 laptops\n",
    "for url in UR:#loop for every laptop in the list\n",
    "    driver.get(url)\n",
    "    try:                  #exception handling for nosuchelementexception                                                    #click the rating link found\n",
    "        rating=driver.find_element_by_xpath(\"//span[@class='a-size-base a-nowrap']//span\")#locating the rating\n",
    "        Rating.append(rating.text)#appending the ratings in Ratings list\n",
    "        \n",
    "    except NoSuchElementException:\n",
    "        Rating.append(\"NO rating\")#appending the No rating if no rating is there\n",
    "        "
   ]
  },
  {
   "cell_type": "code",
   "execution_count": 70,
   "metadata": {},
   "outputs": [
    {
     "data": {
      "text/plain": [
       "['4.1 out of 5',\n",
       " '4.3 out of 5',\n",
       " '4.3 out of 5',\n",
       " '4.2 out of 5',\n",
       " '4.3 out of 5',\n",
       " '4.3 out of 5',\n",
       " '4.3 out of 5',\n",
       " '4.5 out of 5',\n",
       " '4.6 out of 5',\n",
       " '4 out of 5',\n",
       " '4 out of 5',\n",
       " '4.1 out of 5',\n",
       " '4.1 out of 5',\n",
       " '3.6 out of 5',\n",
       " '3.6 out of 5',\n",
       " '4.6 out of 5',\n",
       " '4.6 out of 5',\n",
       " '4 out of 5',\n",
       " '4 out of 5',\n",
       " '3.8 out of 5']"
      ]
     },
     "execution_count": 70,
     "metadata": {},
     "output_type": "execute_result"
    }
   ],
   "source": [
    "Rating"
   ]
  },
  {
   "cell_type": "markdown",
   "metadata": {},
   "source": [
    "Q9. Write a python program to scrape data for first 10 job results for Data Scientist Designation in Noida location. You have to scrape company name, No.of days ago when job was posted, Rating of the company."
   ]
  },
  {
   "cell_type": "code",
   "execution_count": null,
   "metadata": {},
   "outputs": [],
   "source": []
  },
  {
   "cell_type": "code",
   "execution_count": 1,
   "metadata": {},
   "outputs": [
    {
     "name": "stdout",
     "output_type": "stream",
     "text": [
      "Requirement already satisfied: selenium in c:\\users\\suncity\\anaconda3\\lib\\site-packages (4.1.0)\n",
      "Requirement already satisfied: trio-websocket~=0.9 in c:\\users\\suncity\\anaconda3\\lib\\site-packages (from selenium) (0.9.2)\n",
      "Requirement already satisfied: trio~=0.17 in c:\\users\\suncity\\anaconda3\\lib\\site-packages (from selenium) (0.19.0)\n",
      "Requirement already satisfied: urllib3[secure]~=1.26 in c:\\users\\suncity\\anaconda3\\lib\\site-packages (from selenium) (1.26.7)\n",
      "Requirement already satisfied: wsproto>=0.14 in c:\\users\\suncity\\anaconda3\\lib\\site-packages (from trio-websocket~=0.9->selenium) (1.0.0)\n",
      "Requirement already satisfied: async-generator>=1.10 in c:\\users\\suncity\\anaconda3\\lib\\site-packages (from trio-websocket~=0.9->selenium) (1.10)\n",
      "Requirement already satisfied: cffi>=1.14; os_name == \"nt\" and implementation_name != \"pypy\" in c:\\users\\suncity\\anaconda3\\lib\\site-packages (from trio~=0.17->selenium) (1.14.0)\n",
      "Requirement already satisfied: attrs>=19.2.0 in c:\\users\\suncity\\anaconda3\\lib\\site-packages (from trio~=0.17->selenium) (19.3.0)\n",
      "Requirement already satisfied: sortedcontainers in c:\\users\\suncity\\anaconda3\\lib\\site-packages (from trio~=0.17->selenium) (2.1.0)\n",
      "Requirement already satisfied: outcome in c:\\users\\suncity\\anaconda3\\lib\\site-packages (from trio~=0.17->selenium) (1.1.0)\n",
      "Requirement already satisfied: idna in c:\\users\\suncity\\anaconda3\\lib\\site-packages (from trio~=0.17->selenium) (2.8)\n",
      "Requirement already satisfied: sniffio in c:\\users\\suncity\\anaconda3\\lib\\site-packages (from trio~=0.17->selenium) (1.2.0)\n",
      "Requirement already satisfied: pyOpenSSL>=0.14; extra == \"secure\" in c:\\users\\suncity\\anaconda3\\lib\\site-packages (from urllib3[secure]~=1.26->selenium) (19.1.0)\n",
      "Requirement already satisfied: cryptography>=1.3.4; extra == \"secure\" in c:\\users\\suncity\\anaconda3\\lib\\site-packages (from urllib3[secure]~=1.26->selenium) (2.8)\n",
      "Requirement already satisfied: certifi; extra == \"secure\" in c:\\users\\suncity\\anaconda3\\lib\\site-packages (from urllib3[secure]~=1.26->selenium) (2019.11.28)\n",
      "Requirement already satisfied: h11<1,>=0.9.0 in c:\\users\\suncity\\anaconda3\\lib\\site-packages (from wsproto>=0.14->trio-websocket~=0.9->selenium) (0.12.0)\n",
      "Requirement already satisfied: pycparser in c:\\users\\suncity\\anaconda3\\lib\\site-packages (from cffi>=1.14; os_name == \"nt\" and implementation_name != \"pypy\"->trio~=0.17->selenium) (2.19)\n",
      "Requirement already satisfied: six>=1.5.2 in c:\\users\\suncity\\anaconda3\\lib\\site-packages (from pyOpenSSL>=0.14; extra == \"secure\"->urllib3[secure]~=1.26->selenium) (1.14.0)\n"
     ]
    }
   ],
   "source": [
    "#Let's first install the selenium Library\n",
    "!pip install selenium"
   ]
  },
  {
   "cell_type": "code",
   "execution_count": 2,
   "metadata": {},
   "outputs": [],
   "source": [
    "#let's import all the required libraries\n",
    "import selenium\n",
    "import pandas as pd\n",
    "from selenium import webdriver\n",
    "import warnings\n",
    "\n",
    "warnings.filterwarnings(\"ignore\")"
   ]
  },
  {
   "cell_type": "code",
   "execution_count": 3,
   "metadata": {},
   "outputs": [],
   "source": [
    "#let's first to connect with the driver\n",
    "driver= webdriver.Chrome(r\"C:/Users/Suncity/Downloads/chromedriver_win32/chromedriver.exe\")"
   ]
  },
  {
   "cell_type": "code",
   "execution_count": 4,
   "metadata": {},
   "outputs": [],
   "source": [
    "driver.get(\"https://www.ambitionbox.com/\")"
   ]
  },
  {
   "cell_type": "code",
   "execution_count": 5,
   "metadata": {},
   "outputs": [],
   "source": [
    "jobs=driver.find_element_by_xpath(\"/html/body/div[1]/nav/nav/a[6]\")\n",
    "jobs.click()"
   ]
  },
  {
   "cell_type": "code",
   "execution_count": 6,
   "metadata": {},
   "outputs": [],
   "source": [
    "#finding element for job search bar\n",
    "search_job=driver.find_element_by_xpath(\"/html/body/div/div/div/div[2]/div[1]/div/div/div/div/span/input\")\n",
    "search_job.send_keys(\"Data Scientist\")"
   ]
  },
  {
   "cell_type": "code",
   "execution_count": 7,
   "metadata": {},
   "outputs": [],
   "source": [
    "search = driver.find_element_by_xpath(\"/html/body/div/div/div/div[2]/div[1]/div/div/div/button/span\")\n",
    "search.click()"
   ]
  },
  {
   "cell_type": "code",
   "execution_count": 8,
   "metadata": {},
   "outputs": [],
   "source": [
    "loc = driver.find_element_by_xpath(\"/html/body/div/div/div/div[2]/div[2]/div[1]/div/div/div/div[2]/div[1]/p\")\n",
    "loc.click()"
   ]
  },
  {
   "cell_type": "code",
   "execution_count": 9,
   "metadata": {},
   "outputs": [],
   "source": [
    "Noi=driver.find_element_by_xpath(\"/html/body/div/div/div/div[2]/div[2]/div[1]/div/div/div/div[2]/div[2]/div/div[3]/div[1]/div[7]/div/label\")\n",
    "Noi.click()"
   ]
  },
  {
   "cell_type": "code",
   "execution_count": 10,
   "metadata": {},
   "outputs": [
    {
     "data": {
      "text/plain": [
       "[<selenium.webdriver.remote.webelement.WebElement (session=\"b353d1a20a08ff73ab99f62a02167de7\", element=\"fbfb0605-77d6-49a6-8934-e7707eb2cd48\")>,\n",
       " <selenium.webdriver.remote.webelement.WebElement (session=\"b353d1a20a08ff73ab99f62a02167de7\", element=\"4366189c-3bde-42ad-96dd-1a1ff3444d8c\")>,\n",
       " <selenium.webdriver.remote.webelement.WebElement (session=\"b353d1a20a08ff73ab99f62a02167de7\", element=\"827c89fc-9bec-4c41-90ad-1e206ebece9b\")>,\n",
       " <selenium.webdriver.remote.webelement.WebElement (session=\"b353d1a20a08ff73ab99f62a02167de7\", element=\"7ab41748-1623-4d89-8620-4f62fc1b5263\")>,\n",
       " <selenium.webdriver.remote.webelement.WebElement (session=\"b353d1a20a08ff73ab99f62a02167de7\", element=\"9f7c0d34-83cf-44f0-bd81-341243bfc493\")>,\n",
       " <selenium.webdriver.remote.webelement.WebElement (session=\"b353d1a20a08ff73ab99f62a02167de7\", element=\"8b4082a0-15aa-4f11-91a6-a4b26244d2ce\")>,\n",
       " <selenium.webdriver.remote.webelement.WebElement (session=\"b353d1a20a08ff73ab99f62a02167de7\", element=\"e91501fc-dc29-4f57-a0d3-be4d55c8dc15\")>,\n",
       " <selenium.webdriver.remote.webelement.WebElement (session=\"b353d1a20a08ff73ab99f62a02167de7\", element=\"1010780a-b357-4efc-a604-2afb4ee4075f\")>,\n",
       " <selenium.webdriver.remote.webelement.WebElement (session=\"b353d1a20a08ff73ab99f62a02167de7\", element=\"33ccdefc-0dc4-4bc9-b281-dd1b8fb92341\")>,\n",
       " <selenium.webdriver.remote.webelement.WebElement (session=\"b353d1a20a08ff73ab99f62a02167de7\", element=\"622bc942-2652-4ea4-adbf-fcbe987d6430\")>]"
      ]
     },
     "execution_count": 10,
     "metadata": {},
     "output_type": "execute_result"
    }
   ],
   "source": [
    "company= driver.find_elements_by_xpath(\"//div[@class='info']/h2\")\n",
    "company"
   ]
  },
  {
   "cell_type": "code",
   "execution_count": 11,
   "metadata": {},
   "outputs": [
    {
     "data": {
      "text/plain": [
       "['Data Scientist',\n",
       " 'Senior Data Scientist',\n",
       " 'Senior Data Scientist',\n",
       " 'Hiring For Data Scientist',\n",
       " 'NTT DATA_ Hiring For BIG DATA ,DATA Scientist, Devops',\n",
       " 'Manager - Data Scientist - Retail/BFSI (8-15 yrs)',\n",
       " 'Job Opportunity || Data Scientist || HCL Technologies',\n",
       " 'Data Scientist - Risk and Pricing',\n",
       " 'BeatO - Data Scientist (3-6 yrs)',\n",
       " 'Oye! Rickshaw - Manager - Analytics (4-8 yrs)']"
      ]
     },
     "execution_count": 11,
     "metadata": {},
     "output_type": "execute_result"
    }
   ],
   "source": [
    "Com =[]\n",
    "for i in company:\n",
    "    co = i.text\n",
    "    Com.append(co)\n",
    "Com"
   ]
  },
  {
   "cell_type": "code",
   "execution_count": 12,
   "metadata": {},
   "outputs": [
    {
     "data": {
      "text/plain": [
       "['LG Electronics India Pvt. Ltd.',\n",
       " 'Wipro Limited',\n",
       " 'Wipro Limited',\n",
       " 'Tata Consultancy Services Ltd.',\n",
       " 'NTT Data Business Solutions Pvt Ltd',\n",
       " 'GI Group',\n",
       " 'HCL Technologies',\n",
       " 'Vichara Technology (India) Private Limited',\n",
       " 'BeatO',\n",
       " 'OYE Rickshaw']"
      ]
     },
     "execution_count": 12,
     "metadata": {},
     "output_type": "execute_result"
    }
   ],
   "source": [
    "company_name = driver.find_elements_by_xpath(\"//p[@class='company body-medium']\")\n",
    "\n",
    "companies=[]\n",
    "\n",
    "for i in company_name[0:10]:\n",
    "\n",
    "    companies.append(i.text)\n",
    "companies\n"
   ]
  },
  {
   "cell_type": "code",
   "execution_count": 27,
   "metadata": {},
   "outputs": [
    {
     "data": {
      "text/plain": [
       "['0-2 years',\n",
       " 'Not Disclosed',\n",
       " '0-2 Yrs',\n",
       " 'Not Disclosed',\n",
       " 'Python, Deep Learning, NLP +6 more',\n",
       " '5-10 Yrs',\n",
       " 'Not Disclosed',\n",
       " 'Machine Learning, Python, Data Science +7 more',\n",
       " '4-9 Yrs',\n",
       " 'Not Disclosed']"
      ]
     },
     "execution_count": 27,
     "metadata": {},
     "output_type": "execute_result"
    }
   ],
   "source": [
    "exp = driver.find_elements_by_xpath(\"//div[@class='entity']/p\")\n",
    "Experience=[]\n",
    "\n",
    "for i in exp[0:10]:\n",
    "\n",
    "    Experience.append(i.text)\n",
    "Experience\n"
   ]
  },
  {
   "cell_type": "code",
   "execution_count": 24,
   "metadata": {},
   "outputs": [
    {
     "data": {
      "text/plain": [
       "['4.1', '4.1', '3.8', '3.8', '3.9', '3.8', '4.0', '3.8', '3.9', '3.8']"
      ]
     },
     "execution_count": 24,
     "metadata": {},
     "output_type": "execute_result"
    }
   ],
   "source": [
    "\n",
    "rate = driver.find_elements_by_xpath(\"//div[@class='rating-wrapper']/a[1]\")\n",
    "\n",
    "rating=[]\n",
    "\n",
    "for i in rate[0:10]:\n",
    "\n",
    "    rating.append(i.text)\n",
    "rating\n"
   ]
  },
  {
   "cell_type": "code",
   "execution_count": 25,
   "metadata": {},
   "outputs": [],
   "source": [
    "df = pd.DataFrame()\n",
    "df['Position']=Com\n",
    "df['Companies_name']=companies\n",
    "df['Rating']=rating\n"
   ]
  },
  {
   "cell_type": "code",
   "execution_count": 26,
   "metadata": {},
   "outputs": [
    {
     "data": {
      "text/html": [
       "<div>\n",
       "<style scoped>\n",
       "    .dataframe tbody tr th:only-of-type {\n",
       "        vertical-align: middle;\n",
       "    }\n",
       "\n",
       "    .dataframe tbody tr th {\n",
       "        vertical-align: top;\n",
       "    }\n",
       "\n",
       "    .dataframe thead th {\n",
       "        text-align: right;\n",
       "    }\n",
       "</style>\n",
       "<table border=\"1\" class=\"dataframe\">\n",
       "  <thead>\n",
       "    <tr style=\"text-align: right;\">\n",
       "      <th></th>\n",
       "      <th>Position</th>\n",
       "      <th>Companies_name</th>\n",
       "      <th>Rating</th>\n",
       "    </tr>\n",
       "  </thead>\n",
       "  <tbody>\n",
       "    <tr>\n",
       "      <th>0</th>\n",
       "      <td>Data Scientist</td>\n",
       "      <td>LG Electronics India Pvt. Ltd.</td>\n",
       "      <td>4.1</td>\n",
       "    </tr>\n",
       "    <tr>\n",
       "      <th>1</th>\n",
       "      <td>Senior Data Scientist</td>\n",
       "      <td>Wipro Limited</td>\n",
       "      <td>4.1</td>\n",
       "    </tr>\n",
       "    <tr>\n",
       "      <th>2</th>\n",
       "      <td>Senior Data Scientist</td>\n",
       "      <td>Wipro Limited</td>\n",
       "      <td>3.8</td>\n",
       "    </tr>\n",
       "    <tr>\n",
       "      <th>3</th>\n",
       "      <td>Hiring For Data Scientist</td>\n",
       "      <td>Tata Consultancy Services Ltd.</td>\n",
       "      <td>3.8</td>\n",
       "    </tr>\n",
       "    <tr>\n",
       "      <th>4</th>\n",
       "      <td>NTT DATA_ Hiring For BIG DATA ,DATA Scientist,...</td>\n",
       "      <td>NTT Data Business Solutions Pvt Ltd</td>\n",
       "      <td>3.9</td>\n",
       "    </tr>\n",
       "    <tr>\n",
       "      <th>5</th>\n",
       "      <td>Manager - Data Scientist - Retail/BFSI (8-15 yrs)</td>\n",
       "      <td>GI Group</td>\n",
       "      <td>3.8</td>\n",
       "    </tr>\n",
       "    <tr>\n",
       "      <th>6</th>\n",
       "      <td>Job Opportunity || Data Scientist || HCL Techn...</td>\n",
       "      <td>HCL Technologies</td>\n",
       "      <td>4.0</td>\n",
       "    </tr>\n",
       "    <tr>\n",
       "      <th>7</th>\n",
       "      <td>Data Scientist - Risk and Pricing</td>\n",
       "      <td>Vichara Technology (India) Private Limited</td>\n",
       "      <td>3.8</td>\n",
       "    </tr>\n",
       "    <tr>\n",
       "      <th>8</th>\n",
       "      <td>BeatO - Data Scientist (3-6 yrs)</td>\n",
       "      <td>BeatO</td>\n",
       "      <td>3.9</td>\n",
       "    </tr>\n",
       "    <tr>\n",
       "      <th>9</th>\n",
       "      <td>Oye! Rickshaw - Manager - Analytics (4-8 yrs)</td>\n",
       "      <td>OYE Rickshaw</td>\n",
       "      <td>3.8</td>\n",
       "    </tr>\n",
       "  </tbody>\n",
       "</table>\n",
       "</div>"
      ],
      "text/plain": [
       "                                            Position  \\\n",
       "0                                     Data Scientist   \n",
       "1                              Senior Data Scientist   \n",
       "2                              Senior Data Scientist   \n",
       "3                          Hiring For Data Scientist   \n",
       "4  NTT DATA_ Hiring For BIG DATA ,DATA Scientist,...   \n",
       "5  Manager - Data Scientist - Retail/BFSI (8-15 yrs)   \n",
       "6  Job Opportunity || Data Scientist || HCL Techn...   \n",
       "7                  Data Scientist - Risk and Pricing   \n",
       "8                   BeatO - Data Scientist (3-6 yrs)   \n",
       "9      Oye! Rickshaw - Manager - Analytics (4-8 yrs)   \n",
       "\n",
       "                               Companies_name Rating  \n",
       "0              LG Electronics India Pvt. Ltd.    4.1  \n",
       "1                               Wipro Limited    4.1  \n",
       "2                               Wipro Limited    3.8  \n",
       "3              Tata Consultancy Services Ltd.    3.8  \n",
       "4         NTT Data Business Solutions Pvt Ltd    3.9  \n",
       "5                                    GI Group    3.8  \n",
       "6                            HCL Technologies    4.0  \n",
       "7  Vichara Technology (India) Private Limited    3.8  \n",
       "8                                       BeatO    3.9  \n",
       "9                                OYE Rickshaw    3.8  "
      ]
     },
     "execution_count": 26,
     "metadata": {},
     "output_type": "execute_result"
    }
   ],
   "source": [
    "df"
   ]
  },
  {
   "cell_type": "markdown",
   "metadata": {},
   "source": [
    "Q10. Write a python program to scrape the salary data for Data Scientist designation. You have to scrape Company name, Number of salaries, Average salary, Minsalary, Max Salary."
   ]
  },
  {
   "cell_type": "code",
   "execution_count": 1,
   "metadata": {},
   "outputs": [
    {
     "name": "stdout",
     "output_type": "stream",
     "text": [
      "Requirement already satisfied: selenium in c:\\users\\suncity\\anaconda3\\lib\\site-packages (4.1.0)\n",
      "Requirement already satisfied: trio-websocket~=0.9 in c:\\users\\suncity\\anaconda3\\lib\\site-packages (from selenium) (0.9.2)\n",
      "Requirement already satisfied: trio~=0.17 in c:\\users\\suncity\\anaconda3\\lib\\site-packages (from selenium) (0.19.0)\n",
      "Requirement already satisfied: urllib3[secure]~=1.26 in c:\\users\\suncity\\anaconda3\\lib\\site-packages (from selenium) (1.26.7)\n",
      "Requirement already satisfied: wsproto>=0.14 in c:\\users\\suncity\\anaconda3\\lib\\site-packages (from trio-websocket~=0.9->selenium) (1.0.0)\n",
      "Requirement already satisfied: async-generator>=1.10 in c:\\users\\suncity\\anaconda3\\lib\\site-packages (from trio-websocket~=0.9->selenium) (1.10)\n",
      "Requirement already satisfied: attrs>=19.2.0 in c:\\users\\suncity\\anaconda3\\lib\\site-packages (from trio~=0.17->selenium) (19.3.0)\n",
      "Requirement already satisfied: cffi>=1.14; os_name == \"nt\" and implementation_name != \"pypy\" in c:\\users\\suncity\\anaconda3\\lib\\site-packages (from trio~=0.17->selenium) (1.14.0)\n",
      "Requirement already satisfied: idna in c:\\users\\suncity\\anaconda3\\lib\\site-packages (from trio~=0.17->selenium) (2.8)\n",
      "Requirement already satisfied: sniffio in c:\\users\\suncity\\anaconda3\\lib\\site-packages (from trio~=0.17->selenium) (1.2.0)\n",
      "Requirement already satisfied: outcome in c:\\users\\suncity\\anaconda3\\lib\\site-packages (from trio~=0.17->selenium) (1.1.0)\n",
      "Requirement already satisfied: sortedcontainers in c:\\users\\suncity\\anaconda3\\lib\\site-packages (from trio~=0.17->selenium) (2.1.0)\n",
      "Requirement already satisfied: certifi; extra == \"secure\" in c:\\users\\suncity\\anaconda3\\lib\\site-packages (from urllib3[secure]~=1.26->selenium) (2019.11.28)\n",
      "Requirement already satisfied: pyOpenSSL>=0.14; extra == \"secure\" in c:\\users\\suncity\\anaconda3\\lib\\site-packages (from urllib3[secure]~=1.26->selenium) (19.1.0)\n",
      "Requirement already satisfied: cryptography>=1.3.4; extra == \"secure\" in c:\\users\\suncity\\anaconda3\\lib\\site-packages (from urllib3[secure]~=1.26->selenium) (2.8)\n",
      "Requirement already satisfied: h11<1,>=0.9.0 in c:\\users\\suncity\\anaconda3\\lib\\site-packages (from wsproto>=0.14->trio-websocket~=0.9->selenium) (0.12.0)\n",
      "Requirement already satisfied: pycparser in c:\\users\\suncity\\anaconda3\\lib\\site-packages (from cffi>=1.14; os_name == \"nt\" and implementation_name != \"pypy\"->trio~=0.17->selenium) (2.19)\n",
      "Requirement already satisfied: six>=1.5.2 in c:\\users\\suncity\\anaconda3\\lib\\site-packages (from pyOpenSSL>=0.14; extra == \"secure\"->urllib3[secure]~=1.26->selenium) (1.14.0)\n"
     ]
    }
   ],
   "source": [
    "#Let's first install the selenium Library\n",
    "!pip install selenium"
   ]
  },
  {
   "cell_type": "code",
   "execution_count": 2,
   "metadata": {},
   "outputs": [],
   "source": [
    "#let's import all the required libraries\n",
    "import selenium\n",
    "import pandas as pd\n",
    "from selenium import webdriver\n",
    "import warnings\n",
    "\n",
    "warnings.filterwarnings(\"ignore\")"
   ]
  },
  {
   "cell_type": "code",
   "execution_count": 3,
   "metadata": {},
   "outputs": [],
   "source": [
    "#let's first to connect with the driver\n",
    "driver= webdriver.Chrome(r\"C:/Users/Suncity/Downloads/chromedriver_win32/chromedriver.exe\")"
   ]
  },
  {
   "cell_type": "code",
   "execution_count": 4,
   "metadata": {},
   "outputs": [],
   "source": [
    "driver.get(\"https://www.ambitionbox.com/\")"
   ]
  },
  {
   "cell_type": "code",
   "execution_count": 5,
   "metadata": {},
   "outputs": [],
   "source": [
    "salary = driver.find_element_by_xpath(\"/html/body/div[1]/nav/nav/a[4]\")\n",
    "salary.click()"
   ]
  },
  {
   "cell_type": "code",
   "execution_count": 6,
   "metadata": {},
   "outputs": [],
   "source": [
    "#finding element for job search bar\n",
    "search_job=driver.find_element_by_xpath(\"/html/body/div/div/div/div[2]/div/div/div/div[1]/span/input\")\n",
    "search_job.send_keys(\"Data Scientist\")"
   ]
  },
  {
   "cell_type": "code",
   "execution_count": 7,
   "metadata": {},
   "outputs": [],
   "source": [
    "search = driver.find_element_by_xpath(\"/html/body/div/div/div/div[2]/div/div/div/button/span\")\n",
    "search.click()"
   ]
  },
  {
   "cell_type": "code",
   "execution_count": 8,
   "metadata": {},
   "outputs": [],
   "source": [
    "title=driver.find_element_by_xpath(\"/html/body/section[1]/div/section/div/div/div/div/div/div/div[5]/div[2]/div/div/div[1]/div[1]/div[1]/div[1]/div/a\")\n",
    "title.click()"
   ]
  },
  {
   "cell_type": "code",
   "execution_count": 9,
   "metadata": {},
   "outputs": [
    {
     "data": {
      "text/plain": [
       "[]"
      ]
     },
     "execution_count": 9,
     "metadata": {},
     "output_type": "execute_result"
    }
   ],
   "source": [
    "comp=driver.find_elements_by_xpath(\"//div[@class='name']/a\")\n",
    "comp\n",
    "        \n",
    "        "
   ]
  },
  {
   "cell_type": "code",
   "execution_count": 10,
   "metadata": {},
   "outputs": [
    {
     "data": {
      "text/plain": [
       "[]"
      ]
     },
     "execution_count": 10,
     "metadata": {},
     "output_type": "execute_result"
    }
   ],
   "source": [
    "Average_sal =driver.find_elements_by_xpath(\"//p[@class='averageCtc']\")\n",
    "Average =[]\n",
    "for i in Average_sal:\n",
    "    Av = i.text\n",
    "    Average.append(Av)\n",
    "Average"
   ]
  },
  {
   "cell_type": "code",
   "execution_count": null,
   "metadata": {},
   "outputs": [],
   "source": []
  }
 ],
 "metadata": {
  "kernelspec": {
   "display_name": "Python 3",
   "language": "python",
   "name": "python3"
  },
  "language_info": {
   "codemirror_mode": {
    "name": "ipython",
    "version": 3
   },
   "file_extension": ".py",
   "mimetype": "text/x-python",
   "name": "python",
   "nbconvert_exporter": "python",
   "pygments_lexer": "ipython3",
   "version": "3.7.6"
  }
 },
 "nbformat": 4,
 "nbformat_minor": 4
}

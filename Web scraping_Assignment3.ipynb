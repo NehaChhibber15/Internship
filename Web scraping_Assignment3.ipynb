{
 "cells": [
  {
   "cell_type": "markdown",
   "metadata": {},
   "source": [
    "Q1. Write a python program which searches all the product under a particular product from www.amazon.in. The product to be searched will be taken as input from user. For e.g. If user input is 'guitar'. Then search for guitar."
   ]
  },
  {
   "cell_type": "markdown",
   "metadata": {},
   "source": [
    "import pandas as pd\n",
    "import selenium\n",
    "from selenium import webdriver\n",
    "import time\n",
    "from selenium.common.exceptions import NoSuchElementException  #Import Exception\n",
    "import warnings\n",
    "warnings.filterwarnings('ignore')"
   ]
  },
  {
   "cell_type": "code",
   "execution_count": 2,
   "metadata": {},
   "outputs": [],
   "source": [
    "driver= webdriver.Chrome(r\"C:/Users/Suncity/Downloads/chromedriver_win32/chromedriver.exe\")\n",
    "driver.get(\"https://www.amazon.in/\")"
   ]
  },
  {
   "cell_type": "code",
   "execution_count": 3,
   "metadata": {},
   "outputs": [],
   "source": [
    "#finding items from the amazon website\n",
    "search_items=driver.find_element_by_id('twotabsearchtextbox')\n",
    "search_items.send_keys(\"guitar\")"
   ]
  },
  {
   "cell_type": "code",
   "execution_count": 4,
   "metadata": {},
   "outputs": [],
   "source": [
    "search_btn=driver.find_element_by_xpath(\"//div[@class='nav-search-submit nav-sprite']\")\n",
    "search_btn.click()"
   ]
  },
  {
   "cell_type": "code",
   "execution_count": 12,
   "metadata": {},
   "outputs": [],
   "source": [
    "#fetching urls\n",
    "urls=[]  #creating empty list\n",
    "for i in driver.find_elements_by_xpath(\"//a[@class='a-link-normal s-underline-text s-underline-link-text s-link-style a-text-normal']\"):\n",
    "    urls.append(i.get_attribute(\"href\"))\n"
   ]
  },
  {
   "cell_type": "code",
   "execution_count": 13,
   "metadata": {},
   "outputs": [
    {
     "data": {
      "text/plain": [
       "60"
      ]
     },
     "execution_count": 13,
     "metadata": {},
     "output_type": "execute_result"
    }
   ],
   "source": [
    "len(urls)"
   ]
  },
  {
   "cell_type": "code",
   "execution_count": 14,
   "metadata": {},
   "outputs": [
    {
     "data": {
      "text/plain": [
       "['https://www.amazon.in/gp/slredirect/picassoRedirect.html/ref=pa_sp_atf_aps_sr_pg1_1?ie=UTF8&adId=A07028902FSYQW4NYPOME&url=%2FJuarez-Acoustic-Guitar-Cutaway-Strings%2Fdp%2FB076QHZ4HZ%2Fref%3Dsr_1_1_sspa%3Fcrid%3D2ELYOKIFT5ZUI%26keywords%3Dguitar%26qid%3D1640668925%26sprefix%3Dguitar%252Caps%252C1366%26sr%3D8-1-spons%26psc%3D1&qualifier=1640668925&id=8374438908539812&widgetName=sp_atf',\n",
       " 'https://www.amazon.in/gp/slredirect/picassoRedirect.html/ref=pa_sp_atf_aps_sr_pg1_1?ie=UTF8&adId=A100976119ONHKLJMFAMG&url=%2FKadence-Slowhand-Premium-Acoustic-Instrument%2Fdp%2FB077SZ667X%2Fref%3Dsr_1_2_sspa%3Fcrid%3D2ELYOKIFT5ZUI%26keywords%3Dguitar%26qid%3D1640668925%26sprefix%3Dguitar%252Caps%252C1366%26sr%3D8-2-spons%26psc%3D1%26smid%3DAM04Z7MH4HSDD&qualifier=1640668925&id=8374438908539812&widgetName=sp_atf',\n",
       " 'https://www.amazon.in/gp/slredirect/picassoRedirect.html/ref=pa_sp_atf_aps_sr_pg1_1?ie=UTF8&adId=A00547791XCM5N3Y9O4JP&url=%2FKadence-Acoustica-Ash-Wood-Equlizer%2Fdp%2FB0757H5P13%2Fref%3Dsr_1_3_sspa%3Fcrid%3D2ELYOKIFT5ZUI%26keywords%3Dguitar%26qid%3D1640668925%26sprefix%3Dguitar%252Caps%252C1366%26sr%3D8-3-spons%26psc%3D1%26smid%3DAM04Z7MH4HSDD&qualifier=1640668925&id=8374438908539812&widgetName=sp_atf',\n",
       " 'https://www.amazon.in/gp/slredirect/picassoRedirect.html/ref=pa_sp_atf_aps_sr_pg1_1?ie=UTF8&adId=A061107531TUGN5RHMV0N&url=%2FKadence-Frontier-Acoustic-Guitar-Strings%2Fdp%2FB01GDZ46AA%2Fref%3Dsr_1_4_sspa%3Fcrid%3D2ELYOKIFT5ZUI%26keywords%3Dguitar%26qid%3D1640668925%26sprefix%3Dguitar%252Caps%252C1366%26sr%3D8-4-spons%26psc%3D1&qualifier=1640668925&id=8374438908539812&widgetName=sp_atf',\n",
       " 'https://www.amazon.in/Juarez-Acoustic-Cutaway-038C-Strings/dp/B017NPCSLI/ref=sr_1_5?crid=2ELYOKIFT5ZUI&keywords=guitar&qid=1640668925&sprefix=guitar%2Caps%2C1366&sr=8-5',\n",
       " 'https://www.amazon.in/Intern-INT-38C-Acoustic-Guitar-Black/dp/B073B6TQQY/ref=sr_1_6?crid=2ELYOKIFT5ZUI&keywords=guitar&qid=1640668925&sprefix=guitar%2Caps%2C1366&sr=8-6',\n",
       " 'https://www.amazon.in/Juarez-Acoustic-Guitar-Cutaway-Strings/dp/B076QHZ4HZ/ref=sr_1_7?crid=2ELYOKIFT5ZUI&keywords=guitar&qid=1640668925&sprefix=guitar%2Caps%2C1366&sr=8-7',\n",
       " 'https://www.amazon.in/JUAREZ-JRZ38C-Acoustic-Sunburst-Strings/dp/B01FYYTDS6/ref=sr_1_8?crid=2ELYOKIFT5ZUI&keywords=guitar&qid=1640668925&sprefix=guitar%2Caps%2C1366&sr=8-8',\n",
       " 'https://www.amazon.in/Acoustic-Cutaway-RDS-Strings-Sunburst/dp/B076QGY91P/ref=sr_1_9?crid=2ELYOKIFT5ZUI&keywords=guitar&qid=1640668925&sprefix=guitar%2Caps%2C1366&sr=8-9',\n",
       " 'https://www.amazon.in/Intern-INT-38C-Natural-Acoustic-Guitar/dp/B07X4LPJ6H/ref=sr_1_10?crid=2ELYOKIFT5ZUI&keywords=guitar&qid=1640668925&sprefix=guitar%2Caps%2C1366&sr=8-10',\n",
       " 'https://www.amazon.in/JUAREZ-JRZ38C-Acoustic-Sunburst-Strings/dp/B01FYYTDTU/ref=sr_1_11?crid=2ELYOKIFT5ZUI&keywords=guitar&qid=1640668925&sprefix=guitar%2Caps%2C1366&sr=8-11',\n",
       " 'https://www.amazon.in/Juarez-Acoustic-Guitar-Cutaway-Strings/dp/B075XMRKMY/ref=sr_1_12?crid=2ELYOKIFT5ZUI&keywords=guitar&qid=1640668925&sprefix=guitar%2Caps%2C1366&sr=8-12',\n",
       " 'https://www.amazon.in/Kadence-Frontier-Acoustic-Guitar-Strings/dp/B078GTJP5Y/ref=sr_1_13?crid=2ELYOKIFT5ZUI&keywords=guitar&qid=1640668925&sprefix=guitar%2Caps%2C1366&sr=8-13',\n",
       " 'https://www.amazon.in/Ju%C3%A2rez-JRZ38C-WH-Strings-Acoustic/dp/B072MFK4L6/ref=sr_1_14?crid=2ELYOKIFT5ZUI&keywords=guitar&qid=1640668925&sprefix=guitar%2Caps%2C1366&sr=8-14',\n",
       " 'https://www.amazon.in/Rosewood-Fretboard-Acoustic-Strings-K-Retail/dp/B07KLG8C4P/ref=sr_1_15?crid=2ELYOKIFT5ZUI&keywords=guitar&qid=1640668925&sprefix=guitar%2Caps%2C1366&sr=8-15',\n",
       " 'https://www.amazon.in/Intern-INT-38C-BLS-G-Guitar-Kit-Blue/dp/B07K8YXTNW/ref=sr_1_16?crid=2ELYOKIFT5ZUI&keywords=guitar&qid=1640668925&sprefix=guitar%2Caps%2C1366&sr=8-16',\n",
       " 'https://www.amazon.in/Henrix-Acoustic-Guitar-Die-cast-Dual-action/dp/B07VNDW6QF/ref=sr_1_17?crid=2ELYOKIFT5ZUI&keywords=guitar&qid=1640668925&sprefix=guitar%2Caps%2C1366&sr=8-17',\n",
       " 'https://www.amazon.in/Kadence-Frontier-Acoustic-Guitar-Strings/dp/B01GDZ46AA/ref=sr_1_18?crid=2ELYOKIFT5ZUI&keywords=guitar&qid=1640668925&sprefix=guitar%2Caps%2C1366&sr=8-18',\n",
       " 'https://www.amazon.in/JUAREZ-JRZ38C-Handed-Acoustic-Strings/dp/B01FYYTDW2/ref=sr_1_19?crid=2ELYOKIFT5ZUI&keywords=guitar&qid=1640668925&sprefix=guitar%2Caps%2C1366&sr=8-19',\n",
       " 'https://www.amazon.in/Kordz-Luana-Natural-Rosewood-Fretboard/dp/B07V4Y1V9M/ref=sr_1_20?crid=2ELYOKIFT5ZUI&keywords=guitar&qid=1640668925&sprefix=guitar%2Caps%2C1366&sr=8-20',\n",
       " 'https://www.amazon.in/gp/slredirect/picassoRedirect.html/ref=pa_sp_mtf_aps_sr_pg1_1?ie=UTF8&adId=A02397962VEX1S66AA5PX&url=%2FVault-ST1-Premium-Electric-Guitar%2Fdp%2FB09GLYSJ8W%2Fref%3Dsr_1_21_sspa%3Fcrid%3D2ELYOKIFT5ZUI%26keywords%3Dguitar%26qid%3D1640668925%26sprefix%3Dguitar%252Caps%252C1366%26sr%3D8-21-spons%26psc%3D1&qualifier=1640668925&id=8374438908539812&widgetName=sp_mtf',\n",
       " 'https://www.amazon.in/gp/slredirect/picassoRedirect.html/ref=pa_sp_mtf_aps_sr_pg1_1?ie=UTF8&adId=A09610753VGW0EUUEOMBV&url=%2FPremium-Spruce-Top-Cutaway-Acoustic-Guitar%2Fdp%2FB08FFZY6BJ%2Fref%3Dsr_1_22_sspa%3Fcrid%3D2ELYOKIFT5ZUI%26keywords%3Dguitar%26qid%3D1640668925%26sprefix%3Dguitar%252Caps%252C1366%26sr%3D8-22-spons%26psc%3D1&qualifier=1640668925&id=8374438908539812&widgetName=sp_mtf',\n",
       " 'https://www.amazon.in/gp/slredirect/picassoRedirect.html/ref=pa_sp_mtf_aps_sr_pg1_1?ie=UTF8&adId=A0781470356P60BY9NFAO&url=%2FHOMME-STORE-Instrument-Educational-Instruments%2Fdp%2FB09MM9NBZC%2Fref%3Dsr_1_23_sspa%3Fcrid%3D2ELYOKIFT5ZUI%26keywords%3Dguitar%26qid%3D1640668925%26sprefix%3Dguitar%252Caps%252C1366%26sr%3D8-23-spons%26psc%3D1&qualifier=1640668925&id=8374438908539812&widgetName=sp_mtf',\n",
       " 'https://www.amazon.in/gp/slredirect/picassoRedirect.html/ref=pa_sp_mtf_aps_sr_pg1_1?ie=UTF8&adId=A0115848V6MGP80V427Y&url=%2FBlueberry-Acoustic-Guitar-Strings-Picks%2Fdp%2FB08L51YW38%2Fref%3Dsr_1_24_sspa%3Fcrid%3D2ELYOKIFT5ZUI%26keywords%3Dguitar%26qid%3D1640668925%26sprefix%3Dguitar%252Caps%252C1366%26sr%3D8-24-spons%26psc%3D1&qualifier=1640668925&id=8374438908539812&widgetName=sp_mtf',\n",
       " 'https://www.amazon.in/MEOL-Guitar-4-String-Acoustic-Inches/dp/B08SC5K8R7/ref=sr_1_25?crid=2ELYOKIFT5ZUI&keywords=guitar&qid=1640668925&sprefix=guitar%2Caps%2C1366&sr=8-25',\n",
       " 'https://www.amazon.in/Henrix-Acoustic-Guitar-Die-cast-Dual-action/dp/B07VHRWV4R/ref=sr_1_26?crid=2ELYOKIFT5ZUI&keywords=guitar&qid=1640668925&sprefix=guitar%2Caps%2C1366&sr=8-26',\n",
       " 'https://www.amazon.in/YAMAHA-NATURAL-CONCERT-CUTAWAY-GUITAR/dp/B08KW4DRKL/ref=sr_1_27?crid=2ELYOKIFT5ZUI&keywords=guitar&qid=1640668925&sprefix=guitar%2Caps%2C1366&sr=8-27',\n",
       " 'https://www.amazon.in/Juarez-Acoustic-Cutaway-BK-Strings/dp/B076T3RHMG/ref=sr_1_28?crid=2ELYOKIFT5ZUI&keywords=guitar&qid=1640668925&sprefix=guitar%2Caps%2C1366&sr=8-28',\n",
       " 'https://www.amazon.in/Yamaha-Acoustic-Guitar-Tobacco-Sunburst/dp/B08VXR74Q2/ref=sr_1_29?crid=2ELYOKIFT5ZUI&keywords=guitar&qid=1640668925&sprefix=guitar%2Caps%2C1366&sr=8-29',\n",
       " 'https://www.amazon.in/JUAREZ-JRZ38CTR-BK-Acoustic-Guitar/dp/B08FTZK7H8/ref=sr_1_30?crid=2ELYOKIFT5ZUI&keywords=guitar&qid=1640668925&sprefix=guitar%2Caps%2C1366&sr=8-30',\n",
       " 'https://www.amazon.in/Acoustic-Strings-Rosette-Rosewood-Fretboard/dp/B09FPQX7RN/ref=sr_1_31?crid=2ELYOKIFT5ZUI&keywords=guitar&qid=1640668925&sprefix=guitar%2Caps%2C1366&sr=8-31',\n",
       " 'https://www.amazon.in/Medellin-Acoustic-specailized-learning-beginners/dp/B09MSKKHJC/ref=sr_1_32?crid=2ELYOKIFT5ZUI&keywords=guitar&qid=1640668925&sprefix=guitar%2Caps%2C1366&sr=8-32',\n",
       " 'https://www.amazon.in/Giuson-Venus-Metallic-Black-Acoustic/dp/B08LMWMGLJ/ref=sr_1_33?crid=2ELYOKIFT5ZUI&keywords=guitar&qid=1640668925&sprefix=guitar%2Caps%2C1366&sr=8-33',\n",
       " 'https://www.amazon.in/CARTIFY-4-string-acoustic-learning-18-Multi/dp/B096K5S6BB/ref=sr_1_34?crid=2ELYOKIFT5ZUI&keywords=guitar&qid=1640668925&sprefix=guitar%2Caps%2C1366&sr=8-34',\n",
       " 'https://www.amazon.in/Medellin-Acoustic-specailized-learning-beginners/dp/B09MSGPQ43/ref=sr_1_35?crid=2ELYOKIFT5ZUI&keywords=guitar&qid=1640668925&sprefix=guitar%2Caps%2C1366&sr=8-35',\n",
       " 'https://www.amazon.in/DOMENICO-4-String-Acoustic-Instrument-Learning/dp/B09M9VKRK8/ref=sr_1_36?crid=2ELYOKIFT5ZUI&keywords=guitar&qid=1640668925&sprefix=guitar%2Caps%2C1366&sr=8-36',\n",
       " 'https://www.amazon.in/KREEPO-Fretboard-Fingerboard-Acoustic-Electric-Multicolor/dp/B09DWY4ZK2/ref=sr_1_37?crid=2ELYOKIFT5ZUI&keywords=guitar&qid=1640668925&sprefix=guitar%2Caps%2C1366&sr=8-37',\n",
       " 'https://www.amazon.in/Techblaze-Strings-Changing-Multicolored-Acoustic/dp/B08L64C7LX/ref=sr_1_38?crid=2ELYOKIFT5ZUI&keywords=guitar&qid=1640668925&sprefix=guitar%2Caps%2C1366&sr=8-38',\n",
       " 'https://www.amazon.in/HRB-MUSICALS-Guitar-black-fitting/dp/B08KHS1F99/ref=sr_1_39?crid=2ELYOKIFT5ZUI&keywords=guitar&qid=1640668925&sprefix=guitar%2Caps%2C1366&sr=8-39',\n",
       " 'https://www.amazon.in/MUSICALS%C2%AE-Guitar-Including-Strings-remover/dp/B082Q6C28F/ref=sr_1_40?crid=2ELYOKIFT5ZUI&keywords=guitar&qid=1640668925&sprefix=guitar%2Caps%2C1366&sr=8-40',\n",
       " 'https://www.amazon.in/Yamaha-Acoustic-Guitar-Tobacco-Sunburst/dp/B08Z35ZR9Y/ref=sr_1_41?crid=2ELYOKIFT5ZUI&keywords=guitar&qid=1640668925&sprefix=guitar%2Caps%2C1366&sr=8-41',\n",
       " 'https://www.amazon.in/Belear-MJT-Acoustic-Guitar-Action/dp/B09CTGLVVD/ref=sr_1_42?crid=2ELYOKIFT5ZUI&keywords=guitar&qid=1640668925&sprefix=guitar%2Caps%2C1366&sr=8-42',\n",
       " 'https://www.amazon.in/Strings-Straps-String-winder-Polishing/dp/B07RV9FJ2Z/ref=sr_1_43?crid=2ELYOKIFT5ZUI&keywords=guitar&qid=1640668925&sprefix=guitar%2Caps%2C1366&sr=8-43',\n",
       " 'https://www.amazon.in/JRZ38C-Strings-Acoustic-Cutaway-Mahogany/dp/B071JM8C6T/ref=sr_1_44?crid=2ELYOKIFT5ZUI&keywords=guitar&qid=1640668925&sprefix=guitar%2Caps%2C1366&sr=8-44',\n",
       " 'https://www.amazon.in/VD-ENTERPRISE-Adjustable-Classical-Instrument/dp/B08S323L6W/ref=sr_1_45?crid=2ELYOKIFT5ZUI&keywords=guitar&qid=1640668925&sprefix=guitar%2Caps%2C1366&sr=8-45',\n",
       " 'https://www.amazon.in/DAddario-EZ900-Acoustic-Guitar-Strings/dp/B016BPK3QI/ref=sr_1_46?crid=2ELYOKIFT5ZUI&keywords=guitar&qid=1640668925&sprefix=guitar%2Caps%2C1366&sr=8-46',\n",
       " 'https://www.amazon.in/Medellin-Acoustic-learning-MDCF38BK-beginners/dp/B09MSGQQWX/ref=sr_1_47?crid=2ELYOKIFT5ZUI&keywords=guitar&qid=1640668925&sprefix=guitar%2Caps%2C1366&sr=8-47',\n",
       " 'https://www.amazon.in/Haibing-Portable-Trainer-Practice-Beginner/dp/B09N8SML5N/ref=sr_1_48?crid=2ELYOKIFT5ZUI&keywords=guitar&qid=1640668925&sprefix=guitar%2Caps%2C1366&sr=8-48',\n",
       " 'https://www.amazon.in/Ketostics-Givson-Special-Acoustic-Plectrums/dp/B09P5283WM/ref=sr_1_49?crid=2ELYOKIFT5ZUI&keywords=guitar&qid=1640668925&sprefix=guitar%2Caps%2C1366&sr=8-49',\n",
       " 'https://www.amazon.in/Kadence-Acoustica-Acoustic-Guitar-Zebra/dp/B07KXNKLJ2/ref=sr_1_50?crid=2ELYOKIFT5ZUI&keywords=guitar&qid=1640668925&sprefix=guitar%2Caps%2C1366&sr=8-50',\n",
       " 'https://www.amazon.in/Mustang-Strings-Changing-Including-Beginner/dp/B07S19LGLR/ref=sr_1_51?crid=2ELYOKIFT5ZUI&keywords=guitar&qid=1640668925&sprefix=guitar%2Caps%2C1366&sr=8-51',\n",
       " 'https://www.amazon.in/Musical-String-Acoustic-Guitar-Finished/dp/B08W4JGP4B/ref=sr_1_52?crid=2ELYOKIFT5ZUI&keywords=guitar&qid=1640668925&sprefix=guitar%2Caps%2C1366&sr=8-52',\n",
       " 'https://www.amazon.in/Blueberry-B-D38-Acoustic-Inbuilt-Strings/dp/B07PGV8VCB/ref=sr_1_53?crid=2ELYOKIFT5ZUI&keywords=guitar&qid=1640668925&sprefix=guitar%2Caps%2C1366&sr=8-53',\n",
       " 'https://www.amazon.in/Kordz-Rosewood-Fretboard-Acoustic-Strings/dp/B09KGH7M5Q/ref=sr_1_54?crid=2ELYOKIFT5ZUI&keywords=guitar&qid=1640668925&sprefix=guitar%2Caps%2C1366&sr=8-54',\n",
       " 'https://www.amazon.in/Yamaha-FS-100C-6-String-Acoustic-without/dp/B00PAS9CK6/ref=sr_1_55?crid=2ELYOKIFT5ZUI&keywords=guitar&qid=1640668925&sprefix=guitar%2Caps%2C1366&sr=8-55',\n",
       " 'https://www.amazon.in/Crizer-Childrens-Instrument-Educational-Instruments/dp/B08R7J8LLM/ref=sr_1_56?crid=2ELYOKIFT5ZUI&keywords=guitar&qid=1640668925&sprefix=guitar%2Caps%2C1366&sr=8-56',\n",
       " 'https://www.amazon.in/gp/slredirect/picassoRedirect.html/ref=pa_sp_btf_aps_sr_pg1_1?ie=UTF8&adId=A09973261WA62YRALFVDD&url=%2FBlueberry-Acoustic-Guitar-inbuilt-Truss-rod%2Fdp%2FB08T8HW3K7%2Fref%3Dsr_1_57_sspa%3Fcrid%3D2ELYOKIFT5ZUI%26keywords%3Dguitar%26qid%3D1640668925%26sprefix%3Dguitar%252Caps%252C1366%26sr%3D8-57-spons%26psc%3D1&qualifier=1640668925&id=8374438908539812&widgetName=sp_btf',\n",
       " 'https://www.amazon.in/gp/slredirect/picassoRedirect.html/ref=pa_sp_btf_aps_sr_pg1_1?ie=UTF8&adId=A08790022Y5TKL7GOFMBU&url=%2FCort-AD810-Dreadnought-Acoustic-Guitar%2Fdp%2FB07KMBVR6V%2Fref%3Dsr_1_58_sspa%3Fcrid%3D2ELYOKIFT5ZUI%26keywords%3Dguitar%26qid%3D1640668925%26sprefix%3Dguitar%252Caps%252C1366%26sr%3D8-58-spons%26psc%3D1&qualifier=1640668925&id=8374438908539812&widgetName=sp_btf',\n",
       " 'https://www.amazon.in/gp/slredirect/picassoRedirect.html/ref=pa_sp_btf_aps_sr_pg1_1?ie=UTF8&adId=A04962872RQUCIOPVZ12N&url=%2FBlueberry-B-D38-Acoustic-Inbuilt-Strings%2Fdp%2FB07PHYZZP1%2Fref%3Dsr_1_59_sspa%3Fcrid%3D2ELYOKIFT5ZUI%26keywords%3Dguitar%26qid%3D1640668925%26sprefix%3Dguitar%252Caps%252C1366%26sr%3D8-59-spons%26psc%3D1&qualifier=1640668925&id=8374438908539812&widgetName=sp_btf',\n",
       " 'https://www.amazon.in/gp/slredirect/picassoRedirect.html/ref=pa_sp_btf_aps_sr_pg1_1?ie=UTF8&adId=A06073413QIU7ZFDW6SD7&url=%2FVD-ENTERPRISE-Adjustable-Classical-Instrument%2Fdp%2FB08S323L6W%2Fref%3Dsr_1_60_sspa%3Fcrid%3D2ELYOKIFT5ZUI%26keywords%3Dguitar%26qid%3D1640668925%26sprefix%3Dguitar%252Caps%252C1366%26sr%3D8-60-spons%26psc%3D1&qualifier=1640668925&id=8374438908539812&widgetName=sp_btf']"
      ]
     },
     "execution_count": 14,
     "metadata": {},
     "output_type": "execute_result"
    }
   ],
   "source": [
    "urls"
   ]
  },
  {
   "cell_type": "code",
   "execution_count": 15,
   "metadata": {},
   "outputs": [],
   "source": [
    "#defining variables\n",
    "Brand_Name=[]\n",
    "Price=[]\n",
    "Return=[]\n",
    "Expected_Delivery=[]\n",
    "Availability=[]\n"
   ]
  },
  {
   "cell_type": "code",
   "execution_count": 16,
   "metadata": {},
   "outputs": [],
   "source": [
    "for i in urls:\n",
    "    driver.get(i)\n",
    "    time.sleep(4)\n",
    "    #fetching brand details\n",
    "    try:\n",
    "        brand=driver.find_element_by_xpath(\"//span[@class='a-size-base-plus a-color-base a-text-normal']\")\n",
    "        Brand_Name.append(brand.text.replace(\"/n\",\"new line\"))\n",
    "    except:\n",
    "        Brand_Name.append('-')\n",
    "    #fetching product details\n",
    "    try:\n",
    "        pp=driver.find_element_by_xpath(\"//a[@class='a-size-base a-link-normal s-link-style a-text-normal']\")\n",
    "        Price.append(pp.text.replace(\"/n\",\"new line\"))\n",
    "    except:\n",
    "        Price.append('-')"
   ]
  },
  {
   "cell_type": "code",
   "execution_count": 20,
   "metadata": {},
   "outputs": [
    {
     "data": {
      "text/plain": [
       "['-',\n",
       " '-',\n",
       " '-',\n",
       " '-',\n",
       " '-',\n",
       " '-',\n",
       " '-',\n",
       " '-',\n",
       " '-',\n",
       " '-',\n",
       " '-',\n",
       " '-',\n",
       " '-',\n",
       " '-',\n",
       " '-',\n",
       " '-',\n",
       " '-',\n",
       " '-',\n",
       " '-',\n",
       " '-',\n",
       " '-',\n",
       " '-',\n",
       " '-',\n",
       " '-',\n",
       " '-',\n",
       " '-',\n",
       " '-',\n",
       " '-',\n",
       " '-',\n",
       " '-',\n",
       " '-',\n",
       " '-',\n",
       " '-',\n",
       " '-',\n",
       " '-',\n",
       " '-',\n",
       " '-',\n",
       " '-',\n",
       " '-',\n",
       " '-',\n",
       " '-',\n",
       " '-',\n",
       " '-',\n",
       " '-',\n",
       " '-',\n",
       " '-',\n",
       " '-',\n",
       " '-',\n",
       " '-',\n",
       " '-',\n",
       " '-',\n",
       " '-',\n",
       " '-',\n",
       " '-',\n",
       " '-',\n",
       " '-',\n",
       " '-',\n",
       " '-',\n",
       " '-',\n",
       " '-']"
      ]
     },
     "execution_count": 20,
     "metadata": {},
     "output_type": "execute_result"
    }
   ],
   "source": [
    "Brand_Name"
   ]
  },
  {
   "cell_type": "code",
   "execution_count": 21,
   "metadata": {},
   "outputs": [
    {
     "data": {
      "text/plain": [
       "['-',\n",
       " '-',\n",
       " '-',\n",
       " '-',\n",
       " '-',\n",
       " '-',\n",
       " '-',\n",
       " '-',\n",
       " '-',\n",
       " '-',\n",
       " '-',\n",
       " '-',\n",
       " '-',\n",
       " '-',\n",
       " '-',\n",
       " '-',\n",
       " '-',\n",
       " '-',\n",
       " '-',\n",
       " '-',\n",
       " '-',\n",
       " '-',\n",
       " '-',\n",
       " '-',\n",
       " '-',\n",
       " '-',\n",
       " '-',\n",
       " '-',\n",
       " '-',\n",
       " '-',\n",
       " '-',\n",
       " '-',\n",
       " '-',\n",
       " '-',\n",
       " '-',\n",
       " '-',\n",
       " '-',\n",
       " '-',\n",
       " '-',\n",
       " '-',\n",
       " '-',\n",
       " '-',\n",
       " '-',\n",
       " '-',\n",
       " '-',\n",
       " '-',\n",
       " '-',\n",
       " '-',\n",
       " '-',\n",
       " '-',\n",
       " '-',\n",
       " '-',\n",
       " '-',\n",
       " '-',\n",
       " '-',\n",
       " '-',\n",
       " '-',\n",
       " '-',\n",
       " '-',\n",
       " '-']"
      ]
     },
     "execution_count": 21,
     "metadata": {},
     "output_type": "execute_result"
    }
   ],
   "source": [
    "Price"
   ]
  },
  {
   "cell_type": "markdown",
   "metadata": {},
   "source": [
    "Q3. Write a python program to access the search bar and search button on images.google.com and scrape 10 images each for keywords 'fruits','cars' and 'Machine Learning','Guitar','Cakes'."
   ]
  },
  {
   "cell_type": "code",
   "execution_count": 1,
   "metadata": {},
   "outputs": [],
   "source": [
    "import pandas as pd\n",
    "\n",
    "import selenium\n",
    "from selenium import webdriver\n",
    "import time\n",
    "from selenium.common.exceptions import ElementClickInterceptedException  #Import Exception\n",
    "import warnings\n",
    "warnings.filterwarnings('ignore')"
   ]
  },
  {
   "cell_type": "code",
   "execution_count": 2,
   "metadata": {},
   "outputs": [],
   "source": [
    "driver= webdriver.Chrome(r\"C:/Users/Suncity/Downloads/chromedriver_win32/chromedriver.exe\")\n",
    "driver.get(\"https://www.google.com/imghp?hl=en\")"
   ]
  },
  {
   "cell_type": "code",
   "execution_count": 7,
   "metadata": {},
   "outputs": [],
   "source": [
    "#finding image of car\n",
    "search_items=driver.find_element_by_xpath(\"//input[@class='gLFyf gsfi']\")\n",
    "search_items.send_keys(\"Car\")"
   ]
  },
  {
   "cell_type": "code",
   "execution_count": 8,
   "metadata": {},
   "outputs": [],
   "source": [
    "search_btn=driver.find_element_by_xpath(\"//span[@class='z1asCe MZy1Rb']\")\n",
    "search_btn.click()"
   ]
  },
  {
   "cell_type": "code",
   "execution_count": 9,
   "metadata": {},
   "outputs": [],
   "source": [
    "#locate the images to be scraped from the current page\n",
    "imgcar=driver.find_elements_by_xpath(\"//img[@class='rg_i Q4LuWd']\")"
   ]
  },
  {
   "cell_type": "code",
   "execution_count": 10,
   "metadata": {},
   "outputs": [
    {
     "data": {
      "text/plain": [
       "[<selenium.webdriver.remote.webelement.WebElement (session=\"35f7236b7fe98aa89651461295fb5dd6\", element=\"9e7d6123-c6ac-448f-9d18-ae25306eb680\")>,\n",
       " <selenium.webdriver.remote.webelement.WebElement (session=\"35f7236b7fe98aa89651461295fb5dd6\", element=\"4bd67aaf-1129-4a9d-a4a3-bc0c45370f75\")>,\n",
       " <selenium.webdriver.remote.webelement.WebElement (session=\"35f7236b7fe98aa89651461295fb5dd6\", element=\"882958cd-0081-441f-a216-0c43d4dc09fb\")>,\n",
       " <selenium.webdriver.remote.webelement.WebElement (session=\"35f7236b7fe98aa89651461295fb5dd6\", element=\"8d40f9af-43e2-4c58-afe3-45d9108c91ef\")>,\n",
       " <selenium.webdriver.remote.webelement.WebElement (session=\"35f7236b7fe98aa89651461295fb5dd6\", element=\"f6288689-abda-4c59-9956-55936e6267e5\")>,\n",
       " <selenium.webdriver.remote.webelement.WebElement (session=\"35f7236b7fe98aa89651461295fb5dd6\", element=\"013402aa-dddb-4ca1-aad7-e5a17051aee8\")>,\n",
       " <selenium.webdriver.remote.webelement.WebElement (session=\"35f7236b7fe98aa89651461295fb5dd6\", element=\"65843b35-ebdf-4030-8653-180bffbc76cd\")>,\n",
       " <selenium.webdriver.remote.webelement.WebElement (session=\"35f7236b7fe98aa89651461295fb5dd6\", element=\"cffec12d-ad7c-496c-870b-3cc8726788d8\")>,\n",
       " <selenium.webdriver.remote.webelement.WebElement (session=\"35f7236b7fe98aa89651461295fb5dd6\", element=\"5f3519dc-b36a-4556-92dd-08da0ab4c521\")>,\n",
       " <selenium.webdriver.remote.webelement.WebElement (session=\"35f7236b7fe98aa89651461295fb5dd6\", element=\"862b7275-62f8-4c97-a0fd-e7af99570120\")>,\n",
       " <selenium.webdriver.remote.webelement.WebElement (session=\"35f7236b7fe98aa89651461295fb5dd6\", element=\"71b47183-1de2-4b35-a4ad-d0bb9a30bb86\")>,\n",
       " <selenium.webdriver.remote.webelement.WebElement (session=\"35f7236b7fe98aa89651461295fb5dd6\", element=\"7a74b7cc-9275-4dca-bbc6-973d0d8e031a\")>,\n",
       " <selenium.webdriver.remote.webelement.WebElement (session=\"35f7236b7fe98aa89651461295fb5dd6\", element=\"ae41b655-4509-4c0c-b55b-21e45980459e\")>,\n",
       " <selenium.webdriver.remote.webelement.WebElement (session=\"35f7236b7fe98aa89651461295fb5dd6\", element=\"7c5a4a40-e8bc-4290-af81-66de87d6a3fd\")>,\n",
       " <selenium.webdriver.remote.webelement.WebElement (session=\"35f7236b7fe98aa89651461295fb5dd6\", element=\"d3893ba1-643d-4717-87a3-fa61470ad975\")>,\n",
       " <selenium.webdriver.remote.webelement.WebElement (session=\"35f7236b7fe98aa89651461295fb5dd6\", element=\"2e28f82b-2476-4cdc-be2f-f54df563bdf1\")>,\n",
       " <selenium.webdriver.remote.webelement.WebElement (session=\"35f7236b7fe98aa89651461295fb5dd6\", element=\"10b3e7ff-086b-4554-bdd7-3efb54bdcee4\")>,\n",
       " <selenium.webdriver.remote.webelement.WebElement (session=\"35f7236b7fe98aa89651461295fb5dd6\", element=\"678af2a9-cc5d-4acf-bd00-98be4662c087\")>,\n",
       " <selenium.webdriver.remote.webelement.WebElement (session=\"35f7236b7fe98aa89651461295fb5dd6\", element=\"0916c739-737c-40ad-91c6-ea726e936cd8\")>,\n",
       " <selenium.webdriver.remote.webelement.WebElement (session=\"35f7236b7fe98aa89651461295fb5dd6\", element=\"5fdf3128-2275-4051-8688-fb78f0ec0528\")>,\n",
       " <selenium.webdriver.remote.webelement.WebElement (session=\"35f7236b7fe98aa89651461295fb5dd6\", element=\"08fec9c5-9a25-45b2-b5b8-88d0a88ff302\")>,\n",
       " <selenium.webdriver.remote.webelement.WebElement (session=\"35f7236b7fe98aa89651461295fb5dd6\", element=\"2f822a0a-4ee1-4dde-8614-dc92cf8791e1\")>,\n",
       " <selenium.webdriver.remote.webelement.WebElement (session=\"35f7236b7fe98aa89651461295fb5dd6\", element=\"77187f9c-a059-41e0-ba3a-7c4126b07b9e\")>,\n",
       " <selenium.webdriver.remote.webelement.WebElement (session=\"35f7236b7fe98aa89651461295fb5dd6\", element=\"5334b5b1-e042-4370-93ac-6164f823c4c1\")>,\n",
       " <selenium.webdriver.remote.webelement.WebElement (session=\"35f7236b7fe98aa89651461295fb5dd6\", element=\"dcf33fc4-f2b5-44f8-b8ef-9db84f19697e\")>,\n",
       " <selenium.webdriver.remote.webelement.WebElement (session=\"35f7236b7fe98aa89651461295fb5dd6\", element=\"2a01f02f-905a-4fee-b9fd-f7c077f3f6a1\")>,\n",
       " <selenium.webdriver.remote.webelement.WebElement (session=\"35f7236b7fe98aa89651461295fb5dd6\", element=\"40cb6580-02ed-43bf-9386-846fb96f4c7b\")>,\n",
       " <selenium.webdriver.remote.webelement.WebElement (session=\"35f7236b7fe98aa89651461295fb5dd6\", element=\"a5917565-3809-43a6-8bc0-641145a373fa\")>,\n",
       " <selenium.webdriver.remote.webelement.WebElement (session=\"35f7236b7fe98aa89651461295fb5dd6\", element=\"c9943c2a-5ce3-4c97-b783-4213f24aebd0\")>,\n",
       " <selenium.webdriver.remote.webelement.WebElement (session=\"35f7236b7fe98aa89651461295fb5dd6\", element=\"f6af0894-23fe-41f3-bdf7-3538f178285c\")>,\n",
       " <selenium.webdriver.remote.webelement.WebElement (session=\"35f7236b7fe98aa89651461295fb5dd6\", element=\"aa2c556b-7528-4eea-bf76-a1f29357cc8b\")>,\n",
       " <selenium.webdriver.remote.webelement.WebElement (session=\"35f7236b7fe98aa89651461295fb5dd6\", element=\"93e78ac6-4d18-4d99-834d-c710b03a8e87\")>,\n",
       " <selenium.webdriver.remote.webelement.WebElement (session=\"35f7236b7fe98aa89651461295fb5dd6\", element=\"c22644d8-f6f8-4d07-be52-dc922aa0cc44\")>,\n",
       " <selenium.webdriver.remote.webelement.WebElement (session=\"35f7236b7fe98aa89651461295fb5dd6\", element=\"44d86371-ae38-4797-8d0a-78d282a5573e\")>,\n",
       " <selenium.webdriver.remote.webelement.WebElement (session=\"35f7236b7fe98aa89651461295fb5dd6\", element=\"73d683ae-ea3d-4630-b504-e67a3a0b8f4d\")>,\n",
       " <selenium.webdriver.remote.webelement.WebElement (session=\"35f7236b7fe98aa89651461295fb5dd6\", element=\"e29675c6-9523-4437-9dc4-a2540bbab4e1\")>,\n",
       " <selenium.webdriver.remote.webelement.WebElement (session=\"35f7236b7fe98aa89651461295fb5dd6\", element=\"3ad6c4d1-7547-4980-bf9b-8ee44c0c1a8a\")>,\n",
       " <selenium.webdriver.remote.webelement.WebElement (session=\"35f7236b7fe98aa89651461295fb5dd6\", element=\"cdb29915-0dd0-44e1-b550-92d8cd3b6f7d\")>,\n",
       " <selenium.webdriver.remote.webelement.WebElement (session=\"35f7236b7fe98aa89651461295fb5dd6\", element=\"f1b8fd76-3d2b-4445-9b98-81b992a54795\")>,\n",
       " <selenium.webdriver.remote.webelement.WebElement (session=\"35f7236b7fe98aa89651461295fb5dd6\", element=\"da71ad30-5d31-474b-add8-0ba5048b8d2f\")>,\n",
       " <selenium.webdriver.remote.webelement.WebElement (session=\"35f7236b7fe98aa89651461295fb5dd6\", element=\"755f39fd-40c3-4700-b1d6-cdaffc629851\")>,\n",
       " <selenium.webdriver.remote.webelement.WebElement (session=\"35f7236b7fe98aa89651461295fb5dd6\", element=\"7096331e-883d-44d8-a735-318089764243\")>,\n",
       " <selenium.webdriver.remote.webelement.WebElement (session=\"35f7236b7fe98aa89651461295fb5dd6\", element=\"9aa5dead-5218-4e31-b869-b34567bd8d3a\")>,\n",
       " <selenium.webdriver.remote.webelement.WebElement (session=\"35f7236b7fe98aa89651461295fb5dd6\", element=\"657ddeb1-4714-483e-8d5c-cccfa95da72a\")>,\n",
       " <selenium.webdriver.remote.webelement.WebElement (session=\"35f7236b7fe98aa89651461295fb5dd6\", element=\"406bd507-f1fb-40c3-9619-dc4041058595\")>,\n",
       " <selenium.webdriver.remote.webelement.WebElement (session=\"35f7236b7fe98aa89651461295fb5dd6\", element=\"6e55d86c-4a20-4526-a1b2-5bd57ad77f0f\")>,\n",
       " <selenium.webdriver.remote.webelement.WebElement (session=\"35f7236b7fe98aa89651461295fb5dd6\", element=\"85c23d33-2cf6-4972-aef2-55cf02ed5a59\")>,\n",
       " <selenium.webdriver.remote.webelement.WebElement (session=\"35f7236b7fe98aa89651461295fb5dd6\", element=\"39e6c177-e043-47fa-a491-d9938664af39\")>]"
      ]
     },
     "execution_count": 10,
     "metadata": {},
     "output_type": "execute_result"
    }
   ],
   "source": [
    "imgcar"
   ]
  },
  {
   "cell_type": "code",
   "execution_count": 11,
   "metadata": {},
   "outputs": [],
   "source": [
    "#Extract the corresponding link of each image\n",
    "#As the images shown on the page are still the thumbnails not the original image.\n",
    "#So to download each image,we need to click each thumbnail and extract relevant information corresponding to that image.\n",
    "img_urls=set()\n",
    "for i in range(0,len(imgcar)):\n",
    "    img=imgcar[i]\n",
    "    try:\n",
    "        img.click()\n",
    "        time.sleep(2)\n",
    "        actual_images=driver.find_elements_by_css_selector('img.n3VNCb')\n",
    "        for actual_image in actual_images:\n",
    "            if actual_image.get_attribute('src') and 'https' in actual_image.get_attribute('src'):\n",
    "                img_urls.add(actual_image.get_attribute('src'))\n",
    "    except:\n",
    "        print(err)\n",
    "                "
   ]
  },
  {
   "cell_type": "code",
   "execution_count": 14,
   "metadata": {},
   "outputs": [
    {
     "data": {
      "text/plain": [
       "{'https://assetscdn1.paytm.com/images/catalog/product/K/KI/KIDCOOLBABY-LOOUNIS637740F952BBE5/1622649706597_0..jpg',\n",
       " 'https://cars.tatamotors.com/images/performance-mobile-new.jpg',\n",
       " 'https://cars.usnews.com/static/images/Auto/custom/14737/2022_Acura_ILX_1.jpg',\n",
       " 'https://carsguide-res.cloudinary.com/image/upload/f_auto%2Cfl_lossy%2Cq_auto%2Ct_default/v1/editorial/story/hero_image/1908-Ford-Model-T_0.jpg',\n",
       " 'https://carwow-uk-wp-3.imgix.net/Volvo-XC40-white-scaled.jpg',\n",
       " 'https://cdn.autoportal.com/media/cache/image_300x225/img/new-cars-gallery/porsche/taycan/photo34/porsche-taycan-f07fc4f3.jpg',\n",
       " 'https://cdn.luxe.digital/media/2020/12/15110747/fastest-cars-world-2021-luxe-digital%402x.jpg',\n",
       " 'https://cdn.motor1.com/images/mgl/8e8Mo/s1/most-expensive-new-cars-ever.webp',\n",
       " 'https://cdn.motor1.com/images/mgl/mrz1e/s1/coolest-cars-feature.jpg',\n",
       " 'https://cdni.autocarindia.com/ExtraImages/20201231052518_First-cars-world-most-famous-carmakers-WM.jpg',\n",
       " 'https://cdni.autocarindia.com/utils/imageresizer.ashx?n=http://cms.haymarketindia.net/model/uploads/modelimages/MG-Astor-200920211457.jpg&w=350&h=251&q=90&c=1',\n",
       " 'https://cdni.autocarindia.com/utils/imageresizer.ashx?n=http://cms.haymarketindia.net/model/uploads/modelimages/Volkswagen-Taigun-061020211621.jpg&w=872&h=578&q=75&c=1',\n",
       " 'https://cdni.autocarindia.com/utils/imageresizer.ashx?n=http://cms.haymarketindia.net/model/uploads/modelimages/Volvo-S60-130220211541.jpg&w=872&h=578&q=75&c=1',\n",
       " 'https://encrypted-tbn0.gstatic.com/images?q=tbn:ANd9GcQ00OAkJhSASasLVE0-7fTz7Ezelfi94mMWGw&usqp=CAU',\n",
       " 'https://encrypted-tbn0.gstatic.com/images?q=tbn:ANd9GcQA-lBCN2GGtQm56uAqkLs_UVciaWU4Zs9rNg&usqp=CAU',\n",
       " 'https://encrypted-tbn0.gstatic.com/images?q=tbn:ANd9GcQBLYO9LZMlmF2X3SwFzPHWqJg-Ci7U_PzavA&usqp=CAU',\n",
       " 'https://encrypted-tbn0.gstatic.com/images?q=tbn:ANd9GcQFw-na1hkUVdBcn9Stxt8H8WgCexOoEPsS1g&usqp=CAU',\n",
       " 'https://encrypted-tbn0.gstatic.com/images?q=tbn:ANd9GcQI04riPEjFNy4R1b0P1h6h8bqkoa-eUeAhQg&usqp=CAU',\n",
       " 'https://encrypted-tbn0.gstatic.com/images?q=tbn:ANd9GcQjHJ8MLcTtyYMFImtdFSGfvAz4Q56UBfw_TA&usqp=CAU',\n",
       " 'https://encrypted-tbn0.gstatic.com/images?q=tbn:ANd9GcQrq2O2mPQ_eDCxynZ4JHvLgkIgvA9JHKcXrw&usqp=CAU',\n",
       " 'https://encrypted-tbn0.gstatic.com/images?q=tbn:ANd9GcR-_wX2kxYjnUEr5P-qk6c1oJN_nxYHKY1Skw&usqp=CAU',\n",
       " 'https://encrypted-tbn0.gstatic.com/images?q=tbn:ANd9GcRPGDuduXiMB6UflBjejIEecvCZVyZyPDNA4A&usqp=CAU',\n",
       " 'https://encrypted-tbn0.gstatic.com/images?q=tbn:ANd9GcRRkUhia0mP0QLp0Z4xNsdKZAfKF9OmH1YA4Q&usqp=CAU',\n",
       " 'https://encrypted-tbn0.gstatic.com/images?q=tbn:ANd9GcRamImJPs_bzH6UWeAZZ7N1jyW-AKufHVvTRQ&usqp=CAU',\n",
       " 'https://encrypted-tbn0.gstatic.com/images?q=tbn:ANd9GcRhchJqndujODIfIcWPmnPLD-IOmSo9sqMYgA&usqp=CAU',\n",
       " 'https://encrypted-tbn0.gstatic.com/images?q=tbn:ANd9GcRnC0SE7UL1HoXNC8rpwakLn9tXoW8XlmZW2Q&usqp=CAU',\n",
       " 'https://encrypted-tbn0.gstatic.com/images?q=tbn:ANd9GcRs2g_14wUhUxKTJME7ylJpW9Koi9QfxodnMw&usqp=CAU',\n",
       " 'https://encrypted-tbn0.gstatic.com/images?q=tbn:ANd9GcRxbIcA6O0vrHLTdSG9mqpNnuZBRK4osGUBvw&usqp=CAU',\n",
       " 'https://encrypted-tbn0.gstatic.com/images?q=tbn:ANd9GcS5mHS2TAK3XPwkL_TgG1J2CLCa_cgVE0VxCA&usqp=CAU',\n",
       " 'https://encrypted-tbn0.gstatic.com/images?q=tbn:ANd9GcSCAgEMbvVbisqiWxhaFP8pDGJmlsFzhq-qAQ&usqp=CAU',\n",
       " 'https://encrypted-tbn0.gstatic.com/images?q=tbn:ANd9GcSExWTLkVVbxcGzYyK9db1kGEtG104x4F4PfA&usqp=CAU',\n",
       " 'https://encrypted-tbn0.gstatic.com/images?q=tbn:ANd9GcSPTXYOJCG-NmDxyu_Rzo6oO5OMgCdRWgTkkA&usqp=CAU',\n",
       " 'https://encrypted-tbn0.gstatic.com/images?q=tbn:ANd9GcSddflulvnY1sM74iww7XOzZqZmb6mF7xkYmA&usqp=CAU',\n",
       " 'https://encrypted-tbn0.gstatic.com/images?q=tbn:ANd9GcSqCF2h8zbbCnSA0HCs-yssv0DigwRrAgWvww&usqp=CAU',\n",
       " 'https://encrypted-tbn0.gstatic.com/images?q=tbn:ANd9GcSwSq4UseyC_QBUTR2cY55NIUzI6zso8xHf5A&usqp=CAU',\n",
       " 'https://encrypted-tbn0.gstatic.com/images?q=tbn:ANd9GcT3ZgKry_t5w4ijJS3RM0FZ46fqKFf66SlNWg&usqp=CAU',\n",
       " 'https://encrypted-tbn0.gstatic.com/images?q=tbn:ANd9GcTMgqQbLpn5xm01ZvjPNRjUdsPFPt2X5SAbkg&usqp=CAU',\n",
       " 'https://encrypted-tbn0.gstatic.com/images?q=tbn:ANd9GcTf4ViOIs4wnP0sodul3hqyAWMfLor0JFxBBg&usqp=CAU',\n",
       " 'https://encrypted-tbn0.gstatic.com/images?q=tbn:ANd9GcToH752IdcGX1f98KH5l9y99jDYnF32EBki-Q&usqp=CAU',\n",
       " 'https://encrypted-tbn0.gstatic.com/images?q=tbn:ANd9GcTyCffjPyz7EWM-53E3Gf6gQrt4Jr7U5dxNXg&usqp=CAU',\n",
       " 'https://encrypted-tbn0.gstatic.com/images?q=tbn:ANd9GcTyejoDmoNx02SsCNHE9Ff5FjTwzOOlG1z78w&usqp=CAU',\n",
       " 'https://encrypted-tbn0.gstatic.com/images?q=tbn:ANd9GcTyrktUEjGQqpHKSY_Y4gw9BOwSvzC9x805Bg&usqp=CAU',\n",
       " 'https://hips.hearstapps.com/hmg-prod.s3.amazonaws.com/images/2020-nissan-sentra-1597167671.jpg?crop=0.905xw:0.829xh;0.0289xw,0.171xh&resize=480:*',\n",
       " 'https://hips.hearstapps.com/hmg-prod.s3.amazonaws.com/images/2022-chevrolet-corvette-z06-1607016574.jpg?crop=0.737xw:0.738xh;0.181xw,0.218xh&resize=640:*',\n",
       " 'https://hips.hearstapps.com/hmg-prod.s3.amazonaws.com/images/new-ghost-white-fr-3-4-1-1598911711.jpg',\n",
       " 'https://i.ytimg.com/vi/7PXLPzcIydw/maxresdefault.jpg',\n",
       " 'https://i.ytimg.com/vi/dip_8dmrcaU/maxresdefault.jpg',\n",
       " 'https://i.ytimg.com/vi/ekgUjyWe1Yc/maxresdefault.jpg',\n",
       " 'https://ichef.bbci.co.uk/news/976/cpsprodpb/9CB1/production/_118231104_evija-in-london_2.jpg',\n",
       " 'https://ichef.bbci.co.uk/news/976/cpsprodpb/C448/production/_117684205_lotus.jpg',\n",
       " 'https://image.shutterstock.com/image-illustration/modern-cars-studio-room-3d-260nw-735402217.jpg',\n",
       " 'https://images.unsplash.com/photo-1552519507-da3b142c6e3d?ixlib=rb-1.2.1&ixid=MnwxMjA3fDB8MHxzZWFyY2h8Mnx8MjAyMCUyMGNhcnN8ZW58MHx8MHx8&w=1000&q=80',\n",
       " 'https://img.etimg.com/thumb/msid-73268134,width-1070,height-580,overlay-economictimes/photo.jpg',\n",
       " 'https://imgd-ct.aeplcdn.com/340x192/n/cw/ec/100945/i20-n-line-right-front-three-quarter-2.jpeg?isig=0',\n",
       " 'https://imgd.aeplcdn.com/0x0/n/cw/ec/108081/taycan-cross-turismo-exterior-right-front-three-quarter.jpeg?isig=0',\n",
       " 'https://imgd.aeplcdn.com/0x0/n/cw/ec/56265/f-pace-exterior-right-front-three-quarter-2.jpeg',\n",
       " 'https://imgd.aeplcdn.com/370x208/cw/ucp/stockApiImg/3UKDHPZ_2279160_1_21297684.jpg',\n",
       " 'https://media-cldnry.s-nbcnews.com/image/upload/newscms/2018_12/2371046/180320-flying-car-aeromobil50-se-143p.jpg',\n",
       " 'https://media.istockphoto.com/photos/generic-modern-suv-car-in-concrete-garage-picture-id1307086567?b=1&k=20&m=1307086567&s=170667a&w=0&h=NjcM6LIOkmfhyqH-zrbFU7pHCPxIABvNhWaOElm_P-E=',\n",
       " 'https://media.wired.com/photos/5d09594a62bcb0c9752779d9/16:9/w_2000,h_1125,c_limit/Transpo_G70_TA-518126.jpg',\n",
       " 'https://miro.medium.com/max/1400/1*abdX1YajAUt-3rH21_leqA.jpeg',\n",
       " 'https://pv-magazine-usa.com/wp-content/uploads/sites/2/2019/10/FordEV-1200x800.jpeg',\n",
       " 'https://spiderimg.amarujala.com/assets/images/2021/02/05/750x506/apple-electric-car_1612508487.jpeg',\n",
       " 'https://stimg.cardekho.com/images/carexteriorimages/630x420/BMW/iX/8704/1639388226683/front-left-side-47.jpg?imwidth=420&impolicy=resize',\n",
       " 'https://stimg.cardekho.com/images/carexteriorimages/630x420/Lamborghini/Aventador/6721/Lamborghini-Aventador-SVJ/1621849426405/front-left-side-47.jpg?tr=w-300',\n",
       " 'https://stimg.cardekho.com/images/carexteriorimages/630x420/Lamborghini/Urus/4418/Lamborghini-Urus-V8/1621927166506/front-left-side-47.jpg?tr=w-300',\n",
       " 'https://stimg.cardekho.com/images/carexteriorimages/630x420/Maserati/Levante/7547/1582365134672/front-left-side-47.jpg?impolicy=resize&imwidth=480',\n",
       " 'https://stimg2.cardekho.com/images/carNewsimages/userimages/28394/1640778511191/GeneralNews.jpg?tr=w-360',\n",
       " 'https://thumbor.forbes.com/thumbor/fit-in/1200x0/filters%3Aformat%28jpg%29/https%3A%2F%2Fspecials-images.forbesimg.com%2Fimageserve%2F6064c6802c761b99a89d1f21%2F0x0.jpg%3FcropX1%3D0%26cropX2%3D2375%26cropY1%3D120%26cropY2%3D1456',\n",
       " 'https://upload.wikimedia.org/wikipedia/commons/2/25/2018_Toyota_Corolla_%28ZRE172R%29_Ascent_sedan_%282018-11-02%29_01.jpg',\n",
       " 'https://www.autocar.co.uk/sites/autocar.co.uk/files/images/car-reviews/first-drives/legacy/1_rangerover_tracking.jpg',\n",
       " 'https://www.cnet.com/a/img/CSTqzAl5wJ57HHyASLD-a0vS2O0=/940x528/2021/04/05/9e065d90-51f2-46c5-bd3a-416fd4983c1a/elantra-1080p.jpg',\n",
       " 'https://www.extremetech.com/wp-content/uploads/2019/12/SONATA-hero-option1-764A5360-edit-640x354.jpg',\n",
       " 'https://www.focus2move.com/wp-content/uploads/2021/02/Bugatti-Divo_Lady_Bug-2020-1024-0b.jpg'}"
      ]
     },
     "execution_count": 14,
     "metadata": {},
     "output_type": "execute_result"
    }
   ],
   "source": [
    "img_urls"
   ]
  },
  {
   "cell_type": "markdown",
   "metadata": {},
   "source": [
    "Similarly, we can fetch image links for fruits,Machine Learning','Guitar','Cakes'"
   ]
  },
  {
   "cell_type": "markdown",
   "metadata": {},
   "source": [
    "Q4. Write a python program to search for smartphone( e.g. Oneplus Nord, pixel 4A, etc) on www.flipkart.com and scrape following details for all the search results dislayed on 1st page.Details to be scraped: 'Brand name, smartphone,colour,RAM,storage,primary camera,secondary camera, display size, battery capacity,price,product url'.Incase any detail is missing them replace it by '-'.Save your results in a dataframe and csv."
   ]
  },
  {
   "cell_type": "code",
   "execution_count": 2,
   "metadata": {},
   "outputs": [],
   "source": [
    "import pandas as pd\n",
    "\n",
    "import selenium\n",
    "from selenium import webdriver\n",
    "import time\n",
    "from selenium.common.exceptions import ElementClickInterceptedException  #Import Exception\n",
    "import warnings\n",
    "warnings.filterwarnings('ignore')"
   ]
  },
  {
   "cell_type": "code",
   "execution_count": 4,
   "metadata": {},
   "outputs": [],
   "source": [
    "driver= webdriver.Chrome(r\"C:/Users/Suncity/Downloads/chromedriver_win32/chromedriver.exe\")\n"
   ]
  },
  {
   "cell_type": "code",
   "execution_count": 6,
   "metadata": {},
   "outputs": [],
   "source": [
    "driver.get(\"https://www.flipkart.com\")"
   ]
  },
  {
   "cell_type": "code",
   "execution_count": 21,
   "metadata": {},
   "outputs": [],
   "source": [
    "#finding phone\n",
    "search_items1=driver.find_element_by_xpath(\"//input[@class='_3704LK']\")\n",
    "search_items1.send_keys(\"oneplus Smartphone8\")\n",
    "time.sleep(2)\n",
    "#locating the button and clicking it toh search for sunglasses\n",
    "button=driver.find_element_by_class_name('L0Z3Pu')\n",
    "button.click()"
   ]
  },
  {
   "cell_type": "code",
   "execution_count": 39,
   "metadata": {},
   "outputs": [
    {
     "ename": "ValueError",
     "evalue": "arrays must all be same length",
     "output_type": "error",
     "traceback": [
      "\u001b[1;31m---------------------------------------------------------------------------\u001b[0m",
      "\u001b[1;31mValueError\u001b[0m                                Traceback (most recent call last)",
      "\u001b[1;32m<ipython-input-39-7537a67f0fd2>\u001b[0m in \u001b[0;36m<module>\u001b[1;34m\u001b[0m\n\u001b[0;32m     84\u001b[0m                  \u001b[1;34m'storage'\u001b[0m\u001b[1;33m:\u001b[0m\u001b[0mstorage\u001b[0m\u001b[1;33m,\u001b[0m\u001b[1;33m\u001b[0m\u001b[1;33m\u001b[0m\u001b[0m\n\u001b[0;32m     85\u001b[0m                  \u001b[1;34m'camera'\u001b[0m\u001b[1;33m:\u001b[0m\u001b[0mcamera\u001b[0m\u001b[1;33m,\u001b[0m\u001b[1;33m\u001b[0m\u001b[1;33m\u001b[0m\u001b[0m\n\u001b[1;32m---> 86\u001b[1;33m                  \u001b[1;34m'display_size'\u001b[0m\u001b[1;33m:\u001b[0m\u001b[0mdisplay_size\u001b[0m\u001b[1;33m\u001b[0m\u001b[1;33m\u001b[0m\u001b[0m\n\u001b[0m\u001b[0;32m     87\u001b[0m \u001b[1;33m\u001b[0m\u001b[0m\n\u001b[0;32m     88\u001b[0m \u001b[1;33m\u001b[0m\u001b[0m\n",
      "\u001b[1;32m~\\anaconda3\\lib\\site-packages\\pandas\\core\\frame.py\u001b[0m in \u001b[0;36m__init__\u001b[1;34m(self, data, index, columns, dtype, copy)\u001b[0m\n\u001b[0;32m    433\u001b[0m             )\n\u001b[0;32m    434\u001b[0m         \u001b[1;32melif\u001b[0m \u001b[0misinstance\u001b[0m\u001b[1;33m(\u001b[0m\u001b[0mdata\u001b[0m\u001b[1;33m,\u001b[0m \u001b[0mdict\u001b[0m\u001b[1;33m)\u001b[0m\u001b[1;33m:\u001b[0m\u001b[1;33m\u001b[0m\u001b[1;33m\u001b[0m\u001b[0m\n\u001b[1;32m--> 435\u001b[1;33m             \u001b[0mmgr\u001b[0m \u001b[1;33m=\u001b[0m \u001b[0minit_dict\u001b[0m\u001b[1;33m(\u001b[0m\u001b[0mdata\u001b[0m\u001b[1;33m,\u001b[0m \u001b[0mindex\u001b[0m\u001b[1;33m,\u001b[0m \u001b[0mcolumns\u001b[0m\u001b[1;33m,\u001b[0m \u001b[0mdtype\u001b[0m\u001b[1;33m=\u001b[0m\u001b[0mdtype\u001b[0m\u001b[1;33m)\u001b[0m\u001b[1;33m\u001b[0m\u001b[1;33m\u001b[0m\u001b[0m\n\u001b[0m\u001b[0;32m    436\u001b[0m         \u001b[1;32melif\u001b[0m \u001b[0misinstance\u001b[0m\u001b[1;33m(\u001b[0m\u001b[0mdata\u001b[0m\u001b[1;33m,\u001b[0m \u001b[0mma\u001b[0m\u001b[1;33m.\u001b[0m\u001b[0mMaskedArray\u001b[0m\u001b[1;33m)\u001b[0m\u001b[1;33m:\u001b[0m\u001b[1;33m\u001b[0m\u001b[1;33m\u001b[0m\u001b[0m\n\u001b[0;32m    437\u001b[0m             \u001b[1;32mimport\u001b[0m \u001b[0mnumpy\u001b[0m\u001b[1;33m.\u001b[0m\u001b[0mma\u001b[0m\u001b[1;33m.\u001b[0m\u001b[0mmrecords\u001b[0m \u001b[1;32mas\u001b[0m \u001b[0mmrecords\u001b[0m\u001b[1;33m\u001b[0m\u001b[1;33m\u001b[0m\u001b[0m\n",
      "\u001b[1;32m~\\anaconda3\\lib\\site-packages\\pandas\\core\\internals\\construction.py\u001b[0m in \u001b[0;36minit_dict\u001b[1;34m(data, index, columns, dtype)\u001b[0m\n\u001b[0;32m    252\u001b[0m             \u001b[0marr\u001b[0m \u001b[1;32mif\u001b[0m \u001b[1;32mnot\u001b[0m \u001b[0mis_datetime64tz_dtype\u001b[0m\u001b[1;33m(\u001b[0m\u001b[0marr\u001b[0m\u001b[1;33m)\u001b[0m \u001b[1;32melse\u001b[0m \u001b[0marr\u001b[0m\u001b[1;33m.\u001b[0m\u001b[0mcopy\u001b[0m\u001b[1;33m(\u001b[0m\u001b[1;33m)\u001b[0m \u001b[1;32mfor\u001b[0m \u001b[0marr\u001b[0m \u001b[1;32min\u001b[0m \u001b[0marrays\u001b[0m\u001b[1;33m\u001b[0m\u001b[1;33m\u001b[0m\u001b[0m\n\u001b[0;32m    253\u001b[0m         ]\n\u001b[1;32m--> 254\u001b[1;33m     \u001b[1;32mreturn\u001b[0m \u001b[0marrays_to_mgr\u001b[0m\u001b[1;33m(\u001b[0m\u001b[0marrays\u001b[0m\u001b[1;33m,\u001b[0m \u001b[0mdata_names\u001b[0m\u001b[1;33m,\u001b[0m \u001b[0mindex\u001b[0m\u001b[1;33m,\u001b[0m \u001b[0mcolumns\u001b[0m\u001b[1;33m,\u001b[0m \u001b[0mdtype\u001b[0m\u001b[1;33m=\u001b[0m\u001b[0mdtype\u001b[0m\u001b[1;33m)\u001b[0m\u001b[1;33m\u001b[0m\u001b[1;33m\u001b[0m\u001b[0m\n\u001b[0m\u001b[0;32m    255\u001b[0m \u001b[1;33m\u001b[0m\u001b[0m\n\u001b[0;32m    256\u001b[0m \u001b[1;33m\u001b[0m\u001b[0m\n",
      "\u001b[1;32m~\\anaconda3\\lib\\site-packages\\pandas\\core\\internals\\construction.py\u001b[0m in \u001b[0;36marrays_to_mgr\u001b[1;34m(arrays, arr_names, index, columns, dtype)\u001b[0m\n\u001b[0;32m     62\u001b[0m     \u001b[1;31m# figure out the index, if necessary\u001b[0m\u001b[1;33m\u001b[0m\u001b[1;33m\u001b[0m\u001b[1;33m\u001b[0m\u001b[0m\n\u001b[0;32m     63\u001b[0m     \u001b[1;32mif\u001b[0m \u001b[0mindex\u001b[0m \u001b[1;32mis\u001b[0m \u001b[1;32mNone\u001b[0m\u001b[1;33m:\u001b[0m\u001b[1;33m\u001b[0m\u001b[1;33m\u001b[0m\u001b[0m\n\u001b[1;32m---> 64\u001b[1;33m         \u001b[0mindex\u001b[0m \u001b[1;33m=\u001b[0m \u001b[0mextract_index\u001b[0m\u001b[1;33m(\u001b[0m\u001b[0marrays\u001b[0m\u001b[1;33m)\u001b[0m\u001b[1;33m\u001b[0m\u001b[1;33m\u001b[0m\u001b[0m\n\u001b[0m\u001b[0;32m     65\u001b[0m     \u001b[1;32melse\u001b[0m\u001b[1;33m:\u001b[0m\u001b[1;33m\u001b[0m\u001b[1;33m\u001b[0m\u001b[0m\n\u001b[0;32m     66\u001b[0m         \u001b[0mindex\u001b[0m \u001b[1;33m=\u001b[0m \u001b[0mensure_index\u001b[0m\u001b[1;33m(\u001b[0m\u001b[0mindex\u001b[0m\u001b[1;33m)\u001b[0m\u001b[1;33m\u001b[0m\u001b[1;33m\u001b[0m\u001b[0m\n",
      "\u001b[1;32m~\\anaconda3\\lib\\site-packages\\pandas\\core\\internals\\construction.py\u001b[0m in \u001b[0;36mextract_index\u001b[1;34m(data)\u001b[0m\n\u001b[0;32m    363\u001b[0m             \u001b[0mlengths\u001b[0m \u001b[1;33m=\u001b[0m \u001b[0mlist\u001b[0m\u001b[1;33m(\u001b[0m\u001b[0mset\u001b[0m\u001b[1;33m(\u001b[0m\u001b[0mraw_lengths\u001b[0m\u001b[1;33m)\u001b[0m\u001b[1;33m)\u001b[0m\u001b[1;33m\u001b[0m\u001b[1;33m\u001b[0m\u001b[0m\n\u001b[0;32m    364\u001b[0m             \u001b[1;32mif\u001b[0m \u001b[0mlen\u001b[0m\u001b[1;33m(\u001b[0m\u001b[0mlengths\u001b[0m\u001b[1;33m)\u001b[0m \u001b[1;33m>\u001b[0m \u001b[1;36m1\u001b[0m\u001b[1;33m:\u001b[0m\u001b[1;33m\u001b[0m\u001b[1;33m\u001b[0m\u001b[0m\n\u001b[1;32m--> 365\u001b[1;33m                 \u001b[1;32mraise\u001b[0m \u001b[0mValueError\u001b[0m\u001b[1;33m(\u001b[0m\u001b[1;34m\"arrays must all be same length\"\u001b[0m\u001b[1;33m)\u001b[0m\u001b[1;33m\u001b[0m\u001b[1;33m\u001b[0m\u001b[0m\n\u001b[0m\u001b[0;32m    366\u001b[0m \u001b[1;33m\u001b[0m\u001b[0m\n\u001b[0;32m    367\u001b[0m             \u001b[1;32mif\u001b[0m \u001b[0mhave_dicts\u001b[0m\u001b[1;33m:\u001b[0m\u001b[1;33m\u001b[0m\u001b[1;33m\u001b[0m\u001b[0m\n",
      "\u001b[1;31mValueError\u001b[0m: arrays must all be same length"
     ]
    }
   ],
   "source": [
    "#creating the empty list\n",
    "brand_name=[]\n",
    "smartphone=[]\n",
    "colour=[]\n",
    "ram=[]\n",
    "storage=[]\n",
    "camera=[]\n",
    "display_size=[] \n",
    "battery_capacity=[]\n",
    "price=[]\n",
    "product_url=[]\n",
    "time.sleep(3)\n",
    "#scrapping the required details\n",
    "start=0\n",
    "end=3\n",
    "for page in range(start,end):#for loop for scrapping 4 page\n",
    "    try:\n",
    "        \n",
    "        brands=driver.find_elements_by_xpath(\"//div[@class='_4rR01T']\")\n",
    "        for i in brands[0:10]:\n",
    "            brand_name.append(i.text)#appending the text in Brand list\n",
    "    except:\n",
    "        brand_name.append(\"-\")        \n",
    "           \n",
    "    try:\n",
    "        phone=driver.find_elements_by_xpath(\"//li[@class='rgWa7D']\")\n",
    "        for i in phone[0:10]:\n",
    "            smartphone.append(i.text)#appending the description in list\n",
    "    except:\n",
    "        smartphone.append(\"-\")           \n",
    "    try:\n",
    "        prices=driver.find_elements_by_xpath(\"//div[@class='_30jeq3 _16Jk6d']\")\n",
    "        for i in prices[0:10]:\n",
    "            price.append(i.text)\n",
    "    except:\n",
    "        price.append(\"-\")\n",
    "    #try:    \n",
    "     #   colours=driver.find_elements_by_xpath('//div[@class='_3Oikkn _3_ezix _2KarXJ']')\n",
    "      #  for i in colours:\n",
    "       #     colour.append(i.text)#appending the text in Brand list\n",
    "    #except:\n",
    "     #   colour.append(\"-\")\n",
    "    try:\n",
    "        ra=driver.find_elements_by_xpath(\"//ul[@class='_1xgFaf']/li[1]\")\n",
    "        for i in ra[0:10]:\n",
    "            ram.append(i.text)#appending the description in list\n",
    "    except:\n",
    "        ram.append(\"-\")\n",
    "    try:\n",
    "        stora=driver.find_elements_by_xpath(\"//ul[@class='_1xgFaf']/li[4]\")\n",
    "        for i in stora[0:10]:\n",
    "            storage.append(i.text)\n",
    "    except:\n",
    "        storage.append(\"-\")\n",
    "    try:\n",
    "        cam=driver.find_elements_by_xpath(\"//ul[@class='_1xgFaf']/li[3]\")\n",
    "        for i in cam[0:10]:\n",
    "            camera.append(i.text)\n",
    "    except:\n",
    "        camera.append(\"-\")\n",
    "    try:\n",
    "        display=driver.find_elements_by_xpath(\"//ul[@class='_1xgFaf']/li[2]\")\n",
    "        for i in display[0:10]:\n",
    "            display_size.append(i.text)\n",
    "    except:\n",
    "        display_size.append(\"-\")\n",
    "    try:\n",
    "        urls=driver.find_elements_by_xpath(\"//a[@class='_1fQZEK']\")#collecting urls of all the laptop\n",
    "\n",
    "        for i in urls[0:10]:\n",
    "            product_url.append(i.get_attribute('href'))\n",
    "    except:\n",
    "        product_url.append(\"-\")\n",
    "        \n",
    "    nxt_button=driver.find_elements_by_xpath(\"//a[@class='_1LKTO3']\")\n",
    "    try:\n",
    "        driver.get(nxt_button[1].get_attribute('href'))\n",
    "    except:\n",
    "        driver.get(nxt_button[0].get_attribute('href'))\n"
   ]
  },
  {
   "cell_type": "code",
   "execution_count": 44,
   "metadata": {},
   "outputs": [
    {
     "ename": "ValueError",
     "evalue": "arrays must all be same length",
     "output_type": "error",
     "traceback": [
      "\u001b[1;31m---------------------------------------------------------------------------\u001b[0m",
      "\u001b[1;31mValueError\u001b[0m                                Traceback (most recent call last)",
      "\u001b[1;32m<ipython-input-44-e0f456af58e5>\u001b[0m in \u001b[0;36m<module>\u001b[1;34m\u001b[0m\n\u001b[0;32m      6\u001b[0m                  \u001b[1;34m'camera'\u001b[0m\u001b[1;33m:\u001b[0m\u001b[0mcamera\u001b[0m\u001b[1;33m,\u001b[0m\u001b[1;33m\u001b[0m\u001b[1;33m\u001b[0m\u001b[0m\n\u001b[0;32m      7\u001b[0m                  \u001b[1;34m'display_size'\u001b[0m\u001b[1;33m:\u001b[0m\u001b[0mdisplay_size\u001b[0m\u001b[1;33m,\u001b[0m\u001b[1;33m\u001b[0m\u001b[1;33m\u001b[0m\u001b[0m\n\u001b[1;32m----> 8\u001b[1;33m                  'product_url':product_url})            \n\u001b[0m\u001b[0;32m      9\u001b[0m \u001b[1;33m\u001b[0m\u001b[0m\n\u001b[0;32m     10\u001b[0m \u001b[1;33m\u001b[0m\u001b[0m\n",
      "\u001b[1;32m~\\anaconda3\\lib\\site-packages\\pandas\\core\\frame.py\u001b[0m in \u001b[0;36m__init__\u001b[1;34m(self, data, index, columns, dtype, copy)\u001b[0m\n\u001b[0;32m    433\u001b[0m             )\n\u001b[0;32m    434\u001b[0m         \u001b[1;32melif\u001b[0m \u001b[0misinstance\u001b[0m\u001b[1;33m(\u001b[0m\u001b[0mdata\u001b[0m\u001b[1;33m,\u001b[0m \u001b[0mdict\u001b[0m\u001b[1;33m)\u001b[0m\u001b[1;33m:\u001b[0m\u001b[1;33m\u001b[0m\u001b[1;33m\u001b[0m\u001b[0m\n\u001b[1;32m--> 435\u001b[1;33m             \u001b[0mmgr\u001b[0m \u001b[1;33m=\u001b[0m \u001b[0minit_dict\u001b[0m\u001b[1;33m(\u001b[0m\u001b[0mdata\u001b[0m\u001b[1;33m,\u001b[0m \u001b[0mindex\u001b[0m\u001b[1;33m,\u001b[0m \u001b[0mcolumns\u001b[0m\u001b[1;33m,\u001b[0m \u001b[0mdtype\u001b[0m\u001b[1;33m=\u001b[0m\u001b[0mdtype\u001b[0m\u001b[1;33m)\u001b[0m\u001b[1;33m\u001b[0m\u001b[1;33m\u001b[0m\u001b[0m\n\u001b[0m\u001b[0;32m    436\u001b[0m         \u001b[1;32melif\u001b[0m \u001b[0misinstance\u001b[0m\u001b[1;33m(\u001b[0m\u001b[0mdata\u001b[0m\u001b[1;33m,\u001b[0m \u001b[0mma\u001b[0m\u001b[1;33m.\u001b[0m\u001b[0mMaskedArray\u001b[0m\u001b[1;33m)\u001b[0m\u001b[1;33m:\u001b[0m\u001b[1;33m\u001b[0m\u001b[1;33m\u001b[0m\u001b[0m\n\u001b[0;32m    437\u001b[0m             \u001b[1;32mimport\u001b[0m \u001b[0mnumpy\u001b[0m\u001b[1;33m.\u001b[0m\u001b[0mma\u001b[0m\u001b[1;33m.\u001b[0m\u001b[0mmrecords\u001b[0m \u001b[1;32mas\u001b[0m \u001b[0mmrecords\u001b[0m\u001b[1;33m\u001b[0m\u001b[1;33m\u001b[0m\u001b[0m\n",
      "\u001b[1;32m~\\anaconda3\\lib\\site-packages\\pandas\\core\\internals\\construction.py\u001b[0m in \u001b[0;36minit_dict\u001b[1;34m(data, index, columns, dtype)\u001b[0m\n\u001b[0;32m    252\u001b[0m             \u001b[0marr\u001b[0m \u001b[1;32mif\u001b[0m \u001b[1;32mnot\u001b[0m \u001b[0mis_datetime64tz_dtype\u001b[0m\u001b[1;33m(\u001b[0m\u001b[0marr\u001b[0m\u001b[1;33m)\u001b[0m \u001b[1;32melse\u001b[0m \u001b[0marr\u001b[0m\u001b[1;33m.\u001b[0m\u001b[0mcopy\u001b[0m\u001b[1;33m(\u001b[0m\u001b[1;33m)\u001b[0m \u001b[1;32mfor\u001b[0m \u001b[0marr\u001b[0m \u001b[1;32min\u001b[0m \u001b[0marrays\u001b[0m\u001b[1;33m\u001b[0m\u001b[1;33m\u001b[0m\u001b[0m\n\u001b[0;32m    253\u001b[0m         ]\n\u001b[1;32m--> 254\u001b[1;33m     \u001b[1;32mreturn\u001b[0m \u001b[0marrays_to_mgr\u001b[0m\u001b[1;33m(\u001b[0m\u001b[0marrays\u001b[0m\u001b[1;33m,\u001b[0m \u001b[0mdata_names\u001b[0m\u001b[1;33m,\u001b[0m \u001b[0mindex\u001b[0m\u001b[1;33m,\u001b[0m \u001b[0mcolumns\u001b[0m\u001b[1;33m,\u001b[0m \u001b[0mdtype\u001b[0m\u001b[1;33m=\u001b[0m\u001b[0mdtype\u001b[0m\u001b[1;33m)\u001b[0m\u001b[1;33m\u001b[0m\u001b[1;33m\u001b[0m\u001b[0m\n\u001b[0m\u001b[0;32m    255\u001b[0m \u001b[1;33m\u001b[0m\u001b[0m\n\u001b[0;32m    256\u001b[0m \u001b[1;33m\u001b[0m\u001b[0m\n",
      "\u001b[1;32m~\\anaconda3\\lib\\site-packages\\pandas\\core\\internals\\construction.py\u001b[0m in \u001b[0;36marrays_to_mgr\u001b[1;34m(arrays, arr_names, index, columns, dtype)\u001b[0m\n\u001b[0;32m     62\u001b[0m     \u001b[1;31m# figure out the index, if necessary\u001b[0m\u001b[1;33m\u001b[0m\u001b[1;33m\u001b[0m\u001b[1;33m\u001b[0m\u001b[0m\n\u001b[0;32m     63\u001b[0m     \u001b[1;32mif\u001b[0m \u001b[0mindex\u001b[0m \u001b[1;32mis\u001b[0m \u001b[1;32mNone\u001b[0m\u001b[1;33m:\u001b[0m\u001b[1;33m\u001b[0m\u001b[1;33m\u001b[0m\u001b[0m\n\u001b[1;32m---> 64\u001b[1;33m         \u001b[0mindex\u001b[0m \u001b[1;33m=\u001b[0m \u001b[0mextract_index\u001b[0m\u001b[1;33m(\u001b[0m\u001b[0marrays\u001b[0m\u001b[1;33m)\u001b[0m\u001b[1;33m\u001b[0m\u001b[1;33m\u001b[0m\u001b[0m\n\u001b[0m\u001b[0;32m     65\u001b[0m     \u001b[1;32melse\u001b[0m\u001b[1;33m:\u001b[0m\u001b[1;33m\u001b[0m\u001b[1;33m\u001b[0m\u001b[0m\n\u001b[0;32m     66\u001b[0m         \u001b[0mindex\u001b[0m \u001b[1;33m=\u001b[0m \u001b[0mensure_index\u001b[0m\u001b[1;33m(\u001b[0m\u001b[0mindex\u001b[0m\u001b[1;33m)\u001b[0m\u001b[1;33m\u001b[0m\u001b[1;33m\u001b[0m\u001b[0m\n",
      "\u001b[1;32m~\\anaconda3\\lib\\site-packages\\pandas\\core\\internals\\construction.py\u001b[0m in \u001b[0;36mextract_index\u001b[1;34m(data)\u001b[0m\n\u001b[0;32m    363\u001b[0m             \u001b[0mlengths\u001b[0m \u001b[1;33m=\u001b[0m \u001b[0mlist\u001b[0m\u001b[1;33m(\u001b[0m\u001b[0mset\u001b[0m\u001b[1;33m(\u001b[0m\u001b[0mraw_lengths\u001b[0m\u001b[1;33m)\u001b[0m\u001b[1;33m)\u001b[0m\u001b[1;33m\u001b[0m\u001b[1;33m\u001b[0m\u001b[0m\n\u001b[0;32m    364\u001b[0m             \u001b[1;32mif\u001b[0m \u001b[0mlen\u001b[0m\u001b[1;33m(\u001b[0m\u001b[0mlengths\u001b[0m\u001b[1;33m)\u001b[0m \u001b[1;33m>\u001b[0m \u001b[1;36m1\u001b[0m\u001b[1;33m:\u001b[0m\u001b[1;33m\u001b[0m\u001b[1;33m\u001b[0m\u001b[0m\n\u001b[1;32m--> 365\u001b[1;33m                 \u001b[1;32mraise\u001b[0m \u001b[0mValueError\u001b[0m\u001b[1;33m(\u001b[0m\u001b[1;34m\"arrays must all be same length\"\u001b[0m\u001b[1;33m)\u001b[0m\u001b[1;33m\u001b[0m\u001b[1;33m\u001b[0m\u001b[0m\n\u001b[0m\u001b[0;32m    366\u001b[0m \u001b[1;33m\u001b[0m\u001b[0m\n\u001b[0;32m    367\u001b[0m             \u001b[1;32mif\u001b[0m \u001b[0mhave_dicts\u001b[0m\u001b[1;33m:\u001b[0m\u001b[1;33m\u001b[0m\u001b[1;33m\u001b[0m\u001b[0m\n",
      "\u001b[1;31mValueError\u001b[0m: arrays must all be same length"
     ]
    }
   ],
   "source": [
    "#creating a dataframe\n",
    "df=pd.DataFrame({'brand_name':brand_name,\n",
    "                'smartphone':smartphone,\n",
    "                'ram':ram,\n",
    "                 'storage':storage,\n",
    "                 'camera':camera,\n",
    "                 'display_size':display_size,\n",
    "                 'product_url':product_url})            \n",
    "                               \n",
    "                \n",
    "#printing dataframe\n",
    "df"
   ]
  },
  {
   "cell_type": "code",
   "execution_count": 43,
   "metadata": {},
   "outputs": [
    {
     "data": {
      "text/plain": [
       "26"
      ]
     },
     "execution_count": 43,
     "metadata": {},
     "output_type": "execute_result"
    }
   ],
   "source": [
    "len(smartphone)"
   ]
  },
  {
   "cell_type": "markdown",
   "metadata": {},
   "source": [
    "Q5. Write a program to scrap geospatial coordinates(latitude, longitude) of a city searched on google maps."
   ]
  },
  {
   "cell_type": "code",
   "execution_count": 2,
   "metadata": {},
   "outputs": [
    {
     "name": "stdout",
     "output_type": "stream",
     "text": [
      "Collecting folium\n",
      "  Downloading folium-0.12.1.post1-py2.py3-none-any.whl (95 kB)\n",
      "Requirement already satisfied: numpy in c:\\users\\suncity\\anaconda3\\lib\\site-packages (from folium) (1.18.1)\n",
      "Collecting branca>=0.3.0\n",
      "  Downloading branca-0.4.2-py3-none-any.whl (24 kB)\n",
      "Requirement already satisfied: jinja2>=2.9 in c:\\users\\suncity\\anaconda3\\lib\\site-packages (from folium) (2.11.1)\n",
      "Requirement already satisfied: requests in c:\\users\\suncity\\anaconda3\\lib\\site-packages (from folium) (2.22.0)\n",
      "Requirement already satisfied: MarkupSafe>=0.23 in c:\\users\\suncity\\anaconda3\\lib\\site-packages (from jinja2>=2.9->folium) (1.1.1)\n",
      "Requirement already satisfied: chardet<3.1.0,>=3.0.2 in c:\\users\\suncity\\anaconda3\\lib\\site-packages (from requests->folium) (3.0.4)\n",
      "Requirement already satisfied: certifi>=2017.4.17 in c:\\users\\suncity\\anaconda3\\lib\\site-packages (from requests->folium) (2019.11.28)\n",
      "Collecting urllib3!=1.25.0,!=1.25.1,<1.26,>=1.21.1\n",
      "  Downloading urllib3-1.25.11-py2.py3-none-any.whl (127 kB)\n",
      "Requirement already satisfied: idna<2.9,>=2.5 in c:\\users\\suncity\\anaconda3\\lib\\site-packages (from requests->folium) (2.8)\n",
      "Installing collected packages: branca, folium, urllib3\n",
      "  Attempting uninstall: urllib3\n",
      "    Found existing installation: urllib3 1.26.7\n",
      "    Uninstalling urllib3-1.26.7:\n",
      "      Successfully uninstalled urllib3-1.26.7\n",
      "Successfully installed branca-0.4.2 folium-0.12.1.post1 urllib3-1.25.11\n"
     ]
    },
    {
     "name": "stderr",
     "output_type": "stream",
     "text": [
      "ERROR: selenium 4.1.0 has requirement urllib3[secure]~=1.26, but you'll have urllib3 1.25.11 which is incompatible.\n"
     ]
    }
   ],
   "source": [
    "import pandas as pd\n",
    "import selenium\n",
    "from selenium import webdriver\n",
    "import time\n",
    "from selenium.common.exceptions import NoSuchElementException  #Import Exception\n",
    "import warnings\n",
    "warnings.filterwarnings('ignore')\n",
    "!pip install folium\n",
    "import folium"
   ]
  },
  {
   "cell_type": "code",
   "execution_count": 3,
   "metadata": {},
   "outputs": [],
   "source": [
    "driver= webdriver.Chrome(r\"C:/Users/Suncity/Downloads/chromedriver_win32/chromedriver.exe\")"
   ]
  },
  {
   "cell_type": "code",
   "execution_count": 4,
   "metadata": {},
   "outputs": [],
   "source": [
    "driver.get(\"https://www.google.com/maps/search/delhi\")"
   ]
  },
  {
   "cell_type": "code",
   "execution_count": 5,
   "metadata": {},
   "outputs": [],
   "source": [
    "button=driver.find_element_by_id('searchbox-searchbutton')\n",
    "button.click()"
   ]
  },
  {
   "cell_type": "code",
   "execution_count": 10,
   "metadata": {},
   "outputs": [
    {
     "data": {
      "text/plain": [
       "['https://maps.google.com/maps/api/staticmap?center=28.6469655%2C77.0932634&zoom=10&size=256x256&language=en&sensor=false&client=google-maps-frontend&signature=Qxf1o3fiT1cQmJXmgTwihPBU9EQ']"
      ]
     },
     "execution_count": 10,
     "metadata": {},
     "output_type": "execute_result"
    }
   ],
   "source": [
    "Url_with_Coordinates=[]\n",
    "url= driver.find_element_by_css_selector('meta[itemprop=image]').get_attribute('content')\n",
    "Url_with_Coordinates.append(url)\n",
    "Url_with_Coordinates\n",
    "    "
   ]
  },
  {
   "cell_type": "markdown",
   "metadata": {},
   "source": [
    "Q6. Write a program to scrap details of all the funding deals for second quarter(i.e Jan 21-March 21) from trak.in."
   ]
  },
  {
   "cell_type": "code",
   "execution_count": 1,
   "metadata": {},
   "outputs": [],
   "source": [
    "import pandas as pd\n",
    "\n",
    "import selenium\n",
    "from selenium import webdriver\n",
    "import time\n",
    "from selenium.common.exceptions import ElementClickInterceptedException  #Import Exception\n",
    "import warnings\n",
    "warnings.filterwarnings('ignore')"
   ]
  },
  {
   "cell_type": "code",
   "execution_count": 2,
   "metadata": {},
   "outputs": [],
   "source": [
    "driver= webdriver.Chrome(r\"C:/Users/Suncity/Downloads/chromedriver_win32/chromedriver.exe\")"
   ]
  },
  {
   "cell_type": "code",
   "execution_count": 3,
   "metadata": {},
   "outputs": [],
   "source": [
    "driver.get(\"https://trak.in/india-startup-funding-investment-2015/\")"
   ]
  },
  {
   "cell_type": "code",
   "execution_count": 8,
   "metadata": {},
   "outputs": [
    {
     "data": {
      "text/plain": [
       "<selenium.webdriver.remote.webelement.WebElement (session=\"224b97595305b711dd4b1469c6da257d\", element=\"1cf296b8-2200-458b-ab7e-194bfde5d088\")>"
      ]
     },
     "execution_count": 8,
     "metadata": {},
     "output_type": "execute_result"
    }
   ],
   "source": [
    "jan=driver.find_element_by_xpath(\"//div[@class='dataTables_scrollBody']\")\n",
    "jan"
   ]
  },
  {
   "cell_type": "markdown",
   "metadata": {},
   "source": [
    "Q7. Write a program to scrap all the available details of best gaming laptops from digit.in"
   ]
  },
  {
   "cell_type": "code",
   "execution_count": 1,
   "metadata": {},
   "outputs": [],
   "source": [
    "import pandas as pd\n",
    "\n",
    "import selenium\n",
    "from selenium import webdriver\n",
    "import time\n",
    "from selenium.common.exceptions import ElementClickInterceptedException  #Import Exception\n",
    "import warnings\n",
    "warnings.filterwarnings('ignore')"
   ]
  },
  {
   "cell_type": "code",
   "execution_count": 4,
   "metadata": {},
   "outputs": [],
   "source": [
    "driver= webdriver.Chrome(r\"C:/Users/Suncity/Downloads/chromedriver_win32/chromedriver.exe\")"
   ]
  },
  {
   "cell_type": "code",
   "execution_count": 5,
   "metadata": {},
   "outputs": [],
   "source": [
    "driver.get(\"https://www.digit.in/top-products/\")"
   ]
  },
  {
   "cell_type": "code",
   "execution_count": 7,
   "metadata": {},
   "outputs": [],
   "source": [
    "categories= driver.find_element_by_xpath(\"//div[@class='categoty_list']/button[2]\")\n",
    "categories.click()"
   ]
  },
  {
   "cell_type": "code",
   "execution_count": 8,
   "metadata": {},
   "outputs": [],
   "source": [
    "Best_gaming_laptop=driver.find_element_by_xpath(\"/html/body/div[3]/div/div/div[2]/div[5]/div[3]/div[3]/a/div[2]/p\")"
   ]
  },
  {
   "cell_type": "code",
   "execution_count": 9,
   "metadata": {},
   "outputs": [],
   "source": [
    "Best_gaming_laptop.click()"
   ]
  },
  {
   "cell_type": "code",
   "execution_count": 11,
   "metadata": {},
   "outputs": [
    {
     "data": {
      "text/html": [
       "<div>\n",
       "<style scoped>\n",
       "    .dataframe tbody tr th:only-of-type {\n",
       "        vertical-align: middle;\n",
       "    }\n",
       "\n",
       "    .dataframe tbody tr th {\n",
       "        vertical-align: top;\n",
       "    }\n",
       "\n",
       "    .dataframe thead th {\n",
       "        text-align: right;\n",
       "    }\n",
       "</style>\n",
       "<table border=\"1\" class=\"dataframe\">\n",
       "  <thead>\n",
       "    <tr style=\"text-align: right;\">\n",
       "      <th></th>\n",
       "      <th>product_name</th>\n",
       "      <th>seller</th>\n",
       "      <th>price</th>\n",
       "    </tr>\n",
       "  </thead>\n",
       "  <tbody>\n",
       "    <tr>\n",
       "      <th>0</th>\n",
       "      <td>Acer NITRO 5 Ryzen 9 (2021)</td>\n",
       "      <td>Flipkart</td>\n",
       "      <td>₹ 129,990</td>\n",
       "    </tr>\n",
       "    <tr>\n",
       "      <th>1</th>\n",
       "      <td>MSI Stealth 15M 11th Gen Core i7-11375H (2021</td>\n",
       "      <td>Flipkart</td>\n",
       "      <td>₹ 134,990</td>\n",
       "    </tr>\n",
       "    <tr>\n",
       "      <th>2</th>\n",
       "      <td>ASUS ROG Strix Scar 15 Ryzen 9-5900HX (2021)</td>\n",
       "      <td>Flipkart</td>\n",
       "      <td>₹ 268,990</td>\n",
       "    </tr>\n",
       "    <tr>\n",
       "      <th>3</th>\n",
       "      <td>Alienware Area 51M R2</td>\n",
       "      <td>N/A</td>\n",
       "      <td>₹ 342,989</td>\n",
       "    </tr>\n",
       "    <tr>\n",
       "      <th>4</th>\n",
       "      <td>Alienware m15 R3</td>\n",
       "      <td>Amazon</td>\n",
       "      <td>₹ 319,990</td>\n",
       "    </tr>\n",
       "    <tr>\n",
       "      <th>5</th>\n",
       "      <td>ASUS ROG Strix Scar 15</td>\n",
       "      <td>Flipkart</td>\n",
       "      <td>₹ 215,990</td>\n",
       "    </tr>\n",
       "    <tr>\n",
       "      <th>6</th>\n",
       "      <td>Asus ROG Zephyrus G14</td>\n",
       "      <td>Amazon</td>\n",
       "      <td>₹ 164,990</td>\n",
       "    </tr>\n",
       "    <tr>\n",
       "      <th>7</th>\n",
       "      <td>Lenovo Legion 5i</td>\n",
       "      <td>Amazon</td>\n",
       "      <td>₹ 76,988</td>\n",
       "    </tr>\n",
       "    <tr>\n",
       "      <th>8</th>\n",
       "      <td>ASUS ROG ZEPHYRUS DUO 15</td>\n",
       "      <td>Amazon</td>\n",
       "      <td>₹ 185,000</td>\n",
       "    </tr>\n",
       "    <tr>\n",
       "      <th>9</th>\n",
       "      <td>Acer Aspire 7 gaming</td>\n",
       "      <td>Amazon</td>\n",
       "      <td>₹ 58,480</td>\n",
       "    </tr>\n",
       "  </tbody>\n",
       "</table>\n",
       "</div>"
      ],
      "text/plain": [
       "                                    product_name    seller      price\n",
       "0                    Acer NITRO 5 Ryzen 9 (2021)  Flipkart  ₹ 129,990\n",
       "1  MSI Stealth 15M 11th Gen Core i7-11375H (2021  Flipkart  ₹ 134,990\n",
       "2   ASUS ROG Strix Scar 15 Ryzen 9-5900HX (2021)  Flipkart  ₹ 268,990\n",
       "3                          Alienware Area 51M R2       N/A  ₹ 342,989\n",
       "4                               Alienware m15 R3    Amazon  ₹ 319,990\n",
       "5                         ASUS ROG Strix Scar 15  Flipkart  ₹ 215,990\n",
       "6                          Asus ROG Zephyrus G14    Amazon  ₹ 164,990\n",
       "7                               Lenovo Legion 5i    Amazon   ₹ 76,988\n",
       "8                       ASUS ROG ZEPHYRUS DUO 15    Amazon  ₹ 185,000\n",
       "9                           Acer Aspire 7 gaming    Amazon   ₹ 58,480"
      ]
     },
     "execution_count": 11,
     "metadata": {},
     "output_type": "execute_result"
    }
   ],
   "source": [
    "#creating empty list\n",
    "product=[]\n",
    "seller=[]\n",
    "price=[]\n",
    "\n",
    "#scraping the product\n",
    "pro=driver.find_elements_by_xpath(\"//table[@id='summtable']/tbody/tr/td[1]\")\n",
    "for i in pro:\n",
    "    if i.text is None :\n",
    "        product.append(\"--\") \n",
    "    else:\n",
    "        product.append(i.text)\n",
    "\n",
    "time.sleep(4)\n",
    "#scraping the seller\n",
    "sell=driver.find_elements_by_xpath(\"//table[@id='summtable']/tbody/tr/td[2]\")\n",
    "for i in sell:\n",
    "    if i.text is None :\n",
    "        seller.append(\"--\") \n",
    "    else:\n",
    "        seller.append(i.text)\n",
    "        \n",
    "time.sleep(4)        \n",
    "#scraping the price \n",
    "pri=driver.find_elements_by_xpath(\"//table[@id='summtable']/tbody/tr/td[3]\")\n",
    "for i in pri:\n",
    "    if i.text is None :\n",
    "        price.append(\"--\") \n",
    "    else:\n",
    "        price.append(i.text)\n",
    "# creating the dataframe from the scraped data and taking only first 10 items\n",
    "df=pd.DataFrame({\"product_name\":product[0:10],\"seller\":seller[0:10],\"price\":price[0:10]\n",
    "                })\n",
    "df\n",
    "    \n"
   ]
  },
  {
   "cell_type": "markdown",
   "metadata": {},
   "source": [
    "Q8.Write a python program to scrap the details for all billionaries from  www.forbes.com\n",
    "Details to be scrapped:\"Rank\",\"Name\",\"Net worth\",\"Age\",\"Citizenship\""
   ]
  },
  {
   "cell_type": "code",
   "execution_count": 1,
   "metadata": {},
   "outputs": [],
   "source": [
    "import pandas as pd\n",
    "\n",
    "import selenium\n",
    "from selenium import webdriver\n",
    "import time\n",
    "from selenium.common.exceptions import ElementClickInterceptedException  #Import Exception\n",
    "import warnings\n",
    "warnings.filterwarnings('ignore')"
   ]
  },
  {
   "cell_type": "code",
   "execution_count": 2,
   "metadata": {},
   "outputs": [],
   "source": [
    "driver= webdriver.Chrome(r\"C:/Users/Suncity/Downloads/chromedriver_win32/chromedriver.exe\")"
   ]
  },
  {
   "cell_type": "code",
   "execution_count": 3,
   "metadata": {},
   "outputs": [],
   "source": [
    "driver.get(\"https://www.forbes.com/billionaires/\")"
   ]
  },
  {
   "cell_type": "code",
   "execution_count": 6,
   "metadata": {},
   "outputs": [
    {
     "data": {
      "text/html": [
       "<div>\n",
       "<style scoped>\n",
       "    .dataframe tbody tr th:only-of-type {\n",
       "        vertical-align: middle;\n",
       "    }\n",
       "\n",
       "    .dataframe tbody tr th {\n",
       "        vertical-align: top;\n",
       "    }\n",
       "\n",
       "    .dataframe thead th {\n",
       "        text-align: right;\n",
       "    }\n",
       "</style>\n",
       "<table border=\"1\" class=\"dataframe\">\n",
       "  <thead>\n",
       "    <tr style=\"text-align: right;\">\n",
       "      <th></th>\n",
       "      <th>Rank</th>\n",
       "      <th>Name</th>\n",
       "      <th>Country</th>\n",
       "      <th>Source</th>\n",
       "      <th>Networth</th>\n",
       "      <th>Industry</th>\n",
       "    </tr>\n",
       "  </thead>\n",
       "  <tbody>\n",
       "    <tr>\n",
       "      <th>0</th>\n",
       "      <td>2.</td>\n",
       "      <td>Elon Musk</td>\n",
       "      <td>$151 B</td>\n",
       "      <td>49</td>\n",
       "      <td>United States</td>\n",
       "      <td>Automotive</td>\n",
       "    </tr>\n",
       "    <tr>\n",
       "      <th>1</th>\n",
       "      <td>3.</td>\n",
       "      <td>Bernard Arnault &amp; family</td>\n",
       "      <td>$150 B</td>\n",
       "      <td>72</td>\n",
       "      <td>France</td>\n",
       "      <td>Fashion &amp; Retail</td>\n",
       "    </tr>\n",
       "    <tr>\n",
       "      <th>2</th>\n",
       "      <td>4.</td>\n",
       "      <td>Bill Gates</td>\n",
       "      <td>$124 B</td>\n",
       "      <td>65</td>\n",
       "      <td>United States</td>\n",
       "      <td>Technology</td>\n",
       "    </tr>\n",
       "    <tr>\n",
       "      <th>3</th>\n",
       "      <td>5.</td>\n",
       "      <td>Mark Zuckerberg</td>\n",
       "      <td>$97 B</td>\n",
       "      <td>36</td>\n",
       "      <td>United States</td>\n",
       "      <td>Technology</td>\n",
       "    </tr>\n",
       "    <tr>\n",
       "      <th>4</th>\n",
       "      <td>6.</td>\n",
       "      <td>Warren Buffett</td>\n",
       "      <td>$96 B</td>\n",
       "      <td>90</td>\n",
       "      <td>United States</td>\n",
       "      <td>Finance &amp; Investments</td>\n",
       "    </tr>\n",
       "    <tr>\n",
       "      <th>5</th>\n",
       "      <td>7.</td>\n",
       "      <td>Larry Ellison</td>\n",
       "      <td>$93 B</td>\n",
       "      <td>76</td>\n",
       "      <td>United States</td>\n",
       "      <td>Technology</td>\n",
       "    </tr>\n",
       "    <tr>\n",
       "      <th>6</th>\n",
       "      <td>8.</td>\n",
       "      <td>Larry Page</td>\n",
       "      <td>$91.5 B</td>\n",
       "      <td>48</td>\n",
       "      <td>United States</td>\n",
       "      <td>Technology</td>\n",
       "    </tr>\n",
       "    <tr>\n",
       "      <th>7</th>\n",
       "      <td>9.</td>\n",
       "      <td>Sergey Brin</td>\n",
       "      <td>$89 B</td>\n",
       "      <td>47</td>\n",
       "      <td>United States</td>\n",
       "      <td>Technology</td>\n",
       "    </tr>\n",
       "    <tr>\n",
       "      <th>8</th>\n",
       "      <td>10.</td>\n",
       "      <td>Mukesh Ambani</td>\n",
       "      <td>$84.5 B</td>\n",
       "      <td>63</td>\n",
       "      <td>India</td>\n",
       "      <td>Diversified</td>\n",
       "    </tr>\n",
       "    <tr>\n",
       "      <th>9</th>\n",
       "      <td>11.</td>\n",
       "      <td>Amancio Ortega</td>\n",
       "      <td>$77 B</td>\n",
       "      <td>85</td>\n",
       "      <td>Spain</td>\n",
       "      <td>Fashion &amp; Retail</td>\n",
       "    </tr>\n",
       "    <tr>\n",
       "      <th>10</th>\n",
       "      <td>12.</td>\n",
       "      <td>Francoise Bettencourt Meyers &amp; family</td>\n",
       "      <td>$73.6 B</td>\n",
       "      <td>67</td>\n",
       "      <td>France</td>\n",
       "      <td>Fashion &amp; Retail</td>\n",
       "    </tr>\n",
       "    <tr>\n",
       "      <th>11</th>\n",
       "      <td>13.</td>\n",
       "      <td>Zhong Shanshan</td>\n",
       "      <td>$68.9 B</td>\n",
       "      <td>66</td>\n",
       "      <td>China</td>\n",
       "      <td>Food &amp; Beverage</td>\n",
       "    </tr>\n",
       "    <tr>\n",
       "      <th>12</th>\n",
       "      <td>14.</td>\n",
       "      <td>Steve Ballmer</td>\n",
       "      <td>$68.7 B</td>\n",
       "      <td>65</td>\n",
       "      <td>United States</td>\n",
       "      <td>Technology</td>\n",
       "    </tr>\n",
       "    <tr>\n",
       "      <th>13</th>\n",
       "      <td>15.</td>\n",
       "      <td>Ma Huateng</td>\n",
       "      <td>$65.8 B</td>\n",
       "      <td>49</td>\n",
       "      <td>China</td>\n",
       "      <td>Technology</td>\n",
       "    </tr>\n",
       "    <tr>\n",
       "      <th>14</th>\n",
       "      <td>16.</td>\n",
       "      <td>Carlos Slim Helu &amp; family</td>\n",
       "      <td>$62.8 B</td>\n",
       "      <td>81</td>\n",
       "      <td>Mexico</td>\n",
       "      <td>Telecom</td>\n",
       "    </tr>\n",
       "    <tr>\n",
       "      <th>15</th>\n",
       "      <td>17.</td>\n",
       "      <td>Alice Walton</td>\n",
       "      <td>$61.8 B</td>\n",
       "      <td>71</td>\n",
       "      <td>United States</td>\n",
       "      <td>Fashion &amp; Retail</td>\n",
       "    </tr>\n",
       "    <tr>\n",
       "      <th>16</th>\n",
       "      <td>18.</td>\n",
       "      <td>Jim Walton</td>\n",
       "      <td>$60.2 B</td>\n",
       "      <td>72</td>\n",
       "      <td>United States</td>\n",
       "      <td>Fashion &amp; Retail</td>\n",
       "    </tr>\n",
       "    <tr>\n",
       "      <th>17</th>\n",
       "      <td>19.</td>\n",
       "      <td>Rob Walton</td>\n",
       "      <td>$59.5 B</td>\n",
       "      <td>76</td>\n",
       "      <td>United States</td>\n",
       "      <td>Fashion &amp; Retail</td>\n",
       "    </tr>\n",
       "    <tr>\n",
       "      <th>18</th>\n",
       "      <td>20.</td>\n",
       "      <td>Michael Bloomberg</td>\n",
       "      <td>$59 B</td>\n",
       "      <td>79</td>\n",
       "      <td>United States</td>\n",
       "      <td>Media &amp; Entertainment</td>\n",
       "    </tr>\n",
       "    <tr>\n",
       "      <th>19</th>\n",
       "      <td>21.</td>\n",
       "      <td>Colin Zheng Huang</td>\n",
       "      <td>$55.3 B</td>\n",
       "      <td>41</td>\n",
       "      <td>China</td>\n",
       "      <td>Technology</td>\n",
       "    </tr>\n",
       "  </tbody>\n",
       "</table>\n",
       "</div>"
      ],
      "text/plain": [
       "   Rank                                   Name  Country Source       Networth  \\\n",
       "0    2.                              Elon Musk   $151 B     49  United States   \n",
       "1    3.               Bernard Arnault & family   $150 B     72         France   \n",
       "2    4.                             Bill Gates   $124 B     65  United States   \n",
       "3    5.                        Mark Zuckerberg    $97 B     36  United States   \n",
       "4    6.                         Warren Buffett    $96 B     90  United States   \n",
       "5    7.                          Larry Ellison    $93 B     76  United States   \n",
       "6    8.                             Larry Page  $91.5 B     48  United States   \n",
       "7    9.                            Sergey Brin    $89 B     47  United States   \n",
       "8   10.                          Mukesh Ambani  $84.5 B     63          India   \n",
       "9   11.                         Amancio Ortega    $77 B     85          Spain   \n",
       "10  12.  Francoise Bettencourt Meyers & family  $73.6 B     67         France   \n",
       "11  13.                         Zhong Shanshan  $68.9 B     66          China   \n",
       "12  14.                          Steve Ballmer  $68.7 B     65  United States   \n",
       "13  15.                             Ma Huateng  $65.8 B     49          China   \n",
       "14  16.              Carlos Slim Helu & family  $62.8 B     81         Mexico   \n",
       "15  17.                           Alice Walton  $61.8 B     71  United States   \n",
       "16  18.                             Jim Walton  $60.2 B     72  United States   \n",
       "17  19.                             Rob Walton  $59.5 B     76  United States   \n",
       "18  20.                      Michael Bloomberg    $59 B     79  United States   \n",
       "19  21.                      Colin Zheng Huang  $55.3 B     41          China   \n",
       "\n",
       "                 Industry  \n",
       "0              Automotive  \n",
       "1        Fashion & Retail  \n",
       "2              Technology  \n",
       "3              Technology  \n",
       "4   Finance & Investments  \n",
       "5              Technology  \n",
       "6              Technology  \n",
       "7              Technology  \n",
       "8             Diversified  \n",
       "9        Fashion & Retail  \n",
       "10       Fashion & Retail  \n",
       "11        Food & Beverage  \n",
       "12             Technology  \n",
       "13             Technology  \n",
       "14                Telecom  \n",
       "15       Fashion & Retail  \n",
       "16       Fashion & Retail  \n",
       "17       Fashion & Retail  \n",
       "18  Media & Entertainment  \n",
       "19             Technology  "
      ]
     },
     "execution_count": 6,
     "metadata": {},
     "output_type": "execute_result"
    }
   ],
   "source": [
    "#creating empty list\n",
    "Rank=[]\n",
    "Name=[]\n",
    "Networth=[]\n",
    "Country=[]\n",
    "Source=[]\n",
    "Industry=[]\n",
    "#scraping the Rank\n",
    "rank=driver.find_elements_by_xpath(\"//div[@class='table-row ']/div[1]\")\n",
    "for i in rank:\n",
    "    if i.text is None :\n",
    "        Rank.append(\"--\") \n",
    "    else:\n",
    "        Rank.append(i.text)\n",
    "\n",
    "time.sleep(4)\n",
    "#scraping the Name\n",
    "name=driver.find_elements_by_xpath(\"//div[@class='table-row ']/div[2]\")\n",
    "for i in name:\n",
    "    if i.text is None :\n",
    "        Name.append(\"--\") \n",
    "    else:\n",
    "        Name.append(i.text)\n",
    "        \n",
    "time.sleep(4)        \n",
    "#scraping the Country \n",
    "country=driver.find_elements_by_xpath(\"//div[@class='table-row ']/div[3]\")\n",
    "for i in country:\n",
    "    if i.text is None :\n",
    "        Country.append(\"--\") \n",
    "    else:\n",
    "        Country.append(i.text)\n",
    "#scraping the Source \n",
    "source=driver.find_elements_by_xpath(\"//div[@class='table-row ']/div[4]\")\n",
    "for i in source:\n",
    "    if i.text is None :\n",
    "        Source.append(\"--\") \n",
    "    else:\n",
    "        Source.append(i.text)\n",
    "#scraping the Networth \n",
    "networth=driver.find_elements_by_xpath(\"//div[@class='table-row ']/div[5]\")\n",
    "for i in networth:\n",
    "    if i.text is None :\n",
    "        Networth.append(\"--\") \n",
    "    else:\n",
    "        Networth.append(i.text)\n",
    "#scraping the Networth \n",
    "networth=driver.find_elements_by_xpath(\"//div[@class='table-row ']/div[6]\")\n",
    "for i in networth:\n",
    "    if i.text is None :\n",
    "        Networth.append(\"--\") \n",
    "    else:\n",
    "        Networth.append(i.text)\n",
    "#scraping the Industry\n",
    "industry=driver.find_elements_by_xpath(\"//div[@class='table-row ']/div[7]\")\n",
    "for i in industry:\n",
    "    if i.text is None :\n",
    "        Industry.append(\"--\") \n",
    "    else:\n",
    "        Industry.append(i.text)\n",
    "# creating the dataframe from the scraped data \n",
    "df=pd.DataFrame({\"Rank\":Rank[:20],\"Name\":Name[:20],\"Country\":Country[:20],\"Source\":Source[:20],\"Networth\":Networth[:20],\"Industry\":Industry[:20]})\n",
    "                \n",
    "df\n"
   ]
  },
  {
   "cell_type": "markdown",
   "metadata": {},
   "source": [
    "Q10. Write a python program to scrape a data for all available Hostels from https://www.hostelworld.com/ in \"London\" location. You have to scrape hostel name, distance from city centre,rating, total reviews,overall reviews, privates from price,facilities and property description."
   ]
  },
  {
   "cell_type": "code",
   "execution_count": 1,
   "metadata": {},
   "outputs": [],
   "source": [
    "import pandas as pd\n",
    "\n",
    "import selenium\n",
    "from selenium import webdriver\n",
    "import time\n",
    "from selenium.common.exceptions import ElementClickInterceptedException  #Import Exception\n",
    "import warnings\n",
    "warnings.filterwarnings('ignore')"
   ]
  },
  {
   "cell_type": "code",
   "execution_count": 2,
   "metadata": {},
   "outputs": [],
   "source": [
    "driver= webdriver.Chrome(r\"C:/Users/Suncity/Downloads/chromedriver_win32/chromedriver.exe\")"
   ]
  },
  {
   "cell_type": "code",
   "execution_count": 6,
   "metadata": {},
   "outputs": [],
   "source": [
    "driver.get(\"https://www.hostelworld.com/ \")"
   ]
  },
  {
   "cell_type": "code",
   "execution_count": 8,
   "metadata": {},
   "outputs": [],
   "source": [
    "search_field_location=driver.find_element_by_id('search-input-field') \n"
   ]
  },
  {
   "cell_type": "code",
   "execution_count": 9,
   "metadata": {},
   "outputs": [],
   "source": [
    "search_field_location.send_keys(\"London England\")"
   ]
  },
  {
   "cell_type": "code",
   "execution_count": 10,
   "metadata": {},
   "outputs": [],
   "source": [
    "select=driver.find_element_by_xpath(\"//div[@class='label']\")\n",
    "select.click()"
   ]
  },
  {
   "cell_type": "code",
   "execution_count": 11,
   "metadata": {},
   "outputs": [],
   "source": [
    "search=driver.find_element_by_id(\"search-button\")\n",
    "search.click()"
   ]
  },
  {
   "cell_type": "code",
   "execution_count": 14,
   "metadata": {},
   "outputs": [
    {
     "ename": "ValueError",
     "evalue": "arrays must all be same length",
     "output_type": "error",
     "traceback": [
      "\u001b[1;31m---------------------------------------------------------------------------\u001b[0m",
      "\u001b[1;31mValueError\u001b[0m                                Traceback (most recent call last)",
      "\u001b[1;32m<ipython-input-14-7a1806dd3b73>\u001b[0m in \u001b[0;36m<module>\u001b[1;34m\u001b[0m\n\u001b[0;32m     63\u001b[0m         \u001b[1;31m#property_description.append(i.text)\u001b[0m\u001b[1;33m\u001b[0m\u001b[1;33m\u001b[0m\u001b[1;33m\u001b[0m\u001b[0m\n\u001b[0;32m     64\u001b[0m \u001b[1;31m# creating the dataframe from the scraped data\u001b[0m\u001b[1;33m\u001b[0m\u001b[1;33m\u001b[0m\u001b[1;33m\u001b[0m\u001b[0m\n\u001b[1;32m---> 65\u001b[1;33m \u001b[0mdf\u001b[0m\u001b[1;33m=\u001b[0m\u001b[0mpd\u001b[0m\u001b[1;33m.\u001b[0m\u001b[0mDataFrame\u001b[0m\u001b[1;33m(\u001b[0m\u001b[1;33m{\u001b[0m\u001b[1;34m\"hostel_name\"\u001b[0m\u001b[1;33m:\u001b[0m\u001b[0mhostel_name\u001b[0m\u001b[1;33m[\u001b[0m\u001b[1;33m:\u001b[0m\u001b[1;36m20\u001b[0m\u001b[1;33m]\u001b[0m\u001b[1;33m,\u001b[0m\u001b[1;34m\"distance\"\u001b[0m\u001b[1;33m:\u001b[0m\u001b[0mdistance\u001b[0m\u001b[1;33m[\u001b[0m\u001b[1;33m:\u001b[0m\u001b[1;36m20\u001b[0m\u001b[1;33m]\u001b[0m\u001b[1;33m,\u001b[0m\u001b[1;34m\"rating\"\u001b[0m\u001b[1;33m:\u001b[0m\u001b[0mrating\u001b[0m\u001b[1;33m[\u001b[0m\u001b[1;33m:\u001b[0m\u001b[1;36m20\u001b[0m\u001b[1;33m]\u001b[0m\u001b[1;33m,\u001b[0m\u001b[1;34m\"total_reviews\"\u001b[0m\u001b[1;33m:\u001b[0m\u001b[0mtotal_reviews\u001b[0m\u001b[1;33m[\u001b[0m\u001b[1;33m:\u001b[0m\u001b[1;36m20\u001b[0m\u001b[1;33m]\u001b[0m\u001b[1;33m}\u001b[0m\u001b[1;33m)\u001b[0m\u001b[1;33m\u001b[0m\u001b[1;33m\u001b[0m\u001b[0m\n\u001b[0m\u001b[0;32m     66\u001b[0m \u001b[1;33m\u001b[0m\u001b[0m\n\u001b[0;32m     67\u001b[0m \u001b[0mdf\u001b[0m\u001b[1;33m\u001b[0m\u001b[1;33m\u001b[0m\u001b[0m\n",
      "\u001b[1;32m~\\anaconda3\\lib\\site-packages\\pandas\\core\\frame.py\u001b[0m in \u001b[0;36m__init__\u001b[1;34m(self, data, index, columns, dtype, copy)\u001b[0m\n\u001b[0;32m    433\u001b[0m             )\n\u001b[0;32m    434\u001b[0m         \u001b[1;32melif\u001b[0m \u001b[0misinstance\u001b[0m\u001b[1;33m(\u001b[0m\u001b[0mdata\u001b[0m\u001b[1;33m,\u001b[0m \u001b[0mdict\u001b[0m\u001b[1;33m)\u001b[0m\u001b[1;33m:\u001b[0m\u001b[1;33m\u001b[0m\u001b[1;33m\u001b[0m\u001b[0m\n\u001b[1;32m--> 435\u001b[1;33m             \u001b[0mmgr\u001b[0m \u001b[1;33m=\u001b[0m \u001b[0minit_dict\u001b[0m\u001b[1;33m(\u001b[0m\u001b[0mdata\u001b[0m\u001b[1;33m,\u001b[0m \u001b[0mindex\u001b[0m\u001b[1;33m,\u001b[0m \u001b[0mcolumns\u001b[0m\u001b[1;33m,\u001b[0m \u001b[0mdtype\u001b[0m\u001b[1;33m=\u001b[0m\u001b[0mdtype\u001b[0m\u001b[1;33m)\u001b[0m\u001b[1;33m\u001b[0m\u001b[1;33m\u001b[0m\u001b[0m\n\u001b[0m\u001b[0;32m    436\u001b[0m         \u001b[1;32melif\u001b[0m \u001b[0misinstance\u001b[0m\u001b[1;33m(\u001b[0m\u001b[0mdata\u001b[0m\u001b[1;33m,\u001b[0m \u001b[0mma\u001b[0m\u001b[1;33m.\u001b[0m\u001b[0mMaskedArray\u001b[0m\u001b[1;33m)\u001b[0m\u001b[1;33m:\u001b[0m\u001b[1;33m\u001b[0m\u001b[1;33m\u001b[0m\u001b[0m\n\u001b[0;32m    437\u001b[0m             \u001b[1;32mimport\u001b[0m \u001b[0mnumpy\u001b[0m\u001b[1;33m.\u001b[0m\u001b[0mma\u001b[0m\u001b[1;33m.\u001b[0m\u001b[0mmrecords\u001b[0m \u001b[1;32mas\u001b[0m \u001b[0mmrecords\u001b[0m\u001b[1;33m\u001b[0m\u001b[1;33m\u001b[0m\u001b[0m\n",
      "\u001b[1;32m~\\anaconda3\\lib\\site-packages\\pandas\\core\\internals\\construction.py\u001b[0m in \u001b[0;36minit_dict\u001b[1;34m(data, index, columns, dtype)\u001b[0m\n\u001b[0;32m    252\u001b[0m             \u001b[0marr\u001b[0m \u001b[1;32mif\u001b[0m \u001b[1;32mnot\u001b[0m \u001b[0mis_datetime64tz_dtype\u001b[0m\u001b[1;33m(\u001b[0m\u001b[0marr\u001b[0m\u001b[1;33m)\u001b[0m \u001b[1;32melse\u001b[0m \u001b[0marr\u001b[0m\u001b[1;33m.\u001b[0m\u001b[0mcopy\u001b[0m\u001b[1;33m(\u001b[0m\u001b[1;33m)\u001b[0m \u001b[1;32mfor\u001b[0m \u001b[0marr\u001b[0m \u001b[1;32min\u001b[0m \u001b[0marrays\u001b[0m\u001b[1;33m\u001b[0m\u001b[1;33m\u001b[0m\u001b[0m\n\u001b[0;32m    253\u001b[0m         ]\n\u001b[1;32m--> 254\u001b[1;33m     \u001b[1;32mreturn\u001b[0m \u001b[0marrays_to_mgr\u001b[0m\u001b[1;33m(\u001b[0m\u001b[0marrays\u001b[0m\u001b[1;33m,\u001b[0m \u001b[0mdata_names\u001b[0m\u001b[1;33m,\u001b[0m \u001b[0mindex\u001b[0m\u001b[1;33m,\u001b[0m \u001b[0mcolumns\u001b[0m\u001b[1;33m,\u001b[0m \u001b[0mdtype\u001b[0m\u001b[1;33m=\u001b[0m\u001b[0mdtype\u001b[0m\u001b[1;33m)\u001b[0m\u001b[1;33m\u001b[0m\u001b[1;33m\u001b[0m\u001b[0m\n\u001b[0m\u001b[0;32m    255\u001b[0m \u001b[1;33m\u001b[0m\u001b[0m\n\u001b[0;32m    256\u001b[0m \u001b[1;33m\u001b[0m\u001b[0m\n",
      "\u001b[1;32m~\\anaconda3\\lib\\site-packages\\pandas\\core\\internals\\construction.py\u001b[0m in \u001b[0;36marrays_to_mgr\u001b[1;34m(arrays, arr_names, index, columns, dtype)\u001b[0m\n\u001b[0;32m     62\u001b[0m     \u001b[1;31m# figure out the index, if necessary\u001b[0m\u001b[1;33m\u001b[0m\u001b[1;33m\u001b[0m\u001b[1;33m\u001b[0m\u001b[0m\n\u001b[0;32m     63\u001b[0m     \u001b[1;32mif\u001b[0m \u001b[0mindex\u001b[0m \u001b[1;32mis\u001b[0m \u001b[1;32mNone\u001b[0m\u001b[1;33m:\u001b[0m\u001b[1;33m\u001b[0m\u001b[1;33m\u001b[0m\u001b[0m\n\u001b[1;32m---> 64\u001b[1;33m         \u001b[0mindex\u001b[0m \u001b[1;33m=\u001b[0m \u001b[0mextract_index\u001b[0m\u001b[1;33m(\u001b[0m\u001b[0marrays\u001b[0m\u001b[1;33m)\u001b[0m\u001b[1;33m\u001b[0m\u001b[1;33m\u001b[0m\u001b[0m\n\u001b[0m\u001b[0;32m     65\u001b[0m     \u001b[1;32melse\u001b[0m\u001b[1;33m:\u001b[0m\u001b[1;33m\u001b[0m\u001b[1;33m\u001b[0m\u001b[0m\n\u001b[0;32m     66\u001b[0m         \u001b[0mindex\u001b[0m \u001b[1;33m=\u001b[0m \u001b[0mensure_index\u001b[0m\u001b[1;33m(\u001b[0m\u001b[0mindex\u001b[0m\u001b[1;33m)\u001b[0m\u001b[1;33m\u001b[0m\u001b[1;33m\u001b[0m\u001b[0m\n",
      "\u001b[1;32m~\\anaconda3\\lib\\site-packages\\pandas\\core\\internals\\construction.py\u001b[0m in \u001b[0;36mextract_index\u001b[1;34m(data)\u001b[0m\n\u001b[0;32m    363\u001b[0m             \u001b[0mlengths\u001b[0m \u001b[1;33m=\u001b[0m \u001b[0mlist\u001b[0m\u001b[1;33m(\u001b[0m\u001b[0mset\u001b[0m\u001b[1;33m(\u001b[0m\u001b[0mraw_lengths\u001b[0m\u001b[1;33m)\u001b[0m\u001b[1;33m)\u001b[0m\u001b[1;33m\u001b[0m\u001b[1;33m\u001b[0m\u001b[0m\n\u001b[0;32m    364\u001b[0m             \u001b[1;32mif\u001b[0m \u001b[0mlen\u001b[0m\u001b[1;33m(\u001b[0m\u001b[0mlengths\u001b[0m\u001b[1;33m)\u001b[0m \u001b[1;33m>\u001b[0m \u001b[1;36m1\u001b[0m\u001b[1;33m:\u001b[0m\u001b[1;33m\u001b[0m\u001b[1;33m\u001b[0m\u001b[0m\n\u001b[1;32m--> 365\u001b[1;33m                 \u001b[1;32mraise\u001b[0m \u001b[0mValueError\u001b[0m\u001b[1;33m(\u001b[0m\u001b[1;34m\"arrays must all be same length\"\u001b[0m\u001b[1;33m)\u001b[0m\u001b[1;33m\u001b[0m\u001b[1;33m\u001b[0m\u001b[0m\n\u001b[0m\u001b[0;32m    366\u001b[0m \u001b[1;33m\u001b[0m\u001b[0m\n\u001b[0;32m    367\u001b[0m             \u001b[1;32mif\u001b[0m \u001b[0mhave_dicts\u001b[0m\u001b[1;33m:\u001b[0m\u001b[1;33m\u001b[0m\u001b[1;33m\u001b[0m\u001b[0m\n",
      "\u001b[1;31mValueError\u001b[0m: arrays must all be same length"
     ]
    }
   ],
   "source": [
    "#creating empty list\n",
    "hostel_name=[]\n",
    "distance=[]\n",
    "rating=[]\n",
    "total_reviews=[]\n",
    "price=[]\n",
    "facilities=[]\n",
    "property_description=[]\n",
    "#scraping the hostel_name\n",
    "Hostel_name=driver.find_elements_by_xpath(\"//div[@class='title-row']/h2\")\n",
    "for i in Hostel_name:\n",
    "    if i.text is None :\n",
    "        hostel_name.append(\"--\") \n",
    "    else:\n",
    "        hostel_name.append(i.text)\n",
    "\n",
    "time.sleep(4)\n",
    "#scraping the distance\n",
    "Distance=driver.find_elements_by_xpath(\"//div[@class='title-row']/div[1]\")\n",
    "for i in Distance:\n",
    "    if i.text is None :\n",
    "        distance.append(\"--\") \n",
    "    else:\n",
    "        distance.append(i.text)\n",
    "        \n",
    "time.sleep(4)        \n",
    "#scraping the rating \n",
    "Rating=driver.find_elements_by_xpath(\"//div[@class='info']/a/div[1]/div[1]\")\n",
    "for i in Rating:\n",
    "    if i.text is None :\n",
    "        rating.append(\"--\") \n",
    "    else:\n",
    "        rating.append(i.text)\n",
    "#scraping the total_reviews \n",
    "Total_reviews=driver.find_elements_by_xpath(\"//div[@class='reviews']\")\n",
    "for i in Total_reviews:\n",
    "    if i.text is None :\n",
    "        total_reviews.append(\"--\") \n",
    "    else:\n",
    "        total_reviews.append(i.text)\n",
    "\n",
    "#scraping the facilities\n",
    "\n",
    "\n",
    "\n",
    "\n",
    "#Facilities=driver.find_elements_by_xpath(\"\\\\ul[@class='facilities']/li\")\n",
    "#for i in Facilities:\n",
    "    #if i.text is None :\n",
    "        #facilities.append(\"--\") \n",
    "    #else:\n",
    "        #facilities.append(i.text)\n",
    "#scraping the property_description\n",
    "\n",
    "\n",
    "#Property_description=driver.find_elements_by_xpath(\"\\\\div[@class='content collapse-content']\")\n",
    "#for i in Property_description:\n",
    "    #if i.text is None :\n",
    "        #property_description.append(\"--\") \n",
    "    #else:\n",
    "        #property_description.append(i.text)\n",
    "# creating the dataframe from the scraped data \n",
    "df=pd.DataFrame({\"hostel_name\":hostel_name[:20],\"distance\":distance[:20],\"rating\":rating[:20],\"total_reviews\":total_reviews[:20]})\n",
    "                \n",
    "df\n"
   ]
  },
  {
   "cell_type": "code",
   "execution_count": null,
   "metadata": {},
   "outputs": [],
   "source": []
  }
 ],
 "metadata": {
  "kernelspec": {
   "display_name": "Python 3",
   "language": "python",
   "name": "python3"
  },
  "language_info": {
   "codemirror_mode": {
    "name": "ipython",
    "version": 3
   },
   "file_extension": ".py",
   "mimetype": "text/x-python",
   "name": "python",
   "nbconvert_exporter": "python",
   "pygments_lexer": "ipython3",
   "version": "3.7.6"
  }
 },
 "nbformat": 4,
 "nbformat_minor": 4
}
